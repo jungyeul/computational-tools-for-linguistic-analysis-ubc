{
 "cells": [
  {
   "attachments": {},
   "cell_type": "markdown",
   "id": "719d99af",
   "metadata": {},
   "source": [
    "### jp-algorithm for preprocessing evaluation "
   ]
  },
  {
   "cell_type": "code",
   "execution_count": 22,
   "id": "b7883412",
   "metadata": {},
   "outputs": [],
   "source": [
    "gold_file = 'en_ewt-ud-test-gold.txt'\n",
    "input_file = 'en_ewt-ud-test-input.txt'"
   ]
  },
  {
   "cell_type": "code",
   "execution_count": 23,
   "id": "bbe8a409",
   "metadata": {},
   "outputs": [
    {
     "name": "stdout",
     "output_type": "stream",
     "text": [
      "What if Google Morphed Into GoogleOS? What if Google expanded on its\n",
      "search-engine (and now e-mail) wares into a full-fledged operating system? [via\n",
      "Microsoft Watch from Mary Jo Foley ] \n",
      "\n",
      "(And, by the way, is anybody else just a little nostalgic for the days when that\n",
      "was a good thing?) This BuzzMachine post argues that Google's rush toward\n",
      "ubiquity might backfire -- which we've all heard before, but it's particularly\n",
      "well-put in this post. Google is a nice search engine. Does anybody use it for\n",
      "anything else? They own blogger, of course. Is that a money maker? \n",
      "\n"
     ]
    }
   ],
   "source": [
    "!head en_ewt-ud-test-input.txt"
   ]
  },
  {
   "cell_type": "code",
   "execution_count": 24,
   "id": "2fd37839",
   "metadata": {},
   "outputs": [
    {
     "name": "stdout",
     "output_type": "stream",
     "text": [
      "What if Google Morphed Into GoogleOS ?\n",
      "What if Google expanded on its search - engine ( and now e-mail ) wares into a full - fledged operating system ?\n",
      "[ via Microsoft Watch from Mary Jo Foley ]\n",
      "( And , by the way , is anybody else just a little nostalgic for the days when that was a good thing ? )\n",
      "This BuzzMachine post argues that Google 's rush toward ubiquity might backfire -- which we 've all heard before , but it 's particularly well - put in this post .\n",
      "Google is a nice search engine .\n",
      "Does anybody use it for anything else ?\n",
      "They own blogger , of course .\n",
      "Is that a money maker ?\n",
      "I 'm staying away from the stock .\n"
     ]
    }
   ],
   "source": [
    "!head en_ewt-ud-test-gold.txt"
   ]
  },
  {
   "cell_type": "code",
   "execution_count": 25,
   "id": "d94bfa22",
   "metadata": {},
   "outputs": [
    {
     "name": "stderr",
     "output_type": "stream",
     "text": [
      "[nltk_data] Downloading package punkt to /Users/jungyeul/nltk_data...\n",
      "[nltk_data]   Package punkt is already up-to-date!\n"
     ]
    }
   ],
   "source": [
    "import nltk \n",
    "from nltk.tokenize import sent_tokenize, word_tokenize\n",
    "\n",
    "nltk.download('punkt')\n",
    "\n",
    "with open(input_file, 'r') as file:\n",
    "    text = file.read()\n",
    "\n",
    "sentences = sent_tokenize(text)\n",
    "tokenized_sentences = [word_tokenize(sent) for sent in sentences]\n",
    "\n",
    "output_file = 'en_ewt-ud-test-sys-nltk.txt'\n",
    "\n",
    "# Open the output text file and write the tokenized sentences to it\n",
    "with open(output_file, 'w') as file:\n",
    "    for sent in tokenized_sentences:\n",
    "        file.write(' '.join(sent).replace('``', '\"').replace(\"''\", '\"') + '\\n')\n"
   ]
  },
  {
   "cell_type": "code",
   "execution_count": 26,
   "id": "0ddc0d8a",
   "metadata": {},
   "outputs": [
    {
     "name": "stdout",
     "output_type": "stream",
     "text": [
      "What if Google Morphed Into GoogleOS ?\n",
      "What if Google expanded on its search-engine ( and now e-mail ) wares into a full-fledged operating system ?\n",
      "[ via Microsoft Watch from Mary Jo Foley ] ( And , by the way , is anybody else just a little nostalgic for the days when that was a good thing ? )\n",
      "This BuzzMachine post argues that Google 's rush toward ubiquity might backfire -- which we 've all heard before , but it 's particularly well-put in this post .\n",
      "Google is a nice search engine .\n",
      "Does anybody use it for anything else ?\n",
      "They own blogger , of course .\n",
      "Is that a money maker ?\n",
      "I 'm staying away from the stock .\n",
      "I doubt the very few who actually read my blog have not come across this yet , but I figured I would put it out there anyways .\n"
     ]
    }
   ],
   "source": [
    "!head en_ewt-ud-test-sys-nltk.txt"
   ]
  },
  {
   "cell_type": "code",
   "execution_count": 27,
   "id": "85346587",
   "metadata": {},
   "outputs": [
    {
     "name": "stdout",
     "output_type": "stream",
     "text": [
      "    2077 en_ewt-ud-test-gold.txt\n",
      "    2911 en_ewt-ud-test-input.txt\n",
      "    1429 en_ewt-ud-test-sys-nltk.txt\n",
      "    6417 total\n"
     ]
    }
   ],
   "source": [
    "!wc -l en_ewt-*"
   ]
  },
  {
   "cell_type": "code",
   "execution_count": 28,
   "id": "03b9d913",
   "metadata": {},
   "outputs": [],
   "source": [
    "from jp_algorithm import load_txt_file\n",
    "from jp_algorithm import evaluate as txt_evaluate"
   ]
  },
  {
   "cell_type": "code",
   "execution_count": 29,
   "id": "bf00a125",
   "metadata": {},
   "outputs": [
    {
     "name": "stdout",
     "output_type": "stream",
     "text": [
      "Sentences  |      1083 &        346 &        994 |           \n",
      "Tokens     |     24242 &       1043 &        852 |           \n"
     ]
    }
   ],
   "source": [
    "gold_txt = load_txt_file(gold_file)\n",
    "sys_txt  = load_txt_file(output_file)\n",
    "\n",
    "evaluation = txt_evaluate(gold_txt, sys_txt)\n",
    "for metric in[\"Sentences\", \"Tokens\"]:\n",
    "    print(\"{:11}|{:10} & {:10} & {:10} | {:10}\".format(\n",
    "        metric,\n",
    "        evaluation[metric].correct,\n",
    "        evaluation[metric].system_total - evaluation[metric].correct,\n",
    "        evaluation[metric].gold_total - evaluation[metric].correct,\n",
    "        evaluation[metric].aligned_total or (evaluation[metric].correct if metric == \"Words\" else \"\")\n",
    "    ))"
   ]
  }
 ],
 "metadata": {
  "kernelspec": {
   "display_name": "Python 3.9.6 64-bit",
   "language": "python",
   "name": "python3"
  },
  "language_info": {
   "codemirror_mode": {
    "name": "ipython",
    "version": 3
   },
   "file_extension": ".py",
   "mimetype": "text/x-python",
   "name": "python",
   "nbconvert_exporter": "python",
   "pygments_lexer": "ipython3",
   "version": "3.9.6"
  },
  "vscode": {
   "interpreter": {
    "hash": "20bf69066c0dd38d51965b69d5e1b6e387082e3198ba56e97997ac55f4e50ad0"
   }
  }
 },
 "nbformat": 4,
 "nbformat_minor": 5
}
