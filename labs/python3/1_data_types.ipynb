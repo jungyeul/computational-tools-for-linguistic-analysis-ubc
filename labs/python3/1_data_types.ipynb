{
 "cells": [
  {
   "cell_type": "markdown",
   "metadata": {},
   "source": [
    "# Python intro\n",
    "### LING 242\n",
    "\n",
    "Python is one of the most useful programming languages to know for computational linguistics and NLP. It's relatively simple to use, and many of the major machine learning and NLP libraries are written for Python. This notebook is a quick intro to Python and some basics of programming for those who haven't done much coding before."
   ]
  },
  {
   "cell_type": "markdown",
   "metadata": {},
   "source": [
    "## Data types\n",
    "\n",
    "Like most modern programming languages, all data in Python are categorized into 'types.' There are four 'primitive' types:\n",
    "\n",
    " - **Int** Short for 'integer.' A whole-number value such as 1, 10, -15, etc.\n",
    " - **Float** Short for 'floating point number.' A decimal value like 0.001, -10.75, 3.14125, etc. Since computers only have a finite amount of memory, floats sometimes have issues with presicion, because a computer can only store so many places or decimal points. This can cause some issues when working with small decimal numbers, like probabilities, if you're not careful!\n",
    " - **String** Text data, such as \"example\" or \"12345\" or 'hello' or \"False\". The single or double quotes can usually be used interchangeably. You can think of them as a list of characters.\n",
    " - **Bool** Short for 'boolean.' A true or false value, and written as True or False.\n",
    " \n",
    " There are more complex types, like lists and objects and so on.\n",
    " \n",
    " ## Variables\n",
    " You can assign or update a variable with =, check equality with ==, and compare with <, <=, > and >="
   ]
  },
  {
   "cell_type": "code",
   "execution_count": 18,
   "metadata": {
    "collapsed": true,
    "jupyter": {
     "outputs_hidden": true
    },
    "tags": []
   },
   "outputs": [
    {
     "name": "stdout",
     "output_type": "stream",
     "text": [
      "13\n",
      "False\n",
      "True\n",
      "hello world!\n"
     ]
    }
   ],
   "source": [
    "example = 1\n",
    "print(example + 12)\n",
    "\n",
    "# these two are equivalent\n",
    "example = example + 1\n",
    "example += 1\n",
    "\n",
    "print(example == 12)\n",
    "print(example < 12)\n",
    "\n",
    "# you can use + and += to concatenate strings\n",
    "txt = 'hel' + 'lo'\n",
    "txt += ' world'\n",
    "print(txt + '!')"
   ]
  },
  {
   "cell_type": "markdown",
   "metadata": {},
   "source": [
    "+= is an example of 'syntactic sugar,' since it's something in Python's syntax that makes it a little easier/quicker to use. In the same vein, you can use -= \\*= /= and \\**= to update variables. (subtraction, multiplication, division, and exponent)\n",
    "\n",
    "## Converting types\n",
    "You can use functions like `string()` or `int()` and so on to convert data from one type to another, if there is a possible way to convert it."
   ]
  },
  {
   "cell_type": "code",
   "execution_count": 23,
   "metadata": {},
   "outputs": [
    {
     "name": "stdout",
     "output_type": "stream",
     "text": [
      "10.0\n",
      "2\n",
      "12344\n",
      "True\n",
      "True\n",
      "False\n"
     ]
    }
   ],
   "source": [
    "print(float(10))\n",
    "print(int(7 / 3))\n",
    "\n",
    "print(int(\"12345\") - 1)\n",
    "\n",
    "print(bool('False'))\n",
    "print(bool('example'))\n",
    "print(bool(''))"
   ]
  },
  {
   "cell_type": "markdown",
   "metadata": {},
   "source": [
    "## Other useful data types\n",
    "\n",
    "### Lists\n",
    "Lists are arbitrarily-sized collections of data. They are ordered, and can be indexed, updated, and traversed. Since strings are more or less lists of characters, you can use the same functions/syntax for both lists and strings.\n",
    "\n",
    " - To check the length of a list, use the function `len()`\n",
    " - All non-primitive data types (along with strings) have member functions. In the case of lists/strings, `.append()` adds items, `.remove()` removes them, `.index()` returns the position of the input element, and so on.\n",
    " - To get the list item at position `i`, use square brackets: `example_list[i]` Note that lists are zero-indexed, so the first element of a list is at position 0. Therefore, the last position in the list is `len(example_list) - 1.` To get the last item, use `example_list[-1]` and so on.\n",
    " - 'Slicing' is a method for getting sub-lists. For example, `example_list[1:10]` will return a list consisting of the elements from position 1 to 10. `example_list[1:10:2]` will get every other item."
   ]
  },
  {
   "cell_type": "code",
   "execution_count": 16,
   "metadata": {
    "tags": []
   },
   "outputs": [
    {
     "name": "stdout",
     "output_type": "stream",
     "text": [
      "Length of the list: 5\n",
      "[1, 3, 4, 5, 6]\n"
     ]
    }
   ],
   "source": [
    "example_list = [1, 2, 3, 4, 5]\n",
    "print('Length of the list:', len(example_list))\n",
    "example_list.append(6)\n",
    "example_list.remove(2)\n",
    "print(example_list)"
   ]
  },
  {
   "cell_type": "code",
   "execution_count": 15,
   "metadata": {
    "tags": []
   },
   "outputs": [
    {
     "name": "stdout",
     "output_type": "stream",
     "text": [
      "h\n",
      "ello w\n",
      "4\n"
     ]
    }
   ],
   "source": [
    "example_str = 'hello world'\n",
    "print(example_str[0])\n",
    "print(example_str[1:7])\n",
    "print(example_str.index('o'))"
   ]
  },
  {
   "cell_type": "markdown",
   "metadata": {},
   "source": [
    "### Sets\n",
    "Sets are un-ordered and contain unique values. One simple way of getting only the unique items in a list is to turn it into a set and back, e.g. `list(set(example_list))` The Set data type implements the same functions as sets, the mathematical concept.\n",
    "\n",
    " - To create a union or intersection, use `A | B` or `A.union(B)` and `A & B` or `A.intersection(B)`\n",
    " - It's faster to search for an element in a set than in a list."
   ]
  },
  {
   "cell_type": "markdown",
   "metadata": {},
   "source": [
    "### Dictionaries\n",
    "Dicts are un-ordered collections of key/value pairs. For example:"
   ]
  },
  {
   "cell_type": "code",
   "execution_count": 2,
   "metadata": {},
   "outputs": [],
   "source": [
    "example_dict = {1: {'x': 10, 'y': 11},\n",
    "                2: {'x': 12, 'y': 10}}"
   ]
  },
  {
   "cell_type": "markdown",
   "metadata": {},
   "source": [
    "In this case, `example_dict` is a nested dictionary: its keys are ints, and its values are dicts! You can access values by using square brackets or the `.get()` function. To get a list of keys or values, use `.keys()` or `.values()`"
   ]
  },
  {
   "cell_type": "code",
   "execution_count": 5,
   "metadata": {},
   "outputs": [
    {
     "name": "stdout",
     "output_type": "stream",
     "text": [
      "{'x': 10, 'y': 11}\n",
      "10\n",
      "dict_values([{'x': 10, 'y': 11}, {'x': 12, 'y': 10}])\n"
     ]
    }
   ],
   "source": [
    "print(example_dict[1])\n",
    "print(example_dict[1]['x'])\n",
    "print(example_dict.values())"
   ]
  },
  {
   "cell_type": "markdown",
   "metadata": {},
   "source": [
    "### None\n",
    "`None` is a special type that represents an \"empty\" reference. For example, an un-initialized or discarded variable can be set to `None`."
   ]
  },
  {
   "cell_type": "code",
   "execution_count": 5,
   "metadata": {},
   "outputs": [
    {
     "name": "stdout",
     "output_type": "stream",
     "text": [
      "False\n",
      "True\n"
     ]
    }
   ],
   "source": [
    "null = 'abcdef'\n",
    "print(not null)\n",
    "\n",
    "null = None\n",
    "print(not null)"
   ]
  },
  {
   "cell_type": "markdown",
   "metadata": {},
   "source": [
    "## Exercises\n",
    "### 1. Type conversion\n",
    "In the code block below, try finding things to convert from one data type to another. See if you can find any unexpected/interesting behavior, or if you cause any errors!"
   ]
  },
  {
   "cell_type": "code",
   "execution_count": null,
   "metadata": {},
   "outputs": [],
   "source": []
  }
 ],
 "metadata": {
  "kernelspec": {
   "display_name": "Python 3",
   "language": "python",
   "name": "python3"
  },
  "language_info": {
   "codemirror_mode": {
    "name": "ipython",
    "version": 3
   },
   "file_extension": ".py",
   "mimetype": "text/x-python",
   "name": "python",
   "nbconvert_exporter": "python",
   "pygments_lexer": "ipython3",
   "version": "3.8.10"
  }
 },
 "nbformat": 4,
 "nbformat_minor": 4
}
