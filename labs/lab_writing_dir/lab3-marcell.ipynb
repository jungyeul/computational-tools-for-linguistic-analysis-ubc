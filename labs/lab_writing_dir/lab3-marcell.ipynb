{
 "cells": [
  {
   "cell_type": "markdown",
   "id": "rocky-declaration",
   "metadata": {},
   "source": [
    "# Language models\n",
    "\n",
    "## 1. Mikolov's data"
   ]
  },
  {
   "cell_type": "code",
   "execution_count": 1,
   "id": "rolled-support",
   "metadata": {},
   "outputs": [
    {
     "name": "stdout",
     "output_type": "stream",
     "text": [
      "--2021-10-02 15:52:45--  http://www.fit.vutbr.cz/~imikolov/rnnlm/simple-examples.tgz\n",
      "Résolution de www.fit.vutbr.cz (www.fit.vutbr.cz)… 147.229.9.23\n",
      "Connexion à www.fit.vutbr.cz (www.fit.vutbr.cz)|147.229.9.23|:80… connecté.\n",
      "requête HTTP transmise, en attente de la réponse… 200 OK\n",
      "Taille : 34869662 (33M) [application/x-gtar]\n",
      "Sauvegarde en : « simple-examples.tgz »\n",
      "\n",
      "simple-examples.tgz 100%[===================>]  33,25M  5,75MB/s    ds 7,9s    \n",
      "\n",
      "2021-10-02 15:52:55 (4,20 MB/s) — « simple-examples.tgz » sauvegardé [34869662/34869662]\n",
      "\n"
     ]
    }
   ],
   "source": [
    "!wget http://www.fit.vutbr.cz/~imikolov/rnnlm/simple-examples.tgz"
   ]
  },
  {
   "cell_type": "code",
   "execution_count": 2,
   "id": "horizontal-market",
   "metadata": {},
   "outputs": [],
   "source": [
    "!tar xfz simple-examples.tgz"
   ]
  },
  {
   "cell_type": "code",
   "execution_count": 3,
   "id": "generous-problem",
   "metadata": {},
   "outputs": [
    {
     "name": "stdout",
     "output_type": "stream",
     "text": [
      "total 84168\n",
      "drwxr-xr-x   3 marcellmaitinsky  staff        96  2 oct 00:42 \u001b[34mdata\u001b[m\u001b[m\n",
      "-rw-r--r--   1 marcellmaitinsky  staff    142573  1 oct 00:22 en_ewt-ud-dev-alt.txt\n",
      "-rw-r--r--   1 marcellmaitinsky  staff    126870  2 oct 00:41 en_ewt-ud-dev.txt\n",
      "-rw-r--r--   1 marcellmaitinsky  staff    126137  2 oct 09:48 en_ewt-ud-dev.txt.sbd_splitta\n",
      "drwxr-xr-x   3 marcellmaitinsky  staff        96 22 sep 18:55 \u001b[34mlab1\u001b[m\u001b[m\n",
      "-rw-r--r--   1 marcellmaitinsky  staff     23802 22 sep 18:55 lab1.ipynb\n",
      "-rw-r--r--   1 marcellmaitinsky  staff     21477  2 oct 09:50 lab2.ipynb\n",
      "drwxr-xr-x   2 marcellmaitinsky  staff        64  2 oct 15:52 \u001b[34mlab3\u001b[m\u001b[m\n",
      "-rw-r--r--   1 marcellmaitinsky  staff     27896  2 oct 15:52 lab3.ipynb\n",
      "drwxr-xr-x   3 marcellmaitinsky  staff        96 29 sep 18:01 \u001b[34mlab4\u001b[m\u001b[m\n",
      "drwxr-xr-x   8 marcellmaitinsky  staff       256  1 oct 23:26 \u001b[34mscripts\u001b[m\u001b[m\n",
      "-rw-r--r--   1 marcellmaitinsky  staff      4927 29 déc  2007 scripts.tgz\n",
      "drwx------  15 marcellmaitinsky  staff       480  2 mai  2011 \u001b[34msimple-examples\u001b[m\u001b[m\n",
      "-rw-r--r--   1 marcellmaitinsky  staff  34869662 12 sep  2011 simple-examples.tgz\n",
      "drwxr-xr-x  12 marcellmaitinsky  staff       384  2 oct 10:14 \u001b[34msplitta-0.1.0\u001b[m\u001b[m\n",
      "-rw-r--r--   1 marcellmaitinsky  staff   6943603 26 fév  2020 splitta-0.1.0.tar.gz\n",
      "-rwxr-xr-x@  1 marcellmaitinsky  staff      2208  1 oct 16:27 \u001b[31mtokenizer.sed\u001b[m\u001b[m\n"
     ]
    }
   ],
   "source": [
    "!ls -l"
   ]
  },
  {
   "cell_type": "code",
   "execution_count": 4,
   "id": "continent-separation",
   "metadata": {},
   "outputs": [
    {
     "name": "stdout",
     "output_type": "stream",
     "text": [
      "/Users/marcellmaitinsky/LING242/computational-tools-for-linguistic-analysis-ubc/labs/simple-examples\n"
     ]
    }
   ],
   "source": [
    "%cd simple-examples/"
   ]
  },
  {
   "cell_type": "code",
   "execution_count": 12,
   "id": "played-grade",
   "metadata": {},
   "outputs": [
    {
     "name": "stdout",
     "output_type": "stream",
     "text": [
      "\u001b[34m1-train\u001b[m\u001b[m                    \u001b[34m8-direct\u001b[m\u001b[m\n",
      "\u001b[34m2-nbest-rescore\u001b[m\u001b[m            \u001b[34m9-char-based-lm\u001b[m\u001b[m\n",
      "\u001b[34m3-combination\u001b[m\u001b[m              \u001b[34mdata\u001b[m\u001b[m\n",
      "\u001b[34m4-data-generation\u001b[m\u001b[m          \u001b[34mmodels\u001b[m\u001b[m\n",
      "\u001b[34m5-one-iter\u001b[m\u001b[m                 \u001b[34mrnnlm-0.2b\u001b[m\u001b[m\n",
      "\u001b[34m6-recovery-during-training\u001b[m\u001b[m \u001b[34mtemp\u001b[m\u001b[m\n",
      "\u001b[34m7-dynamic-evaluation\u001b[m\u001b[m\n",
      "\n",
      "./1-train:\n",
      "README   \u001b[31mtest.sh\u001b[m\u001b[m  \u001b[31mtrain.sh\u001b[m\u001b[m\n",
      "\n",
      "./2-nbest-rescore:\n",
      "\u001b[31mREADME\u001b[m\u001b[m      getbest.c   gettext.c   \u001b[31mmakenbest\u001b[m\u001b[m\n",
      "\u001b[31mgetbest\u001b[m\u001b[m     \u001b[31mgettext\u001b[m\u001b[m     \u001b[34mlattices\u001b[m\u001b[m    makenbest.c\n",
      "\n",
      "./2-nbest-rescore/lattices:\n",
      "AMI-3E0501_u3005_127040_127488.lat.gz AMI-3E0501_u3005_128490_129032.lat.gz\n",
      "AMI-3E0501_u3005_127513_127835.lat.gz latlist\n",
      "AMI-3E0501_u3005_127865_128175.lat.gz \u001b[34mnbest\u001b[m\u001b[m\n",
      "AMI-3E0501_u3005_128188_128447.lat.gz \u001b[31mnbest.sh\u001b[m\u001b[m\n",
      "\n",
      "./2-nbest-rescore/lattices/nbest:\n",
      "\n",
      "./3-combination:\n",
      "README   \u001b[31mtest.sh\u001b[m\u001b[m  \u001b[31mtrain.sh\u001b[m\u001b[m\n",
      "\n",
      "./4-data-generation:\n",
      "README   \u001b[31mtest.sh\u001b[m\u001b[m  \u001b[31mtrain.sh\u001b[m\u001b[m\n",
      "\n",
      "./5-one-iter:\n",
      "README   \u001b[31mtest.sh\u001b[m\u001b[m  \u001b[31mtrain.sh\u001b[m\u001b[m\n",
      "\n",
      "./6-recovery-during-training:\n",
      "README   \u001b[31mtest.sh\u001b[m\u001b[m  \u001b[31mtrain.sh\u001b[m\u001b[m\n",
      "\n",
      "./7-dynamic-evaluation:\n",
      "README   \u001b[31mtest.sh\u001b[m\u001b[m  \u001b[31mtrain.sh\u001b[m\u001b[m\n",
      "\n",
      "./8-direct:\n",
      "README   \u001b[31mtest.sh\u001b[m\u001b[m  \u001b[31mtrain.sh\u001b[m\u001b[m\n",
      "\n",
      "./9-char-based-lm:\n",
      "README   \u001b[31mtest.sh\u001b[m\u001b[m  \u001b[31mtrain.sh\u001b[m\u001b[m\n",
      "\n",
      "./data:\n",
      "README             ptb.char.train.txt ptb.test.txt       ptb.valid.txt\n",
      "ptb.char.test.txt  ptb.char.valid.txt ptb.train.txt\n",
      "\n",
      "./models:\n",
      "README          swb.ngram.model swb.rnn.model\n",
      "\n",
      "./rnnlm-0.2b:\n",
      "CHANGE.log     convert.c      makefile       rnnlmlib.cpp   train\n",
      "COPYRIGHT.txt  example.output prob.c         rnnlmlib.h     valid\n",
      "FAQ.txt        \u001b[31mexample.sh\u001b[m\u001b[m     rnnlm.cpp      test\n",
      "\n",
      "./temp:\n"
     ]
    }
   ],
   "source": [
    "!ls -R"
   ]
  },
  {
   "cell_type": "code",
   "execution_count": 5,
   "id": "fancy-nylon",
   "metadata": {},
   "outputs": [
    {
     "name": "stdout",
     "output_type": "stream",
     "text": [
      "/Users/marcellmaitinsky/LING242/computational-tools-for-linguistic-analysis-ubc/labs\n"
     ]
    }
   ],
   "source": [
    "%cd .."
   ]
  },
  {
   "cell_type": "markdown",
   "id": "acoustic-tamil",
   "metadata": {},
   "source": [
    "## 2. KenLM"
   ]
  },
  {
   "cell_type": "code",
   "execution_count": 6,
   "id": "enormous-beginning",
   "metadata": {},
   "outputs": [
    {
     "name": "stdout",
     "output_type": "stream",
     "text": [
      "--2021-10-02 15:54:24--  https://kheafield.com/code/kenlm.tar.gz\n",
      "Résolution de kheafield.com (kheafield.com)… 35.196.63.85\n",
      "Connexion à kheafield.com (kheafield.com)|35.196.63.85|:443… connecté.\n",
      "requête HTTP transmise, en attente de la réponse… 200 OK\n",
      "Taille : 491090 (480K) [application/x-gzip]\n",
      "Sauvegarde en : « STDOUT »\n",
      "\n",
      "-                   100%[===================>] 479,58K  1,15MB/s    ds 0,4s    \n",
      "\n",
      "2021-10-02 15:54:25 (1,15 MB/s) — envoi vers sortie standard [491090/491090]\n",
      "\n"
     ]
    }
   ],
   "source": [
    "!wget -O - https://kheafield.com/code/kenlm.tar.gz  | tar xz"
   ]
  },
  {
   "cell_type": "code",
   "execution_count": 7,
   "id": "tropical-technician",
   "metadata": {},
   "outputs": [],
   "source": [
    "!mkdir kenlm/build"
   ]
  },
  {
   "cell_type": "code",
   "execution_count": 2,
   "id": "handy-poster",
   "metadata": {},
   "outputs": [
    {
     "name": "stdout",
     "output_type": "stream",
     "text": [
      "/Users/marcellmaitinsky/LING242/computational-tools-for-linguistic-analysis-ubc/labs/kenlm/build\n"
     ]
    }
   ],
   "source": [
    "%cd kenlm/build"
   ]
  },
  {
   "cell_type": "code",
   "execution_count": 3,
   "id": "broken-concert",
   "metadata": {},
   "outputs": [
    {
     "name": "stdout",
     "output_type": "stream",
     "text": [
      "-- Could NOT find Eigen3 (missing: Eigen3_DIR)\n",
      "-- Found Boost: /usr/local/lib/cmake/Boost-1.76.0/BoostConfig.cmake (found suitable version \"1.76.0\", minimum required is \"1.41.0\") found components: program_options system thread unit_test_framework \n",
      "-- Found ZLIB: /Library/Developer/CommandLineTools/SDKs/MacOSX11.3.sdk/usr/lib/libz.tbd (found version \"1.2.11\") \n",
      "-- Found BZip2: /Library/Developer/CommandLineTools/SDKs/MacOSX11.3.sdk/usr/lib/libbz2.tbd (found version \"1.0.6\") \n",
      "-- Looking for BZ2_bzCompressInit\n",
      "-- Looking for BZ2_bzCompressInit - found\n",
      "-- Looking for lzma_auto_decoder in /Library/Developer/CommandLineTools/SDKs/MacOSX11.3.sdk/usr/lib/liblzma.tbd\n",
      "-- Looking for lzma_auto_decoder in /Library/Developer/CommandLineTools/SDKs/MacOSX11.3.sdk/usr/lib/liblzma.tbd - found\n",
      "-- Looking for lzma_easy_encoder in /Library/Developer/CommandLineTools/SDKs/MacOSX11.3.sdk/usr/lib/liblzma.tbd\n",
      "-- Looking for lzma_easy_encoder in /Library/Developer/CommandLineTools/SDKs/MacOSX11.3.sdk/usr/lib/liblzma.tbd - found\n",
      "-- Looking for lzma_lzma_preset in /Library/Developer/CommandLineTools/SDKs/MacOSX11.3.sdk/usr/lib/liblzma.tbd\n",
      "-- Looking for lzma_lzma_preset in /Library/Developer/CommandLineTools/SDKs/MacOSX11.3.sdk/usr/lib/liblzma.tbd - found\n",
      "-- Could NOT find LibLZMA (missing: LIBLZMA_INCLUDE_DIR) \n",
      "-- Configuring done\n",
      "-- Generating done\n",
      "-- Build files have been written to: /Users/marcellmaitinsky/LING242/computational-tools-for-linguistic-analysis-ubc/labs/kenlm/build\n"
     ]
    }
   ],
   "source": [
    "!cmake .."
   ]
  },
  {
   "cell_type": "code",
   "execution_count": 4,
   "id": "painted-observer",
   "metadata": {},
   "outputs": [
    {
     "name": "stdout",
     "output_type": "stream",
     "text": [
      "[  1%] \u001b[32mBuilding CXX object util/CMakeFiles/kenlm_util.dir/double-conversion/bignum-dtoa.cc.o\u001b[0m\n",
      "[  2%] \u001b[32mBuilding CXX object util/CMakeFiles/kenlm_util.dir/double-conversion/bignum.cc.o\u001b[0m\n",
      "[  3%] \u001b[32mBuilding CXX object util/CMakeFiles/kenlm_util.dir/double-conversion/cached-powers.cc.o\u001b[0m\n",
      "[  5%] \u001b[32mBuilding CXX object util/CMakeFiles/kenlm_util.dir/double-conversion/diy-fp.cc.o\u001b[0m\n",
      "[  6%] \u001b[32mBuilding CXX object util/CMakeFiles/kenlm_util.dir/double-conversion/double-conversion.cc.o\u001b[0m\n",
      "[  7%] \u001b[32mBuilding CXX object util/CMakeFiles/kenlm_util.dir/double-conversion/fast-dtoa.cc.o\u001b[0m\n",
      "[  8%] \u001b[32mBuilding CXX object util/CMakeFiles/kenlm_util.dir/double-conversion/fixed-dtoa.cc.o\u001b[0m\n",
      "[ 10%] \u001b[32mBuilding CXX object util/CMakeFiles/kenlm_util.dir/double-conversion/strtod.cc.o\u001b[0m\n",
      "[ 11%] \u001b[32mBuilding CXX object util/CMakeFiles/kenlm_util.dir/stream/chain.cc.o\u001b[0m\n",
      "[ 12%] \u001b[32mBuilding CXX object util/CMakeFiles/kenlm_util.dir/stream/count_records.cc.o\u001b[0m\n",
      "[ 13%] \u001b[32mBuilding CXX object util/CMakeFiles/kenlm_util.dir/stream/io.cc.o\u001b[0m\n",
      "[ 15%] \u001b[32mBuilding CXX object util/CMakeFiles/kenlm_util.dir/stream/line_input.cc.o\u001b[0m\n",
      "[ 16%] \u001b[32mBuilding CXX object util/CMakeFiles/kenlm_util.dir/stream/multi_progress.cc.o\u001b[0m\n",
      "[ 17%] \u001b[32mBuilding CXX object util/CMakeFiles/kenlm_util.dir/stream/rewindable_stream.cc.o\u001b[0m\n",
      "[ 18%] \u001b[32mBuilding CXX object util/CMakeFiles/kenlm_util.dir/bit_packing.cc.o\u001b[0m\n",
      "[ 20%] \u001b[32mBuilding CXX object util/CMakeFiles/kenlm_util.dir/ersatz_progress.cc.o\u001b[0m\n",
      "[ 21%] \u001b[32mBuilding CXX object util/CMakeFiles/kenlm_util.dir/exception.cc.o\u001b[0m\n",
      "[ 22%] \u001b[32mBuilding CXX object util/CMakeFiles/kenlm_util.dir/file.cc.o\u001b[0m\n",
      "[ 23%] \u001b[32mBuilding CXX object util/CMakeFiles/kenlm_util.dir/file_piece.cc.o\u001b[0m\n",
      "[ 25%] \u001b[32mBuilding CXX object util/CMakeFiles/kenlm_util.dir/float_to_string.cc.o\u001b[0m\n",
      "[ 26%] \u001b[32mBuilding CXX object util/CMakeFiles/kenlm_util.dir/integer_to_string.cc.o\u001b[0m\n",
      "[ 27%] \u001b[32mBuilding CXX object util/CMakeFiles/kenlm_util.dir/mmap.cc.o\u001b[0m\n",
      "[ 28%] \u001b[32mBuilding CXX object util/CMakeFiles/kenlm_util.dir/murmur_hash.cc.o\u001b[0m\n",
      "[ 30%] \u001b[32mBuilding CXX object util/CMakeFiles/kenlm_util.dir/parallel_read.cc.o\u001b[0m\n",
      "[ 31%] \u001b[32mBuilding CXX object util/CMakeFiles/kenlm_util.dir/pool.cc.o\u001b[0m\n",
      "[ 32%] \u001b[32mBuilding CXX object util/CMakeFiles/kenlm_util.dir/read_compressed.cc.o\u001b[0m\n",
      "[ 33%] \u001b[32mBuilding CXX object util/CMakeFiles/kenlm_util.dir/scoped.cc.o\u001b[0m\n",
      "[ 35%] \u001b[32mBuilding CXX object util/CMakeFiles/kenlm_util.dir/spaces.cc.o\u001b[0m\n",
      "[ 36%] \u001b[32mBuilding CXX object util/CMakeFiles/kenlm_util.dir/string_piece.cc.o\u001b[0m\n",
      "[ 37%] \u001b[32mBuilding CXX object util/CMakeFiles/kenlm_util.dir/usage.cc.o\u001b[0m\n",
      "[ 38%] \u001b[32m\u001b[1mLinking CXX static library ../lib/libkenlm_util.a\u001b[0m\n",
      "[ 38%] Built target kenlm_util\n",
      "[ 40%] \u001b[32mBuilding CXX object util/CMakeFiles/probing_hash_table_benchmark.dir/probing_hash_table_benchmark_main.cc.o\u001b[0m\n",
      "[ 41%] \u001b[32m\u001b[1mLinking CXX executable ../bin/probing_hash_table_benchmark\u001b[0m\n",
      "[ 41%] Built target probing_hash_table_benchmark\n",
      "[ 42%] \u001b[32mBuilding CXX object lm/CMakeFiles/kenlm.dir/bhiksha.cc.o\u001b[0m\n",
      "[ 43%] \u001b[32mBuilding CXX object lm/CMakeFiles/kenlm.dir/binary_format.cc.o\u001b[0m\n",
      "[ 45%] \u001b[32mBuilding CXX object lm/CMakeFiles/kenlm.dir/config.cc.o\u001b[0m\n",
      "[ 46%] \u001b[32mBuilding CXX object lm/CMakeFiles/kenlm.dir/lm_exception.cc.o\u001b[0m\n",
      "[ 47%] \u001b[32mBuilding CXX object lm/CMakeFiles/kenlm.dir/model.cc.o\u001b[0m\n",
      "[ 48%] \u001b[32mBuilding CXX object lm/CMakeFiles/kenlm.dir/quantize.cc.o\u001b[0m\n",
      "[ 50%] \u001b[32mBuilding CXX object lm/CMakeFiles/kenlm.dir/read_arpa.cc.o\u001b[0m\n",
      "[ 51%] \u001b[32mBuilding CXX object lm/CMakeFiles/kenlm.dir/search_hashed.cc.o\u001b[0m\n",
      "[ 52%] \u001b[32mBuilding CXX object lm/CMakeFiles/kenlm.dir/search_trie.cc.o\u001b[0m\n",
      "[ 53%] \u001b[32mBuilding CXX object lm/CMakeFiles/kenlm.dir/sizes.cc.o\u001b[0m\n",
      "[ 55%] \u001b[32mBuilding CXX object lm/CMakeFiles/kenlm.dir/trie.cc.o\u001b[0m\n",
      "[ 56%] \u001b[32mBuilding CXX object lm/CMakeFiles/kenlm.dir/trie_sort.cc.o\u001b[0m\n",
      "[ 57%] \u001b[32mBuilding CXX object lm/CMakeFiles/kenlm.dir/value_build.cc.o\u001b[0m\n",
      "[ 58%] \u001b[32mBuilding CXX object lm/CMakeFiles/kenlm.dir/virtual_interface.cc.o\u001b[0m\n",
      "[ 60%] \u001b[32mBuilding CXX object lm/CMakeFiles/kenlm.dir/vocab.cc.o\u001b[0m\n",
      "In file included from /Users/marcellmaitinsky/LING242/computational-tools-for-linguistic-analysis-ubc/labs/kenlm/lm/vocab.cc:11:\n",
      "\u001b[1m/Users/marcellmaitinsky/LING242/computational-tools-for-linguistic-analysis-ubc/labs/kenlm/util/joint_sort.hh:60:19: \u001b[0m\u001b[0;1;35mwarning: \u001b[0m\u001b[1manonymous non-C-compatible type given name for linkage purposes by typedef declaration; add a tag name here [-Wnon-c-typedef-for-linkage]\u001b[0m\n",
      "    typedef struct {\n",
      "\u001b[0;1;32m                  ^\n",
      "\u001b[0m\u001b[0;32m                   value_type\n",
      "\u001b[0m\u001b[1m/Users/marcellmaitinsky/LING242/computational-tools-for-linguistic-analysis-ubc/labs/kenlm/util/joint_sort.hh:63:7: \u001b[0m\u001b[0;1;30mnote: \u001b[0mtype is not C-compatible due to this member declaration\u001b[0m\n",
      "      const typename std::iterator_traits<KeyIter>::value_type &GetKey() const { return key; }\n",
      "\u001b[0;1;32m      ^~~~~~~~~~~~~~~~~~~~~~~~~~~~~~~~~~~~~~~~~~~~~~~~~~~~~~~~~~~~~~~~~~~~~~~~\n",
      "\u001b[0m\u001b[1m/Users/marcellmaitinsky/LING242/computational-tools-for-linguistic-analysis-ubc/labs/kenlm/util/joint_sort.hh:64:7: \u001b[0m\u001b[0;1;30mnote: \u001b[0mtype is given name 'value_type' for linkage purposes by this typedef declaration\u001b[0m\n",
      "    } value_type;\n",
      "\u001b[0;1;32m      ^\n",
      "\u001b[0m1 warning generated.\n",
      "[ 61%] \u001b[32mBuilding CXX object lm/CMakeFiles/kenlm.dir/common/model_buffer.cc.o\u001b[0m\n",
      "[ 62%] \u001b[32mBuilding CXX object lm/CMakeFiles/kenlm.dir/common/print.cc.o\u001b[0m\n",
      "[ 63%] \u001b[32mBuilding CXX object lm/CMakeFiles/kenlm.dir/common/renumber.cc.o\u001b[0m\n",
      "[ 65%] \u001b[32mBuilding CXX object lm/CMakeFiles/kenlm.dir/common/size_option.cc.o\u001b[0m\n",
      "[ 66%] \u001b[32m\u001b[1mLinking CXX static library ../lib/libkenlm.a\u001b[0m\n",
      "[ 66%] Built target kenlm\n",
      "[ 67%] \u001b[32mBuilding CXX object lm/CMakeFiles/query.dir/query_main.cc.o\u001b[0m\n",
      "[ 68%] \u001b[32m\u001b[1mLinking CXX executable ../bin/query\u001b[0m\n",
      "[ 68%] Built target query\n",
      "[ 70%] \u001b[32mBuilding CXX object lm/CMakeFiles/kenlm_benchmark.dir/kenlm_benchmark_main.cc.o\u001b[0m\n",
      "[ 71%] \u001b[32m\u001b[1mLinking CXX executable ../bin/kenlm_benchmark\u001b[0m\n",
      "[ 71%] Built target kenlm_benchmark\n",
      "[ 72%] \u001b[32mBuilding CXX object lm/CMakeFiles/build_binary.dir/build_binary_main.cc.o\u001b[0m\n",
      "[ 73%] \u001b[32m\u001b[1mLinking CXX executable ../bin/build_binary\u001b[0m\n",
      "[ 73%] Built target build_binary\n",
      "[ 75%] \u001b[32mBuilding CXX object lm/CMakeFiles/fragment.dir/fragment_main.cc.o\u001b[0m\n",
      "[ 76%] \u001b[32m\u001b[1mLinking CXX executable ../bin/fragment\u001b[0m\n",
      "[ 76%] Built target fragment\n",
      "[ 77%] \u001b[32mBuilding CXX object lm/builder/CMakeFiles/kenlm_builder.dir/adjust_counts.cc.o\u001b[0m\n",
      "[ 78%] \u001b[32mBuilding CXX object lm/builder/CMakeFiles/kenlm_builder.dir/corpus_count.cc.o\u001b[0m\n",
      "[ 80%] \u001b[32mBuilding CXX object lm/builder/CMakeFiles/kenlm_builder.dir/initial_probabilities.cc.o\u001b[0m\n",
      "[ 81%] \u001b[32mBuilding CXX object lm/builder/CMakeFiles/kenlm_builder.dir/interpolate.cc.o\u001b[0m\n",
      "[ 82%] \u001b[32mBuilding CXX object lm/builder/CMakeFiles/kenlm_builder.dir/output.cc.o\u001b[0m\n",
      "[ 83%] \u001b[32mBuilding CXX object lm/builder/CMakeFiles/kenlm_builder.dir/pipeline.cc.o\u001b[0m\n",
      "[ 85%] \u001b[32m\u001b[1mLinking CXX static library ../../lib/libkenlm_builder.a\u001b[0m\n",
      "[ 85%] Built target kenlm_builder\n",
      "[ 86%] \u001b[32mBuilding CXX object lm/builder/CMakeFiles/count_ngrams.dir/count_ngrams_main.cc.o\u001b[0m\n",
      "[ 87%] \u001b[32m\u001b[1mLinking CXX executable ../../bin/count_ngrams\u001b[0m\n",
      "[ 87%] Built target count_ngrams\n",
      "[ 88%] \u001b[32mBuilding CXX object lm/builder/CMakeFiles/lmplz.dir/lmplz_main.cc.o\u001b[0m\n",
      "[ 90%] \u001b[32m\u001b[1mLinking CXX executable ../../bin/lmplz\u001b[0m\n",
      "[ 90%] Built target lmplz\n",
      "[ 91%] \u001b[32mBuilding CXX object lm/filter/CMakeFiles/kenlm_filter.dir/arpa_io.cc.o\u001b[0m\n",
      "[ 92%] \u001b[32mBuilding CXX object lm/filter/CMakeFiles/kenlm_filter.dir/phrase.cc.o\u001b[0m\n",
      "[ 93%] \u001b[32mBuilding CXX object lm/filter/CMakeFiles/kenlm_filter.dir/vocab.cc.o\u001b[0m\n",
      "[ 95%] \u001b[32m\u001b[1mLinking CXX static library ../../lib/libkenlm_filter.a\u001b[0m\n",
      "[ 95%] Built target kenlm_filter\n",
      "[ 96%] \u001b[32mBuilding CXX object lm/filter/CMakeFiles/phrase_table_vocab.dir/phrase_table_vocab_main.cc.o\u001b[0m\n",
      "[ 97%] \u001b[32m\u001b[1mLinking CXX executable ../../bin/phrase_table_vocab\u001b[0m\n",
      "[ 97%] Built target phrase_table_vocab\n",
      "[ 98%] \u001b[32mBuilding CXX object lm/filter/CMakeFiles/filter.dir/filter_main.cc.o\u001b[0m\n",
      "[100%] \u001b[32m\u001b[1mLinking CXX executable ../../bin/filter\u001b[0m\n",
      "[100%] Built target filter\n"
     ]
    }
   ],
   "source": [
    "!make"
   ]
  },
  {
   "cell_type": "code",
   "execution_count": 7,
   "id": "soviet-spider",
   "metadata": {},
   "outputs": [],
   "source": [
    "!head ~/LING242/computational-tools-for-linguistic-analysis-ubc/labs/simple-examples/data/ptb.train.txt | sed 's/<unk>/UNK/g' > text"
   ]
  },
  {
   "cell_type": "code",
   "execution_count": 8,
   "id": "under-tissue",
   "metadata": {},
   "outputs": [
    {
     "name": "stdout",
     "output_type": "stream",
     "text": [
      "=== 1/5 Counting and sorting n-grams ===\n",
      "Reading stdin\n",
      "----5---10---15---20---25---30---35---40---45---50---55---60---65---70---75---80---85---90---95--100\n",
      "****************************************************************************************************\n",
      "Unigram tokens 213 types 143\n",
      "=== 2/5 Calculating and sorting adjusted counts ===\n",
      "Chain sizes: 1:1716 2:1340867584 3:2514126848 4:4022602752 5:5866296320\n",
      "/Users/marcellmaitinsky/LING242/computational-tools-for-linguistic-analysis-ubc/labs/kenlm/lm/builder/adjust_counts.cc:52 in void lm::builder::(anonymous namespace)::StatCollector::CalculateDiscounts(const lm::builder::DiscountConfig &) threw BadDiscountException because `s.n[j] == 0'.\n",
      "Could not calculate Kneser-Ney discounts for 2-grams with adjusted count 4 because we didn't observe any 2-grams with adjusted count 3; Is this small or artificial data?\n",
      "Try deduplicating the input.  To override this error for e.g. a class-based model, rerun with --discount_fallback\n",
      "\n"
     ]
    }
   ],
   "source": [
    "!bin/lmplz -o 5 <text >text.arpa"
   ]
  },
  {
   "cell_type": "code",
   "execution_count": 9,
   "id": "impossible-falls",
   "metadata": {},
   "outputs": [
    {
     "name": "stdout",
     "output_type": "stream",
     "text": [
      "=== 1/5 Counting and sorting n-grams ===\n",
      "Reading stdin\n",
      "----5---10---15---20---25---30---35---40---45---50---55---60---65---70---75---80---85---90---95--100\n",
      "****************************************************************************************************\n",
      "Unigram tokens 213 types 143\n",
      "=== 2/5 Calculating and sorting adjusted counts ===\n",
      "Chain sizes: 1:1716 2:13743893504\n",
      "Statistics:\n",
      "1 143 D1=0.771812 D2=1.7276 D3+=1.45638\n",
      "2 208 D1=0.881818 D2=1.7965 D3+=3\n",
      "Memory estimate for binary LM:\n",
      "type       B\n",
      "probing 7472 assuming -p 1.5\n",
      "probing 8048 assuming -r models -p 1.5\n",
      "trie    4499 without quantization\n",
      "trie    4930 assuming -q 8 -b 8 quantization \n",
      "trie    4499 assuming -a 22 array pointer compression\n",
      "trie    4930 assuming -a 22 -q 8 -b 8 array pointer compression and quantization\n",
      "=== 3/5 Calculating and sorting initial probabilities ===\n",
      "Chain sizes: 1:1716 2:3328\n",
      "----5---10---15---20---25---30---35---40---45---50---55---60---65---70---75---80---85---90---95--100\n",
      "####################################################################################################\n",
      "=== 4/5 Calculating and writing order-interpolated probabilities ===\n",
      "Chain sizes: 1:1716 2:3328\n",
      "----5---10---15---20---25---30---35---40---45---50---55---60---65---70---75---80---85---90---95--100\n",
      "####################################################################################################\n",
      "=== 5/5 Writing ARPA model ===\n",
      "----5---10---15---20---25---30---35---40---45---50---55---60---65---70---75---80---85---90---95--100\n",
      "****************************************************************************************************\n",
      "RSSMax:2765594624 kB\tuser:0.801218\tsys:1.58579\tCPU:2.38703\treal:2.71814\n"
     ]
    }
   ],
   "source": [
    "!bin/lmplz -o 2 <text >text.arpa"
   ]
  },
  {
   "cell_type": "code",
   "execution_count": 10,
   "id": "parliamentary-omega",
   "metadata": {},
   "outputs": [
    {
     "name": "stdout",
     "output_type": "stream",
     "text": [
      "Reading text.arpa\n",
      "----5---10---15---20---25---30---35---40---45---50---55---60---65---70---75---80---85---90---95--100\n",
      "****************************************************************************************************\n",
      "SUCCESS\n"
     ]
    }
   ],
   "source": [
    "!bin/build_binary text.arpa text.binary"
   ]
  },
  {
   "cell_type": "code",
   "execution_count": 16,
   "id": "fossil-bulgarian",
   "metadata": {},
   "outputs": [],
   "source": [
    "!tail -n 1 /Users/marcellmaitinsky/LING242/computational-tools-for-linguistic-analysis-ubc/labs/simple-examples/data/ptb.train.txt   | sed 's/<unk>/UNK/g' > data"
   ]
  },
  {
   "cell_type": "code",
   "execution_count": 17,
   "id": "healthy-ozone",
   "metadata": {},
   "outputs": [
    {
     "name": "stdout",
     "output_type": "stream",
     "text": [
      "This binary file contains probing hash tables.\n",
      "in=110 1 -1.9787562\tlos=0 1 -2.4069233\tangeles=0 1 -2.3523023\tfor=0 1 -2.3523023\texample=0 1 -2.3523023\tcentral=0 1 -2.3523023\thas=71 1 -2.2564688\thad=0 1 -2.4069233\ta=37 1 -1.5073059\tstrong=0 1 -2.4049046\tmarket=0 1 -2.3523023\tposition=0 1 -2.3523023\twhile=0 1 -2.3523023\tunilab=0 1 -2.3523023\t's=121 1 -2.2564688\tpresence=0 1 -2.4069233\thas=71 1 -2.2564688\tbeen=0 1 -2.4069233\tless=0 1 -2.3523023\tprominent=0 1 -2.3523023\taccording=0 1 -2.3523023\tto=66 1 -1.6679683\tmr.=41 1 -2.3078644\tUNK=28 2 -0.76690423\t</s>=2 1 -1.4424298\tTotal: -54.348557 OOV: 16\n",
      "Perplexity including OOVs:\t149.25959564199744\n",
      "Perplexity excluding OOVs:\t67.10224231949275\n",
      "OOVs:\t16\n",
      "Tokens:\t25\n",
      "RSSMax:1220608 kB\tuser:0.005163\tsys:0.009904\tCPU:0.015094\treal:0.000893\n"
     ]
    }
   ],
   "source": [
    "!bin/query text.binary <data                                     "
   ]
  },
  {
   "cell_type": "markdown",
   "id": "light-elements",
   "metadata": {},
   "source": [
    "## 3. SRILM\n",
    "\n",
    "\n",
    "**TODO** complete commands for _srilm_ in jupyter except for downloading. It should include\n",
    "* compile, \n",
    "* estimate probabilities, and\n",
    "* query \n",
    "\n",
    "Use `ptb.train.txt` for training (estimating) and `ptb.test.txt` for querying to calculate perplexities. \n",
    "When you estimate probabilities, we use the standard LM option. See [[link1](https://www.statmt.org/wmt09/baseline.html)] and [[link2](https://kheafield.com/code/kenlm/estimation/)]. For querying, see [[link](http://www.speech.sri.com/projects/srilm/manpages/ngram-count.1.html)]\n"
   ]
  },
  {
   "cell_type": "code",
   "execution_count": 31,
   "id": "cf905057-6d42-49c0-b7bc-2e737c918ef5",
   "metadata": {},
   "outputs": [
    {
     "name": "stdout",
     "output_type": "stream",
     "text": [
      "/Users/marcellmaitinsky/LING242/computational-tools-for-linguistic-analysis-ubc/labs/srilm\n"
     ]
    }
   ],
   "source": [
    "%cd /Users/marcellmaitinsky/LING242/computational-tools-for-linguistic-analysis-ubc/labs/srilm"
   ]
  },
  {
   "cell_type": "code",
   "execution_count": 32,
   "id": "726d015a-97ad-4885-bb25-c26ae6a70b82",
   "metadata": {},
   "outputs": [
    {
     "name": "stdout",
     "output_type": "stream",
     "text": [
      "mkdir -p include lib bin\n",
      "/Library/Developer/CommandLineTools/usr/bin/make init\n",
      "for subdir in misc dstruct lm flm lattice utils zlib; do \\\n",
      "\t\t(cd $subdir/src; /Library/Developer/CommandLineTools/usr/bin/make SRILM=/Users/marcellmaitinsky/LING242/computational-tools-for-linguistic-analysis-ubc/labs/srilm MACHINE_TYPE=macosx OPTION= MAKE_PIC= init) || exit 1; \\\n",
      "\tdone\n",
      "cd ..; /Users/marcellmaitinsky/LING242/computational-tools-for-linguistic-analysis-ubc/labs/srilm/sbin/make-standard-directories\n",
      "/Library/Developer/CommandLineTools/usr/bin/make ../obj/macosx/STAMP ../bin/macosx/STAMP\n",
      "make[3]: `../obj/macosx/STAMP' is up to date.\n",
      "make[3]: `../bin/macosx/STAMP' is up to date.\n",
      "cd ..; /Users/marcellmaitinsky/LING242/computational-tools-for-linguistic-analysis-ubc/labs/srilm/sbin/make-standard-directories\n",
      "/Library/Developer/CommandLineTools/usr/bin/make ../obj/macosx/STAMP ../bin/macosx/STAMP\n",
      "make[3]: `../obj/macosx/STAMP' is up to date.\n",
      "make[3]: `../bin/macosx/STAMP' is up to date.\n",
      "cd ..; /Users/marcellmaitinsky/LING242/computational-tools-for-linguistic-analysis-ubc/labs/srilm/sbin/make-standard-directories\n",
      "/Library/Developer/CommandLineTools/usr/bin/make ../obj/macosx/STAMP ../bin/macosx/STAMP\n",
      "make[3]: `../obj/macosx/STAMP' is up to date.\n",
      "make[3]: `../bin/macosx/STAMP' is up to date.\n",
      "cd ..; /Users/marcellmaitinsky/LING242/computational-tools-for-linguistic-analysis-ubc/labs/srilm/sbin/make-standard-directories\n",
      "/Library/Developer/CommandLineTools/usr/bin/make ../obj/macosx/STAMP ../bin/macosx/STAMP\n",
      "make[3]: `../obj/macosx/STAMP' is up to date.\n",
      "make[3]: `../bin/macosx/STAMP' is up to date.\n",
      "cd ..; /Users/marcellmaitinsky/LING242/computational-tools-for-linguistic-analysis-ubc/labs/srilm/sbin/make-standard-directories\n",
      "/Library/Developer/CommandLineTools/usr/bin/make ../obj/macosx/STAMP ../bin/macosx/STAMP\n",
      "make[3]: `../obj/macosx/STAMP' is up to date.\n",
      "make[3]: `../bin/macosx/STAMP' is up to date.\n",
      "cd ..; /Users/marcellmaitinsky/LING242/computational-tools-for-linguistic-analysis-ubc/labs/srilm/sbin/make-standard-directories\n",
      "/Library/Developer/CommandLineTools/usr/bin/make ../obj/macosx/STAMP ../bin/macosx/STAMP\n",
      "make[3]: `../obj/macosx/STAMP' is up to date.\n",
      "make[3]: `../bin/macosx/STAMP' is up to date.\n",
      "cd ..; /Users/marcellmaitinsky/LING242/computational-tools-for-linguistic-analysis-ubc/labs/srilm/sbin/make-standard-directories\n",
      "/Library/Developer/CommandLineTools/usr/bin/make ../obj/macosx/STAMP ../bin/macosx/STAMP\n",
      "make[3]: `../obj/macosx/STAMP' is up to date.\n",
      "make[3]: `../bin/macosx/STAMP' is up to date.\n",
      "/Library/Developer/CommandLineTools/usr/bin/make release-headers\n",
      "for subdir in misc dstruct lm flm lattice utils zlib; do \\\n",
      "\t\t(cd $subdir/src; /Library/Developer/CommandLineTools/usr/bin/make SRILM=/Users/marcellmaitinsky/LING242/computational-tools-for-linguistic-analysis-ubc/labs/srilm MACHINE_TYPE=macosx OPTION= MAKE_PIC= release-headers) || exit 1; \\\n",
      "\tdone\n",
      "make[2]: Nothing to be done for `release-headers'.\n",
      "make[2]: Nothing to be done for `release-headers'.\n",
      "make[2]: Nothing to be done for `release-headers'.\n",
      "make[2]: Nothing to be done for `release-headers'.\n",
      "make[2]: Nothing to be done for `release-headers'.\n",
      "make[2]: Nothing to be done for `release-headers'.\n",
      "make[2]: Nothing to be done for `release-headers'.\n",
      "/Library/Developer/CommandLineTools/usr/bin/make depend\n",
      "for subdir in misc dstruct lm flm lattice utils zlib; do \\\n",
      "\t\t(cd $subdir/src; /Library/Developer/CommandLineTools/usr/bin/make SRILM=/Users/marcellmaitinsky/LING242/computational-tools-for-linguistic-analysis-ubc/labs/srilm MACHINE_TYPE=macosx OPTION= MAKE_PIC= depend) || exit 1; \\\n",
      "\tdone\n",
      "rm -f Dependencies.macosx\n",
      "cc -Wall -Wno-unused-variable -Wno-uninitialized -Wno-overloaded-virtual    -I../obj/macosx -I/usr/include -I. -I../../include -DHAVE_ZOPEN -MM  ./option.c ./zio.c ./fcheck.c ./rand48.c ./version.c ./ztest.c | sed -e \"s&^\\([^ ]\\)&../obj/macosx\"'$(OBJ_OPTION)'\"/\\1&g\" -e \"s&\\.o&.o&g\" >> Dependencies.macosx\n",
      "c++ -Wall -Wno-unused-variable -Wno-uninitialized -Wno-overloaded-virtual -DINSTANTIATE_TEMPLATES   -I../obj/macosx -I/usr/include -I. -I../../include -DHAVE_ZOPEN -MM  ./Debug.cc ./File.cc ./MStringTokUtil.cc ./tls.cc ./tserror.cc ./tclmain.cc ./testFile.cc ./testRand.cc | sed -e \"s&^\\([^ ]\\)&../obj/macosx\"'$(OBJ_OPTION)'\"/\\1&g\" -e \"s&\\.o&.o&g\" >> Dependencies.macosx\n",
      "/Users/marcellmaitinsky/LING242/computational-tools-for-linguistic-analysis-ubc/labs/srilm/sbin/generate-program-dependencies ../bin/macosx ../obj/macosx \"\" ztest testFile testRand | sed -e \"s&\\.o&.o&g\" >> Dependencies.macosx\n",
      "rm -f Dependencies.macosx\n",
      "cc -Wall -Wno-unused-variable -Wno-uninitialized -Wno-overloaded-virtual    -I/usr/include -I. -I../../include -DHAVE_ZOPEN -MM  ./qsort.c ./maxalloc.c | sed -e \"s&^\\([^ ]\\)&../obj/macosx\"'$(OBJ_OPTION)'\"/\\1&g\" -e \"s&\\.o&.o&g\" >> Dependencies.macosx\n",
      "c++ -Wall -Wno-unused-variable -Wno-uninitialized -Wno-overloaded-virtual -DINSTANTIATE_TEMPLATES   -I/usr/include -I. -I../../include -DHAVE_ZOPEN -MM  ./MemStats.cc ./LHashTrie.cc ./SArrayTrie.cc ./BlockMalloc.cc ./DStructThreads.cc ./Array.cc ./IntervalHeap.cc ./Map.cc ./SArray.cc ./LHash.cc ./Map2.cc ./Trie.cc ./CachedMem.cc ./testArray.cc ./testMap.cc ./testFloatMap.cc ./benchHash.cc ./testHash.cc ./testSizes.cc ./testCachedMem.cc ./testBlockMalloc.cc ./testMap2.cc ./testTrie.cc | sed -e \"s&^\\([^ ]\\)&../obj/macosx\"'$(OBJ_OPTION)'\"/\\1&g\" -e \"s&\\.o&.o&g\" >> Dependencies.macosx\n",
      "/Users/marcellmaitinsky/LING242/computational-tools-for-linguistic-analysis-ubc/labs/srilm/sbin/generate-program-dependencies ../bin/macosx ../obj/macosx \"\" maxalloc testArray testMap testFloatMap benchHash testHash testSizes testCachedMem testBlockMalloc testMap2 testTrie | sed -e \"s&\\.o&.o&g\" >> Dependencies.macosx\n",
      "rm -f Dependencies.macosx\n",
      "cc -Wall -Wno-unused-variable -Wno-uninitialized -Wno-overloaded-virtual    -I/usr/include -I. -I../../include -DHAVE_ZOPEN -MM  ./matherr.c | sed -e \"s&^\\([^ ]\\)&../obj/macosx\"'$(OBJ_OPTION)'\"/\\1&g\" -e \"s&\\.o&.o&g\" >> Dependencies.macosx\n",
      "c++ -Wall -Wno-unused-variable -Wno-uninitialized -Wno-overloaded-virtual -DINSTANTIATE_TEMPLATES   -I/usr/include -I. -I../../include -DHAVE_ZOPEN -MM  ./Prob.cc ./Counts.cc ./XCount.cc ./Vocab.cc ./VocabMap.cc ./VocabMultiMap.cc ./VocabDistance.cc ./SubVocab.cc ./MultiwordVocab.cc ./TextStats.cc ./LM.cc ./LMClient.cc ./LMStats.cc ./RefList.cc ./Bleu.cc ./NBest.cc ./NBestSet.cc ./NgramLM.cc ./NgramStatsInt.cc ./NgramStatsShort.cc ./NgramStatsLong.cc ./NgramStatsLongLong.cc ./NgramStatsFloat.cc ./NgramStatsDouble.cc ./NgramStatsXCount.cc ./NgramProbArrayTrie.cc ./NgramCountLM.cc ./MSWebNgramLM.cc ./Discount.cc ./ClassNgram.cc ./SimpleClassNgram.cc ./DFNgram.cc ./SkipNgram.cc ./HiddenNgram.cc ./HiddenSNgram.cc ./VarNgram.cc ./DecipherNgram.cc ./TaggedVocab.cc ./TaggedNgram.cc ./TaggedNgramStats.cc ./StopNgram.cc ./StopNgramStats.cc ./MultiwordLM.cc ./NonzeroLM.cc ./BayesMix.cc ./LoglinearMix.cc ./AdaptiveMix.cc ./AdaptiveMarginals.cc ./CacheLM.cc ./DynamicLM.cc ./HMMofNgrams.cc ./WordAlign.cc ./WordLattice.cc ./WordMesh.cc ./simpleTrigram.cc ./LMThreads.cc ./MEModel.cc ./hmaxent.cc ./NgramStats.cc ./Trellis.cc ./testBinaryCounts.cc ./testHash.cc ./testProb.cc ./testQuantized.cc ./testXCount.cc ./testParseFloat.cc ./testVocabDistance.cc ./testNgram.cc ./testNgramAlloc.cc ./testNgramProbArrayTrie.cc ./testMultiReadLM.cc ./hoeffding.cc ./tolower.cc ./testLattice.cc ./testError.cc ./testNBest.cc ./testMix.cc ./testTaggedVocab.cc ./testVocab.cc ./ngram.cc ./ngram-count.cc ./ngram-merge.cc ./ngram-class.cc ./disambig.cc ./anti-ngram.cc ./nbest-lattice.cc ./nbest-mix.cc ./nbest-optimize.cc ./nbest-pron-score.cc ./segment.cc ./segment-nbest.cc ./hidden-ngram.cc ./multi-ngram.cc | sed -e \"s&^\\([^ ]\\)&../obj/macosx\"'$(OBJ_OPTION)'\"/\\1&g\" -e \"s&\\.o&.o&g\" >> Dependencies.macosx\n",
      "/Users/marcellmaitinsky/LING242/computational-tools-for-linguistic-analysis-ubc/labs/srilm/sbin/generate-program-dependencies ../bin/macosx ../obj/macosx \"\" testBinaryCounts testHash testProb testQuantized testXCount testParseFloat testVocabDistance testNgram testNgramAlloc testNgramProbArrayTrie testMultiReadLM hoeffding tolower testLattice testError testNBest testMix testTaggedVocab testVocab  ngram ngram-count ngram-merge ngram-class disambig anti-ngram nbest-lattice nbest-mix nbest-optimize nbest-pron-score segment segment-nbest hidden-ngram multi-ngram | sed -e \"s&\\.o&.o&g\" >> Dependencies.macosx\n",
      "rm -f Dependencies.macosx\n",
      "c++ -Wall -Wno-unused-variable -Wno-uninitialized -Wno-overloaded-virtual -DINSTANTIATE_TEMPLATES   -I/usr/include -I. -I../../include -DHAVE_ZOPEN -MM  ./FDiscount.cc ./FNgramStats.cc ./FNgramStatsInt.cc ./FNgramSpecs.cc ./FNgramSpecsInt.cc ./FactoredVocab.cc ./FNgramLM.cc ./ProductVocab.cc ./ProductNgram.cc ./FLMThreads.cc ./strtolplusb.cc ./wmatrix.cc ./pngram.cc ./fngram-count.cc ./fngram.cc | sed -e \"s&^\\([^ ]\\)&../obj/macosx\"'$(OBJ_OPTION)'\"/\\1&g\" -e \"s&\\.o&.o&g\" >> Dependencies.macosx\n",
      "/Users/marcellmaitinsky/LING242/computational-tools-for-linguistic-analysis-ubc/labs/srilm/sbin/generate-program-dependencies ../bin/macosx ../obj/macosx \"\" pngram fngram-count fngram  | sed -e \"s&\\.o&.o&g\" >> Dependencies.macosx\n",
      "rm -f Dependencies.macosx\n",
      "c++ -Wall -Wno-unused-variable -Wno-uninitialized -Wno-overloaded-virtual -DINSTANTIATE_TEMPLATES   -I/usr/include -I. -I../../include -DHAVE_ZOPEN -MM  ./Lattice.cc ./LatticeAlign.cc ./LatticeExpand.cc ./LatticeIndex.cc ./LatticeNBest.cc ./LatticeNgrams.cc ./LatticeReduce.cc ./HTKLattice.cc ./LatticeLM.cc ./LatticeThreads.cc ./LatticeDecode.cc ./testLattice.cc ./lattice-tool.cc | sed -e \"s&^\\([^ ]\\)&../obj/macosx\"'$(OBJ_OPTION)'\"/\\1&g\" -e \"s&\\.o&.o&g\" >> Dependencies.macosx\n",
      "/Users/marcellmaitinsky/LING242/computational-tools-for-linguistic-analysis-ubc/labs/srilm/sbin/generate-program-dependencies ../bin/macosx ../obj/macosx \"\" testLattice  lattice-tool | sed -e \"s&\\.o&.o&g\" >> Dependencies.macosx\n",
      "rm -f Dependencies.macosx\n",
      "c++ -Wall -Wno-unused-variable -Wno-uninitialized -Wno-overloaded-virtual -DINSTANTIATE_TEMPLATES   -I. -I../../include -DHAVE_ZOPEN -MM  ./nbest-rover-helper.cc | sed -e \"s&^\\([^ ]\\)&../obj/macosx\"'$(OBJ_OPTION)'\"/\\1&g\" -e \"s&\\.o&.o&g\" >> Dependencies.macosx\n",
      "/Users/marcellmaitinsky/LING242/computational-tools-for-linguistic-analysis-ubc/labs/srilm/sbin/generate-program-dependencies ../bin/macosx ../obj/macosx \"\" nbest-rover-helper  | sed -e \"s&\\.o&.o&g\" >> Dependencies.macosx\n",
      "rm -f Dependencies.macosx\n",
      "cc -Wall -Wno-unused-variable -Wno-uninitialized -Wno-overloaded-virtual    -I/usr/include -I. -I../../include -DHAVE_ZOPEN -MM  ./adler32.c ./crc32.c ./gzclose.c ./gzread.c ./infback.c ./inflate.c ./trees.c ./zutil.c ./compress.c ./deflate.c ./gzlib.c ./gzwrite.c ./inffast.c ./inftrees.c ./uncompr.c ./minigzip.c | sed -e \"s&^\\([^ ]\\)&../obj/macosx\"'$(OBJ_OPTION)'\"/\\1&g\" -e \"s&\\.o&.o&g\" >> Dependencies.macosx\n",
      "/Users/marcellmaitinsky/LING242/computational-tools-for-linguistic-analysis-ubc/labs/srilm/sbin/generate-program-dependencies ../bin/macosx ../obj/macosx \"\" minigzip | sed -e \"s&\\.o&.o&g\" >> Dependencies.macosx\n",
      "/Library/Developer/CommandLineTools/usr/bin/make release-libraries\n",
      "for subdir in misc dstruct lm flm lattice utils zlib; do \\\n",
      "\t\t(cd $subdir/src; /Library/Developer/CommandLineTools/usr/bin/make SRILM=/Users/marcellmaitinsky/LING242/computational-tools-for-linguistic-analysis-ubc/labs/srilm MACHINE_TYPE=macosx OPTION= MAKE_PIC= release-libraries) || exit 1; \\\n",
      "\tdone\n",
      "make[2]: Nothing to be done for `release-libraries'.\n",
      "make[2]: Nothing to be done for `release-libraries'.\n",
      "make[2]: Nothing to be done for `release-libraries'.\n",
      "make[2]: Nothing to be done for `release-libraries'.\n",
      "make[2]: Nothing to be done for `release-libraries'.\n",
      "make[2]: Nothing to be done for `release-libraries'.\n",
      "make[2]: Nothing to be done for `release-libraries'.\n",
      "/Library/Developer/CommandLineTools/usr/bin/make release-programs\n",
      "for subdir in misc dstruct lm flm lattice utils zlib; do \\\n",
      "\t\t(cd $subdir/src; /Library/Developer/CommandLineTools/usr/bin/make SRILM=/Users/marcellmaitinsky/LING242/computational-tools-for-linguistic-analysis-ubc/labs/srilm MACHINE_TYPE=macosx OPTION= MAKE_PIC= release-programs) || exit 1; \\\n",
      "\tdone\n",
      "make[2]: Nothing to be done for `release-programs'.\n",
      "make[2]: Nothing to be done for `release-programs'.\n",
      "make[2]: Nothing to be done for `release-programs'.\n",
      "make[2]: Nothing to be done for `release-programs'.\n",
      "make[2]: Nothing to be done for `release-programs'.\n",
      "make[2]: Nothing to be done for `release-programs'.\n",
      "make[2]: Nothing to be done for `release-programs'.\n",
      "/Library/Developer/CommandLineTools/usr/bin/make release-scripts\n",
      "for subdir in misc dstruct lm flm lattice utils zlib; do \\\n",
      "\t\t(cd $subdir/src; /Library/Developer/CommandLineTools/usr/bin/make SRILM=/Users/marcellmaitinsky/LING242/computational-tools-for-linguistic-analysis-ubc/labs/srilm MACHINE_TYPE=macosx OPTION= MAKE_PIC= release-scripts) || exit 1; \\\n",
      "\tdone\n",
      "make[2]: Nothing to be done for `release-scripts'.\n",
      "make[2]: Nothing to be done for `release-scripts'.\n",
      "make[2]: Nothing to be done for `release-scripts'.\n",
      "make[2]: Nothing to be done for `release-scripts'.\n",
      "make[2]: Nothing to be done for `release-scripts'.\n",
      "make[2]: Nothing to be done for `release-scripts'.\n",
      "make[2]: Nothing to be done for `release-scripts'.\n"
     ]
    }
   ],
   "source": [
    "!make"
   ]
  },
  {
   "cell_type": "code",
   "execution_count": 33,
   "id": "5155a6ae-bec2-45de-9f0a-36e2489116b6",
   "metadata": {},
   "outputs": [
    {
     "name": "stdout",
     "output_type": "stream",
     "text": [
      "-r-xr-xr-x  1 marcellmaitinsky  staff  1699400 22 sep 17:39 \u001b[31mbin/macosx/ngram-count\u001b[m\u001b[m\n"
     ]
    }
   ],
   "source": [
    "!ls -l bin/macosx/ngram-count"
   ]
  },
  {
   "cell_type": "code",
   "execution_count": 92,
   "id": "04867c97-c8e9-4503-99a5-d142c972818d",
   "metadata": {},
   "outputs": [
    {
     "name": "stdout",
     "output_type": "stream",
     "text": [
      "warning: discount coeff 1 is out of range: 0\n"
     ]
    }
   ],
   "source": [
    "!./bin/macosx/ngram-count -text ./simple-examples/data/ptb.train.txt -lm text.lm"
   ]
  },
  {
   "cell_type": "code",
   "execution_count": 93,
   "id": "48ecbb02-5985-40ca-a8d2-c7f35e9d323f",
   "metadata": {},
   "outputs": [
    {
     "name": "stdout",
     "output_type": "stream",
     "text": [
      "file ./simple-examples/data/ptb.test.txt: 3761 sentences, 78669 words, 4794 OOVs\n",
      "0 zeroprobs, logprob= -176327.4 ppl= 186.727 ppl1= 243.6885\n"
     ]
    }
   ],
   "source": [
    "!./bin/macosx/ngram -lm text.lm -ppl ./simple-examples/data/ptb.test.txt"
   ]
  },
  {
   "cell_type": "code",
   "execution_count": null,
   "id": "4f892e5b-7966-42af-ae4d-8aee56c0267d",
   "metadata": {},
   "outputs": [],
   "source": []
  }
 ],
 "metadata": {
  "kernelspec": {
   "display_name": "Python 3 (ipykernel)",
   "language": "python",
   "name": "python3"
  },
  "language_info": {
   "codemirror_mode": {
    "name": "ipython",
    "version": 3
   },
   "file_extension": ".py",
   "mimetype": "text/x-python",
   "name": "python",
   "nbconvert_exporter": "python",
   "pygments_lexer": "ipython3",
   "version": "3.8.10"
  }
 },
 "nbformat": 4,
 "nbformat_minor": 5
}
