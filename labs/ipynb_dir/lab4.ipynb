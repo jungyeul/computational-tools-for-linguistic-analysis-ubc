{
 "cells": [
  {
   "cell_type": "markdown",
   "id": "elementary-metabolism",
   "metadata": {},
   "source": [
    "# Sequence labelling"
   ]
  },
  {
   "cell_type": "code",
   "execution_count": 1,
   "id": "studied-advantage",
   "metadata": {},
   "outputs": [
    {
     "name": "stdout",
     "output_type": "stream",
     "text": [
      "--2021-10-05 21:35:43--  https://wapiti.limsi.fr/wapiti-1.5.0.tar.gz\n",
      "Resolving wapiti.limsi.fr (wapiti.limsi.fr)... 129.175.134.198\n",
      "Connecting to wapiti.limsi.fr (wapiti.limsi.fr)|129.175.134.198|:443... connected.\n",
      "HTTP request sent, awaiting response... 200 OK\n",
      "Length: 218486 (213K) [application/x-gzip]\n",
      "Saving to: ‘wapiti-1.5.0.tar.gz.1’\n",
      "\n",
      "wapiti-1.5.0.tar.gz 100%[===================>] 213,37K   261KB/s    in 0,8s    \n",
      "\n",
      "2021-10-05 21:35:45 (261 KB/s) - ‘wapiti-1.5.0.tar.gz.1’ saved [218486/218486]\n",
      "\n"
     ]
    }
   ],
   "source": [
    "!wget https://wapiti.limsi.fr/wapiti-1.5.0.tar.gz"
   ]
  },
  {
   "cell_type": "code",
   "execution_count": 2,
   "id": "taken-silicon",
   "metadata": {},
   "outputs": [
    {
     "name": "stdout",
     "output_type": "stream",
     "text": [
      "x wapiti-1.5.0/\r\n",
      "x wapiti-1.5.0/COPYING\r\n",
      "x wapiti-1.5.0/HISTORY\r\n",
      "x wapiti-1.5.0/INSTALL\r\n",
      "x wapiti-1.5.0/Makefile\r\n",
      "x wapiti-1.5.0/README.mkd\r\n",
      "x wapiti-1.5.0/dat/\r\n",
      "x wapiti-1.5.0/dat/chpattern.txt\r\n",
      "x wapiti-1.5.0/dat/chtest.txt\r\n",
      "x wapiti-1.5.0/dat/chtrain.txt\r\n",
      "x wapiti-1.5.0/dat/nppattern.txt\r\n",
      "x wapiti-1.5.0/dat/nptest.txt\r\n",
      "x wapiti-1.5.0/dat/nptrain.txt\r\n",
      "x wapiti-1.5.0/dat/pattern.txt\r\n",
      "x wapiti-1.5.0/dat/test.txt\r\n",
      "x wapiti-1.5.0/dat/train.txt\r\n",
      "x wapiti-1.5.0/doc/\r\n",
      "x wapiti-1.5.0/doc/wapiti.1\r\n",
      "x wapiti-1.5.0/src/\r\n",
      "x wapiti-1.5.0/src/bcd.c\r\n",
      "x wapiti-1.5.0/src/decoder.c\r\n",
      "x wapiti-1.5.0/src/decoder.h\r\n",
      "x wapiti-1.5.0/src/gradient.c\r\n",
      "x wapiti-1.5.0/src/gradient.h\r\n",
      "x wapiti-1.5.0/src/lbfgs.c\r\n",
      "x wapiti-1.5.0/src/model.c\r\n",
      "x wapiti-1.5.0/src/model.h\r\n",
      "x wapiti-1.5.0/src/options.c\r\n",
      "x wapiti-1.5.0/src/options.h\r\n",
      "x wapiti-1.5.0/src/pattern.c\r\n",
      "x wapiti-1.5.0/src/pattern.h\r\n",
      "x wapiti-1.5.0/src/progress.c\r\n",
      "x wapiti-1.5.0/src/progress.h\r\n",
      "x wapiti-1.5.0/src/quark.c\r\n",
      "x wapiti-1.5.0/src/quark.h\r\n",
      "x wapiti-1.5.0/src/reader.c\r\n",
      "x wapiti-1.5.0/src/reader.h\r\n",
      "x wapiti-1.5.0/src/rprop.c\r\n",
      "x wapiti-1.5.0/src/sequence.h\r\n",
      "x wapiti-1.5.0/src/sgdl1.c\r\n",
      "x wapiti-1.5.0/src/thread.c\r\n",
      "x wapiti-1.5.0/src/thread.h\r\n",
      "x wapiti-1.5.0/src/tools.c\r\n",
      "x wapiti-1.5.0/src/tools.h\r\n",
      "x wapiti-1.5.0/src/trainers.h\r\n",
      "x wapiti-1.5.0/src/vmath.c\r\n",
      "x wapiti-1.5.0/src/vmath.h\r\n",
      "x wapiti-1.5.0/src/wapiti.c\r\n",
      "x wapiti-1.5.0/src/wapiti.h\r\n"
     ]
    }
   ],
   "source": [
    "!tar xvfz wapiti-1.5.0.tar.gz"
   ]
  },
  {
   "cell_type": "code",
   "execution_count": 3,
   "id": "physical-geography",
   "metadata": {},
   "outputs": [
    {
     "name": "stdout",
     "output_type": "stream",
     "text": [
      "/Users/jungyeul/Downloads/ling242/lab4/wapiti-1.5.0\n"
     ]
    }
   ],
   "source": [
    "%cd wapiti-1.5.0/"
   ]
  },
  {
   "cell_type": "code",
   "execution_count": 5,
   "id": "dutch-watershed",
   "metadata": {},
   "outputs": [
    {
     "name": "stdout",
     "output_type": "stream",
     "text": [
      "make: `wapiti' is up to date.\r\n"
     ]
    }
   ],
   "source": [
    "!make"
   ]
  },
  {
   "cell_type": "markdown",
   "id": "processed-hearing",
   "metadata": {},
   "source": [
    "## POS tagging"
   ]
  },
  {
   "cell_type": "code",
   "execution_count": null,
   "id": "dependent-branch",
   "metadata": {},
   "outputs": [],
   "source": []
  },
  {
   "cell_type": "markdown",
   "id": "front-gothic",
   "metadata": {},
   "source": [
    "## Chunking"
   ]
  },
  {
   "cell_type": "code",
   "execution_count": null,
   "id": "coated-twins",
   "metadata": {},
   "outputs": [],
   "source": []
  },
  {
   "cell_type": "markdown",
   "id": "generic-setting",
   "metadata": {},
   "source": [
    "## NER"
   ]
  },
  {
   "cell_type": "code",
   "execution_count": null,
   "id": "female-garage",
   "metadata": {},
   "outputs": [],
   "source": []
  }
 ],
 "metadata": {
  "kernelspec": {
   "display_name": "Python 3",
   "language": "python",
   "name": "python3"
  },
  "language_info": {
   "codemirror_mode": {
    "name": "ipython",
    "version": 3
   },
   "file_extension": ".py",
   "mimetype": "text/x-python",
   "name": "python",
   "nbconvert_exporter": "python",
   "pygments_lexer": "ipython3",
   "version": "3.8.9"
  }
 },
 "nbformat": 4,
 "nbformat_minor": 5
}
