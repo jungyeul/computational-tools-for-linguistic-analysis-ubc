{
 "cells": [
  {
   "cell_type": "markdown",
   "metadata": {
    "slideshow": {
     "slide_type": "slide"
    }
   },
   "source": [
    "# LING 242 Python Lecture 3: Lexicons\n",
    "\n",
    "* Word \"Lists\" (Sets)\n",
    "* Simple dictionary lexicons\n",
    "* Complex lexicons\n",
    "* Lexicons in NLTK\n",
    "* Exercises"
   ]
  },
  {
   "cell_type": "markdown",
   "metadata": {
    "slideshow": {
     "slide_type": "slide"
    }
   },
   "source": [
    "## Word \"Lists\" (Sets)"
   ]
  },
  {
   "cell_type": "markdown",
   "metadata": {
    "slideshow": {
     "slide_type": "subslide"
    }
   },
   "source": [
    "The simpliest lexicon is just a list of words that have something in common. For example:\n",
    "\n",
    "* Pronouns (\"he\",\"she\", \"I\", ...)\n",
    "* Negative words (\"terrible\",\"jerk\",\"foolishly\",...)\n",
    "* A list of all family relations (\"father\", \"sister\",...)\n",
    "* The vocabulary of the Brown corpus\n",
    "\n",
    "Typically, one builds a lexicon so that one can identify instances of this word class in some corpus\n",
    "\n",
    "Rule #1: Don't use lists for lexicons. Use [sets](https://docs.python.org/3/library/stdtypes.html#set-types-set-frozenset)!"
   ]
  },
  {
   "cell_type": "code",
   "execution_count": 1,
   "metadata": {
    "scrolled": true,
    "slideshow": {
     "slide_type": "fragment"
    }
   },
   "outputs": [
    {
     "data": {
      "text/plain": [
       "{'brown', 'dog', 'fox', 'jumped', 'lazy', 'over', 'quick', 'the'}"
      ]
     },
     "execution_count": 1,
     "metadata": {},
     "output_type": "execute_result"
    }
   ],
   "source": [
    "some_words = [\"the\",\"quick\",\"brown\", \"fox\",\"jumped\", \"over\",\"the\",\"lazy\",\"dog\"]\n",
    "\n",
    "word_types = set(some_words)\n",
    "word_types"
   ]
  },
  {
   "cell_type": "markdown",
   "metadata": {
    "slideshow": {
     "slide_type": "fragment"
    }
   },
   "source": [
    "Two reasons to use sets for lexicons:\n",
    "\n",
    "* Elements are unique, which is exactly what you need for lexicons\n",
    "* Checking for membership (*in*) is much faster, $O(1)$ vs $O(n)$. This especially matters when the lexicon is big"
   ]
  },
  {
   "cell_type": "markdown",
   "metadata": {
    "slideshow": {
     "slide_type": "fragment"
    }
   },
   "source": [
    "There are a few ways to create sets. \n",
    "- If you are starting totally from scratch, you have to use the build-in *set()* function\n",
    "    - curly brackets alone refer to dicts, not sets!\n",
    "- If you are starting with a (small) fixed set of existing items you can declare using curly brackets instead of converting a list. \n",
    "- There are also set comprehensions, also using curly brackets!\n"
   ]
  },
  {
   "cell_type": "code",
   "execution_count": 2,
   "metadata": {
    "slideshow": {
     "slide_type": "-"
    }
   },
   "outputs": [],
   "source": [
    "seasons = {\"spring\",\"summer\",\"fall\"}\n",
    "months = {}\n",
    "days = {n for n in range(31)}"
   ]
  },
  {
   "cell_type": "code",
   "execution_count": 3,
   "metadata": {},
   "outputs": [
    {
     "data": {
      "text/plain": [
       "{0,\n",
       " 1,\n",
       " 2,\n",
       " 3,\n",
       " 4,\n",
       " 5,\n",
       " 6,\n",
       " 7,\n",
       " 8,\n",
       " 9,\n",
       " 10,\n",
       " 11,\n",
       " 12,\n",
       " 13,\n",
       " 14,\n",
       " 15,\n",
       " 16,\n",
       " 17,\n",
       " 18,\n",
       " 19,\n",
       " 20,\n",
       " 21,\n",
       " 22,\n",
       " 23,\n",
       " 24,\n",
       " 25,\n",
       " 26,\n",
       " 27,\n",
       " 28,\n",
       " 29,\n",
       " 30}"
      ]
     },
     "execution_count": 3,
     "metadata": {},
     "output_type": "execute_result"
    }
   ],
   "source": [
    "days"
   ]
  },
  {
   "cell_type": "code",
   "execution_count": 4,
   "metadata": {},
   "outputs": [
    {
     "data": {
      "text/plain": [
       "{'fall', 'spring', 'summer', 'winter'}"
      ]
     },
     "execution_count": 4,
     "metadata": {},
     "output_type": "execute_result"
    }
   ],
   "source": [
    "seasons.add(\"winter\")\n",
    "seasons"
   ]
  },
  {
   "cell_type": "code",
   "execution_count": 5,
   "metadata": {},
   "outputs": [
    {
     "name": "stdout",
     "output_type": "stream",
     "text": [
      "{0, 1, 2, 3, 4, 5, 6, 7, 8, 9, 10, 11, 12, 13, 14, 15, 16, 17, 18, 19, 20, 21, 22, 23, 24, 25, 26, 27, 28, 29, 30, 31}\n"
     ]
    }
   ],
   "source": [
    "days.add(31)\n",
    "print(days)"
   ]
  },
  {
   "cell_type": "code",
   "execution_count": 6,
   "metadata": {},
   "outputs": [
    {
     "ename": "AttributeError",
     "evalue": "'dict' object has no attribute 'add'",
     "output_type": "error",
     "traceback": [
      "\u001b[0;31m---------------------------------------------------------------------------\u001b[0m",
      "\u001b[0;31mAttributeError\u001b[0m                            Traceback (most recent call last)",
      "\u001b[0;32m/var/folders/n9/3r6hrp015t9d1n6m8l36t0yh0000gn/T/ipykernel_37556/2444808002.py\u001b[0m in \u001b[0;36m<module>\u001b[0;34m\u001b[0m\n\u001b[0;32m----> 1\u001b[0;31m \u001b[0mmonths\u001b[0m\u001b[0;34m.\u001b[0m\u001b[0madd\u001b[0m\u001b[0;34m(\u001b[0m\u001b[0;34m\"January\"\u001b[0m\u001b[0;34m)\u001b[0m\u001b[0;34m\u001b[0m\u001b[0;34m\u001b[0m\u001b[0m\n\u001b[0m",
      "\u001b[0;31mAttributeError\u001b[0m: 'dict' object has no attribute 'add'"
     ]
    }
   ],
   "source": [
    "months.add(\"January\")"
   ]
  },
  {
   "cell_type": "code",
   "execution_count": 7,
   "metadata": {},
   "outputs": [
    {
     "data": {
      "text/plain": [
       "{'January'}"
      ]
     },
     "execution_count": 7,
     "metadata": {},
     "output_type": "execute_result"
    }
   ],
   "source": [
    "months = set()\n",
    "months.add(\"January\")\n",
    "months"
   ]
  },
  {
   "cell_type": "markdown",
   "metadata": {
    "slideshow": {
     "slide_type": "fragment"
    }
   },
   "source": [
    "It is worth memorizing the basic set methods for adding and removing items, including `add`, `update`, and `discard`"
   ]
  },
  {
   "cell_type": "code",
   "execution_count": 1,
   "metadata": {
    "slideshow": {
     "slide_type": "-"
    }
   },
   "outputs": [],
   "source": [
    "planets = {\"Mars\",\"Venus\", \"Mercury\"}\n",
    "more_planets = [\"Jupiter\",\"Neptune,\",\"Uranus\", \"Pluto\"]"
   ]
  },
  {
   "cell_type": "code",
   "execution_count": 3,
   "metadata": {},
   "outputs": [
    {
     "data": {
      "text/plain": [
       "{'Jupiter', 'Neptune,', 'Pluto', 'Uranus'}"
      ]
     },
     "execution_count": 3,
     "metadata": {},
     "output_type": "execute_result"
    }
   ],
   "source": [
    "more_planets_set = set(more_planets)\n",
    "more_planets_set"
   ]
  },
  {
   "cell_type": "code",
   "execution_count": 6,
   "metadata": {},
   "outputs": [
    {
     "data": {
      "text/plain": [
       "['Pluto', 'Neptune,', 'Jupiter', 'Uranus']"
      ]
     },
     "execution_count": 6,
     "metadata": {},
     "output_type": "execute_result"
    }
   ],
   "source": [
    "more_planets_list = list(more_planets_set)\n",
    "more_planets_list"
   ]
  },
  {
   "cell_type": "code",
   "execution_count": 7,
   "metadata": {},
   "outputs": [
    {
     "data": {
      "text/plain": [
       "{'Earth', 'Mars', 'Mercury', 'Venus'}"
      ]
     },
     "execution_count": 7,
     "metadata": {},
     "output_type": "execute_result"
    }
   ],
   "source": [
    "planets.add(\"Earth\")\n",
    "planets"
   ]
  },
  {
   "cell_type": "code",
   "execution_count": 11,
   "metadata": {},
   "outputs": [
    {
     "ename": "TypeError",
     "evalue": "unhashable type: 'set'",
     "output_type": "error",
     "traceback": [
      "\u001b[0;31m---------------------------------------------------------------------------\u001b[0m",
      "\u001b[0;31mTypeError\u001b[0m                                 Traceback (most recent call last)",
      "\u001b[0;32m/var/folders/n9/3r6hrp015t9d1n6m8l36t0yh0000gn/T/ipykernel_41913/39107934.py\u001b[0m in \u001b[0;36m<module>\u001b[0;34m\u001b[0m\n\u001b[0;32m----> 1\u001b[0;31m \u001b[0mplanets\u001b[0m\u001b[0;34m.\u001b[0m\u001b[0madd\u001b[0m\u001b[0;34m(\u001b[0m\u001b[0mmore_planets_set\u001b[0m\u001b[0;34m)\u001b[0m\u001b[0;34m\u001b[0m\u001b[0;34m\u001b[0m\u001b[0m\n\u001b[0m",
      "\u001b[0;31mTypeError\u001b[0m: unhashable type: 'set'"
     ]
    }
   ],
   "source": [
    "planets.add(more_planets_set)"
   ]
  },
  {
   "cell_type": "code",
   "execution_count": 10,
   "metadata": {},
   "outputs": [
    {
     "data": {
      "text/plain": [
       "{'Earth', 'Jupiter', 'Mars', 'Mercury', 'Neptune,', 'Pluto', 'Uranus', 'Venus'}"
      ]
     },
     "execution_count": 10,
     "metadata": {},
     "output_type": "execute_result"
    }
   ],
   "source": [
    "planets.update(more_planets)\n",
    "planets"
   ]
  },
  {
   "cell_type": "code",
   "execution_count": null,
   "metadata": {},
   "outputs": [],
   "source": []
  },
  {
   "cell_type": "code",
   "execution_count": 11,
   "metadata": {},
   "outputs": [
    {
     "data": {
      "text/plain": [
       "{'Earth', 'Jupiter', 'Mars', 'Mercury', 'Neptune,', 'Uranus', 'Venus'}"
      ]
     },
     "execution_count": 11,
     "metadata": {},
     "output_type": "execute_result"
    }
   ],
   "source": [
    "planets.discard(\"Pluto\")\n",
    "planets"
   ]
  },
  {
   "cell_type": "markdown",
   "metadata": {
    "slideshow": {
     "slide_type": "fragment"
    }
   },
   "source": [
    "Sets are great for quickly finding intersections using `&` and differences using `-`. These are WAY faster than alternatives involving looping. Let's find words only in both the Brown and Treebank, and words that appear in only one or the other"
   ]
  },
  {
   "cell_type": "code",
   "execution_count": 12,
   "metadata": {
    "slideshow": {
     "slide_type": "fragment"
    }
   },
   "outputs": [
    {
     "name": "stdout",
     "output_type": "stream",
     "text": [
      "brown vocab:  56057\n",
      "treebank vocab:  12408\n"
     ]
    }
   ],
   "source": [
    "from nltk.corpus import brown, treebank\n",
    "\n",
    "brown_vocab = set(brown.words())\n",
    "print('brown vocab: ', len(brown_vocab))\n",
    "treebank_vocab = set(treebank.words())\n",
    "print('treebank vocab: ', len(treebank_vocab))"
   ]
  },
  {
   "cell_type": "code",
   "execution_count": 14,
   "metadata": {},
   "outputs": [
    {
     "name": "stdout",
     "output_type": "stream",
     "text": [
      "1161192\n",
      "100676\n"
     ]
    }
   ],
   "source": [
    "print(len(brown.words()))\n",
    "print(len(treebank.words()))"
   ]
  },
  {
   "cell_type": "code",
   "execution_count": 13,
   "metadata": {},
   "outputs": [
    {
     "data": {
      "text/plain": [
       "47510"
      ]
     },
     "execution_count": 13,
     "metadata": {},
     "output_type": "execute_result"
    }
   ],
   "source": [
    "len(brown_vocab - treebank_vocab)"
   ]
  },
  {
   "cell_type": "code",
   "execution_count": 14,
   "metadata": {},
   "outputs": [
    {
     "data": {
      "text/plain": [
       "3861"
      ]
     },
     "execution_count": 14,
     "metadata": {},
     "output_type": "execute_result"
    }
   ],
   "source": [
    "len(treebank_vocab - brown_vocab)"
   ]
  },
  {
   "cell_type": "code",
   "execution_count": 15,
   "metadata": {},
   "outputs": [
    {
     "data": {
      "text/plain": [
       "8547"
      ]
     },
     "execution_count": 15,
     "metadata": {},
     "output_type": "execute_result"
    }
   ],
   "source": [
    "len(brown_vocab & treebank_vocab)"
   ]
  },
  {
   "cell_type": "code",
   "execution_count": 16,
   "metadata": {},
   "outputs": [
    {
     "data": {
      "text/plain": [
       "True"
      ]
     },
     "execution_count": 16,
     "metadata": {},
     "output_type": "execute_result"
    }
   ],
   "source": [
    "len(set(treebank.words())) == len(treebank_vocab - brown_vocab) + len(brown_vocab & treebank_vocab)"
   ]
  },
  {
   "cell_type": "markdown",
   "metadata": {
    "slideshow": {
     "slide_type": "fragment"
    }
   },
   "source": [
    "You might sometimes want to intersect a set with something that isn't a set (like a list, or even a string). If so, and it doesn't make sense to convert the other to a set, you can use set methods such as `intersection` instead of operators (which only work when both elements are sets)."
   ]
  },
  {
   "cell_type": "code",
   "execution_count": 17,
   "metadata": {},
   "outputs": [],
   "source": [
    "vowels = {'a','e','i','o','u','y'}\n",
    "word1 = \"rstln\"\n",
    "word2 = \"rstlne\""
   ]
  },
  {
   "cell_type": "code",
   "execution_count": 18,
   "metadata": {},
   "outputs": [
    {
     "data": {
      "text/plain": [
       "set()"
      ]
     },
     "execution_count": 18,
     "metadata": {},
     "output_type": "execute_result"
    }
   ],
   "source": [
    "vowels.intersection(word1)"
   ]
  },
  {
   "cell_type": "code",
   "execution_count": 19,
   "metadata": {},
   "outputs": [
    {
     "data": {
      "text/plain": [
       "{'e'}"
      ]
     },
     "execution_count": 19,
     "metadata": {},
     "output_type": "execute_result"
    }
   ],
   "source": [
    "vowels.intersection(word2)"
   ]
  },
  {
   "cell_type": "code",
   "execution_count": 20,
   "metadata": {},
   "outputs": [
    {
     "ename": "TypeError",
     "evalue": "unsupported operand type(s) for &: 'set' and 'str'",
     "output_type": "error",
     "traceback": [
      "\u001b[0;31m---------------------------------------------------------------------------\u001b[0m",
      "\u001b[0;31mTypeError\u001b[0m                                 Traceback (most recent call last)",
      "\u001b[0;32m/var/folders/n9/3r6hrp015t9d1n6m8l36t0yh0000gn/T/ipykernel_37556/343403993.py\u001b[0m in \u001b[0;36m<module>\u001b[0;34m\u001b[0m\n\u001b[0;32m----> 1\u001b[0;31m \u001b[0mvowels\u001b[0m \u001b[0;34m&\u001b[0m \u001b[0mword1\u001b[0m\u001b[0;34m\u001b[0m\u001b[0;34m\u001b[0m\u001b[0m\n\u001b[0m",
      "\u001b[0;31mTypeError\u001b[0m: unsupported operand type(s) for &: 'set' and 'str'"
     ]
    }
   ],
   "source": [
    "vowels & word1"
   ]
  },
  {
   "cell_type": "code",
   "execution_count": 22,
   "metadata": {},
   "outputs": [
    {
     "data": {
      "text/plain": [
       "set()"
      ]
     },
     "execution_count": 22,
     "metadata": {},
     "output_type": "execute_result"
    }
   ],
   "source": [
    "word1_set = set(word1)\n",
    "vowels & word1_set"
   ]
  },
  {
   "cell_type": "markdown",
   "metadata": {
    "slideshow": {
     "slide_type": "fragment"
    }
   },
   "source": [
    "Some set drawbacks:\n",
    "\n",
    "* No order, no guarantee that order will be perserved when the set changes\n",
    "* Can't add mutuable objects like lists and dicts (use tuples!)"
   ]
  },
  {
   "cell_type": "code",
   "execution_count": 23,
   "metadata": {
    "slideshow": {
     "slide_type": "fragment"
    }
   },
   "outputs": [
    {
     "data": {
      "text/plain": [
       "['Jan', 'Feb', 'Mar']"
      ]
     },
     "execution_count": 23,
     "metadata": {},
     "output_type": "execute_result"
    }
   ],
   "source": [
    "months = [\"Feb\", \"Jan\", \"Mar\"]\n",
    "list(set(months))"
   ]
  },
  {
   "cell_type": "code",
   "execution_count": 15,
   "metadata": {},
   "outputs": [
    {
     "data": {
      "text/plain": [
       "['Jan', 'Feb', 'Mar']"
      ]
     },
     "execution_count": 15,
     "metadata": {},
     "output_type": "execute_result"
    }
   ],
   "source": [
    "months = [\"Feb\", \"Jan\", \"Mar\"]\n",
    "list(set(months))"
   ]
  },
  {
   "cell_type": "markdown",
   "metadata": {
    "slideshow": {
     "slide_type": "slide"
    }
   },
   "source": [
    "## Simple dictionary lexicons"
   ]
  },
  {
   "cell_type": "markdown",
   "metadata": {
    "slideshow": {
     "slide_type": "subslide"
    }
   },
   "source": [
    "Most common lexical need in computational linguistics: word counts\n",
    "\n",
    "Easy way to build a dictionary of counts when you've got a list (or other iterable) of words: [Counters](https://docs.python.org/3/library/collections.html#collections.Counter)"
   ]
  },
  {
   "cell_type": "code",
   "execution_count": 18,
   "metadata": {
    "slideshow": {
     "slide_type": "-"
    }
   },
   "outputs": [],
   "source": [
    "from collections import Counter\n",
    "\n",
    "counts_brown = Counter(brown.words())"
   ]
  },
  {
   "cell_type": "code",
   "execution_count": 19,
   "metadata": {},
   "outputs": [
    {
     "data": {
      "text/plain": [
       "62713"
      ]
     },
     "execution_count": 19,
     "metadata": {},
     "output_type": "execute_result"
    }
   ],
   "source": [
    "counts_brown[\"the\"]"
   ]
  },
  {
   "cell_type": "code",
   "execution_count": 20,
   "metadata": {},
   "outputs": [
    {
     "data": {
      "text/plain": [
       "69971"
      ]
     },
     "execution_count": 20,
     "metadata": {},
     "output_type": "execute_result"
    }
   ],
   "source": [
    "counts_brown_lower = Counter(word.lower() for word in brown.words())\n",
    "counts_brown_lower[\"the\"]"
   ]
  },
  {
   "cell_type": "markdown",
   "metadata": {},
   "source": [
    "You can `update` counters to add more items"
   ]
  },
  {
   "cell_type": "code",
   "execution_count": 27,
   "metadata": {},
   "outputs": [
    {
     "data": {
      "text/plain": [
       "4045"
      ]
     },
     "execution_count": 27,
     "metadata": {},
     "output_type": "execute_result"
    }
   ],
   "source": [
    "counts_treebank =  Counter(treebank.words())\n",
    "counts_treebank[\"the\"]"
   ]
  },
  {
   "cell_type": "code",
   "execution_count": 28,
   "metadata": {},
   "outputs": [
    {
     "data": {
      "text/plain": [
       "66758"
      ]
     },
     "execution_count": 28,
     "metadata": {},
     "output_type": "execute_result"
    }
   ],
   "source": [
    "counts = Counter(brown.words())\n",
    "counts.update(treebank.words())\n",
    "counts[\"the\"]"
   ]
  },
  {
   "cell_type": "code",
   "execution_count": 29,
   "metadata": {},
   "outputs": [
    {
     "data": {
      "text/plain": [
       "66758"
      ]
     },
     "execution_count": 29,
     "metadata": {},
     "output_type": "execute_result"
    }
   ],
   "source": [
    "counts_brown[\"the\"] + counts_treebank[\"the\"] "
   ]
  },
  {
   "cell_type": "markdown",
   "metadata": {
    "slideshow": {
     "slide_type": "fragment"
    }
   },
   "source": [
    "But sometimes not practical because what you are counting isn't an iterable or you want to do some operation before counting. A normal Python dict is fine, but each value needs to be initialized to zero. One solution: the [get](https://docs.python.org/3/library/stdtypes.html#dict.get) method."
   ]
  },
  {
   "cell_type": "code",
   "execution_count": 30,
   "metadata": {
    "slideshow": {
     "slide_type": "-"
    }
   },
   "outputs": [
    {
     "data": {
      "text/plain": [
       "69971"
      ]
     },
     "execution_count": 30,
     "metadata": {},
     "output_type": "execute_result"
    }
   ],
   "source": [
    "counts = {}\n",
    "for word in brown.words():\n",
    "    word = word.lower()\n",
    "    #if word not in counts:\n",
    "    #    counts[word] = 0\n",
    "    counts[word] = counts.get(word, 0) + 1\n",
    "    \n",
    "counts[\"the\"]"
   ]
  },
  {
   "cell_type": "markdown",
   "metadata": {
    "slideshow": {
     "slide_type": "fragment"
    }
   },
   "source": [
    "**A quick exercise**: let's count the first words of sentences in the Brown corpus using `get`"
   ]
  },
  {
   "cell_type": "code",
   "execution_count": 31,
   "metadata": {
    "slideshow": {
     "slide_type": "-"
    }
   },
   "outputs": [
    {
     "name": "stdout",
     "output_type": "stream",
     "text": [
      "789\n"
     ]
    }
   ],
   "source": [
    "first_word_count = {}\n",
    "for sent in brown.sents():\n",
    "    # counts[word] = counts.get(word, 0) + 1\n",
    "    first_word_count[sent[0]] = first_word_count.get(sent[0], 0) + 1\n",
    "    \n",
    "print(first_word_count[\"And\"])"
   ]
  },
  {
   "cell_type": "markdown",
   "metadata": {},
   "source": [
    "Yet another solution to the initialization problem for counting (and other situations) is the [defaultdict](https://docs.python.org/3/library/collections.html#collections.defaultdict). When you initialize a defaultdict for integers, the default value is zero, no need to do anything but add! Defaultdicts also work for lists, sets, and dicts (creating an empty instance as soon as you try to access it)."
   ]
  },
  {
   "cell_type": "code",
   "execution_count": 22,
   "metadata": {},
   "outputs": [
    {
     "name": "stdout",
     "output_type": "stream",
     "text": [
      "69971\n"
     ]
    }
   ],
   "source": [
    "from collections import defaultdict\n",
    "from nltk.corpus import brown\n",
    "\n",
    "counts = defaultdict(int)\n",
    "\n",
    "for word in brown.words():\n",
    "    word = word.lower()    \n",
    "    # counts[word] = counts.get(word, 0) + 1\n",
    "    counts[word] += 1\n",
    "    \n",
    "print(counts[\"the\"])"
   ]
  },
  {
   "cell_type": "code",
   "execution_count": 23,
   "metadata": {},
   "outputs": [
    {
     "data": {
      "text/plain": [
       "defaultdict(int,\n",
       "            {'the': 69971,\n",
       "             'fulton': 17,\n",
       "             'county': 155,\n",
       "             'grand': 48,\n",
       "             'jury': 67,\n",
       "             'said': 1961,\n",
       "             'friday': 60,\n",
       "             'an': 3740,\n",
       "             'investigation': 51,\n",
       "             'of': 36412,\n",
       "             \"atlanta's\": 4,\n",
       "             'recent': 179,\n",
       "             'primary': 96,\n",
       "             'election': 77,\n",
       "             'produced': 90,\n",
       "             '``': 8837,\n",
       "             'no': 2139,\n",
       "             'evidence': 204,\n",
       "             \"''\": 8789,\n",
       "             'that': 10594,\n",
       "             'any': 1344,\n",
       "             'irregularities': 8,\n",
       "             'took': 426,\n",
       "             'place': 570,\n",
       "             '.': 49346,\n",
       "             'further': 218,\n",
       "             'in': 21337,\n",
       "             'term-end': 1,\n",
       "             'presentments': 1,\n",
       "             'city': 393,\n",
       "             'executive': 55,\n",
       "             'committee': 168,\n",
       "             ',': 58334,\n",
       "             'which': 3561,\n",
       "             'had': 5133,\n",
       "             'over-all': 35,\n",
       "             'charge': 122,\n",
       "             'deserves': 16,\n",
       "             'praise': 17,\n",
       "             'and': 28853,\n",
       "             'thanks': 37,\n",
       "             'atlanta': 35,\n",
       "             'for': 9489,\n",
       "             'manner': 124,\n",
       "             'was': 9815,\n",
       "             'conducted': 55,\n",
       "             'september-october': 1,\n",
       "             'term': 79,\n",
       "             'been': 2472,\n",
       "             'charged': 57,\n",
       "             'by': 5306,\n",
       "             'superior': 46,\n",
       "             'court': 230,\n",
       "             'judge': 77,\n",
       "             'durwood': 1,\n",
       "             'pye': 1,\n",
       "             'to': 26158,\n",
       "             'investigate': 11,\n",
       "             'reports': 84,\n",
       "             'possible': 374,\n",
       "             'hard-fought': 2,\n",
       "             'won': 68,\n",
       "             'mayor-nominate': 1,\n",
       "             'ivan': 4,\n",
       "             'allen': 20,\n",
       "             'jr.': 75,\n",
       "             'only': 1748,\n",
       "             'a': 23195,\n",
       "             'relative': 46,\n",
       "             'handful': 13,\n",
       "             'such': 1303,\n",
       "             'received': 163,\n",
       "             'considering': 47,\n",
       "             'widespread': 30,\n",
       "             'interest': 330,\n",
       "             'number': 472,\n",
       "             'voters': 20,\n",
       "             'size': 138,\n",
       "             'this': 5145,\n",
       "             'it': 8760,\n",
       "             'did': 1044,\n",
       "             'find': 400,\n",
       "             'many': 1030,\n",
       "             \"georgia's\": 9,\n",
       "             'registration': 23,\n",
       "             'laws': 88,\n",
       "             'are': 4394,\n",
       "             'outmoded': 4,\n",
       "             'or': 4206,\n",
       "             'inadequate': 32,\n",
       "             'often': 369,\n",
       "             'ambiguous': 22,\n",
       "             'recommended': 46,\n",
       "             'legislators': 20,\n",
       "             'act': 283,\n",
       "             'have': 3942,\n",
       "             'these': 1573,\n",
       "             'studied': 79,\n",
       "             'revised': 16,\n",
       "             'end': 409,\n",
       "             'modernizing': 4,\n",
       "             'improving': 16,\n",
       "             'them': 1788,\n",
       "             'commented': 18,\n",
       "             'on': 6741,\n",
       "             'other': 1702,\n",
       "             'topics': 10,\n",
       "             'among': 370,\n",
       "             'purchasing': 17,\n",
       "             'departments': 25,\n",
       "             'well': 897,\n",
       "             'operated': 27,\n",
       "             'follow': 97,\n",
       "             'generally': 132,\n",
       "             'accepted': 96,\n",
       "             'practices': 53,\n",
       "             'inure': 2,\n",
       "             'best': 351,\n",
       "             'both': 730,\n",
       "             'governments': 61,\n",
       "             'merger': 21,\n",
       "             'proposed': 84,\n",
       "             'however': 552,\n",
       "             'believes': 43,\n",
       "             'two': 1412,\n",
       "             'offices': 45,\n",
       "             'should': 888,\n",
       "             'be': 6377,\n",
       "             'combined': 40,\n",
       "             'achieve': 51,\n",
       "             'greater': 188,\n",
       "             'efficiency': 50,\n",
       "             'reduce': 62,\n",
       "             'cost': 229,\n",
       "             'administration': 161,\n",
       "             'department': 225,\n",
       "             'is': 10109,\n",
       "             'lacking': 32,\n",
       "             'experienced': 53,\n",
       "             'clerical': 9,\n",
       "             'personnel': 75,\n",
       "             'as': 7253,\n",
       "             'result': 244,\n",
       "             'policies': 68,\n",
       "             'urged': 35,\n",
       "             'take': 610,\n",
       "             'steps': 119,\n",
       "             'remedy': 13,\n",
       "             'problem': 313,\n",
       "             'implementation': 8,\n",
       "             'automobile': 50,\n",
       "             'title': 77,\n",
       "             'law': 299,\n",
       "             'also': 1069,\n",
       "             'outgoing': 8,\n",
       "             'next': 394,\n",
       "             'legislature': 39,\n",
       "             'provide': 216,\n",
       "             'enabling': 13,\n",
       "             'funds': 95,\n",
       "             're-set': 1,\n",
       "             'effective': 129,\n",
       "             'date': 103,\n",
       "             'so': 1985,\n",
       "             'orderly': 20,\n",
       "             'may': 1402,\n",
       "             'effected': 12,\n",
       "             'swipe': 2,\n",
       "             'at': 5372,\n",
       "             'state': 807,\n",
       "             'welfare': 53,\n",
       "             \"department's\": 17,\n",
       "             'handling': 38,\n",
       "             'federal': 246,\n",
       "             'granted': 56,\n",
       "             'child': 213,\n",
       "             'services': 139,\n",
       "             'foster': 15,\n",
       "             'homes': 62,\n",
       "             'one': 3292,\n",
       "             'major': 247,\n",
       "             'items': 72,\n",
       "             'general': 498,\n",
       "             'assistance': 87,\n",
       "             'program': 394,\n",
       "             'but': 4381,\n",
       "             'has': 2437,\n",
       "             'seen': 279,\n",
       "             'fit': 75,\n",
       "             'distribute': 6,\n",
       "             'through': 971,\n",
       "             'all': 3001,\n",
       "             'counties': 35,\n",
       "             'with': 7289,\n",
       "             'exception': 40,\n",
       "             'receives': 20,\n",
       "             'none': 108,\n",
       "             'money': 265,\n",
       "             'jurors': 4,\n",
       "             'they': 3620,\n",
       "             'realize': 69,\n",
       "             'proportionate': 9,\n",
       "             'distribution': 85,\n",
       "             'might': 672,\n",
       "             'disable': 1,\n",
       "             'our': 1252,\n",
       "             'less': 437,\n",
       "             'populous': 5,\n",
       "             'nevertheless': 73,\n",
       "             'we': 2652,\n",
       "             'feel': 216,\n",
       "             'future': 227,\n",
       "             'receive': 76,\n",
       "             'some': 1618,\n",
       "             'portion': 62,\n",
       "             'available': 245,\n",
       "             'failure': 89,\n",
       "             'do': 1363,\n",
       "             'will': 2245,\n",
       "             'continue': 107,\n",
       "             'disproportionate': 2,\n",
       "             'burden': 44,\n",
       "             'taxpayers': 21,\n",
       "             \"ordinary's\": 1,\n",
       "             'under': 707,\n",
       "             'fire': 187,\n",
       "             'its': 1858,\n",
       "             'appointment': 28,\n",
       "             'appraisers': 1,\n",
       "             'guardians': 4,\n",
       "             'administrators': 5,\n",
       "             'awarding': 3,\n",
       "             'fees': 29,\n",
       "             'compensation': 17,\n",
       "             'wards': 3,\n",
       "             'protected': 31,\n",
       "             'found': 536,\n",
       "             'incorporated': 13,\n",
       "             'into': 1791,\n",
       "             'operating': 87,\n",
       "             'procedures': 61,\n",
       "             'recommendations': 22,\n",
       "             'previous': 86,\n",
       "             'juries': 1,\n",
       "             'bar': 82,\n",
       "             'association': 132,\n",
       "             'interim': 11,\n",
       "             'citizens': 86,\n",
       "             'actions': 68,\n",
       "             'serve': 107,\n",
       "             'protect': 34,\n",
       "             'fact': 447,\n",
       "             'effect': 213,\n",
       "             \"court's\": 8,\n",
       "             'from': 4370,\n",
       "             'undue': 13,\n",
       "             'costs': 176,\n",
       "             'appointed': 42,\n",
       "             'elected': 33,\n",
       "             'servants': 22,\n",
       "             'unmeritorious': 1,\n",
       "             'criticisms': 11,\n",
       "             'regarding': 40,\n",
       "             'new': 1635,\n",
       "             'multi-million-dollar': 2,\n",
       "             'airport': 19,\n",
       "             'when': 2331,\n",
       "             'management': 91,\n",
       "             'takes': 86,\n",
       "             'jan.': 20,\n",
       "             '1': 527,\n",
       "             'eliminate': 26,\n",
       "             'political': 258,\n",
       "             'influences': 14,\n",
       "             'not': 4610,\n",
       "             'elaborate': 32,\n",
       "             'added': 172,\n",
       "             'there': 2728,\n",
       "             'periodic': 9,\n",
       "             'surveillance': 6,\n",
       "             'pricing': 7,\n",
       "             'concessionaires': 7,\n",
       "             'purpose': 149,\n",
       "             'keeping': 60,\n",
       "             'prices': 61,\n",
       "             'reasonable': 64,\n",
       "             'ask': 128,\n",
       "             'jail': 21,\n",
       "             'deputies': 13,\n",
       "             'matters': 64,\n",
       "             ':': 1795,\n",
       "             '(': 2435,\n",
       "             ')': 2466,\n",
       "             'four': 360,\n",
       "             'additional': 120,\n",
       "             'employed': 49,\n",
       "             'doctor': 100,\n",
       "             'medical': 162,\n",
       "             'intern': 2,\n",
       "             'extern': 1,\n",
       "             'night': 411,\n",
       "             'weekend': 27,\n",
       "             'duty': 61,\n",
       "             '2': 446,\n",
       "             'work': 762,\n",
       "             'officials': 62,\n",
       "             'pass': 89,\n",
       "             'legislation': 46,\n",
       "             'permit': 77,\n",
       "             'establishment': 52,\n",
       "             'fair': 78,\n",
       "             'equitable': 11,\n",
       "             'pension': 13,\n",
       "             'plan': 205,\n",
       "             'employes': 17,\n",
       "             'praised': 13,\n",
       "             'operation': 113,\n",
       "             'police': 155,\n",
       "             'tax': 201,\n",
       "             \"commissioner's\": 1,\n",
       "             'office': 255,\n",
       "             'bellwood': 1,\n",
       "             'alpharetta': 1,\n",
       "             'prison': 42,\n",
       "             'farms': 16,\n",
       "             'grady': 5,\n",
       "             'hospital': 110,\n",
       "             'health': 105,\n",
       "             'mayor': 38,\n",
       "             'william': 148,\n",
       "             'b.': 76,\n",
       "             'hartsfield': 5,\n",
       "             'filed': 33,\n",
       "             'suit': 48,\n",
       "             'divorce': 29,\n",
       "             'his': 6996,\n",
       "             'wife': 228,\n",
       "             'pearl': 9,\n",
       "             'williams': 32,\n",
       "             'petition': 15,\n",
       "             'mental': 43,\n",
       "             'cruelty': 13,\n",
       "             'couple': 122,\n",
       "             'married': 105,\n",
       "             'aug.': 25,\n",
       "             '1913': 12,\n",
       "             'son': 165,\n",
       "             'berry': 9,\n",
       "             'daughter': 72,\n",
       "             'mrs.': 534,\n",
       "             'j.': 120,\n",
       "             'm.': 62,\n",
       "             'cheshire': 1,\n",
       "             'griffin': 4,\n",
       "             'attorneys': 9,\n",
       "             'amicable': 1,\n",
       "             'property': 156,\n",
       "             'settlement': 26,\n",
       "             'agreed': 81,\n",
       "             'upon': 495,\n",
       "             'listed': 44,\n",
       "             \"mayor's\": 9,\n",
       "             'occupation': 24,\n",
       "             'attorney': 65,\n",
       "             'age': 227,\n",
       "             '71': 10,\n",
       "             \"wife's\": 15,\n",
       "             '74': 6,\n",
       "             'birth': 66,\n",
       "             'opelika': 2,\n",
       "             'ala.': 7,\n",
       "             'lived': 115,\n",
       "             'together': 267,\n",
       "             'man': 1207,\n",
       "             'more': 2215,\n",
       "             'than': 1790,\n",
       "             'year': 658,\n",
       "             'home': 547,\n",
       "             '637': 1,\n",
       "             'e.': 86,\n",
       "             'pelham': 5,\n",
       "             'rd.': 3,\n",
       "             'aj': 118,\n",
       "             'henry': 83,\n",
       "             'l.': 56,\n",
       "             'bowden': 2,\n",
       "             'brief': 73,\n",
       "             'interlude': 5,\n",
       "             'since': 628,\n",
       "             '1937': 10,\n",
       "             'career': 67,\n",
       "             'goes': 89,\n",
       "             'back': 966,\n",
       "             'council': 103,\n",
       "             '1923': 7,\n",
       "             'present': 377,\n",
       "             'expires': 1,\n",
       "             'he': 9548,\n",
       "             'succeeded': 33,\n",
       "             'who': 2252,\n",
       "             'became': 246,\n",
       "             'candidate': 34,\n",
       "             'sept.': 34,\n",
       "             '13': 49,\n",
       "             'after': 1069,\n",
       "             'announced': 88,\n",
       "             'would': 2714,\n",
       "             'run': 212,\n",
       "             'reelection': 2,\n",
       "             'georgia': 46,\n",
       "             'republicans': 29,\n",
       "             'getting': 164,\n",
       "             'strong': 202,\n",
       "             'encouragement': 14,\n",
       "             'enter': 78,\n",
       "             '1962': 35,\n",
       "             \"governor's\": 14,\n",
       "             'race': 103,\n",
       "             'top': 204,\n",
       "             'official': 75,\n",
       "             'wednesday': 35,\n",
       "             'robert': 83,\n",
       "             'snodgrass': 2,\n",
       "             'gop': 13,\n",
       "             'chairman': 67,\n",
       "             'meeting': 159,\n",
       "             'held': 264,\n",
       "             'tuesday': 58,\n",
       "             'blue': 143,\n",
       "             'ridge': 18,\n",
       "             'brought': 253,\n",
       "             'enthusiastic': 24,\n",
       "             'responses': 28,\n",
       "             'audience': 115,\n",
       "             'party': 216,\n",
       "             'james': 101,\n",
       "             'w.': 84,\n",
       "             'dorsey': 1,\n",
       "             'enthusiasm': 28,\n",
       "             'picking': 14,\n",
       "             'up': 1890,\n",
       "             'rally': 10,\n",
       "             '8': 106,\n",
       "             'savannah': 9,\n",
       "             'newly': 28,\n",
       "             'texas': 69,\n",
       "             'sen.': 30,\n",
       "             'john': 362,\n",
       "             'tower': 13,\n",
       "             'featured': 8,\n",
       "             'speaker': 49,\n",
       "             'warned': 22,\n",
       "             'entering': 24,\n",
       "             'governor': 83,\n",
       "             'force': 230,\n",
       "             'petitions': 8,\n",
       "             'out': 2097,\n",
       "             'voting': 30,\n",
       "             'precincts': 5,\n",
       "             'obtain': 42,\n",
       "             'signatures': 5,\n",
       "             'registered': 23,\n",
       "             'despite': 104,\n",
       "             'warning': 44,\n",
       "             'unanimous': 5,\n",
       "             'vote': 75,\n",
       "             'according': 140,\n",
       "             'attended': 36,\n",
       "             'crowd': 53,\n",
       "             'asked': 398,\n",
       "             'whether': 286,\n",
       "             'wanted': 226,\n",
       "             'wait': 94,\n",
       "             'make': 794,\n",
       "             'voted': 27,\n",
       "             '--': 3432,\n",
       "             'were': 3284,\n",
       "             'dissents': 2,\n",
       "             'largest': 53,\n",
       "             'hurdle': 3,\n",
       "             'face': 371,\n",
       "             'says': 200,\n",
       "             'before': 1016,\n",
       "             'making': 255,\n",
       "             'first': 1361,\n",
       "             'alternative': 34,\n",
       "             'courses': 61,\n",
       "             'must': 1013,\n",
       "             'taken': 281,\n",
       "             'five': 286,\n",
       "             'per': 371,\n",
       "             'cent': 155,\n",
       "             'each': 877,\n",
       "             'sign': 94,\n",
       "             'requesting': 8,\n",
       "             'allowed': 86,\n",
       "             'names': 89,\n",
       "             'candidates': 38,\n",
       "             'ballot': 12,\n",
       "             'hold': 169,\n",
       "             'unit': 103,\n",
       "             'system': 416,\n",
       "             'opposes': 2,\n",
       "             'platform': 72,\n",
       "             'sam': 79,\n",
       "             'caldwell': 3,\n",
       "             'highway': 40,\n",
       "             'public': 438,\n",
       "             'relations': 102,\n",
       "             'director': 101,\n",
       "             'resigned': 9,\n",
       "             'lt.': 8,\n",
       "             'gov.': 19,\n",
       "             'garland': 9,\n",
       "             \"byrd's\": 3,\n",
       "             'campaign': 81,\n",
       "             \"caldwell's\": 2,\n",
       "             'resignation': 7,\n",
       "             'expected': 187,\n",
       "             'time': 1598,\n",
       "             'rob': 19,\n",
       "             'ledford': 1,\n",
       "             'gainesville': 1,\n",
       "             'assistant': 36,\n",
       "             'three': 610,\n",
       "             'years': 950,\n",
       "             'gubernatorial': 7,\n",
       "             'starts': 31,\n",
       "             'become': 359,\n",
       "             'coordinator': 5,\n",
       "             'byrd': 9,\n",
       "             'wind': 63,\n",
       "             '1961': 134,\n",
       "             'session': 80,\n",
       "             'monday': 68,\n",
       "             'head': 424,\n",
       "             'where': 937,\n",
       "             'bond': 46,\n",
       "             'approved': 40,\n",
       "             'shortly': 34,\n",
       "             'adjournment': 4,\n",
       "             'afternoon': 106,\n",
       "             'senate': 62,\n",
       "             'approve': 14,\n",
       "             'study': 246,\n",
       "             'allotted': 10,\n",
       "             'rural': 54,\n",
       "             'urban': 42,\n",
       "             'areas': 236,\n",
       "             'determine': 107,\n",
       "             'what': 1908,\n",
       "             'adjustments': 20,\n",
       "             'made': 1125,\n",
       "             'vandiver': 6,\n",
       "             'traditional': 78,\n",
       "             'visit': 109,\n",
       "             'chambers': 11,\n",
       "             'toward': 386,\n",
       "             'likely': 151,\n",
       "             'mention': 50,\n",
       "             '$100': 12,\n",
       "             'million': 204,\n",
       "             'issue': 152,\n",
       "             'earlier': 146,\n",
       "             'priority': 18,\n",
       "             'item': 55,\n",
       "             'construction': 95,\n",
       "             'bonds': 47,\n",
       "             'meanwhile': 35,\n",
       "             'learned': 117,\n",
       "             'very': 796,\n",
       "             'near': 198,\n",
       "             'being': 712,\n",
       "             'ready': 143,\n",
       "             '$30': 2,\n",
       "             'worth': 94,\n",
       "             'reconstruction': 11,\n",
       "             'go': 626,\n",
       "             'courts': 50,\n",
       "             'friendly': 61,\n",
       "             'test': 119,\n",
       "             'validity': 15,\n",
       "             'then': 1380,\n",
       "             'sales': 133,\n",
       "             'begin': 84,\n",
       "             'contracts': 24,\n",
       "             'let': 384,\n",
       "             'repair': 20,\n",
       "             'most': 1159,\n",
       "             'heavily': 60,\n",
       "             'traveled': 22,\n",
       "             'highways': 16,\n",
       "             'source': 94,\n",
       "             '$3': 3,\n",
       "             '$4': 5,\n",
       "             'roads': 58,\n",
       "             'authority': 93,\n",
       "             'road': 197,\n",
       "             'revolving': 6,\n",
       "             'fund': 62,\n",
       "             'apparently': 125,\n",
       "             'intends': 6,\n",
       "             'issued': 50,\n",
       "             'every': 491,\n",
       "             'old': 661,\n",
       "             'ones': 116,\n",
       "             'paid': 145,\n",
       "             'off': 639,\n",
       "             'authorities': 39,\n",
       "             'opened': 131,\n",
       "             '1958': 91,\n",
       "             'battle': 87,\n",
       "             'against': 627,\n",
       "             'issuance': 7,\n",
       "             '$50': 7,\n",
       "             'marvin': 9,\n",
       "             'told': 413,\n",
       "             'constitution': 49,\n",
       "             'consulted': 17,\n",
       "             'yet': 419,\n",
       "             'about': 1815,\n",
       "             'plans': 113,\n",
       "             'schley': 1,\n",
       "             'rep.': 13,\n",
       "             'd.': 65,\n",
       "             'offer': 80,\n",
       "             'resolution': 64,\n",
       "             'house': 591,\n",
       "             'rescind': 2,\n",
       "             \"body's\": 3,\n",
       "             'action': 291,\n",
       "             'itself': 304,\n",
       "             '$10': 7,\n",
       "             'day': 687,\n",
       "             'increase': 195,\n",
       "             'expense': 50,\n",
       "             'allowances': 25,\n",
       "             'sunday': 101,\n",
       "             'research': 171,\n",
       "             'done': 319,\n",
       "             'quickie': 2,\n",
       "             'can': 1772,\n",
       "             'repealed': 3,\n",
       "             'outright': 9,\n",
       "             'notice': 59,\n",
       "             'given': 377,\n",
       "             'reconsideration': 4,\n",
       "             'sought': 55,\n",
       "             'while': 680,\n",
       "             'emphasizing': 4,\n",
       "             'technical': 120,\n",
       "             'details': 57,\n",
       "             'fully': 80,\n",
       "             'worked': 128,\n",
       "             'seek': 69,\n",
       "             'set': 414,\n",
       "             'aside': 67,\n",
       "             'privilege': 18,\n",
       "             '87-31': 1,\n",
       "             'similar': 157,\n",
       "             'passed': 157,\n",
       "             '29-5': 1,\n",
       "             'word': 274,\n",
       "             'offered': 83,\n",
       "             'pointed': 74,\n",
       "             'last': 676,\n",
       "             'november': 74,\n",
       "             'rejected': 33,\n",
       "             'constitutional': 25,\n",
       "             'amendment': 23,\n",
       "             'allow': 72,\n",
       "             'pay': 172,\n",
       "             'raises': 16,\n",
       "             'sessions': 26,\n",
       "             'veteran': 27,\n",
       "             'jackson': 36,\n",
       "             'legislator': 7,\n",
       "             'aid': 134,\n",
       "             'education': 214,\n",
       "             'something': 450,\n",
       "             'consistently': 19,\n",
       "             'opposed': 41,\n",
       "             'past': 281,\n",
       "             'mac': 1,\n",
       "             'barber': 8,\n",
       "             'commerce': 58,\n",
       "             'asking': 67,\n",
       "             'endorse': 6,\n",
       "             'increased': 146,\n",
       "             'support': 180,\n",
       "             'provided': 132,\n",
       "             'expended': 12,\n",
       "             '13th': 6,\n",
       "             'members': 325,\n",
       "             'congressional': 22,\n",
       "             'delegation': 11,\n",
       "             'washington': 206,\n",
       "             'like': 1292,\n",
       "             'see': 772,\n",
       "             'congressmen': 10,\n",
       "             'specifically': 38,\n",
       "             'him': 2619,\n",
       "             'tossed': 31,\n",
       "             'hopper': 2,\n",
       "             'formally': 18,\n",
       "             'read': 174,\n",
       "             'event': 81,\n",
       "             'congress': 152,\n",
       "             'does': 485,\n",
       "             'board': 239,\n",
       "             'directed': 68,\n",
       "             'give': 389,\n",
       "             'teacher': 80,\n",
       "             'colquitt': 2,\n",
       "             'long': 752,\n",
       "             'hot': 130,\n",
       "             'controversy': 26,\n",
       "             'miller': 22,\n",
       "             'school': 493,\n",
       "             'superintendent': 17,\n",
       "             'policeman': 19,\n",
       "             'put': 437,\n",
       "             'coolest': 4,\n",
       "             'i': 5164,\n",
       "             'ever': 344,\n",
       "             'saw': 352,\n",
       "             'harry': 35,\n",
       "             'davis': 27,\n",
       "             'agriculture': 23,\n",
       "             'defeated': 15,\n",
       "             'felix': 30,\n",
       "             'bush': 14,\n",
       "             'principal': 92,\n",
       "             'democratic': 109,\n",
       "             '1,119': 1,\n",
       "             'votes': 20,\n",
       "             \"saturday's\": 3,\n",
       "             'got': 482,\n",
       "             '402': 1,\n",
       "             'ordinary': 72,\n",
       "             'carey': 5,\n",
       "             'armed': 60,\n",
       "             'pistol': 27,\n",
       "             'stood': 212,\n",
       "             'polls': 10,\n",
       "             'insure': 24,\n",
       "             'order': 376,\n",
       "             'calmest': 1,\n",
       "             'tom': 63,\n",
       "             'just': 872,\n",
       "             'church': 348,\n",
       "             \"didn't\": 401,\n",
       "             'smell': 34,\n",
       "             'drop': 59,\n",
       "             'liquor': 43,\n",
       "             'bit': 101,\n",
       "             'trouble': 134,\n",
       "             'leading': 68,\n",
       "             'quiet': 76,\n",
       "             'marked': 85,\n",
       "             'anonymous': 17,\n",
       "             'midnight': 23,\n",
       "             'phone': 54,\n",
       "             'calls': 70,\n",
       "             'veiled': 6,\n",
       "             'threats': 14,\n",
       "             'violence': 46,\n",
       "             'former': 131,\n",
       "             'george': 129,\n",
       "             'p.': 58,\n",
       "             'callan': 1,\n",
       "             'shot': 113,\n",
       "             'himself': 603,\n",
       "             'death': 277,\n",
       "             'march': 121,\n",
       "             '18': 55,\n",
       "             'days': 384,\n",
       "             'post': 85,\n",
       "             'dispute': 34,\n",
       "             'during': 585,\n",
       "             'reportedly': 9,\n",
       "             'telephone': 76,\n",
       "             'too': 834,\n",
       "             'subjected': 24,\n",
       "             'soon': 199,\n",
       "             'scheduled': 38,\n",
       "             'local': 288,\n",
       "             'feared': 14,\n",
       "             'carry': 88,\n",
       "             'gun': 118,\n",
       "             'promised': 45,\n",
       "             'sheriff': 20,\n",
       "             'tabb': 1,\n",
       "             'good': 806,\n",
       "             'promise': 45,\n",
       "             'everything': 185,\n",
       "             'went': 507,\n",
       "             'real': 258,\n",
       "             'smooth': 42,\n",
       "             \"wasn't\": 154,\n",
       "             'austin': 18,\n",
       "             'approval': 51,\n",
       "             'price': 108,\n",
       "             \"daniel's\": 1,\n",
       "             'abandoned': 25,\n",
       "             'seemed': 333,\n",
       "             'certain': 313,\n",
       "             'thursday': 33,\n",
       "             'adamant': 5,\n",
       "             'protests': 11,\n",
       "             'bankers': 15,\n",
       "             'daniel': 14,\n",
       "             'personally': 40,\n",
       "             'led': 132,\n",
       "             'fight': 98,\n",
       "             'measure': 91,\n",
       "             'watered': 7,\n",
       "             'down': 895,\n",
       "             'considerably': 44,\n",
       "             'rejection': 11,\n",
       "             'legislatures': 2,\n",
       "             'hearing': 76,\n",
       "             'revenue': 35,\n",
       "             'taxation': 11,\n",
       "             'rules': 85,\n",
       "             'automatically': 36,\n",
       "             'subcommittee': 5,\n",
       "             'week': 275,\n",
       "             'questions': 140,\n",
       "             'taunted': 2,\n",
       "             'appearing': 16,\n",
       "             'witnesses': 21,\n",
       "             'left': 480,\n",
       "             'little': 831,\n",
       "             'doubt': 114,\n",
       "             'recommend': 25,\n",
       "             'passage': 49,\n",
       "             'termed': 15,\n",
       "             'extremely': 50,\n",
       "             'conservative': 31,\n",
       "             'estimate': 39,\n",
       "             'produce': 82,\n",
       "             '17': 41,\n",
       "             'dollars': 97,\n",
       "             'help': 311,\n",
       "             'erase': 1,\n",
       "             'anticipated': 23,\n",
       "             'deficit': 12,\n",
       "             '63': 5,\n",
       "             'current': 104,\n",
       "             'fiscal': 120,\n",
       "             '31': 38,\n",
       "             'merely': 135,\n",
       "             'means': 310,\n",
       "             'enforcing': 5,\n",
       "             'escheat': 2,\n",
       "             'books': 96,\n",
       "             'republic': 43,\n",
       "             'permits': 27,\n",
       "             'over': 1236,\n",
       "             'bank': 83,\n",
       "             'accounts': 38,\n",
       "             'stocks': 18,\n",
       "             'personal': 196,\n",
       "             'persons': 121,\n",
       "             'missing': 33,\n",
       "             'seven': 113,\n",
       "             'bill': 143,\n",
       "             'drafted': 5,\n",
       "             'banks': 37,\n",
       "             'insurance': 46,\n",
       "             'firms': 55,\n",
       "             'pipeline': 6,\n",
       "             'companies': 87,\n",
       "             'corporations': 25,\n",
       "             'report': 174,\n",
       "             'treasurer': 14,\n",
       "             'cannot': 258,\n",
       "             'enforced': 20,\n",
       "             'now': 1314,\n",
       "             'because': 883,\n",
       "             'almost': 432,\n",
       "             'impossible': 84,\n",
       "             'locate': 16,\n",
       "             'declared': 66,\n",
       "             'dewey': 3,\n",
       "             'lawrence': 39,\n",
       "             'tyler': 2,\n",
       "             'lawyer': 43,\n",
       "             'representing': 30,\n",
       "             'sounded': 35,\n",
       "             'opposition': 46,\n",
       "             'keynote': 4,\n",
       "             'violate': 7,\n",
       "             'their': 2669,\n",
       "             'contractual': 7,\n",
       "             'obligations': 22,\n",
       "             'depositors': 1,\n",
       "             'undermine': 8,\n",
       "             'confidence': 56,\n",
       "             'customers': 40,\n",
       "             'if': 2198,\n",
       "             'you': 3286,\n",
       "             'destroy': 48,\n",
       "             'economy': 79,\n",
       "             'circulation': 16,\n",
       "             'millions': 49,\n",
       "             'charles': 96,\n",
       "             'hughes': 27,\n",
       "             'sherman': 29,\n",
       "             'sponsor': 22,\n",
       "             'enact': 7,\n",
       "             'amount': 172,\n",
       "             'gift': 33,\n",
       "             \"taxpayers'\": 2,\n",
       "             'pockets': 17,\n",
       "             'contention': 9,\n",
       "             'denied': 47,\n",
       "             'several': 377,\n",
       "             'including': 171,\n",
       "             'scott': 16,\n",
       "             'hudson': 53,\n",
       "             'gaynor': 1,\n",
       "             'jones': 72,\n",
       "             'houston': 25,\n",
       "             'brady': 1,\n",
       "             'harlingen': 1,\n",
       "             'howard': 32,\n",
       "             'cox': 5,\n",
       "             'argued': 29,\n",
       "             'probably': 261,\n",
       "             'unconstitutional': 2,\n",
       "             'impair': 4,\n",
       "             'complained': 22,\n",
       "             'enough': 430,\n",
       "             'introduced': 52,\n",
       "             'senators': 10,\n",
       "             'unanimously': 11,\n",
       "             'parkhouse': 5,\n",
       "             'dallas': 58,\n",
       "             'authorizing': 5,\n",
       "             'schools': 195,\n",
       "             'deaf': 12,\n",
       "             'designed': 108,\n",
       "             'special': 250,\n",
       "             'schooling': 5,\n",
       "             'students': 213,\n",
       "             'scholastic': 9,\n",
       "             'reduced': 79,\n",
       "             'debate': 32,\n",
       "             'authorize': 5,\n",
       "             'agency': 56,\n",
       "             'establish': 58,\n",
       "             'county-wide': 2,\n",
       "             '300,000': 6,\n",
       "             'population': 136,\n",
       "             'require': 86,\n",
       "             'children': 355,\n",
       "             'between': 730,\n",
       "             '6': 114,\n",
       "             'attend': 54,\n",
       "             'permitting': 9,\n",
       "             'older': 93,\n",
       "             'residential': 45,\n",
       "             'here': 750,\n",
       "             'budget': 59,\n",
       "             'harris': 28,\n",
       "             'bexar': 1,\n",
       "             'tarrant': 1,\n",
       "             'el': 20,\n",
       "             'paso': 11,\n",
       "             '$451,500': 1,\n",
       "             'savings': 23,\n",
       "             '$157,460': 1,\n",
       "             'yearly': 12,\n",
       "             \"year's\": 43,\n",
       "             'capital': 85,\n",
       "             'outlay': 2,\n",
       "             '$88,000': 1,\n",
       "             'absorbed': 24,\n",
       "             'tea': 29,\n",
       "             'estimated': 67,\n",
       "             '182': 1,\n",
       "             'scholastics': 1,\n",
       "             'saving': 21,\n",
       "             'coming': 174,\n",
       "             'live': 177,\n",
       "             'get': 749,\n",
       "             'hear': 153,\n",
       "             'horse': 117,\n",
       "             'parimutuels': 1,\n",
       "             'reps.': 2,\n",
       "             'v.': 31,\n",
       "             'red': 197,\n",
       "             'joe': 55,\n",
       "             'ratcliff': 3,\n",
       "             'still': 782,\n",
       "             'expects': 22,\n",
       "             'tell': 268,\n",
       "             'folks': 18,\n",
       "             ...})"
      ]
     },
     "execution_count": 23,
     "metadata": {},
     "output_type": "execute_result"
    }
   ],
   "source": [
    "counts"
   ]
  },
  {
   "cell_type": "markdown",
   "metadata": {
    "slideshow": {
     "slide_type": "fragment"
    }
   },
   "source": [
    "Another very common need: assign a index (an integer) to each word, for looking up in data structures like matrices."
   ]
  },
  {
   "cell_type": "code",
   "execution_count": 33,
   "metadata": {
    "slideshow": {
     "slide_type": "-"
    }
   },
   "outputs": [
    {
     "data": {
      "text/plain": [
       "9573"
      ]
     },
     "execution_count": 33,
     "metadata": {},
     "output_type": "execute_result"
    }
   ],
   "source": [
    "index_dict = {}\n",
    "for word in counts:\n",
    "    index_dict[word] = len(index_dict) # the current len(index_dict) **can** be an index\n",
    "    \n",
    "index_dict[\"index\"]"
   ]
  },
  {
   "cell_type": "markdown",
   "metadata": {
    "slideshow": {
     "slide_type": "fragment"
    }
   },
   "source": [
    "In these cases, you will often need a reversed index as well. The `items` method for dictionaries is useful if you are iterating over an existing dictionary and want to access both key and value at the same time. Let's build a reverse index dict in one line using a dictionary comprehension!"
   ]
  },
  {
   "cell_type": "code",
   "execution_count": 35,
   "metadata": {
    "slideshow": {
     "slide_type": "-"
    }
   },
   "outputs": [
    {
     "data": {
      "text/plain": [
       "'index'"
      ]
     },
     "execution_count": 35,
     "metadata": {},
     "output_type": "execute_result"
    }
   ],
   "source": [
    "rev_index_dict = {value:key for key, value in index_dict.items()}\n",
    "\n",
    "rev_index_dict[9573]"
   ]
  },
  {
   "cell_type": "markdown",
   "metadata": {
    "slideshow": {
     "slide_type": "subslide"
    }
   },
   "source": [
    "## Complex lexicons\n",
    "\n",
    "\n",
    "Sometimes lexicons are more complex and might be represented as multiple recursive Python datatypes. For example, instead of a single counts, you might have a list of word senses, which are actually dictionaries of properties (including part-of-speech and counts of that word sense in a corpus). "
   ]
  },
  {
   "cell_type": "code",
   "execution_count": 24,
   "metadata": {
    "slideshow": {
     "slide_type": "subslide"
    }
   },
   "outputs": [],
   "source": [
    "mini_sense_lexicon = {\"bear\":[{\"POS\":\"noun\",\"animate\":True,\"count\":634,\"gloss\":\"A big furry animal\"},\n",
    "                              {\"POS\":\"verb\",\"transitive\":True,\"count\":294, \"past tense\":\"bore\", \"past participle\":\"borne\", \"gloss\":\"to endure\"}],\n",
    "                      \"slug\":[{\"POS\":\"noun\",\"animate\":True,\"count\":34, \"gloss\":\"A slimy animal\"},\n",
    "                              {\"POS\":\"verb\",\"transitive\":True,\"count\":3, \"gloss\": \"to hit\"}],\n",
    "                      \"back\":[{\"POS\":\"noun\",\"animate\":False,\"count\":12,\"gloss\":\"a body part\"},\n",
    "                              {\"POS\":\"noun\",\"animate\":False,\"count\":43, \"gloss\":\"the rear of a place\"},\n",
    "                              {\"POS\":\"verb\",\"transitive\":True,\"count\":5, \"gloss\":\"to support\"},\n",
    "                              {\"POS\":\"adverb\",\"count\":47,\"gloss\":\"in a returning fashion\"}],\n",
    "                      \"good\":[{\"POS\":\"noun\",\"animate\":False,\"count\":19,\"gloss\":\"a thing of value\"},\n",
    "                              {\"POS\":\"adjective\", \"count\":1293,\"gloss\":\"positive\"}]}"
   ]
  },
  {
   "cell_type": "markdown",
   "metadata": {
    "slideshow": {
     "slide_type": "fragment"
    }
   },
   "source": [
    "These can be tricky to navigate. Let's answer the following questions by accessing the information in data structure:\n",
    "\n",
    "How many senses does \"back\" have in this lexicon?"
   ]
  },
  {
   "cell_type": "code",
   "execution_count": 25,
   "metadata": {
    "slideshow": {
     "slide_type": "fragment"
    }
   },
   "outputs": [
    {
     "data": {
      "text/plain": [
       "4"
      ]
     },
     "execution_count": 25,
     "metadata": {},
     "output_type": "execute_result"
    }
   ],
   "source": [
    "len(mini_sense_lexicon[\"back\"])"
   ]
  },
  {
   "cell_type": "markdown",
   "metadata": {
    "slideshow": {
     "slide_type": "fragment"
    }
   },
   "source": [
    "Does \"slug\" have an adjectival sense?"
   ]
  },
  {
   "cell_type": "code",
   "execution_count": 26,
   "metadata": {},
   "outputs": [
    {
     "name": "stdout",
     "output_type": "stream",
     "text": [
      "False\n"
     ]
    }
   ],
   "source": [
    "flag = False\n",
    "for feature in mini_sense_lexicon[\"slug\"]:\n",
    "    if feature[\"POS\"] == \"adjective\":\n",
    "        flag = True\n",
    "\n",
    "# if flag:\n",
    "#     print(f)\n",
    "# else: \n",
    "#     print(\"False\")\n",
    "print(flag)"
   ]
  },
  {
   "cell_type": "code",
   "execution_count": 27,
   "metadata": {
    "slideshow": {
     "slide_type": "fragment"
    }
   },
   "outputs": [
    {
     "data": {
      "text/plain": [
       "False"
      ]
     },
     "execution_count": 27,
     "metadata": {},
     "output_type": "execute_result"
    }
   ],
   "source": [
    "any(feature[\"POS\"] == \"adjective\" for feature in mini_sense_lexicon[\"slug\"])"
   ]
  },
  {
   "cell_type": "markdown",
   "metadata": {
    "slideshow": {
     "slide_type": "fragment"
    }
   },
   "source": [
    "Which words have a verb sense with a *past tense*?"
   ]
  },
  {
   "cell_type": "code",
   "execution_count": 40,
   "metadata": {
    "slideshow": {
     "slide_type": "fragment"
    }
   },
   "outputs": [
    {
     "name": "stdout",
     "output_type": "stream",
     "text": [
      "bear bore\n"
     ]
    }
   ],
   "source": [
    "for word, pos_list in mini_sense_lexicon.items():\n",
    "    for feature_dict in pos_list:\n",
    "        if \"past tense\" in feature_dict:\n",
    "            print(word, feature_dict[\"past tense\"])"
   ]
  },
  {
   "cell_type": "markdown",
   "metadata": {
    "slideshow": {
     "slide_type": "fragment"
    }
   },
   "source": [
    "What is the gloss of the most common sense of \"back\"?"
   ]
  },
  {
   "cell_type": "code",
   "execution_count": 41,
   "metadata": {},
   "outputs": [
    {
     "data": {
      "text/plain": [
       "[{'POS': 'noun', 'animate': False, 'count': 12, 'gloss': 'a body part'},\n",
       " {'POS': 'noun',\n",
       "  'animate': False,\n",
       "  'count': 43,\n",
       "  'gloss': 'the rear of a place'},\n",
       " {'POS': 'verb', 'transitive': True, 'count': 5, 'gloss': 'to support'},\n",
       " {'POS': 'adverb', 'count': 47, 'gloss': 'in a returning fashion'}]"
      ]
     },
     "execution_count": 41,
     "metadata": {},
     "output_type": "execute_result"
    }
   ],
   "source": [
    "mini_sense_lexicon[\"back\"]"
   ]
  },
  {
   "cell_type": "code",
   "execution_count": 42,
   "metadata": {
    "slideshow": {
     "slide_type": "fragment"
    }
   },
   "outputs": [
    {
     "data": {
      "text/plain": [
       "'in a returning fashion'"
      ]
     },
     "execution_count": 42,
     "metadata": {},
     "output_type": "execute_result"
    }
   ],
   "source": [
    "highest_count = 0\n",
    "gloss = \"\"\n",
    "\n",
    "for feature_dict in mini_sense_lexicon[\"back\"]:\n",
    "    if feature_dict[\"count\"] > highest_count:\n",
    "        highest_count = feature_dict[\"count\"]\n",
    "        gloss = feature_dict[\"gloss\"]\n",
    "gloss"
   ]
  },
  {
   "cell_type": "markdown",
   "metadata": {
    "slideshow": {
     "slide_type": "slide"
    }
   },
   "source": [
    "## NLTK lexicons\n"
   ]
  },
  {
   "cell_type": "markdown",
   "metadata": {
    "slideshow": {
     "slide_type": "subslide"
    }
   },
   "source": [
    "NLTK has a lot of useful lexicons. Most are word lists. Note that they are listed under corpora and have the same interface; note that they need to be converted to sets if you want to use them for look up"
   ]
  },
  {
   "cell_type": "markdown",
   "metadata": {
    "slideshow": {
     "slide_type": "fragment"
    }
   },
   "source": [
    "#### Stopwords\n",
    "\n",
    "Lists of closed-class/function words in various languages\n",
    "\n"
   ]
  },
  {
   "cell_type": "code",
   "execution_count": 43,
   "metadata": {
    "slideshow": {
     "slide_type": "fragment"
    }
   },
   "outputs": [],
   "source": [
    "from nltk.corpus import stopwords"
   ]
  },
  {
   "cell_type": "code",
   "execution_count": 44,
   "metadata": {},
   "outputs": [
    {
     "data": {
      "text/plain": [
       "['i',\n",
       " 'me',\n",
       " 'my',\n",
       " 'myself',\n",
       " 'we',\n",
       " 'our',\n",
       " 'ours',\n",
       " 'ourselves',\n",
       " 'you',\n",
       " \"you're\",\n",
       " \"you've\",\n",
       " \"you'll\",\n",
       " \"you'd\",\n",
       " 'your',\n",
       " 'yours',\n",
       " 'yourself',\n",
       " 'yourselves',\n",
       " 'he',\n",
       " 'him',\n",
       " 'his',\n",
       " 'himself',\n",
       " 'she',\n",
       " \"she's\",\n",
       " 'her',\n",
       " 'hers',\n",
       " 'herself',\n",
       " 'it',\n",
       " \"it's\",\n",
       " 'its',\n",
       " 'itself',\n",
       " 'they',\n",
       " 'them',\n",
       " 'their',\n",
       " 'theirs',\n",
       " 'themselves',\n",
       " 'what',\n",
       " 'which',\n",
       " 'who',\n",
       " 'whom',\n",
       " 'this',\n",
       " 'that',\n",
       " \"that'll\",\n",
       " 'these',\n",
       " 'those',\n",
       " 'am',\n",
       " 'is',\n",
       " 'are',\n",
       " 'was',\n",
       " 'were',\n",
       " 'be',\n",
       " 'been',\n",
       " 'being',\n",
       " 'have',\n",
       " 'has',\n",
       " 'had',\n",
       " 'having',\n",
       " 'do',\n",
       " 'does',\n",
       " 'did',\n",
       " 'doing',\n",
       " 'a',\n",
       " 'an',\n",
       " 'the',\n",
       " 'and',\n",
       " 'but',\n",
       " 'if',\n",
       " 'or',\n",
       " 'because',\n",
       " 'as',\n",
       " 'until',\n",
       " 'while',\n",
       " 'of',\n",
       " 'at',\n",
       " 'by',\n",
       " 'for',\n",
       " 'with',\n",
       " 'about',\n",
       " 'against',\n",
       " 'between',\n",
       " 'into',\n",
       " 'through',\n",
       " 'during',\n",
       " 'before',\n",
       " 'after',\n",
       " 'above',\n",
       " 'below',\n",
       " 'to',\n",
       " 'from',\n",
       " 'up',\n",
       " 'down',\n",
       " 'in',\n",
       " 'out',\n",
       " 'on',\n",
       " 'off',\n",
       " 'over',\n",
       " 'under',\n",
       " 'again',\n",
       " 'further',\n",
       " 'then',\n",
       " 'once',\n",
       " 'here',\n",
       " 'there',\n",
       " 'when',\n",
       " 'where',\n",
       " 'why',\n",
       " 'how',\n",
       " 'all',\n",
       " 'any',\n",
       " 'both',\n",
       " 'each',\n",
       " 'few',\n",
       " 'more',\n",
       " 'most',\n",
       " 'other',\n",
       " 'some',\n",
       " 'such',\n",
       " 'no',\n",
       " 'nor',\n",
       " 'not',\n",
       " 'only',\n",
       " 'own',\n",
       " 'same',\n",
       " 'so',\n",
       " 'than',\n",
       " 'too',\n",
       " 'very',\n",
       " 's',\n",
       " 't',\n",
       " 'can',\n",
       " 'will',\n",
       " 'just',\n",
       " 'don',\n",
       " \"don't\",\n",
       " 'should',\n",
       " \"should've\",\n",
       " 'now',\n",
       " 'd',\n",
       " 'll',\n",
       " 'm',\n",
       " 'o',\n",
       " 're',\n",
       " 've',\n",
       " 'y',\n",
       " 'ain',\n",
       " 'aren',\n",
       " \"aren't\",\n",
       " 'couldn',\n",
       " \"couldn't\",\n",
       " 'didn',\n",
       " \"didn't\",\n",
       " 'doesn',\n",
       " \"doesn't\",\n",
       " 'hadn',\n",
       " \"hadn't\",\n",
       " 'hasn',\n",
       " \"hasn't\",\n",
       " 'haven',\n",
       " \"haven't\",\n",
       " 'isn',\n",
       " \"isn't\",\n",
       " 'ma',\n",
       " 'mightn',\n",
       " \"mightn't\",\n",
       " 'mustn',\n",
       " \"mustn't\",\n",
       " 'needn',\n",
       " \"needn't\",\n",
       " 'shan',\n",
       " \"shan't\",\n",
       " 'shouldn',\n",
       " \"shouldn't\",\n",
       " 'wasn',\n",
       " \"wasn't\",\n",
       " 'weren',\n",
       " \"weren't\",\n",
       " 'won',\n",
       " \"won't\",\n",
       " 'wouldn',\n",
       " \"wouldn't\"]"
      ]
     },
     "execution_count": 44,
     "metadata": {},
     "output_type": "execute_result"
    }
   ],
   "source": [
    "stopwords.words(\"english\")"
   ]
  },
  {
   "cell_type": "code",
   "execution_count": 45,
   "metadata": {},
   "outputs": [
    {
     "data": {
      "text/plain": [
       "['au',\n",
       " 'aux',\n",
       " 'avec',\n",
       " 'ce',\n",
       " 'ces',\n",
       " 'dans',\n",
       " 'de',\n",
       " 'des',\n",
       " 'du',\n",
       " 'elle',\n",
       " 'en',\n",
       " 'et',\n",
       " 'eux',\n",
       " 'il',\n",
       " 'ils',\n",
       " 'je',\n",
       " 'la',\n",
       " 'le',\n",
       " 'les',\n",
       " 'leur',\n",
       " 'lui',\n",
       " 'ma',\n",
       " 'mais',\n",
       " 'me',\n",
       " 'même',\n",
       " 'mes',\n",
       " 'moi',\n",
       " 'mon',\n",
       " 'ne',\n",
       " 'nos',\n",
       " 'notre',\n",
       " 'nous',\n",
       " 'on',\n",
       " 'ou',\n",
       " 'par',\n",
       " 'pas',\n",
       " 'pour',\n",
       " 'qu',\n",
       " 'que',\n",
       " 'qui',\n",
       " 'sa',\n",
       " 'se',\n",
       " 'ses',\n",
       " 'son',\n",
       " 'sur',\n",
       " 'ta',\n",
       " 'te',\n",
       " 'tes',\n",
       " 'toi',\n",
       " 'ton',\n",
       " 'tu',\n",
       " 'un',\n",
       " 'une',\n",
       " 'vos',\n",
       " 'votre',\n",
       " 'vous',\n",
       " 'c',\n",
       " 'd',\n",
       " 'j',\n",
       " 'l',\n",
       " 'à',\n",
       " 'm',\n",
       " 'n',\n",
       " 's',\n",
       " 't',\n",
       " 'y',\n",
       " 'été',\n",
       " 'étée',\n",
       " 'étées',\n",
       " 'étés',\n",
       " 'étant',\n",
       " 'étante',\n",
       " 'étants',\n",
       " 'étantes',\n",
       " 'suis',\n",
       " 'es',\n",
       " 'est',\n",
       " 'sommes',\n",
       " 'êtes',\n",
       " 'sont',\n",
       " 'serai',\n",
       " 'seras',\n",
       " 'sera',\n",
       " 'serons',\n",
       " 'serez',\n",
       " 'seront',\n",
       " 'serais',\n",
       " 'serait',\n",
       " 'serions',\n",
       " 'seriez',\n",
       " 'seraient',\n",
       " 'étais',\n",
       " 'était',\n",
       " 'étions',\n",
       " 'étiez',\n",
       " 'étaient',\n",
       " 'fus',\n",
       " 'fut',\n",
       " 'fûmes',\n",
       " 'fûtes',\n",
       " 'furent',\n",
       " 'sois',\n",
       " 'soit',\n",
       " 'soyons',\n",
       " 'soyez',\n",
       " 'soient',\n",
       " 'fusse',\n",
       " 'fusses',\n",
       " 'fût',\n",
       " 'fussions',\n",
       " 'fussiez',\n",
       " 'fussent',\n",
       " 'ayant',\n",
       " 'ayante',\n",
       " 'ayantes',\n",
       " 'ayants',\n",
       " 'eu',\n",
       " 'eue',\n",
       " 'eues',\n",
       " 'eus',\n",
       " 'ai',\n",
       " 'as',\n",
       " 'avons',\n",
       " 'avez',\n",
       " 'ont',\n",
       " 'aurai',\n",
       " 'auras',\n",
       " 'aura',\n",
       " 'aurons',\n",
       " 'aurez',\n",
       " 'auront',\n",
       " 'aurais',\n",
       " 'aurait',\n",
       " 'aurions',\n",
       " 'auriez',\n",
       " 'auraient',\n",
       " 'avais',\n",
       " 'avait',\n",
       " 'avions',\n",
       " 'aviez',\n",
       " 'avaient',\n",
       " 'eut',\n",
       " 'eûmes',\n",
       " 'eûtes',\n",
       " 'eurent',\n",
       " 'aie',\n",
       " 'aies',\n",
       " 'ait',\n",
       " 'ayons',\n",
       " 'ayez',\n",
       " 'aient',\n",
       " 'eusse',\n",
       " 'eusses',\n",
       " 'eût',\n",
       " 'eussions',\n",
       " 'eussiez',\n",
       " 'eussent']"
      ]
     },
     "execution_count": 45,
     "metadata": {},
     "output_type": "execute_result"
    }
   ],
   "source": [
    "stopwords.words(\"french\")"
   ]
  },
  {
   "cell_type": "markdown",
   "metadata": {
    "slideshow": {
     "slide_type": "fragment"
    }
   },
   "source": [
    "#### Swadesh\n",
    "\n",
    "words for 200 common concepts from large list of languages, used for historical linguistics"
   ]
  },
  {
   "cell_type": "code",
   "execution_count": 46,
   "metadata": {
    "slideshow": {
     "slide_type": "fragment"
    }
   },
   "outputs": [
    {
     "name": "stderr",
     "output_type": "stream",
     "text": [
      "[nltk_data] Downloading package swadesh to\n",
      "[nltk_data]     /Users/jungyeul/nltk_data...\n",
      "[nltk_data]   Package swadesh is already up-to-date!\n"
     ]
    }
   ],
   "source": [
    "import nltk\n",
    "nltk.download('swadesh')\n",
    "\n",
    "from nltk.corpus import swadesh"
   ]
  },
  {
   "cell_type": "code",
   "execution_count": 47,
   "metadata": {},
   "outputs": [
    {
     "data": {
      "text/plain": [
       "['be',\n",
       " 'bg',\n",
       " 'bs',\n",
       " 'ca',\n",
       " 'cs',\n",
       " 'cu',\n",
       " 'de',\n",
       " 'en',\n",
       " 'es',\n",
       " 'fr',\n",
       " 'hr',\n",
       " 'it',\n",
       " 'la',\n",
       " 'mk',\n",
       " 'nl',\n",
       " 'pl',\n",
       " 'pt',\n",
       " 'ro',\n",
       " 'ru',\n",
       " 'sk',\n",
       " 'sl',\n",
       " 'sr',\n",
       " 'sw',\n",
       " 'uk']"
      ]
     },
     "execution_count": 47,
     "metadata": {},
     "output_type": "execute_result"
    }
   ],
   "source": [
    "swadesh.fileids()"
   ]
  },
  {
   "cell_type": "code",
   "execution_count": 48,
   "metadata": {},
   "outputs": [
    {
     "name": "stdout",
     "output_type": "stream",
     "text": [
      "I | je | ich\n",
      "you (singular), thou | tu, vous | du, Sie\n",
      "he | il | er\n",
      "we | nous | wir\n",
      "you (plural) | vous | ihr, Sie\n",
      "they | ils, elles | sie\n",
      "this | ceci | dieses\n",
      "that | cela | jenes\n",
      "here | ici | hier\n",
      "there | là | dort\n"
     ]
    }
   ],
   "source": [
    "for i in range(len(swadesh.words(\"en\")[:10])):\n",
    "    print(swadesh.words(\"en\")[i], \"|\", swadesh.words(\"fr\")[i], \"|\", swadesh.words(\"de\")[i]) "
   ]
  },
  {
   "cell_type": "markdown",
   "metadata": {
    "slideshow": {
     "slide_type": "fragment"
    }
   },
   "source": [
    "#### Names\n",
    "\n",
    "Lists of mostly English names, divided by gender"
   ]
  },
  {
   "cell_type": "code",
   "execution_count": 49,
   "metadata": {
    "slideshow": {
     "slide_type": "fragment"
    }
   },
   "outputs": [
    {
     "name": "stderr",
     "output_type": "stream",
     "text": [
      "[nltk_data] Downloading package names to /Users/jungyeul/nltk_data...\n",
      "[nltk_data]   Package names is already up-to-date!\n"
     ]
    }
   ],
   "source": [
    "nltk.download('names')\n",
    "from nltk.corpus import names"
   ]
  },
  {
   "cell_type": "code",
   "execution_count": 50,
   "metadata": {},
   "outputs": [
    {
     "data": {
      "text/plain": [
       "['female.txt', 'male.txt']"
      ]
     },
     "execution_count": 50,
     "metadata": {},
     "output_type": "execute_result"
    }
   ],
   "source": [
    "names.fileids()"
   ]
  },
  {
   "cell_type": "code",
   "execution_count": 51,
   "metadata": {},
   "outputs": [
    {
     "data": {
      "text/plain": [
       "['Zonnya',\n",
       " 'Zora',\n",
       " 'Zorah',\n",
       " 'Zorana',\n",
       " 'Zorina',\n",
       " 'Zorine',\n",
       " 'Zsa Zsa',\n",
       " 'Zsazsa',\n",
       " 'Zulema',\n",
       " 'Zuzana']"
      ]
     },
     "execution_count": 51,
     "metadata": {},
     "output_type": "execute_result"
    }
   ],
   "source": [
    "names.words(\"female.txt\")[-10:]"
   ]
  },
  {
   "cell_type": "markdown",
   "metadata": {
    "scrolled": true,
    "slideshow": {
     "slide_type": "fragment"
    }
   },
   "source": [
    "#### Opinion Lexicon\n",
    "\n",
    "Positive and negative word lists"
   ]
  },
  {
   "cell_type": "code",
   "execution_count": 52,
   "metadata": {
    "slideshow": {
     "slide_type": "fragment"
    }
   },
   "outputs": [
    {
     "name": "stderr",
     "output_type": "stream",
     "text": [
      "[nltk_data] Downloading package opinion_lexicon to\n",
      "[nltk_data]     /Users/jungyeul/nltk_data...\n",
      "[nltk_data]   Package opinion_lexicon is already up-to-date!\n"
     ]
    }
   ],
   "source": [
    "nltk.download('opinion_lexicon')\n",
    "from nltk.corpus import opinion_lexicon"
   ]
  },
  {
   "cell_type": "code",
   "execution_count": 53,
   "metadata": {},
   "outputs": [
    {
     "data": {
      "text/plain": [
       "['negative-words.txt', 'positive-words.txt']"
      ]
     },
     "execution_count": 53,
     "metadata": {},
     "output_type": "execute_result"
    }
   ],
   "source": [
    "opinion_lexicon.fileids()"
   ]
  },
  {
   "cell_type": "code",
   "execution_count": 54,
   "metadata": {},
   "outputs": [
    {
     "data": {
      "text/plain": [
       "['2-faced',\n",
       " '2-faces',\n",
       " 'abnormal',\n",
       " 'abolish',\n",
       " 'abominable',\n",
       " 'abominably',\n",
       " 'abominate',\n",
       " 'abomination',\n",
       " 'abort',\n",
       " 'aborted']"
      ]
     },
     "execution_count": 54,
     "metadata": {},
     "output_type": "execute_result"
    }
   ],
   "source": [
    "opinion_lexicon.words('negative-words.txt')[:10]"
   ]
  },
  {
   "cell_type": "markdown",
   "metadata": {
    "slideshow": {
     "slide_type": "slide"
    }
   },
   "source": [
    "#### CMU Pronouncing Dictionary\n",
    "\n",
    "* A list of pronunciations for each English word string\n",
    "* Pronunciations are a list of ARPAbet phones\n",
    "* ARPAbet phones are strings which are alphabetic except for numbers at the end of the vowels\n",
    "* The numbers indicate stress\n",
    "\n",
    "Let's look at a few entries:"
   ]
  },
  {
   "cell_type": "code",
   "execution_count": 55,
   "metadata": {
    "slideshow": {
     "slide_type": "fragment"
    }
   },
   "outputs": [
    {
     "name": "stderr",
     "output_type": "stream",
     "text": [
      "[nltk_data] Downloading package cmudict to\n",
      "[nltk_data]     /Users/jungyeul/nltk_data...\n",
      "[nltk_data]   Package cmudict is already up-to-date!\n"
     ]
    }
   ],
   "source": [
    "nltk.download(\"cmudict\")\n",
    "from nltk.corpus import cmudict\n",
    "p_dict = cmudict.dict()"
   ]
  },
  {
   "cell_type": "code",
   "execution_count": 56,
   "metadata": {},
   "outputs": [
    {
     "data": {
      "text/plain": [
       "[['R', 'EH1', 'D'], ['R', 'IY1', 'D']]"
      ]
     },
     "execution_count": 56,
     "metadata": {},
     "output_type": "execute_result"
    }
   ],
   "source": [
    "p_dict[\"read\"]"
   ]
  },
  {
   "cell_type": "code",
   "execution_count": 57,
   "metadata": {},
   "outputs": [
    {
     "data": {
      "text/plain": [
       "[['IH1', 'N', 'D', 'EH0', 'K', 'S']]"
      ]
     },
     "execution_count": 57,
     "metadata": {},
     "output_type": "execute_result"
    }
   ],
   "source": [
    "p_dict[\"index\"]"
   ]
  },
  {
   "cell_type": "markdown",
   "metadata": {
    "slideshow": {
     "slide_type": "fragment"
    }
   },
   "source": [
    "Let's get some basic stats for this lexicon: total entries, average number of pronunciations per word, average number of phones per pronunciation"
   ]
  },
  {
   "cell_type": "code",
   "execution_count": 58,
   "metadata": {
    "slideshow": {
     "slide_type": "fragment"
    }
   },
   "outputs": [],
   "source": [
    "pro_count = 0\n",
    "pho_count = 0\n",
    "for pronuns in p_dict.values():\n",
    "    pro_count += len(pronuns)\n",
    "    for pronun in pronuns:\n",
    "        pho_count += len(pronun)"
   ]
  },
  {
   "cell_type": "code",
   "execution_count": 59,
   "metadata": {},
   "outputs": [
    {
     "data": {
      "text/plain": [
       "123455"
      ]
     },
     "execution_count": 59,
     "metadata": {},
     "output_type": "execute_result"
    }
   ],
   "source": [
    "len(p_dict)"
   ]
  },
  {
   "cell_type": "code",
   "execution_count": 60,
   "metadata": {},
   "outputs": [
    {
     "data": {
      "text/plain": [
       "1.0832854076384109"
      ]
     },
     "execution_count": 60,
     "metadata": {},
     "output_type": "execute_result"
    }
   ],
   "source": [
    "pro_count/len(p_dict)"
   ]
  },
  {
   "cell_type": "code",
   "execution_count": 61,
   "metadata": {},
   "outputs": [
    {
     "data": {
      "text/plain": [
       "6.3850542482633825"
      ]
     },
     "execution_count": 61,
     "metadata": {},
     "output_type": "execute_result"
    }
   ],
   "source": [
    "pho_count/pro_count"
   ]
  },
  {
   "cell_type": "markdown",
   "metadata": {},
   "source": [
    "## Exercises\n",
    "\n",
    "1. Create a set of female names that appear in the Brown corpus."
   ]
  },
  {
   "cell_type": "code",
   "execution_count": 62,
   "metadata": {},
   "outputs": [
    {
     "data": {
      "text/plain": [
       "{'Abbe',\n",
       " 'Abbey',\n",
       " 'Abigail',\n",
       " 'Abra',\n",
       " 'Ada',\n",
       " 'Adele',\n",
       " 'Adrian',\n",
       " 'Adrien',\n",
       " 'Agatha',\n",
       " 'Aggie',\n",
       " 'Agnes',\n",
       " 'Agnese',\n",
       " 'Aida',\n",
       " 'Ailey',\n",
       " 'Ainsley',\n",
       " 'Alex',\n",
       " 'Alexis',\n",
       " 'Alice',\n",
       " 'Alicia',\n",
       " 'Alison',\n",
       " 'Alix',\n",
       " 'Alla',\n",
       " 'Allison',\n",
       " 'Alma',\n",
       " 'Althea',\n",
       " 'Amy',\n",
       " 'Ana',\n",
       " 'Anabel',\n",
       " 'Andrea',\n",
       " 'Andrei',\n",
       " 'Andromache',\n",
       " 'Andy',\n",
       " 'Angel',\n",
       " 'Angelina',\n",
       " 'Angie',\n",
       " 'Anita',\n",
       " 'Ann',\n",
       " 'Anna',\n",
       " 'Anne',\n",
       " 'Annie',\n",
       " 'Ansley',\n",
       " 'Anthea',\n",
       " 'Antoinette',\n",
       " 'Aphrodite',\n",
       " 'April',\n",
       " 'Arden',\n",
       " 'Ariadne',\n",
       " 'Arlen',\n",
       " 'Arlene',\n",
       " 'Ashley',\n",
       " 'Asia',\n",
       " 'Astra',\n",
       " 'Athena',\n",
       " 'Atlanta',\n",
       " 'Audrey',\n",
       " 'Augusta',\n",
       " 'Augustine',\n",
       " 'Aurora',\n",
       " 'Austin',\n",
       " 'Avis',\n",
       " 'Bambi',\n",
       " 'Barbara',\n",
       " 'Bari',\n",
       " 'Barry',\n",
       " 'Bea',\n",
       " 'Beatrice',\n",
       " 'Beau',\n",
       " 'Bee',\n",
       " 'Bel',\n",
       " 'Bell',\n",
       " 'Bella',\n",
       " 'Belle',\n",
       " 'Benita',\n",
       " 'Benny',\n",
       " 'Bernardine',\n",
       " 'Bernie',\n",
       " 'Berry',\n",
       " 'Bert',\n",
       " 'Bertha',\n",
       " 'Beryl',\n",
       " 'Bess',\n",
       " 'Bessie',\n",
       " 'Beth',\n",
       " 'Betsey',\n",
       " 'Betsy',\n",
       " 'Betty',\n",
       " 'Beverly',\n",
       " 'Bill',\n",
       " 'Billie',\n",
       " 'Billy',\n",
       " 'Bird',\n",
       " 'Birdie',\n",
       " 'Birgit',\n",
       " 'Birgitta',\n",
       " 'Blair',\n",
       " 'Blake',\n",
       " 'Blanche',\n",
       " 'Bo',\n",
       " 'Bobbie',\n",
       " 'Bobby',\n",
       " 'Bonnie',\n",
       " 'Brett',\n",
       " 'Bride',\n",
       " 'Bridget',\n",
       " 'Brittany',\n",
       " 'Brook',\n",
       " 'Brooke',\n",
       " 'Brooks',\n",
       " 'Bryn',\n",
       " 'Bunny',\n",
       " 'Cal',\n",
       " 'Cam',\n",
       " 'Cameo',\n",
       " 'Cami',\n",
       " 'Camilla',\n",
       " 'Camille',\n",
       " 'Canada',\n",
       " 'Candide',\n",
       " 'Candy',\n",
       " 'Carey',\n",
       " 'Carla',\n",
       " 'Carlisle',\n",
       " 'Carmen',\n",
       " 'Carmine',\n",
       " 'Carol',\n",
       " 'Carolina',\n",
       " 'Caroline',\n",
       " 'Carolyn',\n",
       " 'Caron',\n",
       " 'Carrie',\n",
       " 'Carroll',\n",
       " 'Casey',\n",
       " 'Cat',\n",
       " 'Catherine',\n",
       " 'Cathy',\n",
       " 'Cecil',\n",
       " 'Cecilia',\n",
       " 'Ceil',\n",
       " 'Celia',\n",
       " 'Celie',\n",
       " 'Charity',\n",
       " 'Charlotte',\n",
       " 'Cherry',\n",
       " 'Chris',\n",
       " 'Christi',\n",
       " 'Christian',\n",
       " 'Christiana',\n",
       " 'Christie',\n",
       " 'Christine',\n",
       " 'Christy',\n",
       " 'Chrysler',\n",
       " 'Clair',\n",
       " 'Claire',\n",
       " 'Clara',\n",
       " 'Clare',\n",
       " 'Claude',\n",
       " 'Clemence',\n",
       " 'Cleva',\n",
       " 'Cody',\n",
       " 'Coletta',\n",
       " 'Conchita',\n",
       " 'Connie',\n",
       " 'Constance',\n",
       " 'Constantine',\n",
       " 'Coral',\n",
       " 'Courtenay',\n",
       " 'Courtney',\n",
       " 'Cris',\n",
       " 'Crystal',\n",
       " 'Cynthia',\n",
       " 'Dale',\n",
       " 'Dallas',\n",
       " 'Dana',\n",
       " 'Daniel',\n",
       " 'Danny',\n",
       " 'Daphne',\n",
       " 'Darlene',\n",
       " 'Dawn',\n",
       " 'Deane',\n",
       " 'Debora',\n",
       " 'Del',\n",
       " 'Delaney',\n",
       " 'Delia',\n",
       " 'Della',\n",
       " 'Deloris',\n",
       " 'Delphine',\n",
       " 'Denny',\n",
       " 'Di',\n",
       " 'Diana',\n",
       " 'Diane',\n",
       " 'Didi',\n",
       " 'Dion',\n",
       " 'Dixie',\n",
       " 'Doe',\n",
       " 'Dolley',\n",
       " 'Dolly',\n",
       " 'Dolores',\n",
       " 'Dominique',\n",
       " 'Donna',\n",
       " 'Dora',\n",
       " 'Dorcas',\n",
       " 'Doria',\n",
       " 'Doris',\n",
       " 'Dorothy',\n",
       " 'Dove',\n",
       " 'Drew',\n",
       " 'Easter',\n",
       " 'Eddie',\n",
       " 'Eddy',\n",
       " 'Eden',\n",
       " 'Edith',\n",
       " 'Edna',\n",
       " 'Edwina',\n",
       " 'Edythe',\n",
       " 'Effie',\n",
       " 'Eileen',\n",
       " 'Elaine',\n",
       " 'Eleanor',\n",
       " 'Electra',\n",
       " 'Elena',\n",
       " 'Elinor',\n",
       " 'Elisabeth',\n",
       " 'Elisha',\n",
       " 'Elizabeth',\n",
       " 'Ella',\n",
       " 'Ellen',\n",
       " 'Ellie',\n",
       " 'Elmira',\n",
       " 'Eloise',\n",
       " 'Elsie',\n",
       " 'Elsinore',\n",
       " 'Emma',\n",
       " 'Estella',\n",
       " 'Esther',\n",
       " 'Ethel',\n",
       " 'Eugenia',\n",
       " 'Eve',\n",
       " 'Evelyn',\n",
       " 'Faith',\n",
       " 'Fan',\n",
       " 'Fanny',\n",
       " 'Fatima',\n",
       " 'Fay',\n",
       " 'Fayette',\n",
       " 'Felice',\n",
       " 'Felicity',\n",
       " 'Fidelity',\n",
       " 'Flor',\n",
       " 'Florence',\n",
       " 'Florida',\n",
       " 'Flory',\n",
       " 'Flower',\n",
       " 'Fortune',\n",
       " 'Fran',\n",
       " 'France',\n",
       " 'Frances',\n",
       " 'Francesca',\n",
       " 'Francis',\n",
       " 'Frank',\n",
       " 'Frankie',\n",
       " 'Franny',\n",
       " 'Fred',\n",
       " 'Freddie',\n",
       " 'Freddy',\n",
       " 'Freida',\n",
       " 'Gabriel',\n",
       " 'Gabrielle',\n",
       " 'Galina',\n",
       " 'Garland',\n",
       " 'Gates',\n",
       " 'Gay',\n",
       " 'Gaynor',\n",
       " 'Gene',\n",
       " 'Geneva',\n",
       " 'Genevieve',\n",
       " 'George',\n",
       " 'Georgia',\n",
       " 'Geraldine',\n",
       " 'Gerry',\n",
       " 'Gertrude',\n",
       " 'Gill',\n",
       " 'Gisele',\n",
       " 'Giselle',\n",
       " 'Glad',\n",
       " 'Glen',\n",
       " 'Glenda',\n",
       " 'Glenn',\n",
       " 'Gloria',\n",
       " 'Gloriana',\n",
       " 'Glory',\n",
       " 'Golda',\n",
       " 'Grace',\n",
       " 'Gracie',\n",
       " 'Gray',\n",
       " 'Greer',\n",
       " 'Gretchen',\n",
       " 'Gus',\n",
       " 'Gwen',\n",
       " 'Hannah',\n",
       " 'Hannibal',\n",
       " 'Happy',\n",
       " 'Harmony',\n",
       " 'Harriet',\n",
       " 'Hattie',\n",
       " 'Hazel',\n",
       " 'Heather',\n",
       " 'Hedda',\n",
       " 'Helen',\n",
       " 'Helena',\n",
       " 'Helene',\n",
       " 'Henrietta',\n",
       " 'Hephzibah',\n",
       " 'Hester',\n",
       " 'Hettie',\n",
       " 'Hetty',\n",
       " 'Hildy',\n",
       " 'Hillary',\n",
       " 'Holley',\n",
       " 'Honey',\n",
       " 'Honor',\n",
       " 'Hope',\n",
       " 'Ida',\n",
       " 'Ike',\n",
       " 'Ilka',\n",
       " 'Ilona',\n",
       " 'Inna',\n",
       " 'Ira',\n",
       " 'Irene',\n",
       " 'Irina',\n",
       " 'Irma',\n",
       " 'Isabel',\n",
       " 'Isis',\n",
       " 'Ivory',\n",
       " 'Ivy',\n",
       " 'Jackie',\n",
       " 'Jacky',\n",
       " 'Jacqueline',\n",
       " 'Jan',\n",
       " 'Jana',\n",
       " 'Jane',\n",
       " 'Janet',\n",
       " 'Janice',\n",
       " 'Janis',\n",
       " 'Jean',\n",
       " 'Jeannie',\n",
       " 'Jen',\n",
       " 'Jena',\n",
       " 'Jenni',\n",
       " 'Jennie',\n",
       " 'Jennifer',\n",
       " 'Jenny',\n",
       " 'Jerry',\n",
       " 'Jess',\n",
       " 'Jesse',\n",
       " 'Jessica',\n",
       " 'Jessie',\n",
       " 'Jessy',\n",
       " 'Jinny',\n",
       " 'Jo',\n",
       " 'Joan',\n",
       " 'Joanne',\n",
       " 'Jody',\n",
       " 'Joey',\n",
       " 'Jordan',\n",
       " 'Joyce',\n",
       " 'Juanita',\n",
       " 'Jude',\n",
       " 'Judith',\n",
       " 'Judy',\n",
       " 'Julia',\n",
       " 'Julie',\n",
       " 'Juliet',\n",
       " 'June',\n",
       " 'Justine',\n",
       " 'Kali',\n",
       " 'Kare',\n",
       " 'Karen',\n",
       " 'Karol',\n",
       " 'Kate',\n",
       " 'Katharine',\n",
       " 'Katherine',\n",
       " 'Kathleen',\n",
       " 'Kathy',\n",
       " 'Katie',\n",
       " 'Katya',\n",
       " 'Kay',\n",
       " 'Kelly',\n",
       " 'Kelsey',\n",
       " 'Kerry',\n",
       " 'Kimberly',\n",
       " 'Kira',\n",
       " 'Kirby',\n",
       " 'Kitti',\n",
       " 'Kitty',\n",
       " 'Kizzie',\n",
       " 'La',\n",
       " 'Lacy',\n",
       " 'Lamb',\n",
       " 'Lana',\n",
       " 'Lane',\n",
       " 'Lark',\n",
       " 'Laura',\n",
       " 'Laurel',\n",
       " 'Lauren',\n",
       " 'Lauri',\n",
       " 'Laurie',\n",
       " 'Lee',\n",
       " 'Leigh',\n",
       " 'Leila',\n",
       " 'Leland',\n",
       " 'Lena',\n",
       " 'Leona',\n",
       " 'Leone',\n",
       " 'Leonore',\n",
       " 'Leslie',\n",
       " 'Letitia',\n",
       " 'Lil',\n",
       " 'Lila',\n",
       " 'Lilian',\n",
       " 'Lillian',\n",
       " 'Lilly',\n",
       " 'Lily',\n",
       " 'Linda',\n",
       " 'Lindsay',\n",
       " 'Lindy',\n",
       " 'Lisa',\n",
       " 'Lissa',\n",
       " 'Liz',\n",
       " 'Lizzie',\n",
       " 'Lizzy',\n",
       " 'Lois',\n",
       " 'Lola',\n",
       " 'Lolly',\n",
       " 'Lorain',\n",
       " 'Lorelei',\n",
       " 'Loren',\n",
       " 'Lorena',\n",
       " 'Lorraine',\n",
       " 'Lotte',\n",
       " 'Lottie',\n",
       " 'Lou',\n",
       " 'Louisa',\n",
       " 'Louise',\n",
       " 'Love',\n",
       " 'Lucia',\n",
       " 'Lucille',\n",
       " 'Lucky',\n",
       " 'Lucretia',\n",
       " 'Lucy',\n",
       " 'Luisa',\n",
       " 'Luise',\n",
       " 'Lura',\n",
       " 'Lust',\n",
       " 'Lydia',\n",
       " 'Lynn',\n",
       " 'Maddalena',\n",
       " 'Madeleine',\n",
       " 'Madonna',\n",
       " 'Mae',\n",
       " 'Mag',\n",
       " 'Magdalene',\n",
       " 'Maggie',\n",
       " 'Malia',\n",
       " 'Mallory',\n",
       " 'Mame',\n",
       " 'Manon',\n",
       " 'Marcile',\n",
       " 'Margaret',\n",
       " 'Margo',\n",
       " 'Maria',\n",
       " 'Marie',\n",
       " 'Marietta',\n",
       " 'Marilyn',\n",
       " 'Marin',\n",
       " 'Marina',\n",
       " 'Marion',\n",
       " 'Maris',\n",
       " 'Marjorie',\n",
       " 'Marlene',\n",
       " 'Marsha',\n",
       " 'Martha',\n",
       " 'Marty',\n",
       " 'Mary',\n",
       " 'Matilda',\n",
       " 'Mattie',\n",
       " 'Maude',\n",
       " 'Maureen',\n",
       " 'Maurine',\n",
       " 'Mavis',\n",
       " 'Max',\n",
       " 'Maxine',\n",
       " 'May',\n",
       " 'Mead',\n",
       " 'Meg',\n",
       " 'Mel',\n",
       " 'Melisande',\n",
       " 'Melissa',\n",
       " 'Melody',\n",
       " 'Mercedes',\n",
       " 'Mercy',\n",
       " 'Meredith',\n",
       " 'Merle',\n",
       " 'Merrill',\n",
       " 'Merry',\n",
       " 'Mickie',\n",
       " 'Midge',\n",
       " 'Mignon',\n",
       " 'Millie',\n",
       " 'Mimi',\n",
       " 'Minerva',\n",
       " 'Minnie',\n",
       " 'Mira',\n",
       " 'Miranda',\n",
       " 'Miriam',\n",
       " 'Missy',\n",
       " 'Moll',\n",
       " 'Mollie',\n",
       " 'Molly',\n",
       " 'Mommy',\n",
       " 'Monica',\n",
       " 'Morgan',\n",
       " 'Myra',\n",
       " 'Nadine',\n",
       " 'Nan',\n",
       " 'Nancy',\n",
       " 'Naomi',\n",
       " 'Nara',\n",
       " 'Nat',\n",
       " 'Natalie',\n",
       " 'Nell',\n",
       " 'Nellie',\n",
       " 'Nina',\n",
       " 'Noel',\n",
       " 'Norma',\n",
       " 'Nova',\n",
       " 'Octavia',\n",
       " 'Odessa',\n",
       " 'Olga',\n",
       " 'Olive',\n",
       " 'Olivia',\n",
       " 'Oneida',\n",
       " 'Orly',\n",
       " 'Page',\n",
       " 'Pam',\n",
       " 'Pamela',\n",
       " 'Pandora',\n",
       " 'Pat',\n",
       " 'Patience',\n",
       " 'Patrice',\n",
       " 'Patricia',\n",
       " 'Patti',\n",
       " 'Patty',\n",
       " 'Paula',\n",
       " 'Pearl',\n",
       " 'Peg',\n",
       " 'Pen',\n",
       " 'Penny',\n",
       " 'Perle',\n",
       " 'Perry',\n",
       " 'Phil',\n",
       " 'Philippe',\n",
       " 'Philippine',\n",
       " 'Philly',\n",
       " 'Phyllis',\n",
       " 'Portia',\n",
       " 'Prisca',\n",
       " 'Prudence',\n",
       " 'Quintana',\n",
       " 'Rachel',\n",
       " 'Rae',\n",
       " 'Raine',\n",
       " 'Randy',\n",
       " 'Ray',\n",
       " 'Rebecca',\n",
       " 'Regina',\n",
       " 'Reine',\n",
       " 'Remy',\n",
       " 'Rey',\n",
       " 'Robbie',\n",
       " 'Robby',\n",
       " 'Roberta',\n",
       " 'Robin',\n",
       " 'Ronnie',\n",
       " 'Rosa',\n",
       " 'Rosabelle',\n",
       " 'Rosalie',\n",
       " 'Rose',\n",
       " 'Rosella',\n",
       " 'Rosemary',\n",
       " 'Rosie',\n",
       " 'Rosy',\n",
       " 'Row',\n",
       " 'Roxy',\n",
       " 'Rozella',\n",
       " 'Rozelle',\n",
       " 'Ruth',\n",
       " 'Saba',\n",
       " 'Sabina',\n",
       " 'Sabine',\n",
       " 'Sadie',\n",
       " 'Sally',\n",
       " 'Sam',\n",
       " 'Sammy',\n",
       " 'Sandra',\n",
       " 'Sara',\n",
       " 'Sarah',\n",
       " 'Scarlet',\n",
       " 'Scotty',\n",
       " 'Sean',\n",
       " 'Selena',\n",
       " 'Selma',\n",
       " 'Serene',\n",
       " 'Shannon',\n",
       " 'Shari',\n",
       " 'Sharon',\n",
       " 'Shawnee',\n",
       " 'Shay',\n",
       " 'Shayne',\n",
       " 'Shea',\n",
       " 'Sheila',\n",
       " 'Shelagh',\n",
       " 'Shelby',\n",
       " 'Shell',\n",
       " 'Shelley',\n",
       " 'Sherry',\n",
       " 'Shirl',\n",
       " 'Shirley',\n",
       " 'Sibley',\n",
       " 'Sibylla',\n",
       " 'Sioux',\n",
       " 'Sonny',\n",
       " 'Sophia',\n",
       " 'Sophie',\n",
       " 'Stacey',\n",
       " 'Stacy',\n",
       " 'Star',\n",
       " 'Starr',\n",
       " 'Stella',\n",
       " 'Stephanie',\n",
       " 'Stormy',\n",
       " 'Sue',\n",
       " 'Sunny',\n",
       " 'Sunshine',\n",
       " 'Susan',\n",
       " 'Susie',\n",
       " 'Suzanne',\n",
       " 'Sybil',\n",
       " 'Sydney',\n",
       " 'Sylvie',\n",
       " 'Tara',\n",
       " 'Tate',\n",
       " 'Ted',\n",
       " 'Teddy',\n",
       " 'Teresa',\n",
       " 'Terry',\n",
       " 'Tess',\n",
       " 'Tessie',\n",
       " 'Thea',\n",
       " 'Thelma',\n",
       " 'Theresa',\n",
       " 'Tillie',\n",
       " 'Tim',\n",
       " 'Timmy',\n",
       " 'Tommie',\n",
       " 'Tommy',\n",
       " 'Toni',\n",
       " 'Tony',\n",
       " 'Tootsie',\n",
       " 'Tory',\n",
       " 'Tuesday',\n",
       " 'Ursuline',\n",
       " 'Vale',\n",
       " 'Valentine',\n",
       " 'Valerie',\n",
       " 'Valery',\n",
       " 'Van',\n",
       " 'Ventura',\n",
       " 'Venus',\n",
       " 'Vera',\n",
       " 'Vere',\n",
       " 'Veronica',\n",
       " 'Vicky',\n",
       " 'Victoria',\n",
       " 'Vida',\n",
       " 'Viola',\n",
       " 'Violet',\n",
       " 'Virginia',\n",
       " 'Vita',\n",
       " 'Vivian',\n",
       " 'Wally',\n",
       " 'Whitney',\n",
       " 'Wilhelmina',\n",
       " 'Willa',\n",
       " 'Willie',\n",
       " 'Willow',\n",
       " 'Willy',\n",
       " 'Wilmette',\n",
       " 'Wynn',\n",
       " 'Xenia',\n",
       " 'Yvette',\n",
       " 'Zara',\n",
       " 'Zoe'}"
      ]
     },
     "execution_count": 62,
     "metadata": {},
     "output_type": "execute_result"
    }
   ],
   "source": [
    "fem_names_in_brown = set(names.words(\"female.txt\")).intersection(brown.words())\n",
    "fem_names_in_brown"
   ]
  },
  {
   "cell_type": "markdown",
   "metadata": {},
   "source": [
    "2. (Programmatically) create a set of the words from `mini_sense_lexicon` which have an animate noun sense."
   ]
  },
  {
   "cell_type": "code",
   "execution_count": 63,
   "metadata": {},
   "outputs": [
    {
     "data": {
      "text/plain": [
       "{'bear', 'slug'}"
      ]
     },
     "execution_count": 63,
     "metadata": {},
     "output_type": "execute_result"
    }
   ],
   "source": [
    "animates = set()\n",
    "for word, pos_list in mini_sense_lexicon.items():\n",
    "    for feature_dict in pos_list:\n",
    "        if \"animate\" in feature_dict and feature_dict[\"animate\"]:\n",
    "            animates.add(word)\n",
    "animates"
   ]
  },
  {
   "cell_type": "markdown",
   "metadata": {},
   "source": [
    "3. Count how often each English phone appears in CMU lexicon, striping off the stress markers at the end of vowels."
   ]
  },
  {
   "cell_type": "code",
   "execution_count": 64,
   "metadata": {},
   "outputs": [
    {
     "name": "stdout",
     "output_type": "stream",
     "text": [
      "defaultdict(<class 'int'>, {'AH': 71410, 'EY': 13521, 'F': 13748, 'AO': 11290, 'R': 46046, 'T': 48549, 'UW': 9736, 'W': 8864, 'N': 60564, 'IH': 50093, 'P': 19715, 'L': 49479, 'AA': 24546, 'B': 21057, 'ER': 29027, 'G': 13553, 'K': 42502, 'S': 50427, 'EH': 27398, 'TH': 2902, 'M': 29347, 'D': 32389, 'V': 10742, 'Z': 27842, 'IY': 34504, 'AE': 21804, 'OW': 19047, 'NG': 9865, 'SH': 8700, 'HH': 9319, 'AW': 3408, 'AY': 11313, 'JH': 6404, 'Y': 5171, 'CH': 4960, 'ZH': 560, 'UH': 2273, 'DH': 576, 'OY': 1267})\n"
     ]
    }
   ],
   "source": [
    "phone_counts = defaultdict(int)\n",
    "for pronunciations in p_dict.values():\n",
    "    for pronunciation in pronunciations:\n",
    "        for phone in pronunciation:\n",
    "            if phone[-1].isdigit():\n",
    "                phone = phone[:-1]\n",
    "            phone_counts[phone] += 1\n",
    "            \n",
    "print(phone_counts)"
   ]
  }
 ],
 "metadata": {
  "celltoolbar": "Slideshow",
  "kernelspec": {
   "display_name": "Python 3 (ipykernel)",
   "language": "python",
   "name": "python3"
  },
  "language_info": {
   "codemirror_mode": {
    "name": "ipython",
    "version": 3
   },
   "file_extension": ".py",
   "mimetype": "text/x-python",
   "name": "python",
   "nbconvert_exporter": "python",
   "pygments_lexer": "ipython3",
   "version": "3.8.9"
  }
 },
 "nbformat": 4,
 "nbformat_minor": 2
}
