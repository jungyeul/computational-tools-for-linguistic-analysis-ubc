{
 "cells": [
  {
   "cell_type": "markdown",
   "id": "unexpected-basics",
   "metadata": {},
   "source": [
    "# Morphology"
   ]
  },
  {
   "cell_type": "markdown",
   "id": "shared-liabilities",
   "metadata": {},
   "source": [
    "## Morphological segmentation\n",
    "### morphological segmentation inside-out"
   ]
  },
  {
   "cell_type": "code",
   "execution_count": null,
   "id": "forced-channels",
   "metadata": {},
   "outputs": [],
   "source": []
  },
  {
   "cell_type": "markdown",
   "metadata": {},
   "source": [
    "### unsupervised discovery of morphemes"
   ]
  },
  {
   "cell_type": "code",
   "execution_count": null,
   "metadata": {},
   "outputs": [],
   "source": []
  },
  {
   "cell_type": "markdown",
   "id": "appropriate-scene",
   "metadata": {},
   "source": [
    "## Morphological paradigm (Optional)\n",
    "### Task 1"
   ]
  },
  {
   "cell_type": "code",
   "execution_count": null,
   "id": "falling-exclusion",
   "metadata": {},
   "outputs": [],
   "source": []
  }
 ],
 "metadata": {
  "kernelspec": {
   "display_name": "Python 3",
   "language": "python",
   "name": "python3"
  },
  "language_info": {
   "codemirror_mode": {
    "name": "ipython",
    "version": 3
   },
   "file_extension": ".py",
   "mimetype": "text/x-python",
   "name": "python",
   "nbconvert_exporter": "python",
   "pygments_lexer": "ipython3",
   "version": "3.8.9"
  }
 },
 "nbformat": 4,
 "nbformat_minor": 5
}
