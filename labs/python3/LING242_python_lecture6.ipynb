{
 "cells": [
  {
   "cell_type": "markdown",
   "metadata": {
    "slideshow": {
     "slide_type": "slide"
    }
   },
   "source": [
    "# LING 242 Python Lecture 6: XML\n",
    "\n",
    "* XML basics\n",
    "* Exploring XML with Beautiful Soup\n",
    "* Webpages (HTML, etc.)\n",
    "* Exercises"
   ]
  },
  {
   "cell_type": "markdown",
   "metadata": {
    "slideshow": {
     "slide_type": "slide"
    }
   },
   "source": [
    "## XML basics"
   ]
  },
  {
   "cell_type": "markdown",
   "metadata": {
    "slideshow": {
     "slide_type": "fragment"
    }
   },
   "source": [
    "[XML](https://en.wikipedia.org/wiki/XML) (eXtensible Markup Language) is a standard way to add explicit structure or information to text. Spans of text are enclosed in _tags_ representing metatextual information, forming an _element_. Most tags consist of a pair of _start-tag_ and and _end-tag_. "
   ]
  },
  {
   "cell_type": "raw",
   "metadata": {},
   "source": [
    "<greeting> Hello world!</greeting>"
   ]
  },
  {
   "cell_type": "markdown",
   "metadata": {},
   "source": [
    "Tags are enclosed in angle brackets, and end tags are distinguished from start tags with a forward slash after the first bracket.\n",
    "\n",
    "XML is a general framework that does not define specific valid tags. That said, there are a few rules about what can be a tag:"
   ]
  },
  {
   "cell_type": "raw",
   "metadata": {},
   "source": [
    "- tags should NOT contain most non-alphanumberic characters, i.e. !\"#$%&'()*+,/;<=>?@[\\]^`{|}~\n",
    "- tags should NOT contain white space\n",
    "- tags CAN contain numbers, hyphens, and periods, but not as the first character "
   ]
  },
  {
   "cell_type": "markdown",
   "metadata": {},
   "source": [
    "So, you can follow pretty much the same rules for valid Python variables and XML tags. XML tags are case sensitive, so make sure your opening and closing tags are exactly the same.\n",
    "\n",
    "Importantly, XML elements can be nested in other XML elements."
   ]
  },
  {
   "cell_type": "raw",
   "metadata": {},
   "source": [
    "<sent> this <copula>is</copula> <NP>a valid XML element</NP> </sent>"
   ]
  },
  {
   "cell_type": "markdown",
   "metadata": {},
   "source": [
    "We can represent this (and all valid XML) as a tree, with the strings as leaves. Let's draw the tree which corresponds to the XML element above."
   ]
  },
  {
   "cell_type": "markdown",
   "metadata": {},
   "source": [
    "Since all XML documents form trees, there are things we can't do, like this:"
   ]
  },
  {
   "cell_type": "raw",
   "metadata": {},
   "source": [
    "<text> \n",
    "<sent> this <span>is not good.</sent> <sent> we've got a problem </span> here.</sent>\n",
    "</text>"
   ]
  },
  {
   "cell_type": "markdown",
   "metadata": {},
   "source": [
    "It's not possible to draw this as a tree (we can try, but...)\n"
   ]
  },
  {
   "cell_type": "markdown",
   "metadata": {},
   "source": [
    "Though note that it is perfectly okay to nest multiple instances of the same tag. XML parsers will  close each element assuming you know what you're doing (in terms of creating valid XML):"
   ]
  },
  {
   "cell_type": "raw",
   "metadata": {},
   "source": [
    "<span> This is the outer span but <span> now we are in the middle span and <span> here's the inner span, but </span> now we've returned to the middle span, and soon </span> we'll be only in the outer span again. </span>"
   ]
  },
  {
   "cell_type": "markdown",
   "metadata": {},
   "source": [
    "Though XML can be written without any line breaks or any formatting at all (it isn't Pythonic at all in that regard!!!), it might be easier if we look at it in another way (though note we've inserted some newlines here to accomplish this):"
   ]
  },
  {
   "cell_type": "raw",
   "metadata": {},
   "source": [
    "<span>\n",
    "   This is the outer span but\n",
    "   <span>\n",
    "      now we are in the middle span and\n",
    "      <span>\n",
    "         here's the inner span, but\n",
    "      </span>\n",
    "      now we've returned to the middle span, and soon\n",
    "   </span>\n",
    "   we'll only be in the outer span again.\n",
    "</span>"
   ]
  },
  {
   "cell_type": "markdown",
   "metadata": {},
   "source": [
    "Start-tags optionally include attributes and their values"
   ]
  },
  {
   "cell_type": "raw",
   "metadata": {},
   "source": [
    "<tag attribute1=\"value\" attribute2=\"value\" ...> some text </tag>"
   ]
  },
  {
   "cell_type": "markdown",
   "metadata": {},
   "source": [
    "The form of attribute names have the same restrictions as tags, and they should be consistent across elements with the same tags (but strickly speaking they don't _have_ to be). Attribute values are always strings (enclosed in quotes) even when they are numbers."
   ]
  },
  {
   "cell_type": "raw",
   "metadata": {},
   "source": [
    "<text type=\"example\"> \n",
    "    <sent type=\"declarative\" n=\"1\"> This is a declarative sentence.</sent>\n",
    "    <sent type=\"imperative\" n=\"2\"> Read this imperative sentence! </sent>\n",
    "    <sent type=\"interrogative\" n=\"3\"> Is this interrogative sentence okay?</sent>\n",
    "</text>"
   ]
  },
  {
   "cell_type": "markdown",
   "metadata": {},
   "source": [
    "It is also possible to have an \"empty\" XML tag that contains no text at all, forming a non-text leaf of the XML document tree. For this, you put the backslash at the end of the tag, after a space."
   ]
  },
  {
   "cell_type": "raw",
   "metadata": {},
   "source": [
    "<sent> this sentence is split <breakpoint /> into two spans by a empty tag </sent>"
   ]
  },
  {
   "cell_type": "raw",
   "metadata": {},
   "source": [
    "XML supports all of Unicode (basically all forms of writing ever created, more on this next week!), however there is the usual problem with needing to escape certain characters. The ones you need to worry most about are < (which becomes &lt;) and & (&amp;), which is the escape character. See examples below. "
   ]
  },
  {
   "cell_type": "raw",
   "metadata": {},
   "source": [
    "<escapethiscode> prob += x + y &lt;= 10 </escapethiscode>\n",
    "<esapethisheadline> Texas A&amp;M has won the game!</escapethisheadline>"
   ]
  },
  {
   "cell_type": "markdown",
   "metadata": {},
   "source": [
    "You will sometimes see other characters expressed using this same kind of syntax, there are [tables](https://en.wikipedia.org/wiki/List_of_XML_and_HTML_character_entity_references) which will give you the escaped version of any character.\n",
    "\n",
    "Note that most packages you would use (like beautiful soup, discussed below), will deal with this escaping automatically."
   ]
  },
  {
   "cell_type": "markdown",
   "metadata": {},
   "source": [
    "There are also comments in XML."
   ]
  },
  {
   "cell_type": "raw",
   "metadata": {},
   "source": [
    "<!-- This is a XML comment. BTW, No need to escape & and < here!, but stay away from pairs of double hyphens -->"
   ]
  },
  {
   "cell_type": "markdown",
   "metadata": {},
   "source": [
    "## Exploring XML with Beautiful Soup\n",
    "\n",
    "You can use regular expressions to efficiently pull out spans of text associated with a specific tag. If you don't need to access the document structure, this is an efficient choice. "
   ]
  },
  {
   "cell_type": "code",
   "execution_count": 1,
   "metadata": {},
   "outputs": [],
   "source": [
    "example = '''\n",
    "<text type=\"example\"> \n",
    "    <sent type=\"declarative\" n=\"1\"> This is a <keyword>declarative</keyword> sentence<punct>.</punct></sent>\n",
    "    <sent type=\"imperative\" n=\"2\"> Read this <keyword>imperative</keyword> sentence<punct>!</punct></sent>\n",
    "    <sent type=\"interrogative\" n=\"3\"> Is this <keyword>interrogative</keyword> sentence okay<punct>?</punct></sent>\n",
    "</text>\n",
    "'''"
   ]
  },
  {
   "cell_type": "code",
   "execution_count": 2,
   "metadata": {},
   "outputs": [
    {
     "name": "stdout",
     "output_type": "stream",
     "text": [
      "declarative\n",
      "imperative\n",
      "interrogative\n"
     ]
    }
   ],
   "source": [
    "import re\n",
    "\n",
    "regex = r\"<keyword>([^<]+)</keyword>\"\n",
    "\n",
    "for match in re.finditer(regex,example):\n",
    "    print(match.group(1))"
   ]
  },
  {
   "cell_type": "markdown",
   "metadata": {},
   "source": [
    "However, in other cases it is useful to take advantage of a parser that allows you to progammatically explore the XML document tree. There are several packages which will do this for you, one of the most popular is [BeautifulSoup](https://www.crummy.com/software/BeautifulSoup/bs4/doc). You can just [create a \"Soup\" tree](https://www.crummy.com/software/BeautifulSoup/bs4/doc/#making-the-soup) by passing in a string of XML. BeautifulSoup actually supports multiple parsing strategies, so you have to tell it that you want to use \"lxml\" or it will complain."
   ]
  },
  {
   "cell_type": "code",
   "execution_count": 3,
   "metadata": {},
   "outputs": [],
   "source": [
    "# !python3 -m pip install bs4\n",
    "# !python3 -m pip install lxml\n",
    "\n",
    "from bs4 import BeautifulSoup\n",
    "import lxml\n",
    "\n",
    "soup = BeautifulSoup(example,\"lxml\")"
   ]
  },
  {
   "cell_type": "code",
   "execution_count": 4,
   "metadata": {},
   "outputs": [
    {
     "data": {
      "text/plain": [
       "<html><body><text type=\"example\">\n",
       "<sent n=\"1\" type=\"declarative\"> This is a <keyword>declarative</keyword> sentence<punct>.</punct></sent>\n",
       "<sent n=\"2\" type=\"imperative\"> Read this <keyword>imperative</keyword> sentence<punct>!</punct></sent>\n",
       "<sent n=\"3\" type=\"interrogative\"> Is this <keyword>interrogative</keyword> sentence okay<punct>?</punct></sent>\n",
       "</text>\n",
       "</body></html>"
      ]
     },
     "execution_count": 4,
     "metadata": {},
     "output_type": "execute_result"
    }
   ],
   "source": [
    "soup"
   ]
  },
  {
   "cell_type": "markdown",
   "metadata": {},
   "source": [
    "Note that BeautifulSoup has added two standard layers of tags (html, body) around the existing XML. BeautifulSoup is primarily used to parse web pages, so this makes a certain amount of sense, though is a bit presumptious!\n",
    "\n",
    "You can use the [prettify](https://www.crummy.com/software/BeautifulSoup/bs4/doc/#pretty-printing) method if you want a bit more structure (make sure you use print!)."
   ]
  },
  {
   "cell_type": "code",
   "execution_count": 5,
   "metadata": {},
   "outputs": [
    {
     "name": "stdout",
     "output_type": "stream",
     "text": [
      "<html>\n",
      " <body>\n",
      "  <text type=\"example\">\n",
      "   <sent n=\"1\" type=\"declarative\">\n",
      "    This is a\n",
      "    <keyword>\n",
      "     declarative\n",
      "    </keyword>\n",
      "    sentence\n",
      "    <punct>\n",
      "     .\n",
      "    </punct>\n",
      "   </sent>\n",
      "   <sent n=\"2\" type=\"imperative\">\n",
      "    Read this\n",
      "    <keyword>\n",
      "     imperative\n",
      "    </keyword>\n",
      "    sentence\n",
      "    <punct>\n",
      "     !\n",
      "    </punct>\n",
      "   </sent>\n",
      "   <sent n=\"3\" type=\"interrogative\">\n",
      "    Is this\n",
      "    <keyword>\n",
      "     interrogative\n",
      "    </keyword>\n",
      "    sentence okay\n",
      "    <punct>\n",
      "     ?\n",
      "    </punct>\n",
      "   </sent>\n",
      "  </text>\n",
      " </body>\n",
      "</html>\n"
     ]
    }
   ],
   "source": [
    "print(soup.prettify())"
   ]
  },
  {
   "cell_type": "markdown",
   "metadata": {
    "slideshow": {
     "slide_type": "fragment"
    }
   },
   "source": [
    "We can find a specific node or node in the tree by using the [find/find_all](https://www.crummy.com/software/BeautifulSoup/bs4/doc/#searching-the-tree) methods. It accepts strings, and also lists and even complied regular expressions!"
   ]
  },
  {
   "cell_type": "code",
   "execution_count": 6,
   "metadata": {
    "slideshow": {
     "slide_type": "fragment"
    }
   },
   "outputs": [
    {
     "name": "stdout",
     "output_type": "stream",
     "text": [
      "<keyword>declarative</keyword>\n",
      "<punct>.</punct>\n",
      "<keyword>imperative</keyword>\n",
      "<punct>!</punct>\n",
      "<keyword>interrogative</keyword>\n",
      "<punct>?</punct>\n"
     ]
    }
   ],
   "source": [
    "for node in soup.find_all([\"keyword\",\"punct\"]):\n",
    "    print(node)"
   ]
  },
  {
   "cell_type": "code",
   "execution_count": 7,
   "metadata": {},
   "outputs": [
    {
     "name": "stdout",
     "output_type": "stream",
     "text": [
      "<keyword>declarative</keyword>\n",
      "<keyword>imperative</keyword>\n",
      "<keyword>interrogative</keyword>\n"
     ]
    }
   ],
   "source": [
    "regex = re.compile(r\".{3}word$\")\n",
    "for node in soup.find_all(regex):\n",
    "    print(node)   "
   ]
  },
  {
   "cell_type": "markdown",
   "metadata": {},
   "source": [
    "The nodes that we get by doing a find/find_all are not strings, but rather a special type, a `Tag`. It has four key attributes:\n",
    "\n",
    "- `name`: the string identifier for the tag associated with the node\n",
    "- `attrs`: a dictionary of the XML attributes, providing key/value pairs\n",
    "- `contents`: a list of the node's children in the XML document tree\n",
    "- `parent`: the node's parent in the XML document tree\n",
    "\n",
    "Let's explore these attributes a bit, starting with first sentence"
   ]
  },
  {
   "cell_type": "code",
   "execution_count": 8,
   "metadata": {},
   "outputs": [],
   "source": [
    "node = soup.find(\"sent\")"
   ]
  },
  {
   "cell_type": "code",
   "execution_count": 9,
   "metadata": {},
   "outputs": [
    {
     "data": {
      "text/plain": [
       "bs4.element.Tag"
      ]
     },
     "execution_count": 9,
     "metadata": {},
     "output_type": "execute_result"
    }
   ],
   "source": [
    "type(node)"
   ]
  },
  {
   "cell_type": "code",
   "execution_count": 10,
   "metadata": {},
   "outputs": [
    {
     "data": {
      "text/plain": [
       "'sent'"
      ]
     },
     "execution_count": 10,
     "metadata": {},
     "output_type": "execute_result"
    }
   ],
   "source": [
    "node.name"
   ]
  },
  {
   "cell_type": "code",
   "execution_count": 11,
   "metadata": {},
   "outputs": [
    {
     "data": {
      "text/plain": [
       "{'type': 'declarative', 'n': '1'}"
      ]
     },
     "execution_count": 11,
     "metadata": {},
     "output_type": "execute_result"
    }
   ],
   "source": [
    "node.attrs"
   ]
  },
  {
   "cell_type": "code",
   "execution_count": 12,
   "metadata": {},
   "outputs": [
    {
     "data": {
      "text/plain": [
       "[' This is a ', <keyword>declarative</keyword>, ' sentence', <punct>.</punct>]"
      ]
     },
     "execution_count": 12,
     "metadata": {},
     "output_type": "execute_result"
    }
   ],
   "source": [
    "node.contents"
   ]
  },
  {
   "cell_type": "code",
   "execution_count": 13,
   "metadata": {},
   "outputs": [
    {
     "data": {
      "text/plain": [
       "'text'"
      ]
     },
     "execution_count": 13,
     "metadata": {},
     "output_type": "execute_result"
    }
   ],
   "source": [
    "node.parent.name"
   ]
  },
  {
   "cell_type": "markdown",
   "metadata": {},
   "source": [
    "A couple things with (XML) attributes. First, you can treat the node itself as if it was a dictionary for the purpose of accessing its attributes"
   ]
  },
  {
   "cell_type": "code",
   "execution_count": 14,
   "metadata": {},
   "outputs": [
    {
     "data": {
      "text/plain": [
       "'1'"
      ]
     },
     "execution_count": 14,
     "metadata": {},
     "output_type": "execute_result"
    }
   ],
   "source": [
    "node[\"n\"]"
   ]
  },
  {
   "cell_type": "markdown",
   "metadata": {},
   "source": [
    "Attributes can also be accessed during find/find_all, just add the key as a (function) keyword! You can search for particular values with the same options as tags (strings, list of strings, regex)"
   ]
  },
  {
   "cell_type": "code",
   "execution_count": 15,
   "metadata": {},
   "outputs": [
    {
     "data": {
      "text/plain": [
       "<sent n=\"2\" type=\"imperative\"> Read this <keyword>imperative</keyword> sentence<punct>!</punct></sent>"
      ]
     },
     "execution_count": 15,
     "metadata": {},
     "output_type": "execute_result"
    }
   ],
   "source": [
    "soup.find(n=\"2\")"
   ]
  },
  {
   "cell_type": "markdown",
   "metadata": {
    "slideshow": {
     "slide_type": "fragment"
    }
   },
   "source": [
    "`contents` and `parent` allow you to manually explore the document tree around a node. For example, you can iterate over the list, or work your way up to the root node."
   ]
  },
  {
   "cell_type": "code",
   "execution_count": 16,
   "metadata": {
    "scrolled": true,
    "slideshow": {
     "slide_type": "-"
    }
   },
   "outputs": [
    {
     "name": "stdout",
     "output_type": "stream",
     "text": [
      " This is a \n",
      "<keyword>declarative</keyword>\n",
      " sentence\n",
      "<punct>.</punct>\n"
     ]
    }
   ],
   "source": [
    "for child in node.contents:\n",
    "    print(child)"
   ]
  },
  {
   "cell_type": "code",
   "execution_count": 17,
   "metadata": {},
   "outputs": [
    {
     "data": {
      "text/plain": [
       "'html'"
      ]
     },
     "execution_count": 17,
     "metadata": {},
     "output_type": "execute_result"
    }
   ],
   "source": [
    "node.parent.parent.parent.name"
   ]
  },
  {
   "cell_type": "markdown",
   "metadata": {},
   "source": [
    "Note that find/find_all can also be used on nodes other than the root, and will only search under that node:"
   ]
  },
  {
   "cell_type": "code",
   "execution_count": 18,
   "metadata": {},
   "outputs": [
    {
     "name": "stdout",
     "output_type": "stream",
     "text": [
      "<punct>.</punct>\n"
     ]
    }
   ],
   "source": [
    "for subnode in node.find_all(\"punct\"):\n",
    "    print(subnode)"
   ]
  },
  {
   "cell_type": "markdown",
   "metadata": {
    "slideshow": {
     "slide_type": "fragment"
    }
   },
   "source": [
    "Text nodes are not strings, instead they are wrapped up in a special object (NavigableString) that form the leaves of the tree."
   ]
  },
  {
   "cell_type": "code",
   "execution_count": 19,
   "metadata": {},
   "outputs": [
    {
     "data": {
      "text/plain": [
       "' This is a '"
      ]
     },
     "execution_count": 19,
     "metadata": {},
     "output_type": "execute_result"
    }
   ],
   "source": [
    "node.contents[0]"
   ]
  },
  {
   "cell_type": "code",
   "execution_count": 20,
   "metadata": {},
   "outputs": [
    {
     "data": {
      "text/plain": [
       "bs4.element.NavigableString"
      ]
     },
     "execution_count": 20,
     "metadata": {},
     "output_type": "execute_result"
    }
   ],
   "source": [
    "type(node.contents[0])"
   ]
  },
  {
   "cell_type": "code",
   "execution_count": 21,
   "metadata": {},
   "outputs": [],
   "source": [
    "text = str(node.contents[2])"
   ]
  },
  {
   "cell_type": "code",
   "execution_count": 22,
   "metadata": {},
   "outputs": [
    {
     "data": {
      "text/plain": [
       "str"
      ]
     },
     "execution_count": 22,
     "metadata": {},
     "output_type": "execute_result"
    }
   ],
   "source": [
    "type(text)"
   ]
  },
  {
   "cell_type": "markdown",
   "metadata": {},
   "source": [
    "If you want to get all the text under a particular node in the tree as a string (with any XML markup removed), the best way is to use [get_text]((https://www.crummy.com/software/BeautifulSoup/bs4/doc/#get-text)."
   ]
  },
  {
   "cell_type": "code",
   "execution_count": 23,
   "metadata": {
    "slideshow": {
     "slide_type": "fragment"
    }
   },
   "outputs": [
    {
     "data": {
      "text/plain": [
       "'\\n This is a declarative sentence.\\n Read this imperative sentence!\\n Is this interrogative sentence okay?\\n\\n'"
      ]
     },
     "execution_count": 23,
     "metadata": {},
     "output_type": "execute_result"
    }
   ],
   "source": [
    "soup.get_text()"
   ]
  },
  {
   "cell_type": "markdown",
   "metadata": {
    "slideshow": {
     "slide_type": "slide"
    }
   },
   "source": [
    "## Web pages (HTML, etc.)"
   ]
  },
  {
   "cell_type": "markdown",
   "metadata": {},
   "source": [
    "Web pages are written using HTML, which you can treat as a version of XML that is specific to the purpose of formatting documents for viewing on web browsers (it's a bit more complicated than that, but...). All the basics of XML syntax applies to HTML (though node HTML has a fixed set of tags). And that means we can and should process them using Beautiful Soup!\n",
    "\n",
    "(Fun fact: Microsoft Word .docx files are also XML documents under the hood, though they are complex and you're better off using a dedicated package like [python-docx](https://python-docx.readthedocs.io/en/latest/user/documents.html) rather the Beautiful Soup to read them)"
   ]
  },
  {
   "cell_type": "markdown",
   "metadata": {
    "slideshow": {
     "slide_type": "subslide"
    }
   },
   "source": [
    "First, though, webpages have to be opened, using a URL (same as you see in your browser). To do so, there's a special urlopen command (from the package urllib.request); just pass it the URL. This creates a filepointer object (more about these next week)."
   ]
  },
  {
   "cell_type": "code",
   "execution_count": 24,
   "metadata": {
    "slideshow": {
     "slide_type": "fragment"
    }
   },
   "outputs": [],
   "source": [
    "from urllib.request import urlopen\n",
    "\n",
    "url = \"http://www.ubc.ca\"\n",
    "\n",
    "f = urlopen(url)"
   ]
  },
  {
   "cell_type": "markdown",
   "metadata": {
    "slideshow": {
     "slide_type": "fragment"
    }
   },
   "source": [
    "If you're using BeautifulSoup, you can just pass this filepoint directly to the BeautifulSoup constructor. So easy! \n",
    "\n",
    "Note you can also do this for a filepointer for an XMl/HTML file you have created from a file on disk with regular `open`."
   ]
  },
  {
   "cell_type": "code",
   "execution_count": 25,
   "metadata": {
    "slideshow": {
     "slide_type": "-"
    }
   },
   "outputs": [],
   "source": [
    "html_soup = BeautifulSoup(f,\"lxml\")"
   ]
  },
  {
   "cell_type": "markdown",
   "metadata": {},
   "source": [
    "Lets take a look at what we've got!"
   ]
  },
  {
   "cell_type": "code",
   "execution_count": 26,
   "metadata": {
    "scrolled": true,
    "slideshow": {
     "slide_type": "fragment"
    }
   },
   "outputs": [
    {
     "data": {
      "text/plain": [
       "<!DOCTYPE html>\n",
       "<!--[if IEMobile 7]><html class=\"iem7 oldie\" lang=\"en-ca\"><![endif]--><!--[if (IE 7)&!(IEMobile)]><html class=\"ie7 oldie\" lang=\"en-ca\"><![endif]--><!--[if (IE 8)&!(IEMobile)]><html class=\"ie8 oldie\" lang=\"en-ca\"><![endif]--><!--[if (IE 9)&!(IEMobile)]><html class=\"ie9\" lang=\"en-ca\"><![endif]--><!--[[if (gt IE 9)|(gt IEMobile 7)]><!--><html lang=\"en-ca\"><!--<![endif]-->\n",
       "<head>\n",
       "<meta charset=\"utf-8\"/>\n",
       "<title>The University of British Columbia</title>\n",
       "<meta content=\"width=device-width\" name=\"viewport\"/>\n",
       "<meta content=\"The University of British Columbia is a global centre for research and teaching, consistently ranked among the top 20 public universities in the world.\" name=\"description\"/>\n",
       "<meta content=\"16761458703\" property=\"fb:pages\"/>\n",
       "<!-- Stylesheets -->\n",
       "<link href=\"//cdn.ubc.ca/clf/7.0.5/css/ubc-clf-full-bw.min.css\" rel=\"stylesheet\"/>\n",
       "<link href=\"//cloud.typography.com/6804272/781004/css/fonts.css\" rel=\"stylesheet\" type=\"text/css\"/>\n",
       "<link href=\"/_assets/css/style.min.css?5\" rel=\"stylesheet\"/>\n",
       "<!--[if lte IE 7]>\n",
       "<link href=\"https://cdn.ubc.ca/clf/7.0.5/css/font-awesome-ie7.css\" rel=\"stylesheet\">\n",
       "<![endif]-->\n",
       "<!-- Le HTML5 shim, for IE6-8 support of HTML5 elements -->\n",
       "<!--[if lt IE 9]>\n",
       "  <script src=\"//cdn.ubc.ca/clf/html5shiv.min.js\"></script>\n",
       "<![endif]-->\n",
       "<!-- Fav and touch icons -->\n",
       "<link href=\"//cdn.ubc.ca/clf/7.0.5/img/favicon.ico\" rel=\"shortcut icon\"/>\n",
       "<link href=\"//cdn.ubc.ca/clf/7.0.5/img/touch-icon-iphone.png\" rel=\"apple-touch-icon\"/>\n",
       "<link href=\"//cdn.ubc.ca/clf/7.0.5/img/touch-icon-ipad.png\" rel=\"apple-touch-icon\" sizes=\"152x152\"/>\n",
       "<link href=\"//cdn.ubc.ca/clf/7.0.5/img/touch-icon-iphone-retina.png\" rel=\"apple-touch-icon\" sizes=\"180x180\"/>\n",
       "<link href=\"//cdn.ubc.ca/clf/7.0.5/img/touch-icon-ipad-retina.png\" rel=\"apple-touch-icon\" sizes=\"167x167\"/>\n",
       "<!-- Google Tag Manager --><script>(function(w,d,s,l,i){w[l]=w[l]||[];w[l].push({'gtm.start':new Date().getTime(),event:'gtm.js'});var f=d.getElementsByTagName(s)[0],j=d.createElement(s),dl=l!='dataLayer'?'&l='+l:'';j.async=true;j.src='https://www.googletagmanager.com/gtm.js?id='+i+dl;f.parentNode.insertBefore(j,f);})(window,document,'script','dataLayer','GTM-PGPCK4W');</script><!-- End Google Tag Manager -->\n",
       "<script>\n",
       "  (function(i,s,o,g,r,a,m){i['GoogleAnalyticsObject']=r;i[r]=i[r]||function(){\n",
       "  (i[r].q=i[r].q||[]).push(arguments)},i[r].l=1*new Date();a=s.createElement(o),\n",
       "  m=s.getElementsByTagName(o)[0];a.async=1;a.src=g;m.parentNode.insertBefore(a,m)\n",
       "  })(window,document,'script','//www.google-analytics.com/analytics.js','ga');\n",
       "\n",
       "  ga('create', 'UA-521384-1', 'auto', {'allowLinker': true});\n",
       "  ga('require', 'linker');\n",
       "  ga('linker:autoLink', ['ubc-faculty-staff.sites.olt.ubc.ca'] );\n",
       "  ga('send', 'pageview');\n",
       "</script>\n",
       "</head>\n",
       "<body class=\"full-width\">\n",
       "<a class=\"skip-link\" href=\"#main\">Skip to main content</a>\n",
       "<!-- UBC Global Utility Menu -->\n",
       "<div class=\"collapse expand\" id=\"ubc7-global-menu\">\n",
       "<div class=\"expand\" id=\"ubc7-search\">\n",
       "<div class=\"container\">\n",
       "<div id=\"ubc7-search-box\">\n",
       "<form action=\"//www.ubc.ca/search/\" class=\"form-search\" method=\"get\" role=\"search\">\n",
       "<label for=\"q\">Search UBC</label>\n",
       "<input class=\"input-xlarge search-query\" id=\"q\" name=\"q\" placeholder=\"Search UBC\" type=\"text\"/>\n",
       "<button class=\"btn\" type=\"submit\">Search</button>\n",
       "</form>\n",
       "</div>\n",
       "</div>\n",
       "</div>\n",
       "<div class=\"container\">\n",
       "<div class=\"expand\" id=\"ubc7-global-header\">\n",
       "<!-- Global Utility Header from CDN -->\n",
       "</div>\n",
       "</div>\n",
       "</div>\n",
       "<!-- End of UBC Global Utility Menu -->\n",
       "<!-- UBC Header -->\n",
       "<header class=\"row-fluid expand\" id=\"ubc7-header\">\n",
       "<div class=\"container\">\n",
       "<div class=\"span1\">\n",
       "<div aria-label=\"university logo\" id=\"ubc7-logo\" role=\"navigation\">\n",
       "<a href=\"//www.ubc.ca\" title=\"The University of British Columbia (UBC)\">The University of British Columbia</a>\n",
       "</div>\n",
       "</div>\n",
       "<div class=\"span11\" id=\"ubc7-wordmark-block\">\n",
       "<div aria-label=\"wordmark\" id=\"ubc7-wordmark\">\n",
       "<a href=\"//www.ubc.ca\">The University of British Columbia</a>\n",
       "</div>\n",
       "<div id=\"ubc7-global-utility\">\n",
       "<button aria-label=\"search trigger\" data-target=\"#ubc7-global-menu\" data-toggle=\"collapse\" type=\"button\"><span>UBC Search</span></button>\n",
       "<noscript><a href=\"//www.ubc.ca/\" id=\"ubc7-global-utility-no-script\">UBC Search</a></noscript>\n",
       "</div>\n",
       "</div>\n",
       "</div>\n",
       "</header>\n",
       "<!-- End of UBC Header -->\n",
       "<!-- UBC Unit Identifier -->\n",
       "<div class=\"row-fluid expand hidden-desktop\" id=\"ubc7-unit\">\n",
       "<div class=\"container\">\n",
       "<div class=\"span12\">\n",
       "<!-- Mobile Menu Icon -->\n",
       "<div class=\"navbar\">\n",
       "<a aria-label=\"Main Menu\" class=\"btn btn-navbar collapsed\" data-target=\"#ubc7-unit-navigation\" data-toggle=\"collapse\" id=\"ubc-unit-btn\">\n",
       "<span class=\"icon-bar\"></span>\n",
       "<span class=\"icon-bar\"></span>\n",
       "<span class=\"icon-bar\"></span>\n",
       "</a>\n",
       "</div>\n",
       "<div class=\"navbar\">\n",
       "<a aria-label=\"Audience Menu\" class=\"btn btn-navbar audience-btn collapsed\" data-target=\"#ubc7-audience-navigation\" data-toggle=\"collapse\" id=\"ubc-audience-btn\">\n",
       "<span class=\"icon-user\"></span>\n",
       "</a>\n",
       "</div>\n",
       "</div>\n",
       "</div>\n",
       "</div>\n",
       "<!-- End of UBC Unit Identifier -->\n",
       "<!-- UBC Audience Navigation -->\n",
       "<div class=\"navbar expand ubc-menu\" id=\"ubc7-unit-menu\" role=\"navigation\">\n",
       "<div class=\"navbar-inner expand\">\n",
       "<div class=\"container\">\n",
       "<nav aria-label=\"main navigation\" class=\"nav-collapse collapse\" id=\"ubc7-unit-navigation\">\n",
       "<ul class=\"nav\">\n",
       "<li><a href=\"/about/\" id=\"menu-about\">About UBC</a>\n",
       "</li><li><a href=\"/our-campuses/\" id=\"menu-campus\">Our Campuses</a>\n",
       "</li><li><a href=\"/admissions/\" id=\"menu-admissions\">Admissions</a>\n",
       "</li><li><a href=\"/academics/\" id=\"menu-academics\">Academics</a>\n",
       "</li><li><a href=\"/strategic-priorities/\" id=\"menu-strategic\">Strategic Priorities</a>\n",
       "</li><li><a href=\"/research/\" id=\"menu-research\">Research</a>\n",
       "</li><li><a href=\"/campus-life/\" id=\"menu-life\">Campus Life</a>\n",
       "</li><li><a href=\"/news/\" id=\"menu-news\">News</a>\n",
       "</li><li><a href=\"https://give.ubc.ca\">give UBC</a>\n",
       "</li></ul> </nav><!-- /.nav-collapse -->\n",
       "</div>\n",
       "</div><!-- /navbar-inner -->\n",
       "</div><!-- /navbar -->\n",
       "<!-- End of UBC Audience Navigation -->\n",
       "<!-- UBC Unit Navigation -->\n",
       "<div class=\"navbar expand ubc-menu\" id=\"ubc7-audience-menu\" role=\"navigation\">\n",
       "<div class=\"navbar-inner expand\">\n",
       "<div class=\"container\">\n",
       "<nav aria-label=\"navigation by audience type\" class=\"nav-collapse collapse\" id=\"ubc7-audience-navigation\">\n",
       "<span aria-hidden=\"true\" class=\"icon-user\"></span>\n",
       "<ul class=\"nav\">\n",
       "<li><a href=\"/prospective-students/\" id=\"menu-prospective\">Prospective Students</a>\n",
       "</li><li><a href=\"/undergraduate-students/\" id=\"menu-undergraduate\">Undergraduate Students</a>\n",
       "</li><li><a href=\"/graduate-students/\" id=\"menu-graduate\">Graduate Students</a>\n",
       "</li><li><a href=\"/faculty-staff/\" id=\"menu-faculty\">Faculty &amp; Staff</a>\n",
       "</li><li><a href=\"http://www.alumni.ubc.ca/\" id=\"menu-alumni\">Alumni</a>\n",
       "</li><li><a href=\"/community-partners/\" id=\"menu-community\">Community Partners</a>\n",
       "</li></ul> </nav><!-- /.nav-collapse -->\n",
       "</div>\n",
       "</div><!-- /navbar-inner -->\n",
       "</div><!-- /navbar -->\n",
       "<!-- End of UBC Unit Navigation -->\n",
       "<div class=\"full-width-container no-padding\" id=\"main\"> <div class=\"bound alert\">\n",
       "<div class=\"alert-box\">\n",
       "<div class=\"alert-icon\">!</div>\n",
       "<div class=\"alert-content\">\n",
       "<div class=\"alert-message\"><span>UBC Vancouver:</span> Remote working during the current gas restriction. <a href=\"/campus-notifications/\">Read More</a></div>\n",
       "<div class=\"alert-date\">Updated: Nov. 22, 2021 – 8:51 a.m. PST</div>\n",
       "</div>\n",
       "</div>\n",
       "</div>\n",
       "<div class=\"bound alert blue\">\n",
       "<div class=\"alert-box\">\n",
       "<div class=\"alert-icon\">!</div>\n",
       "<div class=\"alert-content\">\n",
       "<div class=\"alert-message\"><span>Coronavirus (COVID-19) and UBC’s response:</span> Find the <a href=\"https://covid19.ubc.ca/\">latest updates here</a> for students, faculty and staff.</div>\n",
       "</div>\n",
       "</div>\n",
       "</div>\n",
       "<div class=\"expand content\" id=\"featured\" role=\"main\">\n",
       "<h1>The University of British Columbia</h1>\n",
       "<div class=\"featured-region bound-wide\">\n",
       "<h2 class=\"accessibility-use\">Marquee</h2>\n",
       "<a href=\"https://beyond.ubc.ca/black-friday-consider-curbing-consumption/\">\n",
       "<div class=\"featured-region__image\">\n",
       "<picture rel=\"preload\">\n",
       "<source media=\"(min-width: 768px)\" srcset=\"/_cache/images/13453-plastic-1920x700_1x.jpg\"/>\n",
       "<source srcset=\"/_cache/images/13453-plastic-780x780_1x.jpg\"/>\n",
       "<img alt=\"Close up of a turtle wrapped in a plastic bag\" src=\"/_cache/images/13453-plastic-1920x700_1x.jpg\"/>\n",
       "</picture>\n",
       "</div>\n",
       "<div class=\"featured-region__gradient\"></div>\n",
       "<div class=\"featured-region__content\">\n",
       "<div class=\"bound\">\n",
       "<div class=\"featured-content\">\n",
       "<h3 class=\"featured-content__title\">Curbing plastic consumption</h3>\n",
       "<div class=\"featured-content__description\">Researchers connect Black Friday purchases to what’s harming our oceans</div>\n",
       "<div class=\"featured-content__link\">Read More <span aria-hidden=\"true\" class=\"icon-angle-right\"></span></div>\n",
       "</div>\n",
       "</div>\n",
       "</div>\n",
       "</a>\n",
       "</div>\n",
       "</div>\n",
       "<div aria-label=\"spotlight\" class=\"expand content\" id=\"latest-update\" role=\"region\">\n",
       "<div class=\"bound\">\n",
       "<h2>Spotlight</h2>\n",
       "<div class=\"spotlight-region\">\n",
       "<div class=\"spotlight\">\n",
       "<a class=\"spotlight__image\" href=\"https://graduation.ubc.ca/schedule/\">\n",
       "<picture>\n",
       "<source media=\"(min-width: 768px)\" srcset=\"/_cache/images/13457-graduation-1480x1480_4x.jpg 4x, /_cache/images/13457-graduation-370x370_1x.jpg\"/>\n",
       "<source srcset=\"/_cache/images/13457-graduation-540x540_2x.jpg 2x\"/>\n",
       "<img alt=\"Student in graduation cap and gown stands in the Chan Centre for the Performing Arts\" src=\"/_cache/images/13457-graduation-370x370_1x.jpg\"/>\n",
       "</picture>\n",
       "</a>\n",
       "<div class=\"spotlight__content\">\n",
       "<h3 class=\"spotlight__title\"><a href=\"https://graduation.ubc.ca/schedule/\">Congratulations to the Class of 2021!</a></h3>\n",
       "<div class=\"spotlight__date\"></div>\n",
       "<div class=\"spotlight__description\">Fall graduation runs November 23 to 26 in-person at Chan Centre</div>\n",
       "</div>\n",
       "</div><div class=\"spotlight\">\n",
       "<a class=\"spotlight__image\" href=\"https://events.ubc.ca/michelle-good\">\n",
       "<picture>\n",
       "<source media=\"(min-width: 768px)\" srcset=\"/_cache/images/13462-connects-1480x1480_4x.jpg 4x, /_cache/images/13462-connects-370x370_1x.jpg\"/>\n",
       "<source srcset=\"/_cache/images/13462-connects-540x540_2x.jpg 2x\"/>\n",
       "<img alt=\"Lawyer and author Michelle Good\" src=\"/_cache/images/13462-connects-370x370_1x.jpg\"/>\n",
       "</picture>\n",
       "</a>\n",
       "<div class=\"spotlight__content\">\n",
       "<h3 class=\"spotlight__title\"><a href=\"https://events.ubc.ca/michelle-good\">UBC Connects presents Michelle Good</a></h3>\n",
       "<div class=\"spotlight__date\"></div>\n",
       "<div class=\"spotlight__description\">December 2 event focuses on the human cost of colonialism</div>\n",
       "</div>\n",
       "</div><div class=\"spotlight\">\n",
       "<a class=\"spotlight__image\" href=\"https://president.ubc.ca/blog/2021/11/19/emergency_funding/\">\n",
       "<picture>\n",
       "<source media=\"(min-width: 768px)\" srcset=\"/_cache/images/13467-santa-1480x1480_4x-2.jpg 4x, /_cache/images/13467-santa-370x370_1x-2.jpg\"/>\n",
       "<source srcset=\"/_cache/images/13467-santa-540x540_2x-2.jpg 2x\"/>\n",
       "<img alt=\"President and Vice-Chancellor Santa J. Ono\" src=\"/_cache/images/13467-santa-370x370_1x-2.jpg\"/>\n",
       "</picture>\n",
       "</a>\n",
       "<div class=\"spotlight__content\">\n",
       "<h3 class=\"spotlight__title\"><a href=\"https://president.ubc.ca/blog/2021/11/19/emergency_funding/\">President Santa J. Ono updates the UBC community</a></h3>\n",
       "<div class=\"spotlight__date\"></div>\n",
       "<div class=\"spotlight__description\">Emergency funding for those affected by floods; signing Scarborough Charter</div>\n",
       "</div>\n",
       "</div> </div>\n",
       "</div> </div>\n",
       "<div aria-label=\"UBC social channels\" class=\"expand content\" id=\"connect-social\" role=\"region\">\n",
       "<div class=\"bound\">\n",
       "<hr class=\"hidden-phone\"/>\n",
       "<div class=\"social-content-region\">\n",
       "<h2>Connect with UBC</h2>\n",
       "<div class=\"social-icons\">\n",
       "<a aria-label=\"facebook\" href=\"//www.facebook.com/universityofbc?fref=ts\" rel=\"noopener noreferrer\" target=\"_blank\"><span class=\"icon-facebook-sign\"></span></a> \n",
       "\t\t\t\t\t\t<a aria-label=\"instagram\" href=\"//instagram.com/universityofbc\" rel=\"noopener noreferrer\" target=\"_blank\"><span class=\"icon-instagram-sign\"></span></a> \n",
       "\t\t\t\t\t\t<a aria-label=\"twitter\" href=\"//twitter.com/ubc\" rel=\"noopener noreferrer\" target=\"_blank\"><span class=\"icon-twitter-sign\"></span></a> \n",
       "\t\t\t\t\t\t<a aria-label=\"Linkedin\" href=\"https://www.linkedin.com/school/universityofbc\" rel=\"noopener noreferrer\" target=\"_blank\"><span class=\"icon-linkedin-sign\"></span></a> \n",
       "\t\t\t\t\t\t<a aria-label=\"YouTube\" href=\"//www.youtube.com/user/ubc\" rel=\"noopener noreferrer\" target=\"_blank\"><span class=\"icon-youtube\"></span></a>\n",
       "</div>\n",
       "</div>\n",
       "<hr class=\"hidden-phone\"/>\n",
       "</div>\n",
       "</div>\n",
       "<div aria-label=\"explore UBC\" class=\"expand content\" id=\"glance\" role=\"region\">\n",
       "<div class=\"bound\">\n",
       "<h2>Explore UBC</h2>\n",
       "<div class=\"ubcnow-region\">\n",
       "<div class=\"ubcnow-wrapper\">\n",
       "<div class=\"ubcnow\">\n",
       "<div class=\"ubcnow__image\">\n",
       "<a href=\"https://students.ubc.ca/ubclife/places-stay-during-winter-break-residence-closure\">\n",
       "<picture>\n",
       "<source media=\"(min-width: 768px)\" srcset=\"/_cache/images/13472-residence-1480x1480_4x.jpg 4x, /_cache/images/13472-residence-370x370_1x.jpg\"/>\n",
       "<source srcset=\"/_cache/images/13472-residence-540x540_2x.jpg 2x\"/>\n",
       "<img alt=\"Student sits on their bed in UBC residence\" src=\"/_cache/images/13472-residence-370x370_1x.jpg\"/>\n",
       "</picture>\n",
       "</a>\n",
       "</div>\n",
       "<div class=\"ubcnow__content\">\n",
       "<div class=\"ubcnow__topic\"><a href=\"/archives/?tags=campus\">Campus</a></div>\n",
       "<h3 class=\"ubcnow__title\"><a href=\"https://students.ubc.ca/ubclife/places-stay-during-winter-break-residence-closure\">Places to stay during winter break residence closure</a></h3>\n",
       "<div class=\"ubcnow__description\">Options for students who aren’t going home</div>\n",
       "</div>\n",
       "</div>\n",
       "</div>\n",
       "<div class=\"ubcnow-wrapper\">\n",
       "<div class=\"ubcnow\">\n",
       "<div class=\"ubcnow__image\">\n",
       "<a href=\"https://news.ubc.ca/2021/11/18/laneway-homes-decreases-neighbouring-property-values-affluent-areas-ubc-study/\">\n",
       "<picture>\n",
       "<source media=\"(min-width: 768px)\" srcset=\"/_cache/images/13477-laneway-1480x1480_4x.jpg 4x, /_cache/images/13477-laneway-370x370_1x.jpg\"/>\n",
       "<source srcset=\"/_cache/images/13477-laneway-540x540_2x.jpg 2x\"/>\n",
       "<img alt=\"New laneway house in Vancouver\" src=\"/_cache/images/13477-laneway-370x370_1x.jpg\"/>\n",
       "</picture>\n",
       "</a>\n",
       "</div>\n",
       "<div class=\"ubcnow__content\">\n",
       "<div class=\"ubcnow__topic\"><a href=\"/archives/?tags=community\">Community</a>, <a href=\"/archives/?tags=research\">Research</a></div>\n",
       "<h3 class=\"ubcnow__title\"><a href=\"https://news.ubc.ca/2021/11/18/laneway-homes-decreases-neighbouring-property-values-affluent-areas-ubc-study/\">Laneway homes can decrease neighbouring property values in affluent areas</a></h3>\n",
       "<div class=\"ubcnow__description\">Study found property values decreased in Vancouver’s West Side, but not in East Vancouver</div>\n",
       "</div>\n",
       "</div>\n",
       "</div>\n",
       "<div class=\"ubcnow-wrapper\">\n",
       "<div class=\"ubcnow\">\n",
       "<div class=\"ubcnow__image\">\n",
       "<a href=\"https://about.library.ubc.ca/2021/11/15/university-archives-receives-extensive-collection-of-photographs-and-records-from-ubc-department-of-athletics-recreation/\">\n",
       "<picture>\n",
       "<source media=\"(min-width: 768px)\" srcset=\"/_cache/images/13482-archives-1480x1480_4x.jpg 4x, /_cache/images/13482-archives-370x370_1x.jpg\"/>\n",
       "<source srcset=\"/_cache/images/13482-archives-540x540_2x.jpg 2x\"/>\n",
       "<img alt=\"Gloved hands hold an archive image of two UBC football players\" src=\"/_cache/images/13482-archives-370x370_1x.jpg\"/>\n",
       "</picture>\n",
       "</a>\n",
       "</div>\n",
       "<div class=\"ubcnow__content\">\n",
       "<div class=\"ubcnow__topic\"><a href=\"/archives/?tags=campus\">Campus</a>, <a href=\"/archives/?tags=community\">Community</a></div>\n",
       "<h3 class=\"ubcnow__title\"><a href=\"https://about.library.ubc.ca/2021/11/15/university-archives-receives-extensive-collection-of-photographs-and-records-from-ubc-department-of-athletics-recreation/\">UBC Archives receives collection of photos and records from Athletics &amp; Recreation</a></h3>\n",
       "<div class=\"ubcnow__description\">Records span a century and reflect university’s rich sporting history</div>\n",
       "</div>\n",
       "</div>\n",
       "</div>\n",
       "<div class=\"ubcnow-wrapper\">\n",
       "<div class=\"ubcnow\">\n",
       "<div class=\"ubcnow__image\">\n",
       "<a href=\"https://youtu.be/NkImR-PWfkg\">\n",
       "<picture>\n",
       "<source media=\"(min-width: 768px)\" srcset=\"/_cache/images/13487-this_week_20211122-1480x2200_4x.jpg 4x, /_cache/images/13487-this_week_20211122-370x550_1x.jpg\"/>\n",
       "<source srcset=\"/_cache/images/13487-this_week_20211122-540x540_2x.jpg 2x\"/>\n",
       "<img alt=\"This Week at UBC host Will Oxtoby\" src=\"/_cache/images/13487-this_week_20211122-370x550_1x.jpg\"/>\n",
       "</picture>\n",
       "</a>\n",
       "</div>\n",
       "<div class=\"ubcnow__content\">\n",
       "<div class=\"ubcnow__topic\"><a href=\"/archives/?tags=campus\">Campus</a></div>\n",
       "<h3 class=\"ubcnow__title\"><a href=\"https://youtu.be/NkImR-PWfkg\">This Week at UBC</a></h3>\n",
       "<div class=\"ubcnow__description\">What’s happening from November 21 to 27</div>\n",
       "</div>\n",
       "</div>\n",
       "</div>\n",
       "<div class=\"ubcnow-wrapper\">\n",
       "<div class=\"ubcnow\">\n",
       "<div class=\"ubcnow__image\">\n",
       "<a href=\"https://ubcfarm.ubc.ca/about/growing-a-farm-podcast/\">\n",
       "<picture>\n",
       "<source media=\"(min-width: 768px)\" srcset=\"/_cache/images/13492-farm-1480x1480_4x.jpg 4x, /_cache/images/13492-farm-370x370_1x.jpg\"/>\n",
       "<source srcset=\"/_cache/images/13492-farm-540x540_2x.jpg 2x\"/>\n",
       "<img alt=\"Black and white archive photo of the UBC Farm\" src=\"/_cache/images/13492-farm-370x370_1x.jpg\"/>\n",
       "</picture>\n",
       "</a>\n",
       "</div>\n",
       "<div class=\"ubcnow__content\">\n",
       "<div class=\"ubcnow__topic\"><a href=\"/archives/?tags=campus\">Campus</a>, <a href=\"/archives/?tags=community\">Community</a></div>\n",
       "<h3 class=\"ubcnow__title\"><a href=\"https://ubcfarm.ubc.ca/about/growing-a-farm-podcast/\">Podcasts trace the 20-year journey of UBC Farm</a></h3>\n",
       "<div class=\"ubcnow__description\">Learn about those who started and saved the farm</div>\n",
       "</div>\n",
       "</div>\n",
       "</div>\n",
       "<div class=\"ubcnow-wrapper\">\n",
       "<div class=\"ubcnow\">\n",
       "<div class=\"ubcnow__image\">\n",
       "<a href=\"https://global.ubc.ca/news-events/news/nov-10-2021-two-recent-ubc-awards-strengthen-indigenous-connection-and-community\">\n",
       "<picture>\n",
       "<source media=\"(min-width: 768px)\" srcset=\"/_cache/images/13497-awards-1480x1480_4x.jpg 4x, /_cache/images/13497-awards-370x370_1x.jpg\"/>\n",
       "<source srcset=\"/_cache/images/13497-awards-540x540_2x.jpg 2x\"/>\n",
       "<img alt=\"UBC Faculty of Forestry dual master’s program students on a field course in Finland in 2013\" src=\"/_cache/images/13497-awards-370x370_1x.jpg\"/>\n",
       "</picture>\n",
       "</a>\n",
       "</div>\n",
       "<div class=\"ubcnow__content\">\n",
       "<div class=\"ubcnow__topic\"><a href=\"/archives/?tags=community\">Community</a>, <a href=\"/archives/?tags=research\">Research</a></div>\n",
       "<h3 class=\"ubcnow__title\"><a href=\"https://global.ubc.ca/news-events/news/nov-10-2021-two-recent-ubc-awards-strengthen-indigenous-connection-and-community\">Two UBC awards strengthen Indigenous connection and community</a></h3>\n",
       "<div class=\"ubcnow__description\">Go Global, Faculty of Forestry win funding for international projects</div>\n",
       "</div>\n",
       "</div>\n",
       "</div>\n",
       "</div>\n",
       "<div class=\"homepage-archive margin-bottom-small\">\n",
       "<div class=\"cta\"><a href=\"/archives/\">Explore More <span aria-hidden=\"true\" class=\"icon-angle-right\"></span></a></div>\n",
       "</div>\n",
       "</div> </div>\n",
       "</div>\n",
       "<footer id=\"ubc7-footer\">\n",
       "<div class=\"expand\" id=\"ubc7-unit-footer\">\n",
       "<div class=\"container\">\n",
       "<div class=\"row-fluid\">\n",
       "<div class=\"span5\">\n",
       "<div class=\"ubc7-address-campus\"><strong>Vancouver Campus</strong></div>\n",
       "<div class=\"ubc7-address-street\">2329 West Mall</div>\n",
       "<div class=\"ubc7-address-location\">\n",
       "<span class=\"ubc7-address-city\">Vancouver</span>, <span class=\"ubc7-address-province\">BC</span> <span class=\"ubc7-address-country\">Canada</span> <span class=\"ubc7-address-postal\">V6T 1Z4</span>\n",
       "</div>\n",
       "<div class=\"ubc7-address-phone\">Tel (Directory Assistance) <a class=\"reverse\" href=\"tel:+16048222211\">604 822 2211</a></div>\n",
       "<div class=\"ubc7-address-link reverse\"><a href=\"/about/contact.html\">Contact the Vancouver campus</a></div>\n",
       "</div>\n",
       "<div class=\"span5\">\n",
       "<div class=\"ubc7-address-campus\"><strong>Okanagan Campus</strong></div>\n",
       "<div class=\"ubc7-address-street\">3333 University Way</div>\n",
       "<div class=\"ubc7-address-location\">\n",
       "<span class=\"ubc7-address-city\">Kelowna</span>, <span class=\"ubc7-address-province\">BC</span> <span class=\"ubc7-address-country\">Canada</span> <span class=\"ubc7-address-postal\">V1V 1V7</span>\n",
       "</div>\n",
       "<div class=\"ubc7-address-phone\">Tel <a class=\"reverse\" href=\"tel:+12508078000\">250 807 8000</a></div>\n",
       "<div class=\"ubc7-address-link reverse\"><a href=\"/about/contact-okanagan.html\">Contact the Okanagan campus</a></div>\n",
       "</div>\n",
       "<div class=\"span2\">\n",
       "<strong>Find UBC on</strong>\n",
       "<div id=\"ubc7-unit-social-icons\">\n",
       "<a aria-label=\"facebook\" href=\"//www.facebook.com/universityofbc?fref=ts\" rel=\"noopener noreferrer\" target=\"_blank\"><span class=\"icon-facebook-sign\"></span></a> \n",
       "                            <a aria-label=\"instagram\" href=\"//instagram.com/universityofbc\" rel=\"noopener noreferrer\" target=\"_blank\"><span class=\"icon-instagram-sign\" title=\"Instagram\"></span></a> \n",
       "                            <a aria-label=\"twitter\" href=\"//twitter.com/ubc\" rel=\"noopener noreferrer\" target=\"_blank\"><span class=\"icon-twitter-sign\"></span></a> \n",
       "                            <a aria-label=\"Linkedin\" href=\"https://www.linkedin.com/school/universityofbc\" rel=\"noopener noreferrer\" target=\"_blank\"><span class=\"icon-linkedin-sign\"></span></a> \n",
       "                            <a aria-label=\"YouTube\" href=\"//www.youtube.com/user/ubc\" rel=\"noopener noreferrer\" target=\"_blank\"><span class=\"icon-youtube\"></span></a>\n",
       "</div>\n",
       "</div>\n",
       "</div>\n",
       "</div>\n",
       "</div>\n",
       "<div class=\"expand\">\n",
       "<div class=\"container\">\n",
       "<div class=\"row-fluid\">\n",
       "<div class=\"span2\">\n",
       "<div class=\"ubc7-back-to-top\">\n",
       "<a class=\"reverse\" href=\"#\">Back to top <div class=\"ubc7-arrow up-arrow gray\"></div></a>\n",
       "</div>\n",
       "</div>\n",
       "</div>\n",
       "</div>\n",
       "</div>\n",
       "<div class=\"expand\" id=\"ubc7-global-footer\">\n",
       "<div class=\"container\">\n",
       "<div class=\"row-fluid\">\n",
       "<div class=\"span5\" id=\"ubc7-signature\"><a href=\"//www.ubc.ca/\">The University of British Columbia</a></div>\n",
       "<div class=\"span7\" id=\"ubc7-footer-menu\"></div>\n",
       "</div>\n",
       "</div>\n",
       "</div>\n",
       "<div class=\"expand\" id=\"ubc7-minimal-footer\">\n",
       "<div class=\"container\">\n",
       "<div class=\"row-fluid\">\n",
       "<div class=\"span12\">\n",
       "<ul>\n",
       "<li><a href=\"//cdn.ubc.ca/clf/ref/emergency\">Emergency Procedures</a> <span class=\"divider\">|</span></li>\n",
       "<li><a href=\"//cdn.ubc.ca/clf/ref/terms\">Terms of Use</a> <span class=\"divider\">|</span></li>\n",
       "<li><a href=\"//cdn.ubc.ca/clf/ref/copyright\">UBC Copyright</a> <span class=\"divider\">|</span></li>\n",
       "<li><a href=\"//cdn.ubc.ca/clf/ref/accessibility\">Accessibility</a></li>\n",
       "</ul>\n",
       "</div>\n",
       "</div>\n",
       "</div>\n",
       "</div>\n",
       "<div class=\"hide\"><!-- Fallback checker --></div>\n",
       "</footer>\n",
       "<!-- Placed javascript at the end for faster loading -->\n",
       "<script src=\"https://ajax.googleapis.com/ajax/libs/jquery/1.12.4/jquery.min.js\"></script>\n",
       "<script>window.jQuery || document.write('<script src=\"/_assets/js/jquery-1.12.4.min.js\"><\\/script>')</script>\n",
       "<script src=\"//cdn.ubc.ca/clf/7.0.5/js/ubc-clf.min.js\"></script>\n",
       "<script src=\"/_assets/js/script.min.js?2\"></script>\n",
       "</body>\n",
       "</html>"
      ]
     },
     "execution_count": 26,
     "metadata": {},
     "output_type": "execute_result"
    }
   ],
   "source": [
    "html_soup"
   ]
  },
  {
   "cell_type": "markdown",
   "metadata": {},
   "source": [
    "Some HTML tags that you should know:\n",
    "\n",
    "* `<html>` The entire page is nested in this tag\n",
    "* `<head>` Metadata associated with the page and other miscellaneous information is stored here. No text!\n",
    "* `<body>` This is where everything which is displayed can be found\n",
    "* `<div>` This creates sections of the document (like headers, sidebars, etc.). Very important!\n",
    "* `<form`> Used for user input, e.g. a search bar\n",
    "* `<a>` An anchor, this creates links to other pages, link is in `href` attribute\n",
    "* `<li`> A list, with bullets\n",
    "* `<h1>` header, number indicates size (also `<h2>`, etc.)\n",
    "* `<img>` A image, `src` gives its location\n",
    "* `<table>` A table, to display data.\n",
    "* `<p>` a paragraph, has formating options (e.g. indentation, spacing)\n",
    "* `<span>` a span of text, smaller than a paragraph, formatting options like colour highlighting\n",
    "* `<script>` used to load javascript (the programming language run by browsers)\n",
    "\n",
    "Most HTML tags on modern web pages will have a `class` attribute. This refers to one or more CSS classes, which are used to format the object on the page. We will return to CSS and javascript more in COLX 523!"
   ]
  },
  {
   "cell_type": "markdown",
   "metadata": {},
   "source": [
    "If you weren't aware, Jupyter notebooks support html in their markup, so it's easy to play around with!<p> Here's a paragraph with a <a href=\"http://www.ubc.ca\">UBC link</a></p> "
   ]
  },
  {
   "cell_type": "markdown",
   "metadata": {
    "slideshow": {
     "slide_type": "fragment"
    }
   },
   "source": [
    "## Exercises"
   ]
  },
  {
   "cell_type": "code",
   "execution_count": 27,
   "metadata": {},
   "outputs": [],
   "source": [
    "TEI = '''\n",
    "<TEI xmlns=\"http://www.tei-c.org/ns/1.0\">\n",
    " <teiHeader>\n",
    "  <fileDesc>\n",
    "   <titleStmt>\n",
    "    <title>Emma</title>\n",
    "    <author>Jane Austen</author>\n",
    "   </titleStmt>    \n",
    "  </fileDesc>\n",
    " </teiHeader>\n",
    " <text>\n",
    "   <p n=\"21\">Mr. Knightley , a sensible man about seven or eight-and-thirty , was not only a very old and intimate friend of the family , but particularly connected with it , as the elder brother of Isabella 's husband . He lived about a mile from Highbury , was a frequent visitor , and always welcome , and at this time more welcome than usual , as coming directly from their mutual connexions in London . He had returned to a late dinner , after some days ’ absence , and now walked up to Hartfield to say that all were well in Brunswick Square . It was a happy circumstance , and animated Mr. Woodhouse for some time . Mr. Knightley had a cheerful manner , which always did him good ; and his many inquiries after “ poor Isabella ” and her children were answered most satisfactorily . When this was over , Mr. Woodhouse gratefully observed ,<said who=\"Woodhouse\">“ It is very kind of you , Mr. Knightley , to come out at this late hour to call upon us . I am afraid you must have had a shocking walk . ”</said></p>\n",
    "   <p n=\"22\"><said who=\"Knightley\">“ Not at all , sir . It is a beautiful moonlight night ; and so mild that I must draw back from your great fire . ”</said></p>\n",
    "   <p n=\"23\"><said who=\"Woodhouse\">“ But you must have found it very damp and dirty . I wish you may not catch cold . ”</said></p>\n",
    "   <p n=\"24\"><said who=\"Knightley\">“ Dirty , sir ! Look at my shoes . Not a speck on them . ”</said></p>\n",
    " </text>\n",
    "</TEI>\n",
    "'''\n",
    "soup = BeautifulSoup(TEI,\"lxml\")"
   ]
  },
  {
   "cell_type": "markdown",
   "metadata": {},
   "source": [
    "1. Above there is an XML snippet of Jane Austen similar (but not identical, note for instance the lack of divs) to what you're tackling on the lab. First, programmatically extract the name of the author from this snippet."
   ]
  },
  {
   "cell_type": "code",
   "execution_count": 28,
   "metadata": {},
   "outputs": [
    {
     "data": {
      "text/plain": [
       "'Jane Austen'"
      ]
     },
     "execution_count": 28,
     "metadata": {},
     "output_type": "execute_result"
    }
   ],
   "source": [
    "author = soup.find(\"author\").get_text()\n",
    "author"
   ]
  },
  {
   "cell_type": "markdown",
   "metadata": {},
   "source": [
    "2. Check to see if paragraph no. 22 in the text contains a \"said\" tag."
   ]
  },
  {
   "cell_type": "code",
   "execution_count": 29,
   "metadata": {},
   "outputs": [
    {
     "data": {
      "text/plain": [
       "True"
      ]
     },
     "execution_count": 29,
     "metadata": {},
     "output_type": "execute_result"
    }
   ],
   "source": [
    "def contains_said(paragraph):\n",
    "    for child in paragraph.contents:\n",
    "        if child.name == \"said\":\n",
    "            return True\n",
    "    return False\n",
    "\n",
    "contains_said(soup.find(n=\"22\"))"
   ]
  },
  {
   "cell_type": "markdown",
   "metadata": {},
   "source": [
    "3. Each `said` tag contains a `who` attribute who said the line. Create a Python dictionary (ideally a `defaultdict`) where the speakers are keys, and the values are a list of their lines of dialogue."
   ]
  },
  {
   "cell_type": "code",
   "execution_count": 30,
   "metadata": {},
   "outputs": [
    {
     "name": "stdout",
     "output_type": "stream",
     "text": [
      "defaultdict(<class 'list'>, {'Woodhouse': ['“ It is very kind of you , Mr. Knightley , to come out at this late hour to call upon us . I am afraid you must have had a shocking walk . ”', '“ But you must have found it very damp and dirty . I wish you may not catch cold . ”'], 'Knightley': ['“ Not at all , sir . It is a beautiful moonlight night ; and so mild that I must draw back from your great fire . ”', '“ Dirty , sir ! Look at my shoes . Not a speck on them . ”']})\n"
     ]
    }
   ],
   "source": [
    "from collections import defaultdict\n",
    "speaker_lines = defaultdict(list)\n",
    "for said_tag in soup.find_all(\"said\"):\n",
    "    speaker = said_tag[\"who\"]\n",
    "    speaker_lines[speaker].append(said_tag.get_text())\n",
    "print(speaker_lines)"
   ]
  }
 ],
 "metadata": {
  "celltoolbar": "Slideshow",
  "kernelspec": {
   "display_name": "Python 3 (ipykernel)",
   "language": "python",
   "name": "python3"
  },
  "language_info": {
   "codemirror_mode": {
    "name": "ipython",
    "version": 3
   },
   "file_extension": ".py",
   "mimetype": "text/x-python",
   "name": "python",
   "nbconvert_exporter": "python",
   "pygments_lexer": "ipython3",
   "version": "3.8.9"
  }
 },
 "nbformat": 4,
 "nbformat_minor": 2
}
