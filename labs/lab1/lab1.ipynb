{
 "cells": [
  {
   "cell_type": "markdown",
   "id": "c6dc4453",
   "metadata": {},
   "source": [
    "Complete your lab 1 (6 pts) according to your Lab 1 slides and submit this file (`lab1.ipynb`) to Canvas (Due Sep 27, 2022)\n",
    "\n",
    "Note that this ipynb provides only partial commands described in Lab slides. You should complete all commands in Lab slides in this notebook. "
   ]
  },
  {
   "cell_type": "markdown",
   "id": "8e695af4",
   "metadata": {},
   "source": [
    "# 1. Linguistic analysis"
   ]
  },
  {
   "cell_type": "markdown",
   "id": "ced5eaa8",
   "metadata": {},
   "source": [
    "- specify `en_ewt-ud-dev-ling-result.txt` path to show the result\n",
    "- not required to submit `en_ewt-ud-dev-ling-result.txt`\n"
   ]
  },
  {
   "cell_type": "code",
   "execution_count": null,
   "id": "d3049612",
   "metadata": {},
   "outputs": [],
   "source": [
    "!cat en_ewt-ud-dev-ling-result.txt"
   ]
  },
  {
   "cell_type": "markdown",
   "id": "9c7caf4a",
   "metadata": {},
   "source": [
    "# 2. Tokenization"
   ]
  },
  {
   "cell_type": "code",
   "execution_count": 21,
   "id": "informal-aquatic",
   "metadata": {
    "scrolled": true
   },
   "outputs": [
    {
     "name": "stdout",
     "output_type": "stream",
     "text": [
      "--2021-09-14 20:15:36--  ftp://ftp.cis.upenn.edu/pub/treebank/public_html/tokenizer.sed\n",
      "           => ‘tokenizer.sed’\n",
      "Resolving ftp.cis.upenn.edu (ftp.cis.upenn.edu)... 158.130.67.137\n",
      "Connecting to ftp.cis.upenn.edu (ftp.cis.upenn.edu)|158.130.67.137|:21... connected.\n",
      "Logging in as anonymous ... Logged in!\n",
      "==> SYST ... done.    ==> PWD ... done.\n",
      "==> TYPE I ... done.  ==> CWD (1) /pub/treebank/public_html ... done.\n",
      "==> SIZE tokenizer.sed ... 2204\n",
      "==> PASV ... done.    ==> RETR tokenizer.sed ... done.\n",
      "Length: 2204 (2,2K) (unauthoritative)\n",
      "\n",
      "tokenizer.sed       100%[===================>]   2,15K  --.-KB/s    in 0,01s   \n",
      "\n",
      "2021-09-14 20:15:37 (150 KB/s) - ‘tokenizer.sed’ saved [2204]\n",
      "\n"
     ]
    }
   ],
   "source": [
    "!wget ftp://ftp.cis.upenn.edu/pub/treebank/public_html/tokenizer.sed"
   ]
  },
  {
   "cell_type": "code",
   "execution_count": 22,
   "id": "indoor-fault",
   "metadata": {},
   "outputs": [
    {
     "name": "stdout",
     "output_type": "stream",
     "text": [
      "8 -rw-r--r--  1 jungyeul  staff  2204 Sep 14 20:15 tokenizer.sed\r\n"
     ]
    }
   ],
   "source": [
    "!ls -ls tokenizer.sed "
   ]
  },
  {
   "cell_type": "code",
   "execution_count": 23,
   "id": "communist-viewer",
   "metadata": {},
   "outputs": [],
   "source": [
    "!chmod 755 tokenizer.sed "
   ]
  },
  {
   "cell_type": "code",
   "execution_count": 24,
   "id": "fluid-mercury",
   "metadata": {},
   "outputs": [
    {
     "name": "stdout",
     "output_type": "stream",
     "text": [
      "8 -rwxr-xr-x  1 jungyeul  staff  2204 Sep 14 20:15 \u001b[31mtokenizer.sed\u001b[m\u001b[m\r\n"
     ]
    }
   ],
   "source": [
    "!ls -ls tokenizer.sed "
   ]
  },
  {
   "cell_type": "code",
   "execution_count": 25,
   "id": "forced-diesel",
   "metadata": {},
   "outputs": [
    {
     "name": "stdout",
     "output_type": "stream",
     "text": [
      "zsh:1: ./tokenizer.sed: bad interpreter: /bin/sed: no such file or directory\r\n"
     ]
    }
   ],
   "source": [
    "!./tokenizer.sed en_ewt-ud-dev.txt "
   ]
  },
  {
   "cell_type": "code",
   "execution_count": 41,
   "id": "interstate-florence",
   "metadata": {},
   "outputs": [
    {
     "name": "stdout",
     "output_type": "stream",
     "text": [
      "#!/bin/sed -f\r\n"
     ]
    }
   ],
   "source": [
    "!head -n 1 tokenizer.sed"
   ]
  },
  {
   "cell_type": "code",
   "execution_count": 26,
   "id": "packed-belfast",
   "metadata": {},
   "outputs": [
    {
     "name": "stdout",
     "output_type": "stream",
     "text": [
      "/usr/bin/sed\r\n"
     ]
    }
   ],
   "source": [
    "!which sed"
   ]
  },
  {
   "cell_type": "code",
   "execution_count": 37,
   "id": "crucial-manner",
   "metadata": {},
   "outputs": [],
   "source": [
    "!cat tokenizer.sed | sed 's/\\/bin\\/sed/\\/usr\\/bin\\/sed/g' > tokenizer_corrected.sed"
   ]
  },
  {
   "cell_type": "code",
   "execution_count": 38,
   "id": "frozen-brooklyn",
   "metadata": {},
   "outputs": [
    {
     "name": "stdout",
     "output_type": "stream",
     "text": [
      "8 -rwxr-xr-x  1 jungyeul  staff  2208 Sep 14 20:18 \u001b[31mtokenizer_corrected.sed\u001b[m\u001b[m\r\n"
     ]
    }
   ],
   "source": [
    "!ls -ls tokenizer_corrected.sed"
   ]
  },
  {
   "cell_type": "code",
   "execution_count": 39,
   "id": "expired-ladder",
   "metadata": {},
   "outputs": [],
   "source": [
    "!./tokenizer_corrected.sed en_ewt-ud-dev.txt > en_ewt-ud-dev.txt.tokenized_sed"
   ]
  },
  {
   "cell_type": "code",
   "execution_count": 40,
   "id": "posted-pizza",
   "metadata": {},
   "outputs": [
    {
     "name": "stdout",
     "output_type": "stream",
     "text": [
      "From the AP comes this story : \r\n",
      "\r\n",
      "President Bush on Tuesday nominated two individuals to replace retiring jurists \r\n",
      "on federal courts in the Washington area. Bush nominated Jennifer M. Anderson \r\n",
      "for a 15-year term as associate judge of the Superior Court of the District of \r\n",
      "Columbia , replacing Steffen W. Graae. *** Bush also nominated A. Noel Anketell \r\n",
      "Kramer for a 15-year term as associate judge of the District of Columbia Court \r\n",
      "of Appeals , replacing John Montague Steadman . \r\n",
      "\r\n",
      "The sheikh in wheel-chair has been attacked with a F-16-launched bomb. He could \r\n"
     ]
    }
   ],
   "source": [
    "!head en_ewt-ud-dev.txt.tokenized_sed"
   ]
  },
  {
   "cell_type": "code",
   "execution_count": 16,
   "id": "worth-carpet",
   "metadata": {},
   "outputs": [
    {
     "name": "stdout",
     "output_type": "stream",
     "text": [
      "--2021-09-14 20:13:29--  https://www.statmt.org/wmt09/scripts.tgz\n",
      "Resolving www.statmt.org (www.statmt.org)... 129.215.197.184\n",
      "Connecting to www.statmt.org (www.statmt.org)|129.215.197.184|:443... connected.\n",
      "HTTP request sent, awaiting response... 200 OK\n",
      "Length: 4927 (4,8K) [application/x-gzip]\n",
      "Saving to: ‘scripts.tgz’\n",
      "\n",
      "scripts.tgz         100%[===================>]   4,81K  --.-KB/s    in 0,001s  \n",
      "\n",
      "2021-09-14 20:13:29 (4,00 MB/s) - ‘scripts.tgz’ saved [4927/4927]\n",
      "\n"
     ]
    }
   ],
   "source": [
    "!wget https://www.statmt.org/wmt09/scripts.tgz"
   ]
  },
  {
   "cell_type": "code",
   "execution_count": 17,
   "id": "convertible-messaging",
   "metadata": {},
   "outputs": [
    {
     "name": "stdout",
     "output_type": "stream",
     "text": [
      "x scripts/\r\n",
      "x scripts/detokenizer.perl\r\n",
      "x scripts/wrap-xml.perl\r\n",
      "x scripts/lowercase.perl\r\n",
      "x scripts/tokenizer.perl\r\n",
      "x scripts/reuse-weights.perl\r\n",
      "x scripts/nonbreaking_prefixes/\r\n",
      "x scripts/nonbreaking_prefixes/nonbreaking_prefix.de\r\n",
      "x scripts/nonbreaking_prefixes/nonbreaking_prefix.en\r\n",
      "x scripts/nonbreaking_prefixes/nonbreaking_prefix.el\r\n"
     ]
    }
   ],
   "source": [
    "!tar xvfz scripts.tgz "
   ]
  },
  {
   "cell_type": "code",
   "execution_count": 18,
   "id": "finished-seller",
   "metadata": {},
   "outputs": [
    {
     "name": "stdout",
     "output_type": "stream",
     "text": [
      "Tokenizer v3\r\n",
      "Language: en\r\n"
     ]
    }
   ],
   "source": [
    "!./scripts/tokenizer.perl -l en < en_ewt-ud-dev.txt > en_ewt-ud-dev.txt.tokenized_moses"
   ]
  },
  {
   "cell_type": "code",
   "execution_count": 19,
   "id": "suspended-intermediate",
   "metadata": {},
   "outputs": [
    {
     "name": "stdout",
     "output_type": "stream",
     "text": [
      "From the AP comes this story :\r\n",
      "\r\n",
      "President Bush on Tuesday nominated two individuals to replace retiring jurists\r\n",
      "on federal courts in the Washington area . Bush nominated Jennifer M. Anderson\r\n",
      "for a 15-year term as associate judge of the Superior Court of the District of\r\n",
      "Columbia , replacing Steffen W. Graae . * * * Bush also nominated A. Noel Anketell\r\n",
      "Kramer for a 15-year term as associate judge of the District of Columbia Court\r\n",
      "of Appeals , replacing John Montague Steadman .\r\n",
      "\r\n",
      "The sheikh in wheel-chair has been attacked with a F-16-launched bomb . He could\r\n"
     ]
    }
   ],
   "source": [
    "!head en_ewt-ud-dev.txt.tokenized_moses"
   ]
  },
  {
   "cell_type": "markdown",
   "id": "f6b4e8d0",
   "metadata": {},
   "source": [
    "Describe why `en_ewt-ud-dev.txt.tokenized_moses` (based on `en_ewt-ud-dev.txt`) results are so bad."
   ]
  },
  {
   "cell_type": "code",
   "execution_count": 42,
   "id": "separated-vulnerability",
   "metadata": {},
   "outputs": [
    {
     "name": "stdout",
     "output_type": "stream",
     "text": [
      "Usage: java [options] <mainclass> [args...]\r\n",
      "           (to execute a class)\r\n",
      "   or  java [options] -jar <jarfile> [args...]\r\n",
      "           (to execute a jar file)\r\n",
      "   or  java [options] -m <module>[/<mainclass>] [args...]\r\n",
      "       java [options] --module <module>[/<mainclass>] [args...]\r\n",
      "           (to execute the main class in a module)\r\n",
      "   or  java [options] <sourcefile> [args]\r\n",
      "           (to execute a single source-file program)\r\n",
      "\r\n",
      " Arguments following the main class, source file, -jar <jarfile>,\r\n",
      " -m or --module <module>/<mainclass> are passed as the arguments to\r\n",
      " main class.\r\n",
      "\r\n",
      " where options include:\r\n",
      "\r\n",
      "    -cp <class search path of directories and zip/jar files>\r\n",
      "    -classpath <class search path of directories and zip/jar files>\r\n",
      "    --class-path <class search path of directories and zip/jar files>\r\n",
      "                  A : separated list of directories, JAR archives,\r\n",
      "                  and ZIP archives to search for class files.\r\n",
      "    -p <module path>\r\n",
      "    --module-path <module path>...\r\n",
      "                  A : separated list of directories, each directory\r\n",
      "                  is a directory of modules.\r\n",
      "    --upgrade-module-path <module path>...\r\n",
      "                  A : separated list of directories, each directory\r\n",
      "                  is a directory of modules that replace upgradeable\r\n",
      "                  modules in the runtime image\r\n",
      "    --add-modules <module name>[,<module name>...]\r\n",
      "                  root modules to resolve in addition to the initial module.\r\n",
      "                  <module name> can also be ALL-DEFAULT, ALL-SYSTEM,\r\n",
      "                  ALL-MODULE-PATH.\r\n",
      "    --list-modules\r\n",
      "                  list observable modules and exit\r\n",
      "    -d <module name>\r\n",
      "    --describe-module <module name>\r\n",
      "                  describe a module and exit\r\n",
      "    --dry-run     create VM and load main class but do not execute main method.\r\n",
      "                  The --dry-run option may be useful for validating the\r\n",
      "                  command-line options such as the module system configuration.\r\n",
      "    --validate-modules\r\n",
      "                  validate all modules and exit\r\n",
      "                  The --validate-modules option may be useful for finding\r\n",
      "                  conflicts and other errors with modules on the module path.\r\n",
      "    -D<name>=<value>\r\n",
      "                  set a system property\r\n",
      "    -verbose:[class|module|gc|jni]\r\n",
      "                  enable verbose output for the given subsystem\r\n",
      "    -version      print product version to the error stream and exit\r\n",
      "    --version     print product version to the output stream and exit\r\n",
      "    -showversion  print product version to the error stream and continue\r\n",
      "    --show-version\r\n",
      "                  print product version to the output stream and continue\r\n",
      "    --show-module-resolution\r\n",
      "                  show module resolution output during startup\r\n",
      "    -? -h -help\r\n",
      "                  print this help message to the error stream\r\n",
      "    --help        print this help message to the output stream\r\n",
      "    -X            print help on extra options to the error stream\r\n",
      "    --help-extra  print help on extra options to the output stream\r\n",
      "    -ea[:<packagename>...|:<classname>]\r\n",
      "    -enableassertions[:<packagename>...|:<classname>]\r\n",
      "                  enable assertions with specified granularity\r\n",
      "    -da[:<packagename>...|:<classname>]\r\n",
      "    -disableassertions[:<packagename>...|:<classname>]\r\n",
      "                  disable assertions with specified granularity\r\n",
      "    -esa | -enablesystemassertions\r\n",
      "                  enable system assertions\r\n",
      "    -dsa | -disablesystemassertions\r\n",
      "                  disable system assertions\r\n",
      "    -agentlib:<libname>[=<options>]\r\n",
      "                  load native agent library <libname>, e.g. -agentlib:jdwp\r\n",
      "                  see also -agentlib:jdwp=help\r\n",
      "    -agentpath:<pathname>[=<options>]\r\n",
      "                  load native agent library by full pathname\r\n",
      "    -javaagent:<jarpath>[=<options>]\r\n",
      "                  load Java programming language agent, see java.lang.instrument\r\n",
      "    -splash:<imagepath>\r\n",
      "                  show splash screen with specified image\r\n",
      "                  HiDPI scaled images are automatically supported and used\r\n",
      "                  if available. The unscaled image filename, e.g. image.ext,\r\n",
      "                  should always be passed as the argument to the -splash option.\r\n",
      "                  The most appropriate scaled image provided will be picked up\r\n",
      "                  automatically.\r\n",
      "                  See the SplashScreen API documentation for more information\r\n",
      "    @argument files\r\n",
      "                  one or more argument files containing options\r\n",
      "    -disable-@files\r\n",
      "                  prevent further argument file expansion\r\n",
      "    --enable-preview\r\n",
      "                  allow classes to depend on preview features of this release\r\n",
      "To specify an argument for a long option, you can use --<name>=<value> or\r\n",
      "--<name> <value>.\r\n",
      "\r\n"
     ]
    }
   ],
   "source": [
    "!java"
   ]
  },
  {
   "cell_type": "code",
   "execution_count": 3,
   "id": "nominated-creator",
   "metadata": {},
   "outputs": [],
   "source": [
    "!cd stanford-corenlp-4.2.2/"
   ]
  },
  {
   "cell_type": "code",
   "execution_count": 4,
   "id": "refined-sunset",
   "metadata": {},
   "outputs": [
    {
     "name": "stdout",
     "output_type": "stream",
     "text": [
      "/Users/jungyeul/teaching@ubc/ling242/lab1\r\n"
     ]
    }
   ],
   "source": [
    "!pwd"
   ]
  },
  {
   "cell_type": "code",
   "execution_count": 8,
   "id": "minute-bathroom",
   "metadata": {
    "scrolled": true
   },
   "outputs": [
    {
     "name": "stdout",
     "output_type": "stream",
     "text": [
      "java -mx5g -cp \"./stanford-corenlp-4.2.2/*\" edu.stanford.nlp.pipeline.StanfordCoreNLP -annotators tokenize -file en_ewt-ud-dev-corrected.txt\n",
      "[main] INFO edu.stanford.nlp.pipeline.StanfordCoreNLP - Adding annotator tokenize\n",
      "\n",
      "Processing file /Users/jungyeul/teaching@ubc/ling242/lab1/en_ewt-ud-dev-corrected.txt ... writing to /Users/jungyeul/teaching@ubc/ling242/lab1/en_ewt-ud-dev-corrected.txt.out\n",
      "Annotating file /Users/jungyeul/teaching@ubc/ling242/lab1/en_ewt-ud-dev-corrected.txt ... done [0.1 sec].\n",
      "\n",
      "Annotation pipeline timing information:\n",
      "TokenizerAnnotator: 0.1 sec.\n",
      "TOTAL: 0.1 sec. for 148 tokens at 2690.9 tokens/sec.\n",
      "Pipeline setup: 0.0 sec.\n",
      "Total time for StanfordCoreNLP pipeline: 0.2 sec.\n"
     ]
    }
   ],
   "source": [
    "!./stanford-corenlp-4.2.2/corenlp.sh -annotators tokenize -file en_ewt-ud-dev-corrected.txt"
   ]
  },
  {
   "cell_type": "markdown",
   "id": "7d6e3b8a",
   "metadata": {},
   "source": [
    "Show CoreNLP's tokenization results, and rename CoreNLP's tokenization result into `en_ewt-ud-dev.txt.tokenized_corenlp`\n",
    "\n",
    "```\n",
    "!cat en_ewt-ud-dev-corrected.txt.out| grep \"^\\[Text=\" | cut -f1 -d\" \" | sed 's/\\[Text=//g' | tr '\\012' \" \" > en_ewt-ud-dev.txt.tokenized_corenlp\n",
    "```"
   ]
  },
  {
   "cell_type": "code",
   "execution_count": 10,
   "id": "exotic-spare",
   "metadata": {},
   "outputs": [],
   "source": []
  },
  {
   "cell_type": "markdown",
   "id": "438d8f46",
   "metadata": {},
   "source": [
    "# 3. SBD"
   ]
  },
  {
   "cell_type": "markdown",
   "id": "a5168810",
   "metadata": {},
   "source": []
  },
  {
   "cell_type": "code",
   "execution_count": 12,
   "id": "contemporary-failing",
   "metadata": {},
   "outputs": [
    {
     "name": "stdout",
     "output_type": "stream",
     "text": [
      "==> en_ewt-ud-dev.txt.tokenized_corenlp <==\r\n",
      "From the AP comes this story : President Bush on Tuesday nominated two individuals to replace retiring jurists on federal courts in the Washington area . Bush nominated Jennifer M. Anderson for a 15 - year term as associate judge of the Superior Court of the District of Columbia , replacing Steffen W. Graae . *** Bush also nominated A. Noel Anketell Kramer for a 15 - year term as associate judge of the District of Columbia Court of Appeals , replacing John Montague Steadman . The sheikh in wheel - chair has been attacked with a F -16-launched bomb . He could be killed years ago and the israelians have all the reasons , since he founded and he is the spiritual leader of Hamas , but they did n't . Today 's incident proves that Sharon has lost his patience and his hope in peace . \r\n",
      "==> en_ewt-ud-dev.txt.tokenized_moses <==\r\n",
      "From the AP comes this story :\r\n",
      "\r\n",
      "President Bush on Tuesday nominated two individuals to replace retiring jurists\r\n",
      "on federal courts in the Washington area . Bush nominated Jennifer M. Anderson\r\n",
      "for a 15-year term as associate judge of the Superior Court of the District of\r\n",
      "\r\n",
      "==> en_ewt-ud-dev.txt.tokenized_sed <==\r\n",
      "From the AP comes this story : \r\n",
      "\r\n",
      "President Bush on Tuesday nominated two individuals to replace retiring jurists \r\n",
      "on federal courts in the Washington area. Bush nominated Jennifer M. Anderson \r\n",
      "for a 15-year term as associate judge of the Superior Court of the District of \r\n"
     ]
    }
   ],
   "source": [
    "!head -n 5 en_ewt-ud-dev.txt.tokenized_*"
   ]
  },
  {
   "cell_type": "code",
   "execution_count": 13,
   "id": "early-tiger",
   "metadata": {},
   "outputs": [
    {
     "name": "stdout",
     "output_type": "stream",
     "text": [
      "--2021-09-15 08:24:39--  https://files.pythonhosted.org/packages/cf/d2/9771eb65f1dc3925dbcfc7c4b2adaefa38e1549e4e4e75409df316f8c453/splitta-0.1.0.tar.gz\n",
      "Resolving files.pythonhosted.org (files.pythonhosted.org)... 151.101.121.63\n",
      "Connecting to files.pythonhosted.org (files.pythonhosted.org)|151.101.121.63|:443... connected.\n",
      "HTTP request sent, awaiting response... 200 OK\n",
      "Length: 6943603 (6,6M) [application/octet-stream]\n",
      "Saving to: ‘splitta-0.1.0.tar.gz.1’\n",
      "\n",
      "splitta-0.1.0.tar.g 100%[===================>]   6,62M   578KB/s    in 12s     \n",
      "\n",
      "2021-09-15 08:24:53 (553 KB/s) - ‘splitta-0.1.0.tar.gz.1’ saved [6943603/6943603]\n",
      "\n"
     ]
    }
   ],
   "source": [
    "!wget https://files.pythonhosted.org/packages/cf/d2/9771eb65f1dc3925dbcfc7c4b2adaefa38e1549e4e4e75409df316f8c453/splitta-0.1.0.tar.gz"
   ]
  },
  {
   "cell_type": "code",
   "execution_count": 14,
   "id": "perfect-sunrise",
   "metadata": {},
   "outputs": [
    {
     "name": "stdout",
     "output_type": "stream",
     "text": [
      "--2021-09-15 08:24:58--  http://download.joachims.org/svm_light/current/svm_light.tar.gz\n",
      "Resolving download.joachims.org (download.joachims.org)... 81.88.42.187, 81.88.34.174\n",
      "Connecting to download.joachims.org (download.joachims.org)|81.88.42.187|:80... connected.\n",
      "HTTP request sent, awaiting response... 302 Found\n",
      "Location: http://osmot.cs.cornell.edu/svm_light/current/svm_light.tar.gz [following]\n",
      "--2021-09-15 08:25:00--  http://osmot.cs.cornell.edu/svm_light/current/svm_light.tar.gz\n",
      "Resolving osmot.cs.cornell.edu (osmot.cs.cornell.edu)... 128.253.51.182\n",
      "Connecting to osmot.cs.cornell.edu (osmot.cs.cornell.edu)|128.253.51.182|:80... connected.\n",
      "HTTP request sent, awaiting response... 200 OK\n",
      "Length: 51026 (50K) [application/x-gzip]\n",
      "Saving to: ‘svm_light.tar.gz’\n",
      "\n",
      "svm_light.tar.gz    100%[===================>]  49,83K  80,4KB/s    in 0,6s    \n",
      "\n",
      "2021-09-15 08:25:02 (80,4 KB/s) - ‘svm_light.tar.gz’ saved [51026/51026]\n",
      "\n"
     ]
    }
   ],
   "source": [
    "!wget http://download.joachims.org/svm_light/current/svm_light.tar.gz"
   ]
  },
  {
   "cell_type": "code",
   "execution_count": 15,
   "id": "earlier-style",
   "metadata": {},
   "outputs": [
    {
     "name": "stdout",
     "output_type": "stream",
     "text": [
      "mkdir: svm_light: File exists\r\n"
     ]
    }
   ],
   "source": [
    "!mkdir svm_light"
   ]
  },
  {
   "cell_type": "code",
   "execution_count": 16,
   "id": "worthy-episode",
   "metadata": {},
   "outputs": [],
   "source": [
    "!mv svm_light.tar.gz svm_light/"
   ]
  },
  {
   "cell_type": "code",
   "execution_count": 17,
   "id": "italic-roommate",
   "metadata": {},
   "outputs": [
    {
     "name": "stdout",
     "output_type": "stream",
     "text": [
      "/Users/jungyeul/teaching@ubc/ling242/lab1/svm_light\n"
     ]
    }
   ],
   "source": [
    "%cd svm_light/"
   ]
  },
  {
   "cell_type": "code",
   "execution_count": 18,
   "id": "baking-louis",
   "metadata": {},
   "outputs": [
    {
     "name": "stdout",
     "output_type": "stream",
     "text": [
      "/Users/jungyeul/teaching@ubc/ling242/lab1/svm_light\r\n"
     ]
    }
   ],
   "source": [
    "!pwd"
   ]
  },
  {
   "cell_type": "code",
   "execution_count": 19,
   "id": "indoor-fossil",
   "metadata": {},
   "outputs": [
    {
     "name": "stdout",
     "output_type": "stream",
     "text": [
      "gcc  -O3                      svm_learn_main.o svm_learn.o svm_common.o svm_hideo.o -o svm_learn -L. -lm                               \r\n"
     ]
    }
   ],
   "source": [
    "!make all "
   ]
  },
  {
   "cell_type": "code",
   "execution_count": 20,
   "id": "latin-manual",
   "metadata": {},
   "outputs": [
    {
     "name": "stdout",
     "output_type": "stream",
     "text": [
      "\u001b[31mLICENSE.txt\u001b[m\u001b[m      svm_classify.o   svm_hideo.o      \u001b[31msvm_learn_main.c\u001b[m\u001b[m\r\n",
      "\u001b[31mMakefile\u001b[m\u001b[m         \u001b[31msvm_common.c\u001b[m\u001b[m     \u001b[31msvm_learn\u001b[m\u001b[m        svm_learn_main.o\r\n",
      "\u001b[31mkernel.h\u001b[m\u001b[m         \u001b[31msvm_common.h\u001b[m\u001b[m     \u001b[31msvm_learn.c\u001b[m\u001b[m      svm_light.tar.gz\r\n",
      "\u001b[31msvm_classify\u001b[m\u001b[m     svm_common.o     \u001b[31msvm_learn.h\u001b[m\u001b[m      \u001b[31msvm_loqo.c\u001b[m\u001b[m\r\n",
      "\u001b[31msvm_classify.c\u001b[m\u001b[m   \u001b[31msvm_hideo.c\u001b[m\u001b[m      svm_learn.o\r\n"
     ]
    }
   ],
   "source": [
    "!ls"
   ]
  },
  {
   "cell_type": "code",
   "execution_count": null,
   "id": "sporting-edition",
   "metadata": {},
   "outputs": [],
   "source": []
  },
  {
   "cell_type": "markdown",
   "id": "80032312",
   "metadata": {},
   "source": [
    "# Discussion\n",
    "\n",
    "Discuss the difference between what you tokenized and detect sentence boundries, and CoreNLP's results for tokenization and SBD. "
   ]
  },
  {
   "cell_type": "markdown",
   "id": "cfbbee30",
   "metadata": {},
   "source": []
  },
  {
   "cell_type": "markdown",
   "id": "ca685dd2",
   "metadata": {},
   "source": []
  }
 ],
 "metadata": {
  "kernelspec": {
   "display_name": "Python 3",
   "language": "python",
   "name": "python3"
  },
  "language_info": {
   "codemirror_mode": {
    "name": "ipython",
    "version": 3
   },
   "file_extension": ".py",
   "mimetype": "text/x-python",
   "name": "python",
   "nbconvert_exporter": "python",
   "pygments_lexer": "ipython3",
   "version": "3.8.2"
  }
 },
 "nbformat": 4,
 "nbformat_minor": 5
}
