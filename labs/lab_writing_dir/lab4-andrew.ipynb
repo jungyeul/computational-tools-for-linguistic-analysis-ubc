{
 "cells": [
  {
   "cell_type": "markdown",
   "id": "elementary-metabolism",
   "metadata": {},
   "source": [
    "# Sequence labelling"
   ]
  },
  {
   "cell_type": "code",
   "execution_count": 1,
   "id": "studied-advantage",
   "metadata": {},
   "outputs": [
    {
     "name": "stdout",
     "output_type": "stream",
     "text": [
      "/Users/andrew/UBC/LING242/computational-tools-for-linguistic-analysis-ubc/labs/lab4\n",
      "--2021-10-16 19:41:30--  https://wapiti.limsi.fr/wapiti-1.5.0.tar.gz\n",
      "Resolving wapiti.limsi.fr (wapiti.limsi.fr)... 129.175.134.198\n",
      "Connecting to wapiti.limsi.fr (wapiti.limsi.fr)|129.175.134.198|:443... connected.\n",
      "HTTP request sent, awaiting response... 200 OK\n",
      "Length: 218486 (213K) [application/x-gzip]\n",
      "Saving to: ‘wapiti-1.5.0.tar.gz’\n",
      "\n",
      "wapiti-1.5.0.tar.gz 100%[===================>] 213.37K   335KB/s    in 0.6s    \n",
      "\n",
      "2021-10-16 19:41:31 (335 KB/s) - ‘wapiti-1.5.0.tar.gz’ saved [218486/218486]\n",
      "\n"
     ]
    }
   ],
   "source": [
    "%cd ~/UBC/LING242/computational-tools-for-linguistic-analysis-ubc/labs/lab4\n",
    "!wget https://wapiti.limsi.fr/wapiti-1.5.0.tar.gz"
   ]
  },
  {
   "cell_type": "code",
   "execution_count": 2,
   "id": "taken-silicon",
   "metadata": {
    "scrolled": true,
    "tags": []
   },
   "outputs": [
    {
     "name": "stdout",
     "output_type": "stream",
     "text": [
      "x wapiti-1.5.0/\n",
      "x wapiti-1.5.0/COPYING\n",
      "x wapiti-1.5.0/HISTORY\n",
      "x wapiti-1.5.0/INSTALL\n",
      "x wapiti-1.5.0/Makefile\n",
      "x wapiti-1.5.0/README.mkd\n",
      "x wapiti-1.5.0/dat/\n",
      "x wapiti-1.5.0/dat/chpattern.txt\n",
      "x wapiti-1.5.0/dat/chtest.txt\n",
      "x wapiti-1.5.0/dat/chtrain.txt\n",
      "x wapiti-1.5.0/dat/nppattern.txt\n",
      "x wapiti-1.5.0/dat/nptest.txt\n",
      "x wapiti-1.5.0/dat/nptrain.txt\n",
      "x wapiti-1.5.0/dat/pattern.txt\n",
      "x wapiti-1.5.0/dat/test.txt\n",
      "x wapiti-1.5.0/dat/train.txt\n",
      "x wapiti-1.5.0/doc/\n",
      "x wapiti-1.5.0/doc/wapiti.1\n",
      "x wapiti-1.5.0/src/\n",
      "x wapiti-1.5.0/src/bcd.c\n",
      "x wapiti-1.5.0/src/decoder.c\n",
      "x wapiti-1.5.0/src/decoder.h\n",
      "x wapiti-1.5.0/src/gradient.c\n",
      "x wapiti-1.5.0/src/gradient.h\n",
      "x wapiti-1.5.0/src/lbfgs.c\n",
      "x wapiti-1.5.0/src/model.c\n",
      "x wapiti-1.5.0/src/model.h\n",
      "x wapiti-1.5.0/src/options.c\n",
      "x wapiti-1.5.0/src/options.h\n",
      "x wapiti-1.5.0/src/pattern.c\n",
      "x wapiti-1.5.0/src/pattern.h\n",
      "x wapiti-1.5.0/src/progress.c\n",
      "x wapiti-1.5.0/src/progress.h\n",
      "x wapiti-1.5.0/src/quark.c\n",
      "x wapiti-1.5.0/src/quark.h\n",
      "x wapiti-1.5.0/src/reader.c\n",
      "x wapiti-1.5.0/src/reader.h\n",
      "x wapiti-1.5.0/src/rprop.c\n",
      "x wapiti-1.5.0/src/sequence.h\n",
      "x wapiti-1.5.0/src/sgdl1.c\n",
      "x wapiti-1.5.0/src/thread.c\n",
      "x wapiti-1.5.0/src/thread.h\n",
      "x wapiti-1.5.0/src/tools.c\n",
      "x wapiti-1.5.0/src/tools.h\n",
      "x wapiti-1.5.0/src/trainers.h\n",
      "x wapiti-1.5.0/src/vmath.c\n",
      "x wapiti-1.5.0/src/vmath.h\n",
      "x wapiti-1.5.0/src/wapiti.c\n",
      "x wapiti-1.5.0/src/wapiti.h\n"
     ]
    }
   ],
   "source": [
    "!tar xvfz wapiti-1.5.0.tar.gz"
   ]
  },
  {
   "cell_type": "code",
   "execution_count": 3,
   "id": "physical-geography",
   "metadata": {},
   "outputs": [
    {
     "name": "stdout",
     "output_type": "stream",
     "text": [
      "/Users/andrew/UBC/LING242/computational-tools-for-linguistic-analysis-ubc/labs/lab4/wapiti-1.5.0\n"
     ]
    }
   ],
   "source": [
    "%cd wapiti-1.5.0/"
   ]
  },
  {
   "cell_type": "code",
   "execution_count": 4,
   "id": "dutch-watershed",
   "metadata": {},
   "outputs": [
    {
     "name": "stdout",
     "output_type": "stream",
     "text": [
      "CC: wapiti.c --> wapiti\n"
     ]
    }
   ],
   "source": [
    "!make"
   ]
  },
  {
   "cell_type": "markdown",
   "id": "processed-hearing",
   "metadata": {},
   "source": [
    "## POS tagging"
   ]
  },
  {
   "cell_type": "code",
   "execution_count": 5,
   "id": "dependent-branch",
   "metadata": {
    "tags": []
   },
   "outputs": [
    {
     "name": "stdout",
     "output_type": "stream",
     "text": [
      "/Users/andrew/UBC/LING242/computational-tools-for-linguistic-analysis-ubc/labs/lab4/pos\n"
     ]
    }
   ],
   "source": [
    "%cd ~/UBC/LING242/computational-tools-for-linguistic-analysis-ubc/labs/lab4/pos"
   ]
  },
  {
   "cell_type": "code",
   "execution_count": 6,
   "id": "20825054-d8c2-4750-8503-8e60a3a398d6",
   "metadata": {
    "scrolled": true,
    "tags": []
   },
   "outputs": [
    {
     "name": "stdout",
     "output_type": "stream",
     "text": [
      "* Load patterns\n",
      "* Load training data\n",
      "   1000 sequences loaded\n",
      "   2000 sequences loaded\n",
      "   3000 sequences loaded\n",
      "   4000 sequences loaded\n",
      "   5000 sequences loaded\n",
      "   6000 sequences loaded\n",
      "   7000 sequences loaded\n",
      "   8000 sequences loaded\n",
      "* Initialize the model\n",
      "* Summary\n",
      "    nb train:    8936\n",
      "    nb labels:   44\n",
      "    nb blocks:   330502\n",
      "    nb features: 14542088\n",
      "* Train the model with l-bfgs\n",
      "  [   1] obj=700591.65  act=891559   err=62.84%/99.92% time=4.06s/4.06s\n",
      "  [   2] obj=433928.60  act=884528   err=45.26%/99.70% time=2.71s/6.76s\n",
      "  [   3] obj=415847.03  act=872118   err=45.04%/99.68% time=2.74s/9.51s\n",
      "  [   4] obj=302908.23  act=915122   err=40.50%/99.52% time=2.81s/12.32s\n",
      "  [   5] obj=230108.87  act=866291   err=25.46%/98.53% time=3.01s/15.33s\n",
      "  [   6] obj=199267.64  act=790663   err=24.86%/98.68% time=2.83s/18.16s\n",
      "  [   7] obj=171893.01  act=726953   err=20.64%/97.80% time=2.92s/21.08s\n",
      "  [   8] obj=147993.85  act=689368   err=18.87%/96.75% time=2.74s/23.82s\n",
      "  [   9] obj=125833.55  act=618388   err=15.13%/93.68% time=2.73s/26.56s\n",
      "  [  10] obj=111581.99  act=576265   err=14.58%/93.72% time=3.01s/29.57s\n",
      "  [  11] obj=101051.58  act=546862   err=12.65%/91.26% time=3.02s/32.59s\n",
      "  [  12] obj=86309.34   act=481198   err=11.40%/88.53% time=3.06s/35.64s\n",
      "  [  13] obj=78039.54   act=410202   err= 9.97%/85.35% time=2.61s/38.25s\n",
      "  [  14] obj=67484.82   act=403701   err= 8.96%/82.59% time=2.64s/40.89s\n",
      "  [  15] obj=62888.18   act=383358   err= 8.17%/80.19% time=2.89s/43.78s\n",
      "  [  16] obj=56197.47   act=352091   err= 7.64%/78.11% time=2.92s/46.70s\n",
      "  [  17] obj=51825.09   act=348234   err= 6.93%/75.55% time=2.96s/49.66s\n",
      "  [  18] obj=48442.64   act=337415   err= 6.45%/73.49% time=2.97s/52.63s\n",
      "  [  19] obj=42661.26   act=308685   err= 5.49%/67.66% time=2.71s/55.34s\n",
      "  [  20] obj=40105.19   act=292842   err= 5.24%/66.30% time=2.77s/58.11s\n",
      "  [  21] obj=37510.57   act=287171   err= 4.71%/62.24% time=2.99s/61.11s\n",
      "  [  22] obj=35147.67   act=272726   err= 4.30%/59.06% time=2.90s/64.01s\n",
      "  [  23] obj=33532.22   act=249123   err= 3.97%/56.38% time=2.98s/66.99s\n",
      "  [  24] obj=31185.76   act=245040   err= 3.64%/53.16% time=2.60s/69.58s\n",
      "  [  25] obj=29996.70   act=238165   err= 3.40%/50.72% time=3.08s/72.67s\n",
      "  [  26] obj=28154.20   act=224001   err= 3.08%/47.86% time=2.81s/75.47s\n",
      "  [  27] obj=27475.43   act=209107   err= 3.01%/47.15% time=2.54s/78.01s\n",
      "  [  28] obj=25874.66   act=209085   err= 2.65%/43.08% time=2.53s/80.55s\n",
      "  [  29] obj=25285.39   act=203991   err= 2.51%/41.65% time=2.89s/83.44s\n",
      "  [  30] obj=23880.44   act=188247   err= 2.19%/37.69% time=2.91s/86.35s\n",
      "  [  31] obj=23095.04   act=169362   err= 1.96%/34.57% time=2.94s/89.29s\n",
      "  [  32] obj=22304.21   act=167489   err= 1.79%/32.08% time=2.81s/92.10s\n",
      "  [  33] obj=21892.52   act=162448   err= 1.68%/30.68% time=2.68s/94.78s\n",
      "  [  34] obj=20945.12   act=144597   err= 1.41%/26.52% time=2.56s/97.33s\n",
      "  [  35] obj=20845.93   act=126937   err= 1.39%/26.51% time=2.59s/99.92s\n",
      "  [  36] obj=20042.35   act=127121   err= 1.17%/22.96% time=2.65s/102.57s\n",
      "  [  37] obj=19832.46   act=123108   err= 1.12%/22.00% time=2.54s/105.11s\n",
      "  [  38] obj=19299.70   act=110026   err= 0.94%/19.02% time=2.60s/107.71s\n",
      "  [  39] obj=18940.27   act=103282   err= 0.85%/17.42% time=2.76s/110.48s\n",
      "  [  40] obj=18674.54   act=99682    err= 0.76%/15.83% time=2.49s/112.97s\n",
      "  [  41] obj=18352.81   act=94546    err= 0.65%/13.84% time=2.62s/115.59s\n",
      "  [  42] obj=18177.71   act=88604    err= 0.60%/12.85% time=5.10s/120.69s\n",
      "  [  43] obj=17956.42   act=86522    err= 0.49%/10.66% time=2.50s/123.19s\n",
      "  [  44] obj=17779.34   act=82918    err= 0.45%/10.06% time=2.51s/125.70s\n",
      "  [  45] obj=17553.32   act=74308    err= 0.40%/ 8.99% time=2.86s/128.56s\n",
      "  [  46] obj=17429.62   act=72169    err= 0.35%/ 7.81% time=2.83s/131.38s\n",
      "  [  47] obj=17359.75   act=69907    err= 0.33%/ 7.37% time=2.71s/134.09s\n",
      "  [  48] obj=17189.99   act=64568    err= 0.34%/ 7.52% time=2.58s/136.67s\n",
      "  [  49] obj=17136.60   act=62341    err= 0.29%/ 6.56% time=5.16s/141.84s\n",
      "  [  50] obj=17046.64   act=61648    err= 0.31%/ 6.98% time=2.67s/144.51s\n",
      "  [  51] obj=16960.84   act=58674    err= 0.32%/ 7.27% time=2.70s/147.21s\n",
      "  [  52] obj=16878.91   act=55432    err= 0.35%/ 7.90% time=2.65s/149.86s\n",
      "* Save the model\n",
      "* Done\n"
     ]
    }
   ],
   "source": [
    "!../wapiti-1.5.0/wapiti train -p pattern-pos.txt train.txt pos.model"
   ]
  },
  {
   "cell_type": "code",
   "execution_count": 7,
   "id": "3a8e32e2-93d6-47d4-b2c3-cb6e38512932",
   "metadata": {
    "tags": []
   },
   "outputs": [
    {
     "name": "stdout",
     "output_type": "stream",
     "text": [
      "u:-2=%x[-2,0] # 2 tokens prior\n",
      "u:-1=%x[-1,0] # 1 tokens prior\n",
      "u: 0=%x[ 0,0] # current token itself\n",
      "u: 1=%x[ 1,0] # 1 tokens after\n",
      "u: 2=%x[ 2,0] # 2 tokens after\n",
      "\n",
      "u:-1c=%x[-1,0]/%x[0,0] # previous token given current token\n",
      "u: 1c=%x[ 1,0]/%x[0,0] # next token given current token\n",
      "\n",
      "# Prefixes: use first n characters of token to determine its PoS\n",
      "# e.g. the prefix 'de-' more likely appears in a verb than a preposition\n",
      "u:Pre-1 X=%m[ 0,0,\"^.?\"]\n",
      "u:Pre-2 X=%m[ 0,0,\"^.?.?\"]\n",
      "u:Pre-3 X=%m[ 0,0,\"^.?.?.?\"]\n",
      "u:Pre-4 X=%m[ 0,0,\"^.?.?.?.?\"]\n",
      "\n",
      "# Suffixes: use last n characters of token to determine its PoS\n",
      "# e.g. the suffix '-tion' more likely appears in a noun than a verb\n",
      "u:Suf-1 X=%m[ 0,0,\".?$\"]\n",
      "u:Suf-2 X=%m[ 0,0,\".?.?$\"]\n",
      "u:Suf-3 X=%m[ 0,0,\".?.?.?$\"]\n",
      "u:Suf-4 X=%m[ 0,0,\".?.?.?.?$\"]\n",
      "\n",
      "# Capitalization\n",
      "u:BegC? X=%t[ 0,0,\"^\\u\"]   # whether current token begins with capital letter (e.g. likely for proper nouns)\n",
      "\n",
      "u:Punc? X=%t[ 0,0,\"\\p\"] # whether current token contains a punctuation\n",
      "\n",
      "u:Num? X=%t[0,0,\"\\d\"] # whether current token contains a number\n"
     ]
    }
   ],
   "source": [
    "# Patterns used for PoS:\n",
    "!cat pattern-pos.txt"
   ]
  },
  {
   "cell_type": "code",
   "execution_count": 8,
   "id": "b40e1bf5-f026-4045-9ca2-57846288f81b",
   "metadata": {},
   "outputs": [
    {
     "name": "stdout",
     "output_type": "stream",
     "text": [
      "* Load model\n",
      "* Label sequences\n",
      "      1000 sequences labeled\n",
      "      2000 sequences labeled\n",
      "* Done\n"
     ]
    }
   ],
   "source": [
    "!../wapiti-1.5.0/wapiti label -m pos.model test_input.txt test_output.txt"
   ]
  },
  {
   "cell_type": "code",
   "execution_count": 9,
   "id": "ee75a4d4-4066-43df-bfbd-809d921119e1",
   "metadata": {
    "tags": []
   },
   "outputs": [
    {
     "name": "stdout",
     "output_type": "stream",
     "text": [
      "processed 47377 tokens with 0 phrases; found: 0 phrases; correct: 0.\n",
      "accuracy:  97.48%; precision:   0.00%; recall:   0.00%; FB1:   0.00\n"
     ]
    }
   ],
   "source": [
    "!chmod 700 ../conlleval.pl\n",
    "!paste test_output.txt test_gold.txt | ../conlleval.pl -d \"\\t\""
   ]
  },
  {
   "cell_type": "markdown",
   "id": "front-gothic",
   "metadata": {},
   "source": [
    "## Chunking"
   ]
  },
  {
   "cell_type": "code",
   "execution_count": 10,
   "id": "coated-twins",
   "metadata": {},
   "outputs": [
    {
     "name": "stdout",
     "output_type": "stream",
     "text": [
      "/Users/andrew/UBC/LING242/computational-tools-for-linguistic-analysis-ubc/labs/lab4/chunking\n"
     ]
    }
   ],
   "source": [
    "%cd ~/UBC/LING242/computational-tools-for-linguistic-analysis-ubc/labs/lab4/chunking"
   ]
  },
  {
   "cell_type": "code",
   "execution_count": 11,
   "id": "a5ae66d3-89b2-4e86-b54f-d6d52b9fd490",
   "metadata": {
    "scrolled": true,
    "tags": []
   },
   "outputs": [
    {
     "name": "stdout",
     "output_type": "stream",
     "text": [
      "* Load patterns\n",
      "* Load training data\n",
      "   1000 sequences loaded\n",
      "   2000 sequences loaded\n",
      "   3000 sequences loaded\n",
      "   4000 sequences loaded\n",
      "   5000 sequences loaded\n",
      "   6000 sequences loaded\n",
      "   7000 sequences loaded\n",
      "   8000 sequences loaded\n",
      "* Initialize the model\n",
      "* Summary\n",
      "    nb train:    8936\n",
      "    nb labels:   22\n",
      "    nb blocks:   19256\n",
      "    nb features: 423632\n",
      "* Train the model with l-bfgs\n",
      "  [   1] obj=589384.55  act=72772    err=22.67%/97.28% time=0.55s/0.55s\n",
      "  [   2] obj=182403.10  act=69772    err=16.77%/92.52% time=0.40s/0.95s\n",
      "  [   3] obj=136572.24  act=45139    err=13.32%/85.99% time=0.36s/1.30s\n",
      "  [   4] obj=107507.56  act=32309    err=14.28%/88.33% time=0.37s/1.68s\n",
      "  [   5] obj=94027.31   act=34597    err=10.57%/79.00% time=0.56s/2.24s\n",
      "  [   6] obj=88064.89   act=30677    err=10.25%/78.50% time=0.39s/2.62s\n",
      "  [   7] obj=86319.52   act=29125    err=10.25%/78.68% time=0.36s/2.99s\n",
      "  [   8] obj=74636.77   act=27455    err= 9.08%/74.28% time=0.58s/3.57s\n",
      "  [   9] obj=70139.57   act=24733    err= 8.72%/72.99% time=0.39s/3.96s\n",
      "  [  10] obj=65780.44   act=22519    err= 8.16%/69.14% time=0.40s/4.36s\n",
      "  [  11] obj=62011.75   act=20933    err= 7.93%/69.48% time=0.39s/4.75s\n",
      "  [  12] obj=59780.13   act=20079    err= 7.62%/66.20% time=0.39s/5.14s\n",
      "  [  13] obj=57858.49   act=19374    err= 7.44%/66.43% time=0.39s/5.53s\n",
      "  [  14] obj=55887.97   act=18570    err= 7.32%/65.25% time=0.40s/5.93s\n",
      "  [  15] obj=54250.31   act=17994    err= 7.05%/64.96% time=0.38s/6.32s\n",
      "  [  16] obj=53101.01   act=17609    err= 6.97%/63.41% time=0.36s/6.68s\n",
      "  [  17] obj=51776.47   act=17051    err= 6.74%/62.99% time=0.39s/7.07s\n",
      "  [  18] obj=50812.80   act=16549    err= 6.85%/63.13% time=0.34s/7.41s\n",
      "  [  19] obj=49926.45   act=16372    err= 6.56%/62.50% time=0.35s/7.76s\n",
      "  [  20] obj=49111.02   act=16114    err= 6.49%/61.74% time=0.40s/8.17s\n",
      "  [  21] obj=48318.84   act=15743    err= 6.34%/61.99% time=0.40s/8.56s\n",
      "  [  22] obj=47694.42   act=15672    err= 6.26%/61.00% time=0.39s/8.96s\n",
      "  [  23] obj=47136.64   act=15389    err= 6.13%/60.77% time=0.34s/9.30s\n",
      "  [  24] obj=46439.36   act=14920    err= 6.21%/60.65% time=0.34s/9.64s\n",
      "  [  25] obj=46037.06   act=14977    err= 6.01%/60.36% time=0.33s/9.97s\n",
      "  [  26] obj=45727.49   act=14920    err= 5.99%/60.50% time=0.33s/10.30s\n",
      "  [  27] obj=45168.40   act=14580    err= 5.80%/59.25% time=0.34s/10.64s\n",
      "  [  28] obj=44848.06   act=14386    err= 5.78%/59.02% time=0.34s/10.98s\n",
      "  [  29] obj=44473.84   act=14276    err= 5.70%/58.38% time=0.35s/11.33s\n",
      "  [  30] obj=44173.08   act=14063    err= 5.63%/58.59% time=0.40s/11.72s\n",
      "  [  31] obj=43841.63   act=13754    err= 5.62%/58.87% time=0.34s/12.06s\n",
      "  [  32] obj=43625.91   act=13651    err= 5.53%/57.46% time=0.39s/12.45s\n",
      "  [  33] obj=43427.51   act=13475    err= 5.45%/57.65% time=0.37s/12.82s\n",
      "  [  34] obj=43192.77   act=13177    err= 5.40%/57.04% time=0.36s/13.18s\n",
      "  [  35] obj=43029.14   act=13058    err= 5.28%/56.86% time=0.38s/13.57s\n",
      "* Save the model\n",
      "* Done\n"
     ]
    }
   ],
   "source": [
    "!../wapiti-1.5.0/wapiti train -p pattern-chunking.txt train.txt chunking.model"
   ]
  },
  {
   "cell_type": "code",
   "execution_count": 12,
   "id": "04378117-6c7a-4d03-9cd3-51e0e0a989d6",
   "metadata": {
    "tags": []
   },
   "outputs": [
    {
     "name": "stdout",
     "output_type": "stream",
     "text": [
      "u: 0=%x[ 0,0] # current token itself\n",
      "\n",
      "# PoS: use PoS to predict chunking label\n",
      "u:PoS L=%x[-1,1] # PoS of previous token\n",
      "u:PoS X=%x[ 0,1] # PoS of current token\n",
      "u:PoS R=%x[ 1,1] # PoS of next token"
     ]
    }
   ],
   "source": [
    "# Patterns used for chunking\n",
    "!cat pattern-chunking.txt"
   ]
  },
  {
   "cell_type": "code",
   "execution_count": 13,
   "id": "2bb678e7-a538-4221-a129-76c54b910e9e",
   "metadata": {},
   "outputs": [
    {
     "name": "stdout",
     "output_type": "stream",
     "text": [
      "* Load model\n",
      "* Label sequences\n",
      "      1000 sequences labeled\n",
      "      2000 sequences labeled\n",
      "* Done\n"
     ]
    }
   ],
   "source": [
    "!../wapiti-1.5.0/wapiti label -m chunking.model test_input.txt test_output.txt"
   ]
  },
  {
   "cell_type": "code",
   "execution_count": 14,
   "id": "5f1dd682-88d1-4575-b798-cec4d6aa8c1d",
   "metadata": {},
   "outputs": [
    {
     "name": "stdout",
     "output_type": "stream",
     "text": [
      "processed 47377 tokens with 24493 phrases; found: 23852 phrases; correct: 21688.\n",
      "accuracy:  93.85%; precision:  90.93%; recall:  88.55%; FB1:  89.72\n",
      "             ADJP: precision:  62.10%; recall:  62.24%; FB1:  62.17  438\n",
      "             ADVP: precision:  78.64%; recall:  78.10%; FB1:  78.37  866\n",
      "            CONJP: precision:   0.00%; recall:   0.00%; FB1:   0.00  9\n",
      "             INTJ: precision:  50.00%; recall: 100.00%; FB1:  66.67  2\n",
      "              LST: precision:   0.00%; recall:   0.00%; FB1:   0.00  5\n",
      "               NP: precision:  90.53%; recall:  87.34%; FB1:  88.91  12422\n",
      "               PP: precision:  97.13%; recall:  94.46%; FB1:  95.78  4811\n",
      "              PRT: precision:  73.58%; recall:  69.64%; FB1:  71.56  106\n",
      "             SBAR: precision:  80.93%; recall:  87.30%; FB1:  84.00  535\n",
      "               VP: precision:  92.40%; recall:  90.88%; FB1:  91.63  4658\n"
     ]
    }
   ],
   "source": [
    "!paste test_output.txt test_gold.txt | ../conlleval.pl -d \"\\t\""
   ]
  },
  {
   "cell_type": "markdown",
   "id": "generic-setting",
   "metadata": {},
   "source": [
    "## NER"
   ]
  },
  {
   "cell_type": "code",
   "execution_count": 15,
   "id": "female-garage",
   "metadata": {},
   "outputs": [
    {
     "name": "stdout",
     "output_type": "stream",
     "text": [
      "/Users/andrew/UBC/LING242/computational-tools-for-linguistic-analysis-ubc/labs/lab4/ner\n"
     ]
    }
   ],
   "source": [
    "%cd ~/UBC/LING242/computational-tools-for-linguistic-analysis-ubc/labs/lab4/ner"
   ]
  },
  {
   "cell_type": "code",
   "execution_count": 16,
   "id": "1b7c4740-2e54-47fa-b002-2148ddac589b",
   "metadata": {
    "scrolled": true,
    "tags": []
   },
   "outputs": [
    {
     "name": "stdout",
     "output_type": "stream",
     "text": [
      "* Load patterns\n",
      "* Load training data\n",
      "   1000 sequences loaded\n",
      "   2000 sequences loaded\n",
      "   3000 sequences loaded\n",
      "   4000 sequences loaded\n",
      "   5000 sequences loaded\n",
      "   6000 sequences loaded\n",
      "   7000 sequences loaded\n",
      "   8000 sequences loaded\n",
      "   9000 sequences loaded\n",
      "  10000 sequences loaded\n",
      "  11000 sequences loaded\n",
      "  12000 sequences loaded\n",
      "  13000 sequences loaded\n",
      "  14000 sequences loaded\n",
      "* Initialize the model\n",
      "* Summary\n",
      "    nb train:    14987\n",
      "    nb labels:   8\n",
      "    nb blocks:   50466\n",
      "    nb features: 403728\n",
      "* Train the model with l-bfgs\n",
      "  [   1] obj=227425.59  act=120267   err=16.64%/74.28% time=0.25s/0.25s\n",
      "  [   2] obj=111081.13  act=114127   err=16.65%/74.28% time=0.15s/0.40s\n",
      "  [   3] obj=98475.62   act=89652    err=17.40%/75.51% time=0.16s/0.56s\n",
      "  [   4] obj=83759.25   act=63857    err=14.62%/73.72% time=0.16s/0.73s\n",
      "  [   5] obj=80266.51   act=66206    err=14.46%/73.52% time=0.15s/0.87s\n",
      "  [   6] obj=73790.35   act=58763    err=13.29%/70.67% time=0.15s/1.02s\n",
      "  [   7] obj=67681.10   act=54193    err=13.91%/67.74% time=0.14s/1.16s\n",
      "  [   8] obj=66076.89   act=55162    err=12.68%/70.84% time=0.14s/1.31s\n",
      "  [   9] obj=64530.63   act=54952    err=12.50%/68.92% time=0.14s/1.45s\n",
      "  [  10] obj=64072.48   act=54699    err=12.41%/68.90% time=0.14s/1.59s\n",
      "  [  11] obj=63223.16   act=54343    err=12.49%/68.91% time=0.14s/1.73s\n",
      "  [  12] obj=61797.82   act=52196    err=11.59%/65.73% time=0.14s/1.88s\n",
      "  [  13] obj=60553.88   act=50713    err=11.66%/66.25% time=0.15s/2.03s\n",
      "  [  14] obj=58973.24   act=49361    err=10.21%/60.19% time=0.17s/2.20s\n",
      "  [  15] obj=54859.33   act=48591    err= 9.35%/59.89% time=0.16s/2.36s\n",
      "  [  16] obj=51741.12   act=48685    err= 8.58%/56.68% time=0.16s/2.52s\n",
      "  [  17] obj=49941.77   act=48706    err= 9.00%/57.81% time=0.15s/2.67s\n",
      "  [  18] obj=47628.45   act=51427    err= 8.44%/56.00% time=0.15s/2.82s\n",
      "  [  19] obj=45920.94   act=46584    err= 7.73%/52.46% time=0.14s/2.97s\n",
      "  [  20] obj=43492.14   act=47758    err= 7.38%/50.29% time=0.15s/3.11s\n",
      "  [  21] obj=41339.11   act=47313    err= 6.54%/46.54% time=0.14s/3.25s\n",
      "  [  22] obj=39507.22   act=46884    err= 6.30%/44.94% time=0.14s/3.40s\n",
      "  [  23] obj=37646.23   act=46571    err= 5.59%/41.02% time=0.15s/3.55s\n",
      "  [  24] obj=36471.73   act=46360    err= 5.77%/41.78% time=0.14s/3.69s\n",
      "  [  25] obj=34882.73   act=48624    err= 4.99%/37.39% time=0.14s/3.83s\n",
      "  [  26] obj=33957.35   act=48471    err= 4.66%/35.39% time=0.16s/3.99s\n",
      "  [  27] obj=32574.32   act=47052    err= 4.24%/32.87% time=0.16s/4.15s\n",
      "  [  28] obj=31611.46   act=45043    err= 4.06%/31.96% time=0.16s/4.31s\n",
      "  [  29] obj=30773.00   act=47544    err= 3.77%/30.02% time=0.16s/4.47s\n",
      "  [  30] obj=29865.36   act=44974    err= 3.77%/29.41% time=0.17s/4.65s\n",
      "  [  31] obj=29627.11   act=45870    err= 3.12%/26.10% time=0.17s/4.81s\n",
      "  [  32] obj=28892.51   act=45823    err= 3.10%/25.64% time=0.15s/4.96s\n",
      "  [  33] obj=28513.97   act=45767    err= 3.05%/25.30% time=0.15s/5.12s\n",
      "  [  34] obj=27845.95   act=42269    err= 2.76%/23.71% time=0.16s/5.28s\n",
      "  [  35] obj=27707.53   act=42298    err= 2.69%/22.91% time=0.50s/5.78s\n",
      "  [  36] obj=27495.98   act=41854    err= 2.61%/22.28% time=0.16s/5.95s\n",
      "  [  37] obj=27165.14   act=41390    err= 2.66%/22.65% time=0.16s/6.11s\n",
      "  [  38] obj=27021.75   act=40000    err= 2.53%/21.42% time=0.26s/6.37s\n",
      "  [  39] obj=26670.20   act=40644    err= 2.47%/21.11% time=0.16s/6.53s\n",
      "  [  40] obj=26504.74   act=40129    err= 2.45%/20.95% time=0.17s/6.70s\n",
      "  [  41] obj=26331.71   act=34954    err= 2.17%/19.54% time=0.16s/6.86s\n",
      "  [  42] obj=25938.41   act=35239    err= 2.33%/20.20% time=0.16s/7.02s\n",
      "  [  43] obj=25864.97   act=33983    err= 2.31%/20.02% time=0.16s/7.18s\n",
      "  [  44] obj=25822.96   act=33916    err= 2.30%/19.96% time=0.17s/7.35s\n",
      "  [  45] obj=25524.57   act=31877    err= 1.97%/18.09% time=0.16s/7.51s\n",
      "  [  46] obj=25450.27   act=27634    err= 1.56%/15.27% time=0.16s/7.67s\n",
      "* Save the model\n",
      "* Done\n"
     ]
    }
   ],
   "source": [
    "!../wapiti-1.5.0/wapiti train -p pattern-ner.txt eng.train.txt ner.model"
   ]
  },
  {
   "cell_type": "code",
   "execution_count": 17,
   "id": "948794bc-2984-48c8-b2db-3cb637e72984",
   "metadata": {},
   "outputs": [
    {
     "name": "stdout",
     "output_type": "stream",
     "text": [
      "u:X=%x[0,0]       # recognize named entity from token itself\n",
      "u:PoS X=%x[0,1]   # named entities probably never have PoS like TO or VBZ\n",
      "u:Chunk X=%x[0,2] # named entities probably have chunk label I-NP\n",
      "\n",
      "u:foo=%x[0,0]/%x[0,1] # maybe a word, depending on its PoS, can sometimes be a named entity and at other times not\n",
      "\n",
      "u:AllC? X=%t[0,0,\"^\\u*$\"] # if it is in all caps then I would assume it is almost certainly a named entity\n",
      "u:BegC? X=%t[0,0,\"^\\u\"] # if it begins with a capital letter then likely some named entity"
     ]
    }
   ],
   "source": [
    "# Patterns used for NER\n",
    "!cat pattern-ner.txt"
   ]
  },
  {
   "cell_type": "code",
   "execution_count": 18,
   "id": "e40e6f55-7784-449f-bc5a-3f4a046a7a2c",
   "metadata": {},
   "outputs": [
    {
     "name": "stdout",
     "output_type": "stream",
     "text": [
      "* Load model\n",
      "* Label sequences\n",
      "      1000 sequences labeled\n",
      "      2000 sequences labeled\n",
      "      3000 sequences labeled\n",
      "* Done\n"
     ]
    }
   ],
   "source": [
    "!../wapiti-1.5.0/wapiti label -m ner.model eng.test_input.txt eng.test_output.txt"
   ]
  },
  {
   "cell_type": "code",
   "execution_count": 19,
   "id": "9b0f53c9-9a9f-4b20-9dbc-8a144c909952",
   "metadata": {},
   "outputs": [
    {
     "name": "stdout",
     "output_type": "stream",
     "text": [
      "processed 46666 tokens with 6389 phrases; found: 5648 phrases; correct: 4043.\n",
      "accuracy:  94.63%; precision:  71.58%; recall:  63.28%; FB1:  67.18\n",
      "              LOC: precision:  75.60%; recall:  76.70%; FB1:  76.15  1668\n",
      "             MISC: precision:  65.10%; recall:  60.93%; FB1:  62.95  702\n",
      "              ORG: precision:  57.62%; recall:  54.31%; FB1:  55.92  1661\n",
      "              PER: precision:  84.60%; recall:  61.26%; FB1:  71.06  1617\n"
     ]
    }
   ],
   "source": [
    "!paste eng.test_output.txt eng.test_gold.txt | ../conlleval.pl -d \"\\t\""
   ]
  }
 ],
 "metadata": {
  "kernelspec": {
   "display_name": "Python 3",
   "language": "python",
   "name": "python3"
  },
  "language_info": {
   "codemirror_mode": {
    "name": "ipython",
    "version": 3
   },
   "file_extension": ".py",
   "mimetype": "text/x-python",
   "name": "python",
   "nbconvert_exporter": "python",
   "pygments_lexer": "ipython3",
   "version": "3.9.5"
  }
 },
 "nbformat": 4,
 "nbformat_minor": 5
}
