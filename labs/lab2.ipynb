{
 "cells": [
  {
   "cell_type": "markdown",
   "id": "assisted-watson",
   "metadata": {},
   "source": [
    "# Preprocessing\n",
    "\n",
    "\n",
    "## 0. prepraring data"
   ]
  },
  {
   "cell_type": "code",
   "execution_count": 2,
   "id": "surprising-isolation",
   "metadata": {},
   "outputs": [
    {
     "name": "stdout",
     "output_type": "stream",
     "text": [
      "--2021-09-21 13:44:04--  https://raw.githubusercontent.com/jungyeul/computational-tools-for-linguistic-analysis-ubc/main/labs/lab1/en_ewt-ud-dev-alt.txt\n",
      "Resolving raw.githubusercontent.com (raw.githubusercontent.com)... 185.199.110.133, 185.199.111.133, 185.199.108.133, ...\n",
      "Connecting to raw.githubusercontent.com (raw.githubusercontent.com)|185.199.110.133|:443... connected.\n",
      "HTTP request sent, awaiting response... 200 OK\n",
      "Length: 772 [text/plain]\n",
      "Saving to: ‘en_ewt-ud-dev-alt.txt’\n",
      "\n",
      "en_ewt-ud-dev-alt.t 100%[===================>]     772  --.-KB/s    in 0,002s  \n",
      "\n",
      "2021-09-21 13:44:04 (431 KB/s) - ‘en_ewt-ud-dev-alt.txt’ saved [772/772]\n",
      "\n",
      "--2021-09-21 13:44:04--  https://raw.githubusercontent.com/jungyeul/computational-tools-for-linguistic-analysis-ubc/main/labs/lab1/en_ewt-ud-dev.txt\n",
      "Resolving raw.githubusercontent.com (raw.githubusercontent.com)... 185.199.111.133, 185.199.108.133, 185.199.109.133, ...\n",
      "Connecting to raw.githubusercontent.com (raw.githubusercontent.com)|185.199.111.133|:443... connected.\n",
      "HTTP request sent, awaiting response... 200 OK\n",
      "Length: 126870 (124K) [text/plain]\n",
      "Saving to: ‘en_ewt-ud-dev.txt’\n",
      "\n",
      "en_ewt-ud-dev.txt   100%[===================>] 123,90K   488KB/s    in 0,3s    \n",
      "\n",
      "2021-09-21 13:44:05 (488 KB/s) - ‘en_ewt-ud-dev.txt’ saved [126870/126870]\n",
      "\n"
     ]
    }
   ],
   "source": [
    "!wget https://raw.githubusercontent.com/jungyeul/computational-tools-for-linguistic-analysis-ubc/main/labs/lab1/en_ewt-ud-dev-alt.txt\n",
    "!wget https://raw.githubusercontent.com/jungyeul/computational-tools-for-linguistic-analysis-ubc/main/labs/lab1/en_ewt-ud-dev.txt    "
   ]
  },
  {
   "cell_type": "markdown",
   "id": "explicit-hobby",
   "metadata": {},
   "source": [
    "## 1. tokenization\n",
    "### `tokenizer.sed`"
   ]
  },
  {
   "cell_type": "code",
   "execution_count": 3,
   "id": "talented-serve",
   "metadata": {},
   "outputs": [
    {
     "name": "stdout",
     "output_type": "stream",
     "text": [
      "--2021-09-21 13:45:59--  ftp://ftp.cis.upenn.edu/pub/treebank/public_html/tokenizer.sed\n",
      "           => ‘tokenizer.sed’\n",
      "Resolving ftp.cis.upenn.edu (ftp.cis.upenn.edu)... 158.130.67.137\n",
      "Connecting to ftp.cis.upenn.edu (ftp.cis.upenn.edu)|158.130.67.137|:21... connected.\n",
      "Logging in as anonymous ... Logged in!\n",
      "==> SYST ... done.    ==> PWD ... done.\n",
      "==> TYPE I ... done.  ==> CWD (1) /pub/treebank/public_html ... done.\n",
      "==> SIZE tokenizer.sed ... 2204\n",
      "==> PASV ... done.    ==> RETR tokenizer.sed ... done.\n",
      "Length: 2204 (2,2K) (unauthoritative)\n",
      "\n",
      "tokenizer.sed       100%[===================>]   2,15K  --.-KB/s    in 0,04s   \n",
      "\n",
      "2021-09-21 13:46:01 (58,4 KB/s) - ‘tokenizer.sed’ saved [2204]\n",
      "\n"
     ]
    }
   ],
   "source": [
    "!wget ftp://ftp.cis.upenn.edu/pub/treebank/public_html/tokenizer.sed\n",
    "!chmod 755 tokenizer.sed "
   ]
  },
  {
   "cell_type": "markdown",
   "id": "running-botswana",
   "metadata": {},
   "source": [
    "edit `tokenizer.sed`"
   ]
  },
  {
   "cell_type": "code",
   "execution_count": 5,
   "id": "young-captain",
   "metadata": {},
   "outputs": [
    {
     "name": "stdout",
     "output_type": "stream",
     "text": [
      "#!/usr/bin/sed -f\r\n"
     ]
    }
   ],
   "source": [
    "!head -n 1 tokenizer.sed"
   ]
  },
  {
   "cell_type": "code",
   "execution_count": 6,
   "id": "behavioral-shakespeare",
   "metadata": {},
   "outputs": [
    {
     "name": "stdout",
     "output_type": "stream",
     "text": [
      "From the AP comes this story : \r\n",
      "\r\n",
      "President Bush on Tuesday nominated two individuals to replace retiring jurists \r\n",
      "on federal courts in the Washington area. Bush nominated Jennifer M. Anderson \r\n",
      "for a 15-year term as associate judge of the Superior Court of the District of \r\n",
      "Columbia , replacing Steffen W. Graae. *** Bush also nominated A. Noel Anketell \r\n",
      "Kramer for a 15-year term as associate judge of the District of Columbia Court \r\n",
      "of Appeals , replacing John Montague Steadman . \r\n",
      "\r\n",
      "The sheikh in wheel-chair has been attacked with a F-16-launched bomb. He could \r\n",
      "sed: stdout: Broken pipe\r\n"
     ]
    }
   ],
   "source": [
    "!./tokenizer.sed en_ewt-ud-dev.txt | head"
   ]
  },
  {
   "cell_type": "markdown",
   "id": "material-pendant",
   "metadata": {},
   "source": [
    "### `tokenizer.perl`"
   ]
  },
  {
   "cell_type": "markdown",
   "id": "negative-gauge",
   "metadata": {},
   "source": [
    "**TODO** complete commands for `tokenizer.perl`"
   ]
  },
  {
   "cell_type": "code",
   "execution_count": null,
   "id": "opposed-administrator",
   "metadata": {},
   "outputs": [],
   "source": []
  },
  {
   "cell_type": "markdown",
   "id": "descending-shame",
   "metadata": {},
   "source": [
    "## 2. sentence boundary detection\n",
    "### `sbd.py`"
   ]
  },
  {
   "cell_type": "code",
   "execution_count": 9,
   "id": "growing-preparation",
   "metadata": {},
   "outputs": [
    {
     "name": "stdout",
     "output_type": "stream",
     "text": [
      "--2021-09-21 13:49:37--  https://files.pythonhosted.org/packages/cf/d2/9771eb65f1dc3925dbcfc7c4b2adaefa38e1549e4e4e75409df316f8c453/splitta-0.1.0.tar.gz\n",
      "Resolving files.pythonhosted.org (files.pythonhosted.org)... 2a04:4e42:d::319, 151.101.53.63\n",
      "Connecting to files.pythonhosted.org (files.pythonhosted.org)|2a04:4e42:d::319|:443... connected.\n",
      "HTTP request sent, awaiting response... 200 OK\n",
      "Length: 6943603 (6,6M) [application/octet-stream]\n",
      "Saving to: ‘splitta-0.1.0.tar.gz’\n",
      "\n",
      "splitta-0.1.0.tar.g 100%[===================>]   6,62M  22,6MB/s    in 0,3s    \n",
      "\n",
      "2021-09-21 13:49:37 (22,6 MB/s) - ‘splitta-0.1.0.tar.gz’ saved [6943603/6943603]\n",
      "\n"
     ]
    }
   ],
   "source": [
    "!wget https://files.pythonhosted.org/packages/cf/d2/9771eb65f1dc3925dbcfc7c4b2adaefa38e1549e4e4e75409df316f8c453/splitta-0.1.0.tar.gz"
   ]
  },
  {
   "cell_type": "markdown",
   "id": "perceived-trace",
   "metadata": {},
   "source": [
    "**TODO** complete commands for `sbd.py`"
   ]
  },
  {
   "cell_type": "code",
   "execution_count": null,
   "id": "familiar-thursday",
   "metadata": {},
   "outputs": [],
   "source": []
  }
 ],
 "metadata": {
  "kernelspec": {
   "display_name": "Python 3",
   "language": "python",
   "name": "python3"
  },
  "language_info": {
   "codemirror_mode": {
    "name": "ipython",
    "version": 3
   },
   "file_extension": ".py",
   "mimetype": "text/x-python",
   "name": "python",
   "nbconvert_exporter": "python",
   "pygments_lexer": "ipython3",
   "version": "3.8.2"
  }
 },
 "nbformat": 4,
 "nbformat_minor": 5
}
