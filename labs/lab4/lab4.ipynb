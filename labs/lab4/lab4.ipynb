{
 "cells": [
  {
   "cell_type": "markdown",
   "id": "unexpected-basics",
   "metadata": {},
   "source": [
    "# Parsing"
   ]
  },
  {
   "cell_type": "code",
   "execution_count": 7,
   "id": "c2701e82",
   "metadata": {},
   "outputs": [
    {
     "name": "stdout",
     "output_type": "stream",
     "text": [
      "(s (np (det the) (nn dog)) (vp (v chased) (np (det the) (nn cat))))\n",
      "              s               \n",
      "      ________|_____           \n",
      "     |              vp        \n",
      "     |         _____|___       \n",
      "     np       |         np    \n",
      "  ___|___     |      ___|___   \n",
      "det      nn   v    det      nn\n",
      " |       |    |     |       |  \n",
      "the     dog chased the     cat\n",
      "\n"
     ]
    }
   ],
   "source": [
    "# !pip install nltk\n",
    "from nltk.tree.tree import Tree\n",
    "\n",
    "np1 = Tree('np', [Tree('det', ['the']), Tree('nn', ['dog'])])\n",
    "np2 = Tree('np', [Tree('det', ['the']), Tree('nn', ['cat'])])\n",
    "vp = Tree('vp', [Tree('v', ['chased']), np2])\n",
    "tree1 = Tree('s', [np1, vp])\n",
    "print(tree1)\n",
    "tree1.pretty_print()"
   ]
  },
  {
   "cell_type": "code",
   "execution_count": 8,
   "id": "481eaa18",
   "metadata": {},
   "outputs": [
    {
     "name": "stdout",
     "output_type": "stream",
     "text": [
      "              s               \n",
      "      ________|_____           \n",
      "     |              vp        \n",
      "     |         _____|___       \n",
      "     np       |         np    \n",
      "  ___|___     |      ___|___   \n",
      "det      nn   v    det      nn\n",
      " |       |    |     |       |  \n",
      "the     dog chased the     cat\n",
      "\n"
     ]
    }
   ],
   "source": [
    "ptb = \"\"\"(s (np (det the) (nn dog)) (vp (v chased) (np (det the) (nn cat))))\n",
    "\"\"\"\n",
    "tree2 = Tree.fromstring(ptb)\n",
    "tree2.pretty_print()"
   ]
  },
  {
   "cell_type": "code",
   "execution_count": 9,
   "id": "6274db11",
   "metadata": {},
   "outputs": [
    {
     "data": {
      "image/png": "[encoded data removed]",
      "text/plain": [
       "<Figure size 640x480 with 1 Axes>"
      ]
     },
     "metadata": {},
     "output_type": "display_data"
    }
   ],
   "source": [
    "# !pip install networkx\n",
    "import networkx as nx\n",
    "\n",
    "dg = nx.DiGraph()\n",
    "\n",
    "dg.add_node(\"the_1\")\n",
    "dg.add_node(\"dog\")\n",
    "dg.add_node(\"chased\")\n",
    "dg.add_node(\"the_2\")\n",
    "dg.add_node(\"cat\")\n",
    "dg.add_node(\"ROOT\")\n",
    "\n",
    "dg.add_edge(\"dog\", \"the_1\")\n",
    "dg.add_edge(\"chased\", \"dog\")\n",
    "dg.add_edge(\"cat\", \"the_2\")\n",
    "dg.add_edge(\"chased\", \"cat\")\n",
    "\n",
    "dg.add_edge(\"ROOT\", \"chased\")\n",
    "\n",
    "nx.draw(dg, with_labels=True, arrowsize=10)\n",
    "\n",
    "# dg.add_edge(i, j) where i is a head"
   ]
  },
  {
   "cell_type": "markdown",
   "id": "a6cfef78",
   "metadata": {},
   "source": [
    "![](luxury.png)"
   ]
  },
  {
   "cell_type": "markdown",
   "id": "022937c5",
   "metadata": {},
   "source": [
    "1. Draw a tree for *The luxury auto ...* using `pretty_print()`\n",
    "<!-- ```\n",
    "(S\n",
    "    (NP-SBJ (DT The) (NN luxury) (NN auto) (NN maker) )\n",
    "    (NP-TMP (JJ last) (NN year) )\n",
    "    (VP (VBD sold)\n",
    "      (NP (CD 1,214) (NNS cars) )\n",
    "      (PP-LOC (IN in)\n",
    "        (NP (DT the) (NNP U.S.) ))))\n",
    "``` -->\n",
    "\n",
    "2. Draw a graph *The luxury auto ...* using `networkx`"
   ]
  },
  {
   "cell_type": "code",
   "execution_count": null,
   "id": "cebabec3",
   "metadata": {},
   "outputs": [],
   "source": []
  },
  {
   "cell_type": "markdown",
   "id": "shared-liabilities",
   "metadata": {},
   "source": [
    "## Constituent parsing (Berkeley parser)\n",
    "1. train english|chinese ptb(s) using the Berkeley (statistical) parser\n",
    "2. predicit parse trees\n",
    "3. evaluate them using `evalb`"
   ]
  },
  {
   "cell_type": "code",
   "execution_count": null,
   "id": "forced-channels",
   "metadata": {},
   "outputs": [],
   "source": []
  },
  {
   "cell_type": "markdown",
   "id": "appropriate-scene",
   "metadata": {},
   "source": [
    "## Dependency parsing (UDPipe)\n",
    "1. train english UD using udpipe\n",
    "2. predict depenency structures\n",
    "3. evaluate them using `https://universaldependencies.org/conll18/conll18_ud_eval.py`"
   ]
  },
  {
   "cell_type": "code",
   "execution_count": null,
   "id": "falling-exclusion",
   "metadata": {},
   "outputs": [],
   "source": []
  }
 ],
 "metadata": {
  "kernelspec": {
   "display_name": "Python 3.9.6 64-bit",
   "language": "python",
   "name": "python3"
  },
  "language_info": {
   "codemirror_mode": {
    "name": "ipython",
    "version": 3
   },
   "file_extension": ".py",
   "mimetype": "text/x-python",
   "name": "python",
   "nbconvert_exporter": "python",
   "pygments_lexer": "ipython3",
   "version": "3.9.6"
  },
  "vscode": {
   "interpreter": {
    "hash": "20bf69066c0dd38d51965b69d5e1b6e387082e3198ba56e97997ac55f4e50ad0"
   }
  }
 },
 "nbformat": 4,
 "nbformat_minor": 5
}
