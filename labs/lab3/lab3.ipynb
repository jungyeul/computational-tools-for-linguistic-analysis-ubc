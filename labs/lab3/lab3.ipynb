{
 "cells": [
  {
   "cell_type": "markdown",
   "id": "rocky-declaration",
   "metadata": {},
   "source": [
    "# Sequence labelling "
   ]
  },
  {
   "cell_type": "code",
   "execution_count": null,
   "id": "54788d93",
   "metadata": {},
   "outputs": [],
   "source": [
    "!wget https://wapiti.limsi.fr/wapiti-1.5.0.tar.gz\n",
    "!tar xvfz wapiti-1.5.0.tar.gz\n",
    "%cd wapiti-1.5.0\n",
    "!make"
   ]
  },
  {
   "cell_type": "markdown",
   "id": "72c9d626",
   "metadata": {},
   "source": [
    "## 1. POS tagging\n",
    "\n",
    "POS tagging and chunking data `train.txt.gz` and `test.txt.gz` are available at https://www.clips.uantwerpen.be/conll2000/chunking: download and unzip them. "
   ]
  },
  {
   "cell_type": "code",
   "execution_count": null,
   "id": "63dc430e",
   "metadata": {},
   "outputs": [],
   "source": [
    "!cut -f1,2 -d\" \" train.txt > train_pos.txt\n",
    "!head train_pos.txt"
   ]
  },
  {
   "cell_type": "markdown",
   "id": "117c9cbd",
   "metadata": {},
   "source": [
    "## 2. Chunking\n",
    "\n"
   ]
  },
  {
   "cell_type": "code",
   "execution_count": null,
   "id": "dbc530e1",
   "metadata": {},
   "outputs": [],
   "source": []
  },
  {
   "cell_type": "markdown",
   "id": "1fb077f6",
   "metadata": {},
   "source": [
    "## 3. NER"
   ]
  },
  {
   "cell_type": "code",
   "execution_count": null,
   "id": "95ec4a06",
   "metadata": {},
   "outputs": [],
   "source": []
  }
 ],
 "metadata": {
  "kernelspec": {
   "display_name": "Python 3.9.6 64-bit",
   "language": "python",
   "name": "python3"
  },
  "language_info": {
   "codemirror_mode": {
    "name": "ipython",
    "version": 3
   },
   "file_extension": ".py",
   "mimetype": "text/x-python",
   "name": "python",
   "nbconvert_exporter": "python",
   "pygments_lexer": "ipython3",
   "version": "3.9.6"
  },
  "vscode": {
   "interpreter": {
    "hash": "20bf69066c0dd38d51965b69d5e1b6e387082e3198ba56e97997ac55f4e50ad0"
   }
  }
 },
 "nbformat": 4,
 "nbformat_minor": 5
}
