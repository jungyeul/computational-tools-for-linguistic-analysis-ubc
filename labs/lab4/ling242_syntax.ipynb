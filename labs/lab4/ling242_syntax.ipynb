{
 "cells": [
  {
   "cell_type": "markdown",
   "id": "487d3a16",
   "metadata": {},
   "source": [
    "# LING242: Syntax "
   ]
  },
  {
   "cell_type": "markdown",
   "id": "71aba2d8",
   "metadata": {},
   "source": [
    "### converting CFG into CNF"
   ]
  },
  {
   "cell_type": "code",
   "execution_count": 81,
   "id": "967a621f",
   "metadata": {},
   "outputs": [],
   "source": [
    "from nltk import CFG"
   ]
  },
  {
   "cell_type": "code",
   "execution_count": 82,
   "id": "66dae6bc",
   "metadata": {},
   "outputs": [
    {
     "name": "stdout",
     "output_type": "stream",
     "text": [
      "Grammar with 29 productions (start state = S)\n",
      "    S -> NP VP\n",
      "    S -> Aux NP VP\n",
      "    S -> VP\n",
      "    NP -> Pronoun\n",
      "    NP -> ProperNoun\n",
      "    NP -> Det Nominal\n",
      "    Nominal -> Noun\n",
      "    Nominal -> Nominal Noun\n",
      "    Nominal -> Nominal PP\n",
      "    VP -> Verb\n",
      "    VP -> Verb NP\n",
      "    VP -> Verb NP PP\n",
      "    VP -> Verb PP\n",
      "    VP -> VP PP\n",
      "    PP -> Preposition NP\n",
      "    NP -> 'I'\n",
      "    NP -> 'she'\n",
      "    NP -> 'me'\n",
      "    NP -> 'TWA'\n",
      "    NP -> 'Houston'\n",
      "    Nominal -> 'book'\n",
      "    Nominal -> 'flight'\n",
      "    Nominal -> 'meal'\n",
      "    Nominal -> 'money'\n",
      "    VP -> 'book'\n",
      "    VP -> 'include'\n",
      "    VP -> 'prefer'\n",
      "    Preposition -> 'through'\n",
      "    Det -> 'the'\n"
     ]
    }
   ],
   "source": [
    "grammar = CFG.fromstring('''\n",
    "S -> NP VP\n",
    "S -> Aux NP VP\n",
    "S -> VP\n",
    "NP -> Pronoun\n",
    "NP -> ProperNoun\n",
    "NP -> Det Nominal\n",
    "Nominal -> Noun\n",
    "Nominal -> Nominal Noun\n",
    "Nominal -> Nominal PP\n",
    "VP -> Verb\n",
    "VP -> Verb NP\n",
    "VP -> Verb NP PP\n",
    "VP -> Verb PP\n",
    "VP -> VP PP\n",
    "PP -> Preposition NP\n",
    "NP -> \"I\" | \"she\" | \"me\"\n",
    "NP -> \"TWA\" | \"Houston\" \n",
    "Nominal -> \"book\" | \"flight\" | \"meal\" | \"money\"\n",
    "VP -> \"book\" | \"include\" | \"prefer\"\n",
    "Preposition -> \"through\"\n",
    "Det -> \"the\"\n",
    "''')\n",
    "\n",
    "\n",
    "print(grammar)"
   ]
  },
  {
   "cell_type": "code",
   "execution_count": 83,
   "id": "e9f4e446",
   "metadata": {},
   "outputs": [
    {
     "name": "stdout",
     "output_type": "stream",
     "text": [
      "Grammar with 33 productions (start state = S)\n",
      "    VP -> 'include'\n",
      "    VP -> 'book'\n",
      "    VP -> 'prefer'\n",
      "    S -> Aux S@$@Aux\n",
      "    NP -> 'TWA'\n",
      "    Preposition -> 'through'\n",
      "    Nominal -> Nominal PP\n",
      "    VP -> Verb VP@$@Verb\n",
      "    PP -> Preposition NP\n",
      "    VP -> Verb NP\n",
      "    VP@$@Verb -> NP PP\n",
      "    NP -> 'me'\n",
      "    Nominal -> 'meal'\n",
      "    Det -> 'the'\n",
      "    Nominal -> 'money'\n",
      "    S -> VP PP\n",
      "    S -> Verb PP\n",
      "    Nominal -> 'book'\n",
      "    S -> 'include'\n",
      "    S -> 'book'\n",
      "    S -> 'prefer'\n",
      "    Nominal -> 'flight'\n",
      "    NP -> 'she'\n",
      "    NP -> Det Nominal\n",
      "    NP -> 'Houston'\n",
      "    Nominal -> Nominal Noun\n",
      "    S@$@Aux -> NP VP\n",
      "    S -> Verb NP\n",
      "    S -> Verb VP@$@Verb\n",
      "    VP -> VP PP\n",
      "    S -> NP VP\n",
      "    NP -> 'I'\n",
      "    VP -> Verb PP\n"
     ]
    }
   ],
   "source": [
    "grammar = grammar.chomsky_normal_form()\n",
    "print(grammar)"
   ]
  },
  {
   "cell_type": "code",
   "execution_count": null,
   "id": "8535f09e",
   "metadata": {},
   "outputs": [],
   "source": []
  }
 ],
 "metadata": {
  "kernelspec": {
   "display_name": "Python 3.9.6 64-bit",
   "language": "python",
   "name": "python3"
  },
  "language_info": {
   "codemirror_mode": {
    "name": "ipython",
    "version": 3
   },
   "file_extension": ".py",
   "mimetype": "text/x-python",
   "name": "python",
   "nbconvert_exporter": "python",
   "pygments_lexer": "ipython3",
   "version": "3.9.6"
  },
  "vscode": {
   "interpreter": {
    "hash": "20bf69066c0dd38d51965b69d5e1b6e387082e3198ba56e97997ac55f4e50ad0"
   }
  }
 },
 "nbformat": 4,
 "nbformat_minor": 5
}
