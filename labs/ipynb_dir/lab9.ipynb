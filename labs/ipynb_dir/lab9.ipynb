{
 "cells": [
  {
   "cell_type": "markdown",
   "id": "unexpected-basics",
   "metadata": {},
   "source": [
    "# Machine tranlsation"
   ]
  },
  {
   "cell_type": "markdown",
   "id": "shared-liabilities",
   "metadata": {},
   "source": [
    "## Sentence alignment"
   ]
  },
  {
   "cell_type": "code",
   "execution_count": null,
   "id": "forced-channels",
   "metadata": {},
   "outputs": [],
   "source": []
  },
  {
   "cell_type": "markdown",
   "id": "appropriate-scene",
   "metadata": {},
   "source": [
    "## Machine translation using Moses\n",
    "\n",
    "Show only how to evaluate translated results"
   ]
  },
  {
   "cell_type": "code",
   "execution_count": null,
   "id": "anticipated-world",
   "metadata": {},
   "outputs": [],
   "source": []
  },
  {
   "cell_type": "markdown",
   "id": "bigger-colors",
   "metadata": {},
   "source": [
    "## Morphological segmentation using MT\n",
    "\n",
    "Show only how evaluate translated (canonically restored) results"
   ]
  },
  {
   "cell_type": "code",
   "execution_count": null,
   "id": "official-springfield",
   "metadata": {},
   "outputs": [],
   "source": []
  }
 ],
 "metadata": {
  "kernelspec": {
   "display_name": "Python 3",
   "language": "python",
   "name": "python3"
  },
  "language_info": {
   "codemirror_mode": {
    "name": "ipython",
    "version": 3
   },
   "file_extension": ".py",
   "mimetype": "text/x-python",
   "name": "python",
   "nbconvert_exporter": "python",
   "pygments_lexer": "ipython3",
   "version": "3.8.9"
  }
 },
 "nbformat": 4,
 "nbformat_minor": 5
}
