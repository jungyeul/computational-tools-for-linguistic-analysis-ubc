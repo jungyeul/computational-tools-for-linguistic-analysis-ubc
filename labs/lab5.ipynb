{
 "cells": [
  {
   "cell_type": "markdown",
   "id": "unexpected-basics",
   "metadata": {},
   "source": [
    "# Parsing"
   ]
  },
  {
   "cell_type": "markdown",
   "id": "shared-liabilities",
   "metadata": {},
   "source": [
    "## Constituent parsing (Berkeley parser)"
   ]
  },
  {
   "cell_type": "code",
   "execution_count": null,
   "id": "forced-channels",
   "metadata": {},
   "outputs": [],
   "source": []
  },
  {
   "cell_type": "markdown",
   "id": "appropriate-scene",
   "metadata": {},
   "source": [
    "## Dependency parsing (UDPipe)"
   ]
  },
  {
   "cell_type": "code",
   "execution_count": null,
   "id": "falling-exclusion",
   "metadata": {},
   "outputs": [],
   "source": []
  }
 ],
 "metadata": {
  "kernelspec": {
   "display_name": "Python 3",
   "language": "python",
   "name": "python3"
  },
  "language_info": {
   "codemirror_mode": {
    "name": "ipython",
    "version": 3
   },
   "file_extension": ".py",
   "mimetype": "text/x-python",
   "name": "python",
   "nbconvert_exporter": "python",
   "pygments_lexer": "ipython3",
   "version": "3.8.9"
  }
 },
 "nbformat": 4,
 "nbformat_minor": 5
}
