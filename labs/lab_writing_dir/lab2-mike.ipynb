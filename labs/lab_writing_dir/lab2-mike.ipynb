{
 "cells": [
  {
   "cell_type": "markdown",
   "id": "46a6e5cc",
   "metadata": {},
   "source": [
    "# Preprocessing\n",
    "\n",
    "\n",
    "## 0. prepraring data"
   ]
  },
  {
   "cell_type": "code",
   "execution_count": 1,
   "id": "0b8b3f57",
   "metadata": {},
   "outputs": [
    {
     "name": "stdout",
     "output_type": "stream",
     "text": [
      "--2021-10-01 17:59:50--  https://raw.githubusercontent.com/jungyeul/computational-tools-for-linguistic-analysis-ubc/main/labs/data/en_ewt-ud-dev-alt.txt\n",
      "Resolving raw.githubusercontent.com (raw.githubusercontent.com)... 185.199.108.133, 185.199.110.133, 185.199.111.133, ...\n",
      "Connecting to raw.githubusercontent.com (raw.githubusercontent.com)|185.199.108.133|:443... connected.\n",
      "HTTP request sent, awaiting response... 404 Not Found\n",
      "2021-10-01 17:59:50 ERROR 404: Not Found.\n",
      "\n",
      "--2021-10-01 17:59:51--  https://raw.githubusercontent.com/jungyeul/computational-tools-for-linguistic-analysis-ubc/main/labs/data/en_ewt-ud-dev.txt\n",
      "Resolving raw.githubusercontent.com (raw.githubusercontent.com)... 185.199.108.133, 185.199.110.133, 185.199.111.133, ...\n",
      "Connecting to raw.githubusercontent.com (raw.githubusercontent.com)|185.199.108.133|:443... connected.\n",
      "HTTP request sent, awaiting response... 200 OK\n",
      "Length: 126870 (124K) [text/plain]\n",
      "Saving to: ‘en_ewt-ud-dev.txt.5’\n",
      "\n",
      "en_ewt-ud-dev.txt.5 100%[===================>] 123.90K  --.-KB/s    in 0.04s   \n",
      "\n",
      "2021-10-01 17:59:51 (3.30 MB/s) - ‘en_ewt-ud-dev.txt.5’ saved [126870/126870]\n",
      "\n"
     ]
    }
   ],
   "source": [
    "!wget https://raw.githubusercontent.com/jungyeul/computational-tools-for-linguistic-analysis-ubc/main/labs/data/en_ewt-ud-dev-alt.txt\n",
    "!wget https://raw.githubusercontent.com/jungyeul/computational-tools-for-linguistic-analysis-ubc/main/labs/data/en_ewt-ud-dev.txt    "
   ]
  },
  {
   "cell_type": "markdown",
   "id": "0090a1cb",
   "metadata": {},
   "source": [
    "## 1. tokenization\n",
    "### `tokenizer.sed`"
   ]
  },
  {
   "cell_type": "code",
   "execution_count": 2,
   "id": "6c4e301f",
   "metadata": {},
   "outputs": [
    {
     "name": "stdout",
     "output_type": "stream",
     "text": [
      "--2021-10-01 17:59:51--  ftp://ftp.cis.upenn.edu/pub/treebank/public_html/tokenizer.sed\n",
      "           => ‘tokenizer.sed.7’\n",
      "Resolving ftp.cis.upenn.edu (ftp.cis.upenn.edu)... 158.130.67.137\n",
      "Connecting to ftp.cis.upenn.edu (ftp.cis.upenn.edu)|158.130.67.137|:21... connected.\n",
      "Logging in as anonymous ... Logged in!\n",
      "==> SYST ... done.    ==> PWD ... done.\n",
      "==> TYPE I ... done.  ==> CWD (1) /pub/treebank/public_html ... done.\n",
      "==> SIZE tokenizer.sed ... 2204\n",
      "==> PASV ... done.    ==> RETR tokenizer.sed ... done.\n",
      "Length: 2204 (2.2K) (unauthoritative)\n",
      "\n",
      "tokenizer.sed.7     100%[===================>]   2.15K  --.-KB/s    in 0.001s  \n",
      "\n",
      "2021-10-01 17:59:52 (3.35 MB/s) - ‘tokenizer.sed.7’ saved [2204]\n",
      "\n"
     ]
    }
   ],
   "source": [
    "!wget ftp://ftp.cis.upenn.edu/pub/treebank/public_html/tokenizer.sed\n",
    "!chmod 755 tokenizer.sed "
   ]
  },
  {
   "cell_type": "markdown",
   "id": "88c68a55",
   "metadata": {},
   "source": [
    "edit `tokenizer.sed`"
   ]
  },
  {
   "cell_type": "code",
   "execution_count": 3,
   "id": "7df0e36e",
   "metadata": {},
   "outputs": [
    {
     "name": "stdout",
     "output_type": "stream",
     "text": [
      "#!/usr/bin/sed -f\n"
     ]
    }
   ],
   "source": [
    "!head -n 1 tokenizer.sed"
   ]
  },
  {
   "cell_type": "code",
   "execution_count": 4,
   "id": "a75cd4bf",
   "metadata": {
    "scrolled": true
   },
   "outputs": [
    {
     "name": "stdout",
     "output_type": "stream",
     "text": [
      "From the AP comes this story : \n",
      "\n",
      "President Bush on Tuesday nominated two individuals to replace retiring jurists \n",
      "on federal courts in the Washington area. Bush nominated Jennifer M. Anderson \n",
      "for a 15-year term as associate judge of the Superior Court of the District of \n",
      "Columbia , replacing Steffen W. Graae. *** Bush also nominated A. Noel Anketell \n",
      "Kramer for a 15-year term as associate judge of the District of Columbia Court \n",
      "of Appeals , replacing John Montague Steadman . \n",
      "\n",
      "The sheikh in wheel-chair has been attacked with a F-16-launched bomb. He could \n",
      "sed: stdout: Broken pipe\n"
     ]
    }
   ],
   "source": [
    "!./tokenizer.sed en_ewt-ud-dev.txt | head"
   ]
  },
  {
   "cell_type": "markdown",
   "id": "c60f9d92",
   "metadata": {},
   "source": [
    "### `tokenizer.perl`"
   ]
  },
  {
   "cell_type": "markdown",
   "id": "e8ceaab9",
   "metadata": {},
   "source": [
    "**TODO** complete commands for `tokenizer.perl`"
   ]
  },
  {
   "cell_type": "code",
   "execution_count": 5,
   "id": "efb31c46",
   "metadata": {},
   "outputs": [
    {
     "name": "stdout",
     "output_type": "stream",
     "text": [
      "--2021-10-01 17:59:52--  https://www.statmt.org/wmt09/scripts.tgz\n",
      "Resolving www.statmt.org (www.statmt.org)... 129.215.197.184\n",
      "Connecting to www.statmt.org (www.statmt.org)|129.215.197.184|:443... connected.\n",
      "HTTP request sent, awaiting response... 200 OK\n",
      "Length: 4927 (4.8K) [application/x-gzip]\n",
      "Saving to: ‘scripts.tgz.6’\n",
      "\n",
      "scripts.tgz.6       100%[===================>]   4.81K  --.-KB/s    in 0s      \n",
      "\n",
      "2021-10-01 17:59:53 (261 MB/s) - ‘scripts.tgz.6’ saved [4927/4927]\n",
      "\n"
     ]
    }
   ],
   "source": [
    "!wget https://www.statmt.org/wmt09/scripts.tgz\n"
   ]
  },
  {
   "cell_type": "code",
   "execution_count": 6,
   "id": "a95e4d43",
   "metadata": {},
   "outputs": [
    {
     "name": "stdout",
     "output_type": "stream",
     "text": [
      "x scripts/\n",
      "x scripts/detokenizer.perl\n",
      "x scripts/wrap-xml.perl\n",
      "x scripts/lowercase.perl\n",
      "x scripts/tokenizer.perl\n",
      "x scripts/reuse-weights.perl\n",
      "x scripts/nonbreaking_prefixes/\n",
      "x scripts/nonbreaking_prefixes/nonbreaking_prefix.de\n",
      "x scripts/nonbreaking_prefixes/nonbreaking_prefix.en\n",
      "x scripts/nonbreaking_prefixes/nonbreaking_prefix.el\n"
     ]
    }
   ],
   "source": [
    "!tar xvfz scripts.tgz\n"
   ]
  },
  {
   "cell_type": "code",
   "execution_count": 7,
   "id": "12825d64",
   "metadata": {},
   "outputs": [
    {
     "name": "stdout",
     "output_type": "stream",
     "text": [
      "-rwxr-xr-x  1 harry  staff  4207 27 Sep  2007 \u001b[31mscripts/tokenizer.perl\u001b[m\u001b[m\n"
     ]
    }
   ],
   "source": [
    "!ls -lG scripts/tokenizer.perl"
   ]
  },
  {
   "cell_type": "code",
   "execution_count": 8,
   "id": "a24f5d41",
   "metadata": {},
   "outputs": [
    {
     "name": "stdout",
     "output_type": "stream",
     "text": [
      "Tokenizer v3\n",
      "Language: en\n",
      "From the AP comes this story :\n",
      "\n",
      "President Bush on Tuesday nominated two individuals to replace retiring jurists\n",
      "on federal courts in the Washington area . Bush nominated Jennifer M. Anderson\n",
      "for a 15-year term as associate judge of the Superior Court of the District of\n",
      "Columbia , replacing Steffen W. Graae . * * * Bush also nominated A. Noel Anketell\n",
      "Kramer for a 15-year term as associate judge of the District of Columbia Court\n",
      "of Appeals , replacing John Montague Steadman .\n",
      "\n",
      "The sheikh in wheel-chair has been attacked with a F-16-launched bomb . He could\n",
      "Unable to flush stdout: Broken pipe\n"
     ]
    }
   ],
   "source": [
    "!./scripts/tokenizer.perl -l en < en_ewt-ud-dev.txt | head "
   ]
  },
  {
   "cell_type": "markdown",
   "id": "133dab03",
   "metadata": {},
   "source": [
    "## 2. sentence boundary detection\n",
    "### `sbd.py`"
   ]
  },
  {
   "cell_type": "code",
   "execution_count": 9,
   "id": "dfdf9fa5",
   "metadata": {},
   "outputs": [
    {
     "name": "stdout",
     "output_type": "stream",
     "text": [
      "--2021-10-01 17:59:54--  https://files.pythonhosted.org/packages/cf/d2/9771eb65f1dc3925dbcfc7c4b2adaefa38e1549e4e4e75409df316f8c453/splitta-0.1.0.tar.gz\n",
      "Resolving files.pythonhosted.org (files.pythonhosted.org)... 151.101.53.63\n",
      "Connecting to files.pythonhosted.org (files.pythonhosted.org)|151.101.53.63|:443... connected.\n",
      "HTTP request sent, awaiting response... 200 OK\n",
      "Length: 6943603 (6.6M) [application/octet-stream]\n",
      "Saving to: ‘splitta-0.1.0.tar.gz.11’\n",
      "\n",
      "splitta-0.1.0.tar.g 100%[===================>]   6.62M  27.5MB/s    in 0.2s    \n",
      "\n",
      "2021-10-01 17:59:54 (27.5 MB/s) - ‘splitta-0.1.0.tar.gz.11’ saved [6943603/6943603]\n",
      "\n"
     ]
    }
   ],
   "source": [
    "!wget https://files.pythonhosted.org/packages/cf/d2/9771eb65f1dc3925dbcfc7c4b2adaefa38e1549e4e4e75409df316f8c453/splitta-0.1.0.tar.gz"
   ]
  },
  {
   "cell_type": "markdown",
   "id": "de693f9a",
   "metadata": {},
   "source": [
    "**TODO** complete commands for `sbd.py`"
   ]
  },
  {
   "cell_type": "code",
   "execution_count": 1,
   "id": "ea5d1563",
   "metadata": {},
   "outputs": [
    {
     "name": "stdout",
     "output_type": "stream",
     "text": [
      "--2021-10-02 21:56:14--  https://files.pythonhosted.org/packages/cf/d2/9771eb65f1dc3925dbcfc7c4b2adaefa38e1549e4e4e75409df316f8c453/splitta-0.1.0.tar.gz\n",
      "Resolving files.pythonhosted.org (files.pythonhosted.org)... 151.101.53.63\n",
      "Connecting to files.pythonhosted.org (files.pythonhosted.org)|151.101.53.63|:443... connected.\n",
      "HTTP request sent, awaiting response... 200 OK\n",
      "Length: 6943603 (6.6M) [application/octet-stream]\n",
      "Saving to: ‘splitta-0.1.0.tar.gz’\n",
      "\n",
      "splitta-0.1.0.tar.g 100%[===================>]   6.62M  30.0MB/s    in 0.2s    \n",
      "\n",
      "2021-10-02 21:56:14 (30.0 MB/s) - ‘splitta-0.1.0.tar.gz’ saved [6943603/6943603]\n",
      "\n"
     ]
    }
   ],
   "source": [
    "!wget https://files.pythonhosted.org/packages/cf/d2/9771eb65f1dc3925dbcfc7c4b2adaefa38e1549e4e4e75409df316f8c453/splitta-0.1.0.tar.gz"
   ]
  },
  {
   "cell_type": "code",
   "execution_count": 2,
   "id": "f6bd8e36",
   "metadata": {},
   "outputs": [
    {
     "name": "stdout",
     "output_type": "stream",
     "text": [
      "x splitta-0.1.0/\n",
      "x splitta-0.1.0/MANIFEST.in\n",
      "x splitta-0.1.0/PKG-INFO\n",
      "x splitta-0.1.0/README.rst\n",
      "x splitta-0.1.0/setup.cfg\n",
      "x splitta-0.1.0/setup.py\n",
      "x splitta-0.1.0/splitta/\n",
      "x splitta-0.1.0/splitta/__init__.py\n",
      "x splitta-0.1.0/splitta/model_nb/\n",
      "x splitta-0.1.0/splitta/model_nb/feats\n",
      "x splitta-0.1.0/splitta/model_nb/lower_words\n",
      "x splitta-0.1.0/splitta/model_nb/non_abbrs\n",
      "x splitta-0.1.0/splitta/model_svm/\n",
      "x splitta-0.1.0/splitta/model_svm/feats\n",
      "x splitta-0.1.0/splitta/model_svm/lower_words\n",
      "x splitta-0.1.0/splitta/model_svm/non_abbrs\n",
      "x splitta-0.1.0/splitta/model_svm/sample.txt\n",
      "x splitta-0.1.0/splitta/model_svm/sbd.py\n",
      "x splitta-0.1.0/splitta/model_svm/svm_model\n",
      "x splitta-0.1.0/splitta/sbd.py\n",
      "x splitta-0.1.0/splitta/sbd_util.py\n",
      "x splitta-0.1.0/splitta/word_tokenize.py\n",
      "x splitta-0.1.0/splitta.egg-info/\n",
      "x splitta-0.1.0/splitta.egg-info/dependency_links.txt\n",
      "x splitta-0.1.0/splitta.egg-info/PKG-INFO\n",
      "x splitta-0.1.0/splitta.egg-info/SOURCES.txt\n",
      "x splitta-0.1.0/splitta.egg-info/top_level.txt\n",
      "/Users/harry/Documents/GitHub/LING242/splitta-0.1.0\n"
     ]
    }
   ],
   "source": [
    "!tar xvfz  splitta-0.1.0.tar.gz\n",
    "%cd ./splitta-0.1.0"
   ]
  },
  {
   "cell_type": "code",
   "execution_count": 3,
   "id": "5706198f",
   "metadata": {},
   "outputs": [
    {
     "name": "stdout",
     "output_type": "stream",
     "text": [
      "/Users/harry/Documents/GitHub/LING242/splitta-0.1.0/svm_light\n",
      "--2021-10-02 21:56:18--  http://download.joachims.org/svm_light/current/svm_light.tar.gz\n",
      "Resolving download.joachims.org (download.joachims.org)... 81.88.34.174, 81.88.42.187\n",
      "Connecting to download.joachims.org (download.joachims.org)|81.88.34.174|:80... connected.\n",
      "HTTP request sent, awaiting response... 302 Found\n",
      "Location: http://osmot.cs.cornell.edu/svm_light/current/svm_light.tar.gz [following]\n",
      "--2021-10-02 21:56:19--  http://osmot.cs.cornell.edu/svm_light/current/svm_light.tar.gz\n",
      "Resolving osmot.cs.cornell.edu (osmot.cs.cornell.edu)... 128.253.51.182\n",
      "Connecting to osmot.cs.cornell.edu (osmot.cs.cornell.edu)|128.253.51.182|:80... connected.\n",
      "HTTP request sent, awaiting response... 200 OK\n",
      "Length: 51026 (50K) [application/x-gzip]\n",
      "Saving to: ‘svm_light.tar.gz’\n",
      "\n",
      "svm_light.tar.gz    100%[===================>]  49.83K   271KB/s    in 0.2s    \n",
      "\n",
      "2021-10-02 21:56:19 (271 KB/s) - ‘svm_light.tar.gz’ saved [51026/51026]\n",
      "\n",
      "x LICENSE.txt\n",
      "x Makefile\n",
      "x svm_learn.c\n",
      "x kernel.h\n",
      "x svm_learn.h\n",
      "x svm_learn_main.c\n",
      "x svm_classify.c\n",
      "x svm_loqo.c\n",
      "x svm_common.c\n",
      "x svm_common.h\n",
      "x svm_hideo.c\n",
      "gcc -c  -O3                      svm_learn_main.c -o svm_learn_main.o \n",
      "\u001b[1msvm_learn_main.c:382:63: \u001b[0m\u001b[0;1;35mwarning: \u001b[0m\u001b[1millegal character encoding in string literal [-Winvalid-source-encoding]\u001b[0m\n",
      "  printf(\"    Kernel Methods - Support Vector Learning, B. Sch\u001b[0m\u001b[7m<F6>\u001b[0mlkopf and C. Burges and\\n\");\n",
      "\u001b[0;1;32m                                                              ^~~~\n",
      "\u001b[0m1 warning generated.\n",
      "gcc -c  -O3                      svm_learn.c -o svm_learn.o \n",
      "\u001b[1msvm_learn.c:2794:24: \u001b[0m\u001b[0;1;35mwarning: \u001b[0m\u001b[1mequality comparison with extraneous parentheses [-Wparentheses-equality]\u001b[0m\n",
      "      if((unlabeled[i] == 2)) {\n",
      "\u001b[0;1;32m          ~~~~~~~~~~~~~^~~~\n",
      "\u001b[0m\u001b[1msvm_learn.c:2794:24: \u001b[0m\u001b[0;1;30mnote: \u001b[0mremove extraneous parentheses around the comparison to silence this warning\u001b[0m\n",
      "      if((unlabeled[i] == 2)) {\n",
      "\u001b[0;1;32m         ~             ^   ~\n",
      "\u001b[0m\u001b[1msvm_learn.c:2794:24: \u001b[0m\u001b[0;1;30mnote: \u001b[0muse '=' to turn this equality comparison into an assignment\u001b[0m\n",
      "      if((unlabeled[i] == 2)) {\n",
      "\u001b[0;1;32m                       ^~\n",
      "\u001b[0m\u001b[0;32m                       =\n",
      "\u001b[0m\u001b[1msvm_learn.c:2800:29: \u001b[0m\u001b[0;1;35mwarning: \u001b[0m\u001b[1mequality comparison with extraneous parentheses [-Wparentheses-equality]\u001b[0m\n",
      "      else if((unlabeled[i] == 3)) {\n",
      "\u001b[0;1;32m               ~~~~~~~~~~~~~^~~~\n",
      "\u001b[0m\u001b[1msvm_learn.c:2800:29: \u001b[0m\u001b[0;1;30mnote: \u001b[0mremove extraneous parentheses around the comparison to silence this warning\u001b[0m\n",
      "      else if((unlabeled[i] == 3)) {\n",
      "\u001b[0;1;32m              ~             ^   ~\n",
      "\u001b[0m\u001b[1msvm_learn.c:2800:29: \u001b[0m\u001b[0;1;30mnote: \u001b[0muse '=' to turn this equality comparison into an assignment\u001b[0m\n",
      "      else if((unlabeled[i] == 3)) {\n",
      "\u001b[0;1;32m                            ^~\n",
      "\u001b[0m\u001b[0;32m                            =\n",
      "\u001b[0m2 warnings generated.\n",
      "gcc -c  -O3                      svm_common.c -o svm_common.o \n",
      "gcc -c  -O3                      svm_hideo.c -o svm_hideo.o \n",
      "gcc  -O3                      svm_learn_main.o svm_learn.o svm_common.o svm_hideo.o -o svm_learn -L. -lm                               \n",
      "gcc -c  -O3                      svm_classify.c -o svm_classify.o\n",
      "gcc  -O3                      svm_classify.o svm_common.o -o svm_classify -L. -lm                               \n",
      "\u001b[31msvm_classify\u001b[m\u001b[m\n",
      "/Users/harry/Documents/GitHub/LING242/splitta-0.1.0/svm_light\n"
     ]
    }
   ],
   "source": [
    "!mkdir svm_light\n",
    "%cd svm_light\n",
    "!wget http://download.joachims.org/svm_light/current/svm_light.tar.gz\n",
    "!tar xvfz svm_light.tar.gz\n",
    "!make all\n",
    "!ls svm_classify\n",
    "!pwd"
   ]
  },
  {
   "cell_type": "code",
   "execution_count": 9,
   "id": "41c5efd0",
   "metadata": {},
   "outputs": [
    {
     "name": "stdout",
     "output_type": "stream",
     "text": [
      "/Users/harry/LING242Lab/splitta-0.1.0/svm_light\n",
      "loading model from [../splitta/model_svm/]... done!\n",
      "reading [/Users/harry/ling242lab/en_ewt-ud-dev.txt]\n",
      "featurizing... done!\n",
      "SVM classifying... done!\n"
     ]
    }
   ],
   "source": [
    "%cd /Users/harry/LING242Lab/splitta-0.1.0/svm_light\n",
    "!python2 ../splitta/sbd.py -m ../splitta/model_svm ~/ling242lab/en_ewt-ud-dev.txt> ~/ling242lab/en_ewt-ud-dev.txt.sbd_splitta"
   ]
  },
  {
   "cell_type": "markdown",
   "id": "8819f659",
   "metadata": {},
   "source": [
    "View the splitta text"
   ]
  },
  {
   "cell_type": "code",
   "execution_count": null,
   "id": "c6be4008",
   "metadata": {},
   "outputs": [
    {
     "name": "stdout",
     "output_type": "stream",
     "text": [
      "From the AP comes this story : President Bush on Tuesday nominated two individua\u001b[mls to replace retiring jurists on federal courts in the Washington area.\u001b[m\n",
      "Bush nominated Jennifer M.\u001b[m\n",
      "Anderson for a 15-year term as associate judge of the Superior Court of the Dist\u001b[mrict of Columbia, replacing Steffen W.\u001b[m\n",
      "Graae.\u001b[m\n",
      "*** Bush also nominated A.\u001b[m\n",
      "Noel Anketell Kramer for a 15-year term as associate judge of the District of Co\u001b[mlumbia Court of Appeals, replacing John Montague Steadman.\u001b[m\n",
      "\u001b[m\n",
      "The sheikh in wheel-chair has been attacked with a F-16-launched bomb.\u001b[m\n",
      "He could be killed years ago and the israelians have all the reasons, since he f\u001b[mounded and he is the spiritual leader of Hamas, but they didn't.\u001b[m\n",
      "Today's incident proves that Sharon has lost his patience and his hope in peace.\u001b[m\n",
      "\u001b[m\n",
      "Nervous people make mistakes, so I suppose there will be a wave of succesfull ar\u001b[mab attacks.\u001b[m\n",
      "A la guerre c'est comme a la guerre!\u001b[m\n",
      "\u001b[m\n",
      "In the eastern city of Baqubah, guerrillas detonated a car bomb outside a police\u001b[m station, killing several people.\u001b[m\n",
      "The US lost yet another helicopter to hostile fire near Habbaniyah in the Sunni \u001b[mheartland, but this time the crew was safe.\u001b[m\n",
      "\u001b[7m/Users/harry/LING242Lab/en_ewt-ud-dev.txt.sbd_splitta\u001b[m\u001b[K"
     ]
    }
   ],
   "source": [
    "!less /Users/harry/LING242Lab/en_ewt-ud-dev.txt.sbd_splitta"
   ]
  }
 ],
 "metadata": {
  "kernelspec": {
   "display_name": "Python 3 (ipykernel)",
   "language": "python",
   "name": "python3"
  },
  "language_info": {
   "codemirror_mode": {
    "name": "ipython",
    "version": 3
   },
   "file_extension": ".py",
   "mimetype": "text/x-python",
   "name": "python",
   "nbconvert_exporter": "python",
   "pygments_lexer": "ipython3",
   "version": "3.8.9"
  }
 },
 "nbformat": 4,
 "nbformat_minor": 5
}
