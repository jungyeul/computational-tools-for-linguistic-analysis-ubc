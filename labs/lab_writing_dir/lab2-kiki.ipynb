{
 "cells": [
  {
   "cell_type": "markdown",
   "id": "4a06a5b5",
   "metadata": {},
   "source": [
    "# Preprocessing\n",
    "\n",
    "\n",
    "## 0. prepraring data"
   ]
  },
  {
   "cell_type": "code",
   "execution_count": 1,
   "id": "9fc7c629",
   "metadata": {
    "scrolled": true
   },
   "outputs": [
    {
     "name": "stdout",
     "output_type": "stream",
     "text": [
      "--2021-10-01 00:08:06--  https://raw.githubusercontent.com/jungyeul/computational-tools-for-linguistic-analysis-ubc/main/labs/data/en_ewt-ud-dev-alt.txt\n",
      "Resolving raw.githubusercontent.com (raw.githubusercontent.com)... 185.199.109.133, 185.199.110.133, 185.199.111.133, ...\n",
      "Connecting to raw.githubusercontent.com (raw.githubusercontent.com)|185.199.109.133|:443... connected.\n",
      "HTTP request sent, awaiting response... 404 Not Found\n",
      "2021-10-01 00:08:06 ERROR 404: Not Found.\n",
      "\n",
      "--2021-10-01 00:08:06--  https://raw.githubusercontent.com/jungyeul/computational-tools-for-linguistic-analysis-ubc/main/labs/data/en_ewt-ud-dev.txt\n",
      "Resolving raw.githubusercontent.com (raw.githubusercontent.com)... 185.199.108.133, 185.199.111.133, 185.199.110.133, ...\n",
      "Connecting to raw.githubusercontent.com (raw.githubusercontent.com)|185.199.108.133|:443... connected.\n",
      "HTTP request sent, awaiting response... 200 OK\n",
      "Length: 126870 (124K) [text/plain]\n",
      "Saving to: ‘en_ewt-ud-dev.txt’\n",
      "\n",
      "en_ewt-ud-dev.txt   100%[===================>] 123.90K  --.-KB/s    in 0.07s   \n",
      "\n",
      "2021-10-01 00:08:07 (1.77 MB/s) - ‘en_ewt-ud-dev.txt’ saved [126870/126870]\n",
      "\n"
     ]
    }
   ],
   "source": [
    "!wget https://raw.githubusercontent.com/jungyeul/computational-tools-for-linguistic-analysis-ubc/main/labs/data/en_ewt-ud-dev-alt.txt\n",
    "!wget https://raw.githubusercontent.com/jungyeul/computational-tools-for-linguistic-analysis-ubc/main/labs/data/en_ewt-ud-dev.txt    "
   ]
  },
  {
   "cell_type": "markdown",
   "id": "4d63a469",
   "metadata": {},
   "source": [
    "## 1. tokenization\n",
    "### `tokenizer.sed`"
   ]
  },
  {
   "cell_type": "code",
   "execution_count": 2,
   "id": "a29b1e74",
   "metadata": {},
   "outputs": [
    {
     "name": "stdout",
     "output_type": "stream",
     "text": [
      "--2021-10-01 00:08:07--  ftp://ftp.cis.upenn.edu/pub/treebank/public_html/tokenizer.sed\n",
      "           => ‘tokenizer.sed’\n",
      "Resolving ftp.cis.upenn.edu (ftp.cis.upenn.edu)... 158.130.67.137\n",
      "Connecting to ftp.cis.upenn.edu (ftp.cis.upenn.edu)|158.130.67.137|:21... connected.\n",
      "Logging in as anonymous ... Logged in!\n",
      "==> SYST ... done.    ==> PWD ... done.\n",
      "==> TYPE I ... done.  ==> CWD (1) /pub/treebank/public_html ... done.\n",
      "==> SIZE tokenizer.sed ... 2204\n",
      "==> PASV ... done.    ==> RETR tokenizer.sed ... done.\n",
      "Length: 2204 (2.2K) (unauthoritative)\n",
      "\n",
      "tokenizer.sed       100%[===================>]   2.15K  --.-KB/s    in 0.04s   \n",
      "\n",
      "2021-10-01 00:08:08 (48.7 KB/s) - ‘tokenizer.sed’ saved [2204]\n",
      "\n"
     ]
    }
   ],
   "source": [
    "!wget ftp://ftp.cis.upenn.edu/pub/treebank/public_html/tokenizer.sed\n",
    "!chmod 755 tokenizer.sed "
   ]
  },
  {
   "cell_type": "markdown",
   "id": "1c413722",
   "metadata": {},
   "source": [
    "edit `tokenizer.sed`"
   ]
  },
  {
   "cell_type": "code",
   "execution_count": 3,
   "id": "29ef5816",
   "metadata": {},
   "outputs": [
    {
     "name": "stdout",
     "output_type": "stream",
     "text": [
      "#!/bin/sed -f\n"
     ]
    }
   ],
   "source": [
    "!head -n 1 tokenizer.sed"
   ]
  },
  {
   "cell_type": "code",
   "execution_count": 4,
   "id": "4cc17613",
   "metadata": {},
   "outputs": [
    {
     "name": "stdout",
     "output_type": "stream",
     "text": [
      "From the AP comes this story : \n",
      "\n",
      "President Bush on Tuesday nominated two individuals to replace retiring jurists \n",
      "on federal courts in the Washington area. Bush nominated Jennifer M. Anderson \n",
      "for a 15-year term as associate judge of the Superior Court of the District of \n",
      "Columbia , replacing Steffen W. Graae. *** Bush also nominated A. Noel Anketell \n",
      "Kramer for a 15-year term as associate judge of the District of Columbia Court \n",
      "of Appeals , replacing John Montague Steadman . \n",
      "\n",
      "The sheikh in wheel-chair has been attacked with a F-16-launched bomb. He could \n",
      "/bin/sed: couldn't write 65 items to stdout: Broken pipe\n"
     ]
    }
   ],
   "source": [
    "!./tokenizer.sed en_ewt-ud-dev.txt | head"
   ]
  },
  {
   "cell_type": "markdown",
   "id": "ea88ab2a",
   "metadata": {},
   "source": [
    "### `tokenizer.perl`"
   ]
  },
  {
   "cell_type": "markdown",
   "id": "586932b9",
   "metadata": {},
   "source": [
    "**TODO** complete commands for `tokenizer.perl`"
   ]
  },
  {
   "cell_type": "code",
   "execution_count": 5,
   "id": "98f08ad1",
   "metadata": {},
   "outputs": [
    {
     "name": "stdout",
     "output_type": "stream",
     "text": [
      "--2021-10-01 00:08:09--  https://www.statmt.org/wmt09/scripts.tgz\n",
      "Resolving www.statmt.org (www.statmt.org)... 129.215.197.184\n",
      "Connecting to www.statmt.org (www.statmt.org)|129.215.197.184|:443... connected.\n",
      "HTTP request sent, awaiting response... 200 OK\n",
      "Length: 4927 (4.8K) [application/x-gzip]\n",
      "Saving to: ‘scripts.tgz’\n",
      "\n",
      "scripts.tgz         100%[===================>]   4.81K  --.-KB/s    in 0s      \n",
      "\n",
      "2021-10-01 00:08:10 (33.2 MB/s) - ‘scripts.tgz’ saved [4927/4927]\n",
      "\n"
     ]
    }
   ],
   "source": [
    "!wget https://www.statmt.org/wmt09/scripts.tgz"
   ]
  },
  {
   "cell_type": "code",
   "execution_count": 6,
   "id": "4fa2b309-22cd-49b1-ac1f-dc0d4f8b9be8",
   "metadata": {},
   "outputs": [
    {
     "name": "stdout",
     "output_type": "stream",
     "text": [
      "scripts/\n",
      "scripts/detokenizer.perl\n",
      "scripts/wrap-xml.perl\n",
      "scripts/lowercase.perl\n",
      "scripts/tokenizer.perl\n",
      "scripts/reuse-weights.perl\n",
      "scripts/nonbreaking_prefixes/\n",
      "scripts/nonbreaking_prefixes/nonbreaking_prefix.de\n",
      "scripts/nonbreaking_prefixes/nonbreaking_prefix.en\n",
      "scripts/nonbreaking_prefixes/nonbreaking_prefix.el\n"
     ]
    }
   ],
   "source": [
    "! tar xvfz scripts.tgz"
   ]
  },
  {
   "cell_type": "code",
   "execution_count": 7,
   "id": "e5093f7e-73aa-471f-8aa7-088f9d0504e8",
   "metadata": {},
   "outputs": [
    {
     "name": "stdout",
     "output_type": "stream",
     "text": [
      "-rwxr-xr-x 1 kkwt kkwt 4207 Sep 27  2007 scripts/tokenizer.perl\n"
     ]
    }
   ],
   "source": [
    "!ls -l scripts/tokenizer.perl"
   ]
  },
  {
   "cell_type": "code",
   "execution_count": 8,
   "id": "7b94aaec",
   "metadata": {},
   "outputs": [
    {
     "name": "stdout",
     "output_type": "stream",
     "text": [
      "Tokenizer v3\n",
      "Language: en\n",
      "From the AP comes this story :\n",
      "\n",
      "President Bush on Tuesday nominated two individuals to replace retiring jurists\n",
      "on federal courts in the Washington area . Bush nominated Jennifer M. Anderson\n",
      "for a 15-year term as associate judge of the Superior Court of the District of\n",
      "Columbia , replacing Steffen W. Graae . * * * Bush also nominated A. Noel Anketell\n",
      "Kramer for a 15-year term as associate judge of the District of Columbia Court\n",
      "of Appeals , replacing John Montague Steadman .\n",
      "\n",
      "The sheikh in wheel-chair has been attacked with a F-16-launched bomb . He could\n",
      "Unable to flush stdout: Broken pipe\n"
     ]
    }
   ],
   "source": [
    "!./scripts/tokenizer.perl -l en < en_ewt-ud-dev.txt | head"
   ]
  },
  {
   "cell_type": "markdown",
   "id": "38e4c04c",
   "metadata": {},
   "source": [
    "## 2. sentence boundary detection\n",
    "### `sbd.py`"
   ]
  },
  {
   "cell_type": "code",
   "execution_count": 9,
   "id": "5c03ea67",
   "metadata": {},
   "outputs": [
    {
     "name": "stdout",
     "output_type": "stream",
     "text": [
      "--2021-10-01 00:08:10--  https://files.pythonhosted.org/packages/cf/d2/9771eb65f1dc3925dbcfc7c4b2adaefa38e1549e4e4e75409df316f8c453/splitta-0.1.0.tar.gz\n",
      "Resolving files.pythonhosted.org (files.pythonhosted.org)... 151.101.193.63, 151.101.1.63, 151.101.65.63, ...\n",
      "Connecting to files.pythonhosted.org (files.pythonhosted.org)|151.101.193.63|:443... connected.\n",
      "HTTP request sent, awaiting response... 200 OK\n",
      "Length: 6943603 (6.6M) [application/octet-stream]\n",
      "Saving to: ‘splitta-0.1.0.tar.gz’\n",
      "\n",
      "splitta-0.1.0.tar.g 100%[===================>]   6.62M  6.39MB/s    in 1.0s    \n",
      "\n",
      "2021-10-01 00:08:12 (6.39 MB/s) - ‘splitta-0.1.0.tar.gz’ saved [6943603/6943603]\n",
      "\n"
     ]
    }
   ],
   "source": [
    "!wget https://files.pythonhosted.org/packages/cf/d2/9771eb65f1dc3925dbcfc7c4b2adaefa38e1549e4e4e75409df316f8c453/splitta-0.1.0.tar.gz"
   ]
  },
  {
   "cell_type": "markdown",
   "id": "9b99083c",
   "metadata": {},
   "source": [
    "**TODO** complete commands for `sbd.py`"
   ]
  },
  {
   "cell_type": "code",
   "execution_count": 10,
   "id": "a096fc07",
   "metadata": {},
   "outputs": [
    {
     "name": "stdout",
     "output_type": "stream",
     "text": [
      "splitta-0.1.0/\n",
      "splitta-0.1.0/MANIFEST.in\n",
      "splitta-0.1.0/PKG-INFO\n",
      "splitta-0.1.0/README.rst\n",
      "splitta-0.1.0/setup.cfg\n",
      "splitta-0.1.0/setup.py\n",
      "splitta-0.1.0/splitta/\n",
      "splitta-0.1.0/splitta/__init__.py\n",
      "splitta-0.1.0/splitta/model_nb/\n",
      "splitta-0.1.0/splitta/model_nb/feats\n",
      "splitta-0.1.0/splitta/model_nb/lower_words\n",
      "splitta-0.1.0/splitta/model_nb/non_abbrs\n",
      "splitta-0.1.0/splitta/model_svm/\n",
      "splitta-0.1.0/splitta/model_svm/feats\n",
      "splitta-0.1.0/splitta/model_svm/lower_words\n",
      "splitta-0.1.0/splitta/model_svm/non_abbrs\n",
      "splitta-0.1.0/splitta/model_svm/sample.txt\n",
      "splitta-0.1.0/splitta/model_svm/sbd.py\n",
      "splitta-0.1.0/splitta/model_svm/svm_model\n",
      "splitta-0.1.0/splitta/sbd.py\n",
      "splitta-0.1.0/splitta/sbd_util.py\n",
      "splitta-0.1.0/splitta/word_tokenize.py\n",
      "splitta-0.1.0/splitta.egg-info/\n",
      "splitta-0.1.0/splitta.egg-info/dependency_links.txt\n",
      "splitta-0.1.0/splitta.egg-info/PKG-INFO\n",
      "splitta-0.1.0/splitta.egg-info/SOURCES.txt\n",
      "splitta-0.1.0/splitta.egg-info/top_level.txt\n"
     ]
    }
   ],
   "source": [
    "!tar xvfz splitta-0.1.0.tar.gz"
   ]
  },
  {
   "cell_type": "code",
   "execution_count": 11,
   "id": "d70a246a-890b-4e2f-add3-9da8f1a2b22f",
   "metadata": {},
   "outputs": [
    {
     "name": "stdout",
     "output_type": "stream",
     "text": [
      "/home/kkwt/splitta-0.1.0/splitta-0.1.0\n"
     ]
    }
   ],
   "source": [
    "cd splitta-0.1.0/"
   ]
  },
  {
   "cell_type": "code",
   "execution_count": 12,
   "id": "324d31be",
   "metadata": {},
   "outputs": [
    {
     "name": "stdout",
     "output_type": "stream",
     "text": [
      "  File \"/home/kkwt/splitta-0.1.0/splitta-0.1.0/./splitta/sbd.py\", line 537\n",
      "    print '[%d] [%1.4f] %s?? %s' %(frag.label, frag.pred, w1, w2)\n",
      "          ^\n",
      "SyntaxError: invalid syntax\n"
     ]
    }
   ],
   "source": [
    "!python3 ./splitta/sbd.py"
   ]
  },
  {
   "cell_type": "code",
   "execution_count": 13,
   "id": "a8eeb20c",
   "metadata": {},
   "outputs": [
    {
     "name": "stdout",
     "output_type": "stream",
     "text": [
      "Usage: sbd.py [options] <text_file>\n",
      "\n",
      "Options:\n",
      "  -h, --help            show this help message and exit\n",
      "  -v, --verbose         verbose output\n",
      "  -t, --tokenize        write tokenized output\n",
      "  -m MODEL_PATH, --model=MODEL_PATH\n",
      "                        model path\n",
      "  -o OUTPUT, --output=OUTPUT\n",
      "                        write sentences to this file\n",
      "  -x TRAIN, --train=TRAIN\n",
      "                        train a new model using this labeled data file\n",
      "  -c, --svm             use SVM instead of Naive Bayes for training\n"
     ]
    }
   ],
   "source": [
    "!python2 ./splitta/sbd.py --help"
   ]
  },
  {
   "cell_type": "code",
   "execution_count": 14,
   "id": "22f74447",
   "metadata": {},
   "outputs": [
    {
     "name": "stdout",
     "output_type": "stream",
     "text": [
      "loading model from [./splitta/model_svm/]... done!\n",
      "reading [../en_ewt-ud-dev.txt]\n",
      "featurizing... done!\n",
      "SVM classifying... sh: 1: /usr/local/bin/svm_classify: not found\n",
      "Traceback (most recent call last):\n",
      "  File \"./splitta/sbd.py\", line 670, in <module>\n",
      "    model.classify(test, verbose=True)\n",
      "  File \"./splitta/sbd.py\", line 448, in classify\n",
      "    frag.pred = sbd_util.logit(preds[total])\n",
      "IndexError: list index out of range\n"
     ]
    }
   ],
   "source": [
    "!python2 ./splitta/sbd.py -m ./splitta/model_svm ../en_ewt-ud-dev.txt"
   ]
  },
  {
   "cell_type": "code",
   "execution_count": 15,
   "id": "f2a8b591",
   "metadata": {},
   "outputs": [
    {
     "name": "stdout",
     "output_type": "stream",
     "text": [
      "[Errno 2] No such file or directory: 'svm_light'\n",
      "/home/kkwt/splitta-0.1.0/splitta-0.1.0\n"
     ]
    }
   ],
   "source": [
    "cd svm_light"
   ]
  },
  {
   "cell_type": "code",
   "execution_count": 16,
   "id": "72d385a7",
   "metadata": {},
   "outputs": [
    {
     "name": "stdout",
     "output_type": "stream",
     "text": [
      "--2021-10-01 00:08:13--  http://download.joachims.org/svm_light/current/svm_light.tar.gz\n",
      "Resolving download.joachims.org (download.joachims.org)... 81.88.34.174, 81.88.42.187\n",
      "Connecting to download.joachims.org (download.joachims.org)|81.88.34.174|:80... connected.\n",
      "HTTP request sent, awaiting response... 302 Found\n",
      "Location: http://osmot.cs.cornell.edu/svm_light/current/svm_light.tar.gz [following]\n",
      "--2021-10-01 00:08:14--  http://osmot.cs.cornell.edu/svm_light/current/svm_light.tar.gz\n",
      "Resolving osmot.cs.cornell.edu (osmot.cs.cornell.edu)... 128.253.51.182\n",
      "Connecting to osmot.cs.cornell.edu (osmot.cs.cornell.edu)|128.253.51.182|:80... connected.\n",
      "HTTP request sent, awaiting response... 200 OK\n",
      "Length: 51026 (50K) [application/x-gzip]\n",
      "Saving to: ‘svm_light.tar.gz’\n",
      "\n",
      "svm_light.tar.gz    100%[===================>]  49.83K  --.-KB/s    in 0.1s    \n",
      "\n",
      "2021-10-01 00:08:14 (356 KB/s) - ‘svm_light.tar.gz’ saved [51026/51026]\n",
      "\n"
     ]
    }
   ],
   "source": [
    "!wget http://download.joachims.org/svm_light/current/svm_light.tar.gz"
   ]
  },
  {
   "cell_type": "code",
   "execution_count": 17,
   "id": "4627beea",
   "metadata": {},
   "outputs": [
    {
     "name": "stdout",
     "output_type": "stream",
     "text": [
      "LICENSE.txt\n",
      "Makefile\n",
      "svm_learn.c\n",
      "kernel.h\n",
      "svm_learn.h\n",
      "svm_learn_main.c\n",
      "svm_classify.c\n",
      "svm_loqo.c\n",
      "svm_common.c\n",
      "svm_common.h\n",
      "svm_hideo.c\n"
     ]
    }
   ],
   "source": [
    "!tar xvfz svm_light.tar.gz"
   ]
  },
  {
   "cell_type": "code",
   "execution_count": 18,
   "id": "b3f97e9b",
   "metadata": {},
   "outputs": [
    {
     "name": "stdout",
     "output_type": "stream",
     "text": [
      "gcc -c  -O3                      svm_learn_main.c -o svm_learn_main.o \n",
      "gcc -c  -O3                      svm_learn.c -o svm_learn.o \n",
      "gcc -c  -O3                      svm_common.c -o svm_common.o \n",
      "\u001b[01m\u001b[Ksvm_common.c:\u001b[m\u001b[K In function ‘\u001b[01m\u001b[Kread_model\u001b[m\u001b[K’:\n",
      "\u001b[01m\u001b[Ksvm_common.c:600:3:\u001b[m\u001b[K \u001b[01;35m\u001b[Kwarning: \u001b[m\u001b[Kignoring return value of ‘\u001b[01m\u001b[Kfscanf\u001b[m\u001b[K’, declared with attribute warn_unused_result [\u001b[01;35m\u001b[K-Wunused-result\u001b[m\u001b[K]\n",
      "  600 |   \u001b[01;35m\u001b[Kfscanf(modelfl,\"SVM-light Version %s\\n\",version_buffer)\u001b[m\u001b[K;\n",
      "      |   \u001b[01;35m\u001b[K^~~~~~~~~~~~~~~~~~~~~~~~~~~~~~~~~~~~~~~~~~~~~~~~~~~~~~~\u001b[m\u001b[K\n",
      "\u001b[01m\u001b[Ksvm_common.c:605:3:\u001b[m\u001b[K \u001b[01;35m\u001b[Kwarning: \u001b[m\u001b[Kignoring return value of ‘\u001b[01m\u001b[Kfscanf\u001b[m\u001b[K’, declared with attribute warn_unused_result [\u001b[01;35m\u001b[K-Wunused-result\u001b[m\u001b[K]\n",
      "  605 |   \u001b[01;35m\u001b[Kfscanf(modelfl,\"%ld%*[^\\n]\\n\", &model->kernel_parm.kernel_type)\u001b[m\u001b[K;\n",
      "      |   \u001b[01;35m\u001b[K^~~~~~~~~~~~~~~~~~~~~~~~~~~~~~~~~~~~~~~~~~~~~~~~~~~~~~~~~~~~~~~\u001b[m\u001b[K\n",
      "\u001b[01m\u001b[Ksvm_common.c:606:3:\u001b[m\u001b[K \u001b[01;35m\u001b[Kwarning: \u001b[m\u001b[Kignoring return value of ‘\u001b[01m\u001b[Kfscanf\u001b[m\u001b[K’, declared with attribute warn_unused_result [\u001b[01;35m\u001b[K-Wunused-result\u001b[m\u001b[K]\n",
      "  606 |   \u001b[01;35m\u001b[Kfscanf(modelfl,\"%ld%*[^\\n]\\n\", &model->kernel_parm.poly_degree)\u001b[m\u001b[K;\n",
      "      |   \u001b[01;35m\u001b[K^~~~~~~~~~~~~~~~~~~~~~~~~~~~~~~~~~~~~~~~~~~~~~~~~~~~~~~~~~~~~~~\u001b[m\u001b[K\n",
      "\u001b[01m\u001b[Ksvm_common.c:607:3:\u001b[m\u001b[K \u001b[01;35m\u001b[Kwarning: \u001b[m\u001b[Kignoring return value of ‘\u001b[01m\u001b[Kfscanf\u001b[m\u001b[K’, declared with attribute warn_unused_result [\u001b[01;35m\u001b[K-Wunused-result\u001b[m\u001b[K]\n",
      "  607 |   \u001b[01;35m\u001b[Kfscanf(modelfl,\"%lf%*[^\\n]\\n\", &model->kernel_parm.rbf_gamma)\u001b[m\u001b[K;\n",
      "      |   \u001b[01;35m\u001b[K^~~~~~~~~~~~~~~~~~~~~~~~~~~~~~~~~~~~~~~~~~~~~~~~~~~~~~~~~~~~~\u001b[m\u001b[K\n",
      "\u001b[01m\u001b[Ksvm_common.c:608:3:\u001b[m\u001b[K \u001b[01;35m\u001b[Kwarning: \u001b[m\u001b[Kignoring return value of ‘\u001b[01m\u001b[Kfscanf\u001b[m\u001b[K’, declared with attribute warn_unused_result [\u001b[01;35m\u001b[K-Wunused-result\u001b[m\u001b[K]\n",
      "  608 |   \u001b[01;35m\u001b[Kfscanf(modelfl,\"%lf%*[^\\n]\\n\", &model->kernel_parm.coef_lin)\u001b[m\u001b[K;\n",
      "      |   \u001b[01;35m\u001b[K^~~~~~~~~~~~~~~~~~~~~~~~~~~~~~~~~~~~~~~~~~~~~~~~~~~~~~~~~~~~\u001b[m\u001b[K\n",
      "\u001b[01m\u001b[Ksvm_common.c:609:3:\u001b[m\u001b[K \u001b[01;35m\u001b[Kwarning: \u001b[m\u001b[Kignoring return value of ‘\u001b[01m\u001b[Kfscanf\u001b[m\u001b[K’, declared with attribute warn_unused_result [\u001b[01;35m\u001b[K-Wunused-result\u001b[m\u001b[K]\n",
      "  609 |   \u001b[01;35m\u001b[Kfscanf(modelfl,\"%lf%*[^\\n]\\n\", &model->kernel_parm.coef_const)\u001b[m\u001b[K;\n",
      "      |   \u001b[01;35m\u001b[K^~~~~~~~~~~~~~~~~~~~~~~~~~~~~~~~~~~~~~~~~~~~~~~~~~~~~~~~~~~~~~\u001b[m\u001b[K\n",
      "\u001b[01m\u001b[Ksvm_common.c:610:3:\u001b[m\u001b[K \u001b[01;35m\u001b[Kwarning: \u001b[m\u001b[Kignoring return value of ‘\u001b[01m\u001b[Kfscanf\u001b[m\u001b[K’, declared with attribute warn_unused_result [\u001b[01;35m\u001b[K-Wunused-result\u001b[m\u001b[K]\n",
      "  610 |   \u001b[01;35m\u001b[Kfscanf(modelfl,\"%[^#]%*[^\\n]\\n\", model->kernel_parm.custom)\u001b[m\u001b[K;\n",
      "      |   \u001b[01;35m\u001b[K^~~~~~~~~~~~~~~~~~~~~~~~~~~~~~~~~~~~~~~~~~~~~~~~~~~~~~~~~~~\u001b[m\u001b[K\n",
      "\u001b[01m\u001b[Ksvm_common.c:612:3:\u001b[m\u001b[K \u001b[01;35m\u001b[Kwarning: \u001b[m\u001b[Kignoring return value of ‘\u001b[01m\u001b[Kfscanf\u001b[m\u001b[K’, declared with attribute warn_unused_result [\u001b[01;35m\u001b[K-Wunused-result\u001b[m\u001b[K]\n",
      "  612 |   \u001b[01;35m\u001b[Kfscanf(modelfl,\"%ld%*[^\\n]\\n\", &model->totwords)\u001b[m\u001b[K;\n",
      "      |   \u001b[01;35m\u001b[K^~~~~~~~~~~~~~~~~~~~~~~~~~~~~~~~~~~~~~~~~~~~~~~~\u001b[m\u001b[K\n",
      "\u001b[01m\u001b[Ksvm_common.c:613:3:\u001b[m\u001b[K \u001b[01;35m\u001b[Kwarning: \u001b[m\u001b[Kignoring return value of ‘\u001b[01m\u001b[Kfscanf\u001b[m\u001b[K’, declared with attribute warn_unused_result [\u001b[01;35m\u001b[K-Wunused-result\u001b[m\u001b[K]\n",
      "  613 |   \u001b[01;35m\u001b[Kfscanf(modelfl,\"%ld%*[^\\n]\\n\", &model->totdoc)\u001b[m\u001b[K;\n",
      "      |   \u001b[01;35m\u001b[K^~~~~~~~~~~~~~~~~~~~~~~~~~~~~~~~~~~~~~~~~~~~~~\u001b[m\u001b[K\n",
      "\u001b[01m\u001b[Ksvm_common.c:614:3:\u001b[m\u001b[K \u001b[01;35m\u001b[Kwarning: \u001b[m\u001b[Kignoring return value of ‘\u001b[01m\u001b[Kfscanf\u001b[m\u001b[K’, declared with attribute warn_unused_result [\u001b[01;35m\u001b[K-Wunused-result\u001b[m\u001b[K]\n",
      "  614 |   \u001b[01;35m\u001b[Kfscanf(modelfl,\"%ld%*[^\\n]\\n\", &model->sv_num)\u001b[m\u001b[K;\n",
      "      |   \u001b[01;35m\u001b[K^~~~~~~~~~~~~~~~~~~~~~~~~~~~~~~~~~~~~~~~~~~~~~\u001b[m\u001b[K\n",
      "\u001b[01m\u001b[Ksvm_common.c:615:3:\u001b[m\u001b[K \u001b[01;35m\u001b[Kwarning: \u001b[m\u001b[Kignoring return value of ‘\u001b[01m\u001b[Kfscanf\u001b[m\u001b[K’, declared with attribute warn_unused_result [\u001b[01;35m\u001b[K-Wunused-result\u001b[m\u001b[K]\n",
      "  615 |   \u001b[01;35m\u001b[Kfscanf(modelfl,\"%lf%*[^\\n]\\n\", &model->b)\u001b[m\u001b[K;\n",
      "      |   \u001b[01;35m\u001b[K^~~~~~~~~~~~~~~~~~~~~~~~~~~~~~~~~~~~~~~~~\u001b[m\u001b[K\n",
      "\u001b[01m\u001b[Ksvm_common.c:623:5:\u001b[m\u001b[K \u001b[01;35m\u001b[Kwarning: \u001b[m\u001b[Kignoring return value of ‘\u001b[01m\u001b[Kfgets\u001b[m\u001b[K’, declared with attribute warn_unused_result [\u001b[01;35m\u001b[K-Wunused-result\u001b[m\u001b[K]\n",
      "  623 |     \u001b[01;35m\u001b[Kfgets(line,(int)ll,modelfl)\u001b[m\u001b[K;\n",
      "      |     \u001b[01;35m\u001b[K^~~~~~~~~~~~~~~~~~~~~~~~~~~\u001b[m\u001b[K\n",
      "gcc -c  -O3                      svm_hideo.c -o svm_hideo.o \n",
      "gcc  -O3                      svm_learn_main.o svm_learn.o svm_common.o svm_hideo.o -o svm_learn -L. -lm                               \n",
      "gcc -c  -O3                      svm_classify.c -o svm_classify.o\n",
      "gcc  -O3                      svm_classify.o svm_common.o -o svm_classify -L. -lm                               \n"
     ]
    }
   ],
   "source": [
    "!make all"
   ]
  },
  {
   "cell_type": "code",
   "execution_count": 19,
   "id": "3e217ca0",
   "metadata": {},
   "outputs": [
    {
     "name": "stdout",
     "output_type": "stream",
     "text": [
      "svm_classify\n"
     ]
    }
   ],
   "source": [
    "!ls svm_classify"
   ]
  },
  {
   "cell_type": "code",
   "execution_count": 20,
   "id": "db5bc4b2",
   "metadata": {},
   "outputs": [
    {
     "name": "stdout",
     "output_type": "stream",
     "text": [
      "/home/kkwt/splitta-0.1.0/splitta-0.1.0\n"
     ]
    }
   ],
   "source": [
    "!pwd"
   ]
  },
  {
   "cell_type": "code",
   "execution_count": 21,
   "id": "6a97e472",
   "metadata": {},
   "outputs": [
    {
     "name": "stdout",
     "output_type": "stream",
     "text": [
      "/home/kkwt/splitta-0.1.0\n"
     ]
    }
   ],
   "source": [
    "cd ~/splitta-0.1.0"
   ]
  },
  {
   "cell_type": "code",
   "execution_count": 22,
   "id": "a9f1d524",
   "metadata": {},
   "outputs": [
    {
     "name": "stdout",
     "output_type": "stream",
     "text": [
      "loading model from [./splitta/model_svm/]... done!\n",
      "reading [../en_ewt-ud-dev.txt]\n",
      "featurizing... done!\n",
      "SVM classifying... done!\n"
     ]
    }
   ],
   "source": [
    "!python2 ./splitta/sbd.py -m ./splitta/model_svm ../en_ewt-ud-dev.txt -o ../en_ewt-ud-dev.txt.sbd_splitta"
   ]
  },
  {
   "cell_type": "code",
   "execution_count": 23,
   "id": "1132c4c9",
   "metadata": {},
   "outputs": [
    {
     "name": "stdout",
     "output_type": "stream",
     "text": [
      "loading model from [./splitta/model_svm/]... done!\n",
      "reading [../en_ewt-ud-dev.txt]\n",
      "featurizing... done!\n",
      "SVM classifying... done!\n"
     ]
    }
   ],
   "source": [
    "!python2 ./splitta/sbd.py -m ./splitta/model_svm ../en_ewt-ud-dev.txt > ../en_ewt-ud-dev.txt.sbd_splitta"
   ]
  }
 ],
 "metadata": {
  "kernelspec": {
   "display_name": "Python 3 (ipykernel)",
   "language": "python",
   "name": "python3"
  },
  "language_info": {
   "codemirror_mode": {
    "name": "ipython",
    "version": 3
   },
   "file_extension": ".py",
   "mimetype": "text/x-python",
   "name": "python",
   "nbconvert_exporter": "python",
   "pygments_lexer": "ipython3",
   "version": "3.8.9"
  }
 },
 "nbformat": 4,
 "nbformat_minor": 5
}
