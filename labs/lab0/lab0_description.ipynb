{
 "cells": [
  {
   "cell_type": "markdown",
   "metadata": {},
   "source": [
    "# Lab 0: Course Preparation\n",
    "\n",
    "Lab description written by Jasbrina Dhaliwal (LING242 - 2021W1)"
   ]
  },
  {
   "cell_type": "markdown",
   "metadata": {},
   "source": [
    "### Course Preparation"
   ]
  },
  {
   "cell_type": "markdown",
   "metadata": {},
   "source": [
    "In this lab, we will familiarize ourselves with a couple of standard Unix commands, and the shell."
   ]
  },
  {
   "cell_type": "markdown",
   "metadata": {},
   "source": [
    "### The Shell"
   ]
  },
  {
   "cell_type": "markdown",
   "metadata": {},
   "source": [
    "The `pwd` command prints the working directory in the form of a directory path."
   ]
  },
  {
   "cell_type": "code",
   "execution_count": 2,
   "metadata": {},
   "outputs": [
    {
     "data": {
      "text/plain": [
       "'/home/jasbrina/home/LING242/Lab_writing'"
      ]
     },
     "execution_count": 2,
     "metadata": {},
     "output_type": "execute_result"
    }
   ],
   "source": [
    "%pwd"
   ]
  },
  {
   "cell_type": "markdown",
   "metadata": {},
   "source": [
    "The `cd` command allows you to change the working directory to the path provided. We can also use `cd /` to change the working directory to the root directory."
   ]
  },
  {
   "cell_type": "code",
   "execution_count": 6,
   "metadata": {},
   "outputs": [
    {
     "name": "stdout",
     "output_type": "stream",
     "text": [
      "/\n"
     ]
    },
    {
     "data": {
      "text/plain": [
       "'/'"
      ]
     },
     "execution_count": 6,
     "metadata": {},
     "output_type": "execute_result"
    }
   ],
   "source": [
    "%cd /\n",
    "%pwd"
   ]
  },
  {
   "cell_type": "markdown",
   "metadata": {},
   "source": [
    "For example, use `cd home/jasbrina/home/` to change the directory to the home directory."
   ]
  },
  {
   "cell_type": "code",
   "execution_count": 7,
   "metadata": {},
   "outputs": [
    {
     "name": "stdout",
     "output_type": "stream",
     "text": [
      "/home/jasbrina/home\n"
     ]
    },
    {
     "data": {
      "text/plain": [
       "'/home/jasbrina/home'"
      ]
     },
     "execution_count": 7,
     "metadata": {},
     "output_type": "execute_result"
    }
   ],
   "source": [
    "%cd home/jasbrina/home/\n",
    "%pwd"
   ]
  },
  {
   "cell_type": "markdown",
   "metadata": {},
   "source": [
    "Use the command `cd ~` to change directory to the home directory as well."
   ]
  },
  {
   "cell_type": "code",
   "execution_count": 8,
   "metadata": {},
   "outputs": [
    {
     "name": "stdout",
     "output_type": "stream",
     "text": [
      "/home/jasbrina\n"
     ]
    },
    {
     "data": {
      "text/plain": [
       "'/home/jasbrina'"
      ]
     },
     "execution_count": 8,
     "metadata": {},
     "output_type": "execute_result"
    }
   ],
   "source": [
    "%cd ~\n",
    "%pwd"
   ]
  },
  {
   "cell_type": "markdown",
   "metadata": {},
   "source": [
    "We can use the command `cd ..` to change the directory to the parent directory."
   ]
  },
  {
   "cell_type": "code",
   "execution_count": 9,
   "metadata": {},
   "outputs": [
    {
     "name": "stdout",
     "output_type": "stream",
     "text": [
      "/home\n"
     ]
    },
    {
     "data": {
      "text/plain": [
       "'/home'"
      ]
     },
     "execution_count": 9,
     "metadata": {},
     "output_type": "execute_result"
    }
   ],
   "source": [
    "%cd ..\n",
    "%pwd"
   ]
  },
  {
   "cell_type": "code",
   "execution_count": 10,
   "metadata": {},
   "outputs": [
    {
     "name": "stdout",
     "output_type": "stream",
     "text": [
      "/\n"
     ]
    },
    {
     "data": {
      "text/plain": [
       "'/'"
      ]
     },
     "execution_count": 10,
     "metadata": {},
     "output_type": "execute_result"
    }
   ],
   "source": [
    "%cd ../\n",
    "%pwd"
   ]
  },
  {
   "cell_type": "markdown",
   "metadata": {},
   "source": [
    "### Creating Folders and Files"
   ]
  },
  {
   "cell_type": "code",
   "execution_count": 61,
   "metadata": {},
   "outputs": [
    {
     "name": "stdout",
     "output_type": "stream",
     "text": [
      "/home/jasbrina/home/LING242/Lab_writing\n"
     ]
    }
   ],
   "source": [
    "cd /home/jasbrina/home/LING242/Lab_writing"
   ]
  },
  {
   "cell_type": "markdown",
   "metadata": {},
   "source": [
    "The `mkdir` command creates a directory at the current path with the name that is provided. For example, `mkdir tempo` creates a directory named tempo."
   ]
  },
  {
   "cell_type": "code",
   "execution_count": 18,
   "metadata": {},
   "outputs": [
    {
     "name": "stdout",
     "output_type": "stream",
     "text": [
      "/home/jasbrina/home/LING242/Lab_writing/tempo\n"
     ]
    }
   ],
   "source": [
    "!mkdir tempo\n",
    "%cd tempo\n",
    "%pwd\n",
    "!mkdir dir1 dir2 dir3"
   ]
  },
  {
   "cell_type": "markdown",
   "metadata": {},
   "source": [
    "The `ls` command lists all files and directories contained in the current directory."
   ]
  },
  {
   "cell_type": "code",
   "execution_count": 19,
   "metadata": {},
   "outputs": [
    {
     "name": "stdout",
     "output_type": "stream",
     "text": [
      "dir1  dir2  dir3\n"
     ]
    }
   ],
   "source": [
    "!ls"
   ]
  },
  {
   "cell_type": "markdown",
   "metadata": {},
   "source": [
    "We can specify an additional parameter as in `ls -l` to list all the files/directories in the current directory using a long listing format. In the output, we'll see something like `drwxr-xr-x`. Here, r stands for read, w for write, and x for execute. These are the types of permissions given for a file."
   ]
  },
  {
   "cell_type": "code",
   "execution_count": 20,
   "metadata": {},
   "outputs": [
    {
     "name": "stdout",
     "output_type": "stream",
     "text": [
      "total 0\n",
      "drwxr-xr-x 1 jasbrina jasbrina 512 Nov 21 13:26 dir1\n",
      "drwxr-xr-x 1 jasbrina jasbrina 512 Nov 21 13:26 dir2\n",
      "drwxr-xr-x 1 jasbrina jasbrina 512 Nov 21 13:26 dir3\n"
     ]
    }
   ],
   "source": [
    "!ls -l"
   ]
  },
  {
   "cell_type": "markdown",
   "metadata": {},
   "source": [
    "The `ls .` command lists the current directory."
   ]
  },
  {
   "cell_type": "code",
   "execution_count": 21,
   "metadata": {},
   "outputs": [
    {
     "name": "stdout",
     "output_type": "stream",
     "text": [
      "dir1  dir2  dir3\n"
     ]
    }
   ],
   "source": [
    "!ls ."
   ]
  },
  {
   "cell_type": "markdown",
   "metadata": {},
   "source": [
    "We can use redrection (>) to store output in a file, using `ls > file.txt`. "
   ]
  },
  {
   "cell_type": "code",
   "execution_count": 22,
   "metadata": {},
   "outputs": [],
   "source": [
    "!ls > file.txt"
   ]
  },
  {
   "cell_type": "code",
   "execution_count": 25,
   "metadata": {},
   "outputs": [
    {
     "name": "stdout",
     "output_type": "stream",
     "text": [
      "total 0\n",
      "drwxr-xr-x 1 jasbrina jasbrina 512 Nov 21 13:26 dir1\n",
      "drwxr-xr-x 1 jasbrina jasbrina 512 Nov 21 13:26 dir2\n",
      "drwxr-xr-x 1 jasbrina jasbrina 512 Nov 21 13:26 dir3\n",
      "-rw-r--r-- 1 jasbrina jasbrina  24 Nov 21 13:38 file.txt\n"
     ]
    }
   ],
   "source": [
    "!ls -l"
   ]
  },
  {
   "cell_type": "markdown",
   "metadata": {},
   "source": [
    "The `echo` command is used to display a string to standard output. For example, we can use `echo S > file.txt` to store the string S in a file called file.txt using recirection."
   ]
  },
  {
   "cell_type": "code",
   "execution_count": 26,
   "metadata": {},
   "outputs": [],
   "source": [
    "!echo \"This is a first test\" > test_1.txt"
   ]
  },
  {
   "cell_type": "code",
   "execution_count": 27,
   "metadata": {},
   "outputs": [],
   "source": [
    "!echo \"This is a second test\" > test_2.txt"
   ]
  },
  {
   "cell_type": "code",
   "execution_count": 28,
   "metadata": {},
   "outputs": [],
   "source": [
    "!echo \"This is a third test\" > test_3.txt"
   ]
  },
  {
   "cell_type": "code",
   "execution_count": 29,
   "metadata": {},
   "outputs": [
    {
     "name": "stdout",
     "output_type": "stream",
     "text": [
      "dir1  dir2  dir3  file.txt  test_1.txt\ttest_2.txt  test_3.txt\n"
     ]
    }
   ],
   "source": [
    "!ls"
   ]
  },
  {
   "cell_type": "markdown",
   "metadata": {},
   "source": [
    "The `cat` command (concatenate) prints the content of a file/files onto standard output. This is useful for quickly checking the contents of a file without opening a text editor."
   ]
  },
  {
   "cell_type": "code",
   "execution_count": 30,
   "metadata": {},
   "outputs": [
    {
     "name": "stdout",
     "output_type": "stream",
     "text": [
      "This is a first test\n"
     ]
    }
   ],
   "source": [
    "!cat test_1.txt"
   ]
  },
  {
   "cell_type": "code",
   "execution_count": 31,
   "metadata": {},
   "outputs": [
    {
     "name": "stdout",
     "output_type": "stream",
     "text": [
      "This is a first test\n",
      "This is a second test\n",
      "This is a third test\n"
     ]
    }
   ],
   "source": [
    "!cat test_1.txt test_2.txt test_3.txt"
   ]
  },
  {
   "cell_type": "markdown",
   "metadata": {},
   "source": [
    "We use an asterisk (*) to indicate zero or more characters. In this way, we can `cat` several files that start with the prefix test_. This is useful if we want to display multiple files that have similar file names.\n",
    "\n"
   ]
  },
  {
   "cell_type": "code",
   "execution_count": 32,
   "metadata": {},
   "outputs": [
    {
     "name": "stdout",
     "output_type": "stream",
     "text": [
      "This is a first test\n",
      "This is a second test\n",
      "This is a third test\n"
     ]
    }
   ],
   "source": [
    "!cat test_*"
   ]
  },
  {
   "cell_type": "markdown",
   "metadata": {},
   "source": [
    "In the following command, we store the contents of several files starting with t and containing 0 or more characters afterwards into a file called combined.txt."
   ]
  },
  {
   "cell_type": "code",
   "execution_count": 33,
   "metadata": {},
   "outputs": [],
   "source": [
    "!cat t* > combined.txt"
   ]
  },
  {
   "cell_type": "code",
   "execution_count": 34,
   "metadata": {},
   "outputs": [
    {
     "name": "stdout",
     "output_type": "stream",
     "text": [
      "This is a first test\n",
      "This is a second test\n",
      "This is a third test\n"
     ]
    }
   ],
   "source": [
    "!cat combined.txt"
   ]
  },
  {
   "cell_type": "code",
   "execution_count": 35,
   "metadata": {},
   "outputs": [
    {
     "name": "stdout",
     "output_type": "stream",
     "text": [
      "combined.txt  dir1  dir2  dir3\tfile.txt  test_1.txt  test_2.txt  test_3.txt\n"
     ]
    }
   ],
   "source": [
    "!ls"
   ]
  },
  {
   "cell_type": "markdown",
   "metadata": {},
   "source": [
    "### Moving and Manipulating Files"
   ]
  },
  {
   "cell_type": "markdown",
   "metadata": {},
   "source": [
    "We can use the `mv` command to move a file/directory to the location that is specified. For example, `mv file.txt dir1` would move the file file.txt to directory dir1."
   ]
  },
  {
   "cell_type": "code",
   "execution_count": 36,
   "metadata": {},
   "outputs": [],
   "source": [
    "!mv file.txt dir1"
   ]
  },
  {
   "cell_type": "code",
   "execution_count": 37,
   "metadata": {},
   "outputs": [
    {
     "name": "stdout",
     "output_type": "stream",
     "text": [
      "/home/jasbrina/home/LING242/Lab_writing/tempo/dir1\n",
      "file.txt\n"
     ]
    }
   ],
   "source": [
    "%cd dir1 \n",
    "!ls"
   ]
  },
  {
   "cell_type": "markdown",
   "metadata": {},
   "source": [
    "`mv` can also be used to rename a file. For example, `mv file.txt renamed_file.txt` would rename file.txt to renamed_file.txt."
   ]
  },
  {
   "cell_type": "code",
   "execution_count": 38,
   "metadata": {},
   "outputs": [
    {
     "name": "stdout",
     "output_type": "stream",
     "text": [
      "renamed_file.txt\n"
     ]
    }
   ],
   "source": [
    "!mv file.txt renamed_file.txt\n",
    "!ls"
   ]
  },
  {
   "cell_type": "markdown",
   "metadata": {},
   "source": [
    "Use `cp` to copy a file/directory to another location specified. For example, `cp renamed_file.txt copied_file.txt` can be used to copy renamed_file.txt to another file named copied_file.txt."
   ]
  },
  {
   "cell_type": "code",
   "execution_count": 39,
   "metadata": {},
   "outputs": [
    {
     "name": "stdout",
     "output_type": "stream",
     "text": [
      "copied_file.txt  renamed_file.txt\n"
     ]
    }
   ],
   "source": [
    "!cp renamed_file.txt copied_file.txt\n",
    "!ls"
   ]
  },
  {
   "cell_type": "markdown",
   "metadata": {},
   "source": [
    "The `rm` command removes a file/directory specified, as below."
   ]
  },
  {
   "cell_type": "code",
   "execution_count": 40,
   "metadata": {},
   "outputs": [
    {
     "name": "stdout",
     "output_type": "stream",
     "text": [
      "renamed_file.txt\n"
     ]
    }
   ],
   "source": [
    "!rm copied_file.txt\n",
    "!ls"
   ]
  },
  {
   "cell_type": "code",
   "execution_count": 41,
   "metadata": {},
   "outputs": [
    {
     "name": "stdout",
     "output_type": "stream",
     "text": [
      "file.txt\n"
     ]
    }
   ],
   "source": [
    "!mv renamed_file.txt file.txt \n",
    "!ls"
   ]
  },
  {
   "cell_type": "code",
   "execution_count": 42,
   "metadata": {},
   "outputs": [
    {
     "name": "stdout",
     "output_type": "stream",
     "text": [
      "/home/jasbrina/home/LING242/Lab_writing/tempo\n"
     ]
    }
   ],
   "source": [
    "%cd ../"
   ]
  },
  {
   "cell_type": "code",
   "execution_count": 43,
   "metadata": {},
   "outputs": [
    {
     "data": {
      "text/plain": [
       "'/home/jasbrina/home/LING242/Lab_writing/tempo'"
      ]
     },
     "execution_count": 43,
     "metadata": {},
     "output_type": "execute_result"
    }
   ],
   "source": [
    "%pwd"
   ]
  },
  {
   "cell_type": "markdown",
   "metadata": {},
   "source": [
    "We can use `rmdir` to remove an empty directory. Note that this won't work on a directory that has content in it."
   ]
  },
  {
   "cell_type": "code",
   "execution_count": 46,
   "metadata": {},
   "outputs": [
    {
     "name": "stdout",
     "output_type": "stream",
     "text": [
      "combined.txt  dir1  dir3  test_1.txt  test_2.txt  test_3.txt\n"
     ]
    }
   ],
   "source": [
    "!rmdir dir2\n",
    "!ls"
   ]
  },
  {
   "cell_type": "markdown",
   "metadata": {},
   "source": [
    "If we try to remove a directory that is not empty, we get the following error seen below."
   ]
  },
  {
   "cell_type": "code",
   "execution_count": 47,
   "metadata": {},
   "outputs": [
    {
     "name": "stdout",
     "output_type": "stream",
     "text": [
      "rmdir: failed to remove 'dir1': Directory not empty\n"
     ]
    }
   ],
   "source": [
    "!rmdir dir1"
   ]
  },
  {
   "cell_type": "markdown",
   "metadata": {},
   "source": [
    "However, there is a way to bypass this using recursion. `rm -r` recursively deletes all files in a directory and deletes the directory."
   ]
  },
  {
   "cell_type": "code",
   "execution_count": 48,
   "metadata": {},
   "outputs": [
    {
     "name": "stdout",
     "output_type": "stream",
     "text": [
      "combined.txt  dir3  test_1.txt\ttest_2.txt  test_3.txt\n"
     ]
    }
   ],
   "source": [
    "!rm -r dir1\n",
    "!ls"
   ]
  },
  {
   "cell_type": "markdown",
   "metadata": {},
   "source": [
    "### Miscellaneous "
   ]
  },
  {
   "cell_type": "code",
   "execution_count": 49,
   "metadata": {},
   "outputs": [
    {
     "name": "stdout",
     "output_type": "stream",
     "text": [
      "This is a first test\n",
      "This is a second test\n",
      "This is a third test\n"
     ]
    }
   ],
   "source": [
    "!cat combined.txt"
   ]
  },
  {
   "cell_type": "markdown",
   "metadata": {},
   "source": [
    "`wc` is a command that reads file(s) and outputs newline count, word count, and byte count. This is useful for when we want word count information about a file."
   ]
  },
  {
   "cell_type": "code",
   "execution_count": 50,
   "metadata": {},
   "outputs": [
    {
     "name": "stdout",
     "output_type": "stream",
     "text": [
      " 3 15 64 combined.txt\n"
     ]
    }
   ],
   "source": [
    "!wc combined.txt"
   ]
  },
  {
   "cell_type": "markdown",
   "metadata": {},
   "source": [
    "`sed` is a stream editor used for filtering/transforming text. For example, the command `'s/ /\\t/g'` replaces all spaces with tabulation. The command `s/A/B/g` replaces A with B in the text. The command below stores the result in a file called combined.tsv and the `|`is a pipe to redirect the command into another."
   ]
  },
  {
   "cell_type": "code",
   "execution_count": 51,
   "metadata": {},
   "outputs": [],
   "source": [
    "!cat combined.txt | sed 's/ /\\t/g' > combined.tsv"
   ]
  },
  {
   "cell_type": "code",
   "execution_count": 52,
   "metadata": {},
   "outputs": [
    {
     "name": "stdout",
     "output_type": "stream",
     "text": [
      "This\tis\ta\tfirst\ttest\n",
      "This\tis\ta\tsecond\ttest\n",
      "This\tis\ta\tthird\ttest\n"
     ]
    }
   ],
   "source": [
    "!cat combined.tsv"
   ]
  },
  {
   "cell_type": "markdown",
   "metadata": {},
   "source": [
    "The `cut` command allows us to extract sections from each line of input. For example, `cut -f4` cuts out the fourth column of combined.tsv, as seen below."
   ]
  },
  {
   "cell_type": "code",
   "execution_count": 53,
   "metadata": {},
   "outputs": [
    {
     "name": "stdout",
     "output_type": "stream",
     "text": [
      "first\n",
      "second\n",
      "third\n"
     ]
    }
   ],
   "source": [
    "!cut -f4 combined.tsv"
   ]
  },
  {
   "cell_type": "markdown",
   "metadata": {},
   "source": [
    "We use `cut -f2,4` to cut out the second and fourth columns of combined.tsv:"
   ]
  },
  {
   "cell_type": "code",
   "execution_count": 54,
   "metadata": {},
   "outputs": [
    {
     "name": "stdout",
     "output_type": "stream",
     "text": [
      "is\tfirst\n",
      "is\tsecond\n",
      "is\tthird\n"
     ]
    }
   ],
   "source": [
    "!cut -f2,4 combined.tsv"
   ]
  },
  {
   "cell_type": "markdown",
   "metadata": {},
   "source": [
    "`d` is a delimeter: it uses space as a seperator/delimeter."
   ]
  },
  {
   "cell_type": "code",
   "execution_count": 55,
   "metadata": {},
   "outputs": [
    {
     "name": "stdout",
     "output_type": "stream",
     "text": [
      "first\n",
      "second\n",
      "third\n"
     ]
    }
   ],
   "source": [
    "!cut -f4 -d\" \" combined.txt"
   ]
  },
  {
   "cell_type": "markdown",
   "metadata": {},
   "source": [
    "The `sort` command sorts files alphabetically. Adding the parameter `k4` sorts only column 4. This command can be useful when we want the records in a file to be arranged in alphabetical order."
   ]
  },
  {
   "cell_type": "code",
   "execution_count": 56,
   "metadata": {},
   "outputs": [
    {
     "name": "stdout",
     "output_type": "stream",
     "text": [
      "This\tis\ta\tfirst\ttest\n",
      "This\tis\ta\tsecond\ttest\n",
      "This\tis\ta\tthird\ttest\n"
     ]
    }
   ],
   "source": [
    "!sort -k4 combined.tsv"
   ]
  },
  {
   "cell_type": "markdown",
   "metadata": {},
   "source": [
    "Adding the `-r` parameter sorts the file in reverse alphabetical order."
   ]
  },
  {
   "cell_type": "code",
   "execution_count": 57,
   "metadata": {},
   "outputs": [
    {
     "name": "stdout",
     "output_type": "stream",
     "text": [
      "This\tis\ta\tthird\ttest\n",
      "This\tis\ta\tsecond\ttest\n",
      "This\tis\ta\tfirst\ttest\n"
     ]
    }
   ],
   "source": [
    "!sort -k4 -r combined.tsv"
   ]
  },
  {
   "cell_type": "markdown",
   "metadata": {},
   "source": [
    "The `uniq` command reports/filters out the repeated lines in a file. For the command below, we use `f2` which gets the second column, and then we sort it using `sort`. Finally, `uniq` specifies the unique words. This command is useful when one wants to detect adjacent duplicate lines in a file."
   ]
  },
  {
   "cell_type": "code",
   "execution_count": 58,
   "metadata": {},
   "outputs": [
    {
     "name": "stdout",
     "output_type": "stream",
     "text": [
      "is\n"
     ]
    }
   ],
   "source": [
    "!cut -f2 combined.tsv | sort | uniq"
   ]
  },
  {
   "cell_type": "markdown",
   "metadata": {},
   "source": [
    "In the command below, the parameter `-c` gives the count of number of `is` that appear in the file combined.tsv."
   ]
  },
  {
   "cell_type": "code",
   "execution_count": 59,
   "metadata": {},
   "outputs": [
    {
     "name": "stdout",
     "output_type": "stream",
     "text": [
      "      3 is\n"
     ]
    }
   ],
   "source": [
    "!cut -f2 combined.tsv | sort | uniq -c"
   ]
  },
  {
   "cell_type": "markdown",
   "metadata": {},
   "source": [
    "In the command below, we cut the fourth column and sort the unique words. `-c` will give the count of unique words."
   ]
  },
  {
   "cell_type": "code",
   "execution_count": 60,
   "metadata": {},
   "outputs": [
    {
     "name": "stdout",
     "output_type": "stream",
     "text": [
      "      1 first\n",
      "      1 second\n",
      "      1 third\n"
     ]
    }
   ],
   "source": [
    "!cut -f4 combined.tsv | sort | uniq -c"
   ]
  }
 ],
 "metadata": {
  "interpreter": {
   "hash": "916dbcbb3f70747c44a77c7bcd40155683ae19c65e1c03b4aa3499c5328201f1"
  },
  "kernelspec": {
   "display_name": "Python 3.8.10 64-bit",
   "language": "python",
   "name": "python3"
  },
  "language_info": {
   "codemirror_mode": {
    "name": "ipython",
    "version": 3
   },
   "file_extension": ".py",
   "mimetype": "text/x-python",
   "name": "python",
   "nbconvert_exporter": "python",
   "pygments_lexer": "ipython3",
   "version": "3.8.10"
  },
  "orig_nbformat": 4
 },
 "nbformat": 4,
 "nbformat_minor": 2
}
