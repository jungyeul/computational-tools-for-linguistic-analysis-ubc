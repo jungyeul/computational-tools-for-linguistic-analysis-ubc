{
 "cells": [
  {
   "cell_type": "markdown",
   "id": "rocky-declaration",
   "metadata": {},
   "source": [
    "# Language models\n",
    "\n",
    "## 1. Mikolov's data"
   ]
  },
  {
   "cell_type": "code",
   "execution_count": 1,
   "id": "rolled-support",
   "metadata": {},
   "outputs": [
    {
     "name": "stdout",
     "output_type": "stream",
     "text": [
      "--2021-09-21 09:42:02--  http://www.fit.vutbr.cz/~imikolov/rnnlm/simple-examples.tgz\n",
      "Resolving www.fit.vutbr.cz (www.fit.vutbr.cz)... 147.229.9.23, 2001:67c:1220:809::93e5:917\n",
      "Connecting to www.fit.vutbr.cz (www.fit.vutbr.cz)|147.229.9.23|:80... connected.\n",
      "HTTP request sent, awaiting response... 200 OK\n",
      "Length: 34869662 (33M) [application/x-gtar]\n",
      "Saving to: ‘simple-examples.tgz.1’\n",
      "\n",
      "simple-examples.tgz 100%[===================>]  33,25M   230KB/s    in 83s     \n",
      "\n",
      "2021-09-21 09:43:28 (408 KB/s) - ‘simple-examples.tgz.1’ saved [34869662/34869662]\n",
      "\n"
     ]
    }
   ],
   "source": [
    "!wget http://www.fit.vutbr.cz/~imikolov/rnnlm/simple-examples.tgz"
   ]
  },
  {
   "cell_type": "code",
   "execution_count": 3,
   "id": "horizontal-market",
   "metadata": {},
   "outputs": [],
   "source": [
    "!tar xfz simple-examples.tgz"
   ]
  },
  {
   "cell_type": "code",
   "execution_count": 7,
   "id": "generous-problem",
   "metadata": {},
   "outputs": [
    {
     "name": "stdout",
     "output_type": "stream",
     "text": [
      "total 69672\r\n",
      "-rw-r--r--   1 jungyeul  staff      6120 Sep 21 09:43 Lab3.ipynb\r\n",
      "drwx------  15 jungyeul  staff       480 May  2  2011 \u001b[34msimple-examples\u001b[m\u001b[m\r\n",
      "-rw-r--r--   1 jungyeul  staff  34869662 Sep 12  2011 simple-examples.tgz\r\n"
     ]
    }
   ],
   "source": [
    "!ls -l"
   ]
  },
  {
   "cell_type": "code",
   "execution_count": 8,
   "id": "continent-separation",
   "metadata": {},
   "outputs": [
    {
     "name": "stdout",
     "output_type": "stream",
     "text": [
      "/Users/jungyeul/Downloads/ling242/lab3/simple-examples\n"
     ]
    }
   ],
   "source": [
    "%cd simple-examples/"
   ]
  },
  {
   "cell_type": "code",
   "execution_count": 12,
   "id": "played-grade",
   "metadata": {},
   "outputs": [
    {
     "name": "stdout",
     "output_type": "stream",
     "text": [
      "\u001b[34m1-train\u001b[m\u001b[m                    \u001b[34m8-direct\u001b[m\u001b[m\r\n",
      "\u001b[34m2-nbest-rescore\u001b[m\u001b[m            \u001b[34m9-char-based-lm\u001b[m\u001b[m\r\n",
      "\u001b[34m3-combination\u001b[m\u001b[m              \u001b[34mdata\u001b[m\u001b[m\r\n",
      "\u001b[34m4-data-generation\u001b[m\u001b[m          \u001b[34mmodels\u001b[m\u001b[m\r\n",
      "\u001b[34m5-one-iter\u001b[m\u001b[m                 \u001b[34mrnnlm-0.2b\u001b[m\u001b[m\r\n",
      "\u001b[34m6-recovery-during-training\u001b[m\u001b[m \u001b[34mtemp\u001b[m\u001b[m\r\n",
      "\u001b[34m7-dynamic-evaluation\u001b[m\u001b[m\r\n",
      "\r\n",
      "./1-train:\r\n",
      "README   \u001b[31mtest.sh\u001b[m\u001b[m  \u001b[31mtrain.sh\u001b[m\u001b[m\r\n",
      "\r\n",
      "./2-nbest-rescore:\r\n",
      "\u001b[31mREADME\u001b[m\u001b[m      getbest.c   gettext.c   \u001b[31mmakenbest\u001b[m\u001b[m\r\n",
      "\u001b[31mgetbest\u001b[m\u001b[m     \u001b[31mgettext\u001b[m\u001b[m     \u001b[34mlattices\u001b[m\u001b[m    makenbest.c\r\n",
      "\r\n",
      "./2-nbest-rescore/lattices:\r\n",
      "AMI-3E0501_u3005_127040_127488.lat.gz AMI-3E0501_u3005_128490_129032.lat.gz\r\n",
      "AMI-3E0501_u3005_127513_127835.lat.gz latlist\r\n",
      "AMI-3E0501_u3005_127865_128175.lat.gz \u001b[34mnbest\u001b[m\u001b[m\r\n",
      "AMI-3E0501_u3005_128188_128447.lat.gz \u001b[31mnbest.sh\u001b[m\u001b[m\r\n",
      "\r\n",
      "./2-nbest-rescore/lattices/nbest:\r\n",
      "\r\n",
      "./3-combination:\r\n",
      "README   \u001b[31mtest.sh\u001b[m\u001b[m  \u001b[31mtrain.sh\u001b[m\u001b[m\r\n",
      "\r\n",
      "./4-data-generation:\r\n",
      "README   \u001b[31mtest.sh\u001b[m\u001b[m  \u001b[31mtrain.sh\u001b[m\u001b[m\r\n",
      "\r\n",
      "./5-one-iter:\r\n",
      "README   \u001b[31mtest.sh\u001b[m\u001b[m  \u001b[31mtrain.sh\u001b[m\u001b[m\r\n",
      "\r\n",
      "./6-recovery-during-training:\r\n",
      "README   \u001b[31mtest.sh\u001b[m\u001b[m  \u001b[31mtrain.sh\u001b[m\u001b[m\r\n",
      "\r\n",
      "./7-dynamic-evaluation:\r\n",
      "README   \u001b[31mtest.sh\u001b[m\u001b[m  \u001b[31mtrain.sh\u001b[m\u001b[m\r\n",
      "\r\n",
      "./8-direct:\r\n",
      "README   \u001b[31mtest.sh\u001b[m\u001b[m  \u001b[31mtrain.sh\u001b[m\u001b[m\r\n",
      "\r\n",
      "./9-char-based-lm:\r\n",
      "README   \u001b[31mtest.sh\u001b[m\u001b[m  \u001b[31mtrain.sh\u001b[m\u001b[m\r\n",
      "\r\n",
      "./data:\r\n",
      "README             ptb.char.train.txt ptb.test.txt       ptb.valid.txt\r\n",
      "ptb.char.test.txt  ptb.char.valid.txt ptb.train.txt\r\n",
      "\r\n",
      "./models:\r\n",
      "README          swb.ngram.model swb.rnn.model\r\n",
      "\r\n",
      "./rnnlm-0.2b:\r\n",
      "CHANGE.log     convert.c      makefile       rnnlmlib.cpp   train\r\n",
      "COPYRIGHT.txt  example.output prob.c         rnnlmlib.h     valid\r\n",
      "FAQ.txt        \u001b[31mexample.sh\u001b[m\u001b[m     rnnlm.cpp      test\r\n",
      "\r\n",
      "./temp:\r\n"
     ]
    }
   ],
   "source": [
    "!ls -R"
   ]
  },
  {
   "cell_type": "code",
   "execution_count": 14,
   "id": "fancy-nylon",
   "metadata": {},
   "outputs": [
    {
     "name": "stdout",
     "output_type": "stream",
     "text": [
      "/Users/jungyeul/Downloads/ling242/lab3\n"
     ]
    }
   ],
   "source": [
    "%cd .."
   ]
  },
  {
   "cell_type": "markdown",
   "id": "acoustic-tamil",
   "metadata": {},
   "source": [
    "## 2. KenLM"
   ]
  },
  {
   "cell_type": "code",
   "execution_count": 15,
   "id": "enormous-beginning",
   "metadata": {},
   "outputs": [
    {
     "name": "stdout",
     "output_type": "stream",
     "text": [
      "--2021-09-21 11:38:35--  https://kheafield.com/code/kenlm.tar.gz\n",
      "Resolving kheafield.com (kheafield.com)... 35.196.63.85\n",
      "Connecting to kheafield.com (kheafield.com)|35.196.63.85|:443... connected.\n",
      "HTTP request sent, awaiting response... 200 OK\n",
      "Length: 491090 (480K) [application/x-gzip]\n",
      "Saving to: ‘STDOUT’\n",
      "\n",
      "-                   100%[===================>] 479,58K  1,12MB/s    in 0,4s    \n",
      "\n",
      "2021-09-21 11:38:35 (1,12 MB/s) - written to stdout [491090/491090]\n",
      "\n"
     ]
    }
   ],
   "source": [
    "!wget -O - https://kheafield.com/code/kenlm.tar.gz  | tar xz"
   ]
  },
  {
   "cell_type": "code",
   "execution_count": 21,
   "id": "tropical-technician",
   "metadata": {},
   "outputs": [],
   "source": [
    "!mkdir kenlm/build"
   ]
  },
  {
   "cell_type": "code",
   "execution_count": 22,
   "id": "handy-poster",
   "metadata": {},
   "outputs": [
    {
     "name": "stdout",
     "output_type": "stream",
     "text": [
      "/Users/jungyeul/Downloads/ling242/lab3/kenlm/build\n"
     ]
    }
   ],
   "source": [
    "%cd kenlm/build"
   ]
  },
  {
   "cell_type": "code",
   "execution_count": 23,
   "id": "broken-concert",
   "metadata": {},
   "outputs": [
    {
     "name": "stdout",
     "output_type": "stream",
     "text": [
      "-- The C compiler identification is AppleClang 12.0.5.12050022\n",
      "-- The CXX compiler identification is AppleClang 12.0.5.12050022\n",
      "-- Detecting C compiler ABI info\n",
      "-- Detecting C compiler ABI info - done\n",
      "-- Check for working C compiler: /Applications/Xcode.app/Contents/Developer/Toolchains/XcodeDefault.xctoolchain/usr/bin/cc - skipped\n",
      "-- Detecting C compile features\n",
      "-- Detecting C compile features - done\n",
      "-- Detecting CXX compiler ABI info\n",
      "-- Detecting CXX compiler ABI info - done\n",
      "-- Check for working CXX compiler: /Applications/Xcode.app/Contents/Developer/Toolchains/XcodeDefault.xctoolchain/usr/bin/c++ - skipped\n",
      "-- Detecting CXX compile features\n",
      "-- Detecting CXX compile features - done\n",
      "-- Could NOT find Eigen3 (missing: Eigen3_DIR)\n",
      "-- Found Boost: /usr/local/lib/cmake/Boost-1.76.0/BoostConfig.cmake (found suitable version \"1.76.0\", minimum required is \"1.41.0\") found components: program_options system thread unit_test_framework \n",
      "-- Found Threads: TRUE  \n",
      "-- Found ZLIB: /Applications/Xcode.app/Contents/Developer/Platforms/MacOSX.platform/Developer/SDKs/MacOSX.sdk/usr/lib/libz.tbd (found version \"1.2.11\") \n",
      "-- Found BZip2: /Applications/Xcode.app/Contents/Developer/Platforms/MacOSX.platform/Developer/SDKs/MacOSX.sdk/usr/lib/libbz2.tbd (found version \"1.0.6\") \n",
      "-- Looking for BZ2_bzCompressInit\n",
      "-- Looking for BZ2_bzCompressInit - found\n",
      "-- Looking for lzma_auto_decoder in /Applications/Xcode.app/Contents/Developer/Platforms/MacOSX.platform/Developer/SDKs/MacOSX.sdk/usr/lib/liblzma.tbd\n",
      "-- Looking for lzma_auto_decoder in /Applications/Xcode.app/Contents/Developer/Platforms/MacOSX.platform/Developer/SDKs/MacOSX.sdk/usr/lib/liblzma.tbd - found\n",
      "-- Looking for lzma_easy_encoder in /Applications/Xcode.app/Contents/Developer/Platforms/MacOSX.platform/Developer/SDKs/MacOSX.sdk/usr/lib/liblzma.tbd\n",
      "-- Looking for lzma_easy_encoder in /Applications/Xcode.app/Contents/Developer/Platforms/MacOSX.platform/Developer/SDKs/MacOSX.sdk/usr/lib/liblzma.tbd - found\n",
      "-- Looking for lzma_lzma_preset in /Applications/Xcode.app/Contents/Developer/Platforms/MacOSX.platform/Developer/SDKs/MacOSX.sdk/usr/lib/liblzma.tbd\n",
      "-- Looking for lzma_lzma_preset in /Applications/Xcode.app/Contents/Developer/Platforms/MacOSX.platform/Developer/SDKs/MacOSX.sdk/usr/lib/liblzma.tbd - found\n",
      "-- Found LibLZMA: /Applications/Xcode.app/Contents/Developer/Platforms/MacOSX.platform/Developer/SDKs/MacOSX.sdk/usr/lib/liblzma.tbd (found version \"5.2.5\") \n",
      "-- Configuring done\n",
      "-- Generating done\n",
      "-- Build files have been written to: /Users/jungyeul/Downloads/ling242/lab3/kenlm/build\n"
     ]
    }
   ],
   "source": [
    "!cmake .."
   ]
  },
  {
   "cell_type": "code",
   "execution_count": 24,
   "id": "painted-observer",
   "metadata": {},
   "outputs": [
    {
     "name": "stdout",
     "output_type": "stream",
     "text": [
      "[  1%] \u001b[32mBuilding CXX object util/CMakeFiles/kenlm_util.dir/double-conversion/bignum-dtoa.cc.o\u001b[0m\n",
      "[  2%] \u001b[32mBuilding CXX object util/CMakeFiles/kenlm_util.dir/double-conversion/bignum.cc.o\u001b[0m\n",
      "[  3%] \u001b[32mBuilding CXX object util/CMakeFiles/kenlm_util.dir/double-conversion/cached-powers.cc.o\u001b[0m\n",
      "[  5%] \u001b[32mBuilding CXX object util/CMakeFiles/kenlm_util.dir/double-conversion/diy-fp.cc.o\u001b[0m\n",
      "[  6%] \u001b[32mBuilding CXX object util/CMakeFiles/kenlm_util.dir/double-conversion/double-conversion.cc.o\u001b[0m\n",
      "[  7%] \u001b[32mBuilding CXX object util/CMakeFiles/kenlm_util.dir/double-conversion/fast-dtoa.cc.o\u001b[0m\n",
      "[  8%] \u001b[32mBuilding CXX object util/CMakeFiles/kenlm_util.dir/double-conversion/fixed-dtoa.cc.o\u001b[0m\n",
      "[ 10%] \u001b[32mBuilding CXX object util/CMakeFiles/kenlm_util.dir/double-conversion/strtod.cc.o\u001b[0m\n",
      "[ 11%] \u001b[32mBuilding CXX object util/CMakeFiles/kenlm_util.dir/stream/chain.cc.o\u001b[0m\n",
      "[ 12%] \u001b[32mBuilding CXX object util/CMakeFiles/kenlm_util.dir/stream/count_records.cc.o\u001b[0m\n",
      "[ 13%] \u001b[32mBuilding CXX object util/CMakeFiles/kenlm_util.dir/stream/io.cc.o\u001b[0m\n",
      "[ 15%] \u001b[32mBuilding CXX object util/CMakeFiles/kenlm_util.dir/stream/line_input.cc.o\u001b[0m\n",
      "[ 16%] \u001b[32mBuilding CXX object util/CMakeFiles/kenlm_util.dir/stream/multi_progress.cc.o\u001b[0m\n",
      "[ 17%] \u001b[32mBuilding CXX object util/CMakeFiles/kenlm_util.dir/stream/rewindable_stream.cc.o\u001b[0m\n",
      "[ 18%] \u001b[32mBuilding CXX object util/CMakeFiles/kenlm_util.dir/bit_packing.cc.o\u001b[0m\n",
      "[ 20%] \u001b[32mBuilding CXX object util/CMakeFiles/kenlm_util.dir/ersatz_progress.cc.o\u001b[0m\n",
      "[ 21%] \u001b[32mBuilding CXX object util/CMakeFiles/kenlm_util.dir/exception.cc.o\u001b[0m\n",
      "[ 22%] \u001b[32mBuilding CXX object util/CMakeFiles/kenlm_util.dir/file.cc.o\u001b[0m\n",
      "[ 23%] \u001b[32mBuilding CXX object util/CMakeFiles/kenlm_util.dir/file_piece.cc.o\u001b[0m\n",
      "[ 25%] \u001b[32mBuilding CXX object util/CMakeFiles/kenlm_util.dir/float_to_string.cc.o\u001b[0m\n",
      "[ 26%] \u001b[32mBuilding CXX object util/CMakeFiles/kenlm_util.dir/integer_to_string.cc.o\u001b[0m\n",
      "[ 27%] \u001b[32mBuilding CXX object util/CMakeFiles/kenlm_util.dir/mmap.cc.o\u001b[0m\n",
      "[ 28%] \u001b[32mBuilding CXX object util/CMakeFiles/kenlm_util.dir/murmur_hash.cc.o\u001b[0m\n",
      "[ 30%] \u001b[32mBuilding CXX object util/CMakeFiles/kenlm_util.dir/parallel_read.cc.o\u001b[0m\n",
      "[ 31%] \u001b[32mBuilding CXX object util/CMakeFiles/kenlm_util.dir/pool.cc.o\u001b[0m\n",
      "[ 32%] \u001b[32mBuilding CXX object util/CMakeFiles/kenlm_util.dir/read_compressed.cc.o\u001b[0m\n",
      "[ 33%] \u001b[32mBuilding CXX object util/CMakeFiles/kenlm_util.dir/scoped.cc.o\u001b[0m\n",
      "[ 35%] \u001b[32mBuilding CXX object util/CMakeFiles/kenlm_util.dir/spaces.cc.o\u001b[0m\n",
      "[ 36%] \u001b[32mBuilding CXX object util/CMakeFiles/kenlm_util.dir/string_piece.cc.o\u001b[0m\n",
      "[ 37%] \u001b[32mBuilding CXX object util/CMakeFiles/kenlm_util.dir/usage.cc.o\u001b[0m\n",
      "[ 38%] \u001b[32m\u001b[1mLinking CXX static library ../lib/libkenlm_util.a\u001b[0m\n",
      "[ 38%] Built target kenlm_util\n",
      "[ 40%] \u001b[32mBuilding CXX object util/CMakeFiles/probing_hash_table_benchmark.dir/probing_hash_table_benchmark_main.cc.o\u001b[0m\n",
      "[ 41%] \u001b[32m\u001b[1mLinking CXX executable ../bin/probing_hash_table_benchmark\u001b[0m\n",
      "[ 41%] Built target probing_hash_table_benchmark\n",
      "[ 42%] \u001b[32mBuilding CXX object lm/CMakeFiles/kenlm.dir/bhiksha.cc.o\u001b[0m\n",
      "[ 43%] \u001b[32mBuilding CXX object lm/CMakeFiles/kenlm.dir/binary_format.cc.o\u001b[0m\n",
      "[ 45%] \u001b[32mBuilding CXX object lm/CMakeFiles/kenlm.dir/config.cc.o\u001b[0m\n",
      "[ 46%] \u001b[32mBuilding CXX object lm/CMakeFiles/kenlm.dir/lm_exception.cc.o\u001b[0m\n",
      "[ 47%] \u001b[32mBuilding CXX object lm/CMakeFiles/kenlm.dir/model.cc.o\u001b[0m\n",
      "[ 48%] \u001b[32mBuilding CXX object lm/CMakeFiles/kenlm.dir/quantize.cc.o\u001b[0m\n",
      "[ 50%] \u001b[32mBuilding CXX object lm/CMakeFiles/kenlm.dir/read_arpa.cc.o\u001b[0m\n",
      "[ 51%] \u001b[32mBuilding CXX object lm/CMakeFiles/kenlm.dir/search_hashed.cc.o\u001b[0m\n",
      "[ 52%] \u001b[32mBuilding CXX object lm/CMakeFiles/kenlm.dir/search_trie.cc.o\u001b[0m\n",
      "[ 53%] \u001b[32mBuilding CXX object lm/CMakeFiles/kenlm.dir/sizes.cc.o\u001b[0m\n",
      "[ 55%] \u001b[32mBuilding CXX object lm/CMakeFiles/kenlm.dir/trie.cc.o\u001b[0m\n",
      "[ 56%] \u001b[32mBuilding CXX object lm/CMakeFiles/kenlm.dir/trie_sort.cc.o\u001b[0m\n",
      "[ 57%] \u001b[32mBuilding CXX object lm/CMakeFiles/kenlm.dir/value_build.cc.o\u001b[0m\n",
      "[ 58%] \u001b[32mBuilding CXX object lm/CMakeFiles/kenlm.dir/virtual_interface.cc.o\u001b[0m\n",
      "[ 60%] \u001b[32mBuilding CXX object lm/CMakeFiles/kenlm.dir/vocab.cc.o\u001b[0m\n",
      "In file included from /Users/jungyeul/Downloads/ling242/lab3/kenlm/lm/vocab.cc:11:\n",
      "\u001b[1m/Users/jungyeul/Downloads/ling242/lab3/kenlm/util/joint_sort.hh:60:19: \u001b[0m\u001b[0;1;35mwarning: \u001b[0m\u001b[1manonymous non-C-compatible type given name for linkage purposes by typedef declaration; add a tag name here [-Wnon-c-typedef-for-linkage]\u001b[0m\n",
      "    typedef struct {\n",
      "\u001b[0;1;32m                  ^\n",
      "\u001b[0m\u001b[0;32m                   value_type\n",
      "\u001b[0m\u001b[1m/Users/jungyeul/Downloads/ling242/lab3/kenlm/util/joint_sort.hh:63:7: \u001b[0m\u001b[0;1;30mnote: \u001b[0mtype is not C-compatible due to this member declaration\u001b[0m\n",
      "      const typename std::iterator_traits<KeyIter>::value_type &GetKey() const { return key; }\n",
      "\u001b[0;1;32m      ^~~~~~~~~~~~~~~~~~~~~~~~~~~~~~~~~~~~~~~~~~~~~~~~~~~~~~~~~~~~~~~~~~~~~~~~\n",
      "\u001b[0m\u001b[1m/Users/jungyeul/Downloads/ling242/lab3/kenlm/util/joint_sort.hh:64:7: \u001b[0m\u001b[0;1;30mnote: \u001b[0mtype is given name 'value_type' for linkage purposes by this typedef declaration\u001b[0m\n",
      "    } value_type;\n",
      "\u001b[0;1;32m      ^\n",
      "\u001b[0m1 warning generated.\n",
      "[ 61%] \u001b[32mBuilding CXX object lm/CMakeFiles/kenlm.dir/common/model_buffer.cc.o\u001b[0m\n",
      "[ 62%] \u001b[32mBuilding CXX object lm/CMakeFiles/kenlm.dir/common/print.cc.o\u001b[0m\n",
      "[ 63%] \u001b[32mBuilding CXX object lm/CMakeFiles/kenlm.dir/common/renumber.cc.o\u001b[0m\n",
      "[ 65%] \u001b[32mBuilding CXX object lm/CMakeFiles/kenlm.dir/common/size_option.cc.o\u001b[0m\n",
      "[ 66%] \u001b[32m\u001b[1mLinking CXX static library ../lib/libkenlm.a\u001b[0m\n",
      "[ 66%] Built target kenlm\n",
      "[ 67%] \u001b[32mBuilding CXX object lm/CMakeFiles/query.dir/query_main.cc.o\u001b[0m\n",
      "[ 68%] \u001b[32m\u001b[1mLinking CXX executable ../bin/query\u001b[0m\n",
      "[ 68%] Built target query\n",
      "[ 70%] \u001b[32mBuilding CXX object lm/CMakeFiles/kenlm_benchmark.dir/kenlm_benchmark_main.cc.o\u001b[0m\n",
      "[ 71%] \u001b[32m\u001b[1mLinking CXX executable ../bin/kenlm_benchmark\u001b[0m\n",
      "[ 71%] Built target kenlm_benchmark\n",
      "[ 72%] \u001b[32mBuilding CXX object lm/CMakeFiles/build_binary.dir/build_binary_main.cc.o\u001b[0m\n",
      "[ 73%] \u001b[32m\u001b[1mLinking CXX executable ../bin/build_binary\u001b[0m\n",
      "[ 73%] Built target build_binary\n",
      "[ 75%] \u001b[32mBuilding CXX object lm/CMakeFiles/fragment.dir/fragment_main.cc.o\u001b[0m\n",
      "[ 76%] \u001b[32m\u001b[1mLinking CXX executable ../bin/fragment\u001b[0m\n",
      "[ 76%] Built target fragment\n",
      "[ 77%] \u001b[32mBuilding CXX object lm/builder/CMakeFiles/kenlm_builder.dir/adjust_counts.cc.o\u001b[0m\n",
      "[ 78%] \u001b[32mBuilding CXX object lm/builder/CMakeFiles/kenlm_builder.dir/corpus_count.cc.o\u001b[0m\n",
      "[ 80%] \u001b[32mBuilding CXX object lm/builder/CMakeFiles/kenlm_builder.dir/initial_probabilities.cc.o\u001b[0m\n",
      "[ 81%] \u001b[32mBuilding CXX object lm/builder/CMakeFiles/kenlm_builder.dir/interpolate.cc.o\u001b[0m\n",
      "[ 82%] \u001b[32mBuilding CXX object lm/builder/CMakeFiles/kenlm_builder.dir/output.cc.o\u001b[0m\n",
      "[ 83%] \u001b[32mBuilding CXX object lm/builder/CMakeFiles/kenlm_builder.dir/pipeline.cc.o\u001b[0m\n",
      "[ 85%] \u001b[32m\u001b[1mLinking CXX static library ../../lib/libkenlm_builder.a\u001b[0m\n",
      "[ 85%] Built target kenlm_builder\n",
      "[ 86%] \u001b[32mBuilding CXX object lm/builder/CMakeFiles/count_ngrams.dir/count_ngrams_main.cc.o\u001b[0m\n",
      "[ 87%] \u001b[32m\u001b[1mLinking CXX executable ../../bin/count_ngrams\u001b[0m\n",
      "[ 87%] Built target count_ngrams\n",
      "[ 88%] \u001b[32mBuilding CXX object lm/builder/CMakeFiles/lmplz.dir/lmplz_main.cc.o\u001b[0m\n",
      "[ 90%] \u001b[32m\u001b[1mLinking CXX executable ../../bin/lmplz\u001b[0m\n",
      "[ 90%] Built target lmplz\n",
      "[ 91%] \u001b[32mBuilding CXX object lm/filter/CMakeFiles/kenlm_filter.dir/arpa_io.cc.o\u001b[0m\n",
      "[ 92%] \u001b[32mBuilding CXX object lm/filter/CMakeFiles/kenlm_filter.dir/phrase.cc.o\u001b[0m\n",
      "[ 93%] \u001b[32mBuilding CXX object lm/filter/CMakeFiles/kenlm_filter.dir/vocab.cc.o\u001b[0m\n",
      "[ 95%] \u001b[32m\u001b[1mLinking CXX static library ../../lib/libkenlm_filter.a\u001b[0m\n",
      "[ 95%] Built target kenlm_filter\n",
      "[ 96%] \u001b[32mBuilding CXX object lm/filter/CMakeFiles/phrase_table_vocab.dir/phrase_table_vocab_main.cc.o\u001b[0m\n",
      "[ 97%] \u001b[32m\u001b[1mLinking CXX executable ../../bin/phrase_table_vocab\u001b[0m\n",
      "[ 97%] Built target phrase_table_vocab\n",
      "[ 98%] \u001b[32mBuilding CXX object lm/filter/CMakeFiles/filter.dir/filter_main.cc.o\u001b[0m\n",
      "[100%] \u001b[32m\u001b[1mLinking CXX executable ../../bin/filter\u001b[0m\n",
      "[100%] Built target filter\n"
     ]
    }
   ],
   "source": [
    "!make"
   ]
  },
  {
   "cell_type": "code",
   "execution_count": 26,
   "id": "soviet-spider",
   "metadata": {},
   "outputs": [],
   "source": [
    "!head ~/Downloads/ling242/lab3/simple-examples/data/ptb.train.txt | sed 's/<unk>/UNK/g' > text"
   ]
  },
  {
   "cell_type": "code",
   "execution_count": 27,
   "id": "under-tissue",
   "metadata": {},
   "outputs": [
    {
     "name": "stdout",
     "output_type": "stream",
     "text": [
      "=== 1/5 Counting and sorting n-grams ===\n",
      "Reading stdin\n",
      "----5---10---15---20---25---30---35---40---45---50---55---60---65---70---75---80---85---90---95--100\n",
      "****************************************************************************************************\n",
      "Unigram tokens 213 types 143\n",
      "=== 2/5 Calculating and sorting adjusted counts ===\n",
      "Chain sizes: 1:1716 2:5363470848 3:10056508416 4:16090412032 5:23465187328\n",
      "/Users/jungyeul/Downloads/ling242/lab3/kenlm/lm/builder/adjust_counts.cc:52 in void lm::builder::(anonymous namespace)::StatCollector::CalculateDiscounts(const lm::builder::DiscountConfig &) threw BadDiscountException because `s.n[j] == 0'.\n",
      "Could not calculate Kneser-Ney discounts for 2-grams with adjusted count 4 because we didn't observe any 2-grams with adjusted count 3; Is this small or artificial data?\n",
      "Try deduplicating the input.  To override this error for e.g. a class-based model, rerun with --discount_fallback\n",
      "\n"
     ]
    }
   ],
   "source": [
    "!bin/lmplz -o 5 <text >text.arpa"
   ]
  },
  {
   "cell_type": "code",
   "execution_count": 28,
   "id": "impossible-falls",
   "metadata": {},
   "outputs": [
    {
     "name": "stdout",
     "output_type": "stream",
     "text": [
      "=== 1/5 Counting and sorting n-grams ===\n",
      "Reading stdin\n",
      "----5---10---15---20---25---30---35---40---45---50---55---60---65---70---75---80---85---90---95--100\n",
      "****************************************************************************************************\n",
      "Unigram tokens 213 types 143\n",
      "=== 2/5 Calculating and sorting adjusted counts ===\n",
      "Chain sizes: 1:1716 2:54975578112\n",
      "Statistics:\n",
      "1 143 D1=0.771812 D2=1.7276 D3+=1.45638\n",
      "2 208 D1=0.881818 D2=1.7965 D3+=3\n",
      "Memory estimate for binary LM:\n",
      "type       B\n",
      "probing 7472 assuming -p 1.5\n",
      "probing 8048 assuming -r models -p 1.5\n",
      "trie    4499 without quantization\n",
      "trie    4930 assuming -q 8 -b 8 quantization \n",
      "trie    4499 assuming -a 22 array pointer compression\n",
      "trie    4930 assuming -a 22 -q 8 -b 8 array pointer compression and quantization\n",
      "=== 3/5 Calculating and sorting initial probabilities ===\n",
      "Chain sizes: 1:1716 2:3328\n",
      "----5---10---15---20---25---30---35---40---45---50---55---60---65---70---75---80---85---90---95--100\n",
      "####################################################################################################\n",
      "=== 4/5 Calculating and writing order-interpolated probabilities ===\n",
      "Chain sizes: 1:1716 2:3328\n",
      "----5---10---15---20---25---30---35---40---45---50---55---60---65---70---75---80---85---90---95--100\n",
      "####################################################################################################\n",
      "=== 5/5 Writing ARPA model ===\n",
      "----5---10---15---20---25---30---35---40---45---50---55---60---65---70---75---80---85---90---95--100\n",
      "****************************************************************************************************\n",
      "RSSMax:14988636160 kB\tuser:2.75502\tsys:3.45033\tCPU:6.20538\treal:6.20603\n"
     ]
    }
   ],
   "source": [
    "!bin/lmplz -o 2 <text >text.arpa"
   ]
  },
  {
   "cell_type": "code",
   "execution_count": 29,
   "id": "parliamentary-omega",
   "metadata": {},
   "outputs": [
    {
     "name": "stdout",
     "output_type": "stream",
     "text": [
      "Reading text.arpa\r\n",
      "----5---10---15---20---25---30---35---40---45---50---55---60---65---70---75---80---85---90---95--100\r\n",
      "****************************************************************************************************\r\n",
      "SUCCESS\r\n"
     ]
    }
   ],
   "source": [
    "!bin/build_binary text.arpa text.binary"
   ]
  },
  {
   "cell_type": "code",
   "execution_count": 30,
   "id": "fossil-bulgarian",
   "metadata": {},
   "outputs": [],
   "source": [
    "!tail -n 1 ~/Downloads/ling242/lab3/simple-examples/data/ptb.train.txt   | sed 's/<unk>/UNK/g' > data"
   ]
  },
  {
   "cell_type": "code",
   "execution_count": 31,
   "id": "healthy-ozone",
   "metadata": {},
   "outputs": [
    {
     "name": "stdout",
     "output_type": "stream",
     "text": [
      "This binary file contains probing hash tables.\r\n",
      "in=110 1 -1.9787562\tlos=0 1 -2.4069233\tangeles=0 1 -2.3523023\tfor=0 1 -2.3523023\texample=0 1 -2.3523023\tcentral=0 1 -2.3523023\thas=71 1 -2.2564688\thad=0 1 -2.4069233\ta=37 1 -1.5073059\tstrong=0 1 -2.4049046\tmarket=0 1 -2.3523023\tposition=0 1 -2.3523023\twhile=0 1 -2.3523023\tunilab=0 1 -2.3523023\t's=121 1 -2.2564688\tpresence=0 1 -2.4069233\thas=71 1 -2.2564688\tbeen=0 1 -2.4069233\tless=0 1 -2.3523023\tprominent=0 1 -2.3523023\taccording=0 1 -2.3523023\tto=66 1 -1.6679683\tmr.=41 1 -2.3078644\tUNK=28 2 -0.76690423\t</s>=2 1 -1.4424298\tTotal: -54.348557 OOV: 16\r\n",
      "Perplexity including OOVs:\t149.25959564199744\r\n",
      "Perplexity excluding OOVs:\t67.10224231949275\r\n",
      "OOVs:\t16\r\n",
      "Tokens:\t25\r\n",
      "RSSMax:1265664 kB\tuser:0.005554\tsys:0.007632\tCPU:0.013208\treal:0.000488\r\n"
     ]
    }
   ],
   "source": [
    "!bin/query text.binary <data                                     "
   ]
  },
  {
   "cell_type": "markdown",
   "id": "light-elements",
   "metadata": {},
   "source": [
    "## 3. SRILM\n",
    "\n",
    "\n",
    "**TODO** complete commands for _srilm_ in jupyter except for downloading. It should include\n",
    "* compile, \n",
    "* estimate probabilities, and\n",
    "* query \n",
    "\n",
    "Use `ptb.train.txt` for training (estimating) and `ptb.test.txt` for querying to calculate perplexities. \n",
    "When you estimate probabilities, we use the standard LM option. See [[link1](https://www.statmt.org/wmt09/baseline.html)] and [[link2](https://kheafield.com/code/kenlm/estimation/)]. For querying, see [[link](http://www.speech.sri.com/projects/srilm/manpages/ngram-count.1.html)]\n"
   ]
  },
  {
   "cell_type": "code",
   "execution_count": null,
   "id": "persistent-nigeria",
   "metadata": {},
   "outputs": [],
   "source": []
  }
 ],
 "metadata": {
  "kernelspec": {
   "display_name": "Python 3",
   "language": "python",
   "name": "python3"
  },
  "language_info": {
   "codemirror_mode": {
    "name": "ipython",
    "version": 3
   },
   "file_extension": ".py",
   "mimetype": "text/x-python",
   "name": "python",
   "nbconvert_exporter": "python",
   "pygments_lexer": "ipython3",
   "version": "3.8.2"
  }
 },
 "nbformat": 4,
 "nbformat_minor": 5
}
