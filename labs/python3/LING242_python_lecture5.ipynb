{
 "cells": [
  {
   "cell_type": "markdown",
   "metadata": {
    "slideshow": {
     "slide_type": "slide"
    }
   },
   "source": [
    "# LING 242 Python Lecture 5: Regular expressions\n",
    "\n",
    "* Escaping\n",
    "* A review of basic regular expression syntax\n",
    "* Representing language with regex\n",
    "* Match objects\n",
    "* Other regex methods\n",
    "* Some expert regex syntax\n",
    "* Exercises"
   ]
  },
  {
   "cell_type": "markdown",
   "metadata": {
    "slideshow": {
     "slide_type": "slide"
    }
   },
   "source": [
    "## Escaping"
   ]
  },
  {
   "cell_type": "markdown",
   "metadata": {
    "slideshow": {
     "slide_type": "subslide"
    }
   },
   "source": [
    "Remember that declaring a string literal, you need to _escape_ a character when it would be misinterpreted as having another meaning in the context. For example, when using \"\" to indicate a string, any \" inside the string would need to be escaped, by putting the escape character \\ in front of it. Let's try writing a string literal for *\"I can't,\" he said.*"
   ]
  },
  {
   "cell_type": "code",
   "execution_count": 1,
   "metadata": {
    "slideshow": {
     "slide_type": "-"
    }
   },
   "outputs": [],
   "source": [
    "S1 = \"\\\"I can't,\\\" he said.\"\n",
    "S2 = '\"I can\\'t,\" he said.'"
   ]
  },
  {
   "cell_type": "markdown",
   "metadata": {},
   "source": [
    "Note that the string output of notebooks are string literals, and therefore escaped"
   ]
  },
  {
   "cell_type": "code",
   "execution_count": 2,
   "metadata": {},
   "outputs": [
    {
     "name": "stdout",
     "output_type": "stream",
     "text": [
      "\"I can't,\" he said.\n"
     ]
    },
    {
     "data": {
      "text/plain": [
       "'\"I can\\'t,\" he said.'"
      ]
     },
     "execution_count": 2,
     "metadata": {},
     "output_type": "execute_result"
    }
   ],
   "source": [
    "print(S2)\n",
    "S2"
   ]
  },
  {
   "cell_type": "code",
   "execution_count": 3,
   "metadata": {},
   "outputs": [
    {
     "name": "stdout",
     "output_type": "stream",
     "text": [
      "\"I can't,\" he said.\n"
     ]
    },
    {
     "data": {
      "text/plain": [
       "'\"I can\\'t,\" he said.'"
      ]
     },
     "execution_count": 3,
     "metadata": {},
     "output_type": "execute_result"
    }
   ],
   "source": [
    "print(S1)\n",
    "S1"
   ]
  },
  {
   "cell_type": "markdown",
   "metadata": {
    "slideshow": {
     "slide_type": "fragment"
    }
   },
   "source": [
    "Though escaping quote characters can usually be avoided in Python, sooner or later you will need to escape the escape character itself, for example in an (MS-DOS) filename."
   ]
  },
  {
   "cell_type": "code",
   "execution_count": 4,
   "metadata": {
    "slideshow": {
     "slide_type": "-"
    }
   },
   "outputs": [],
   "source": [
    "path1 = \"c:\\files\\videos\"\n",
    "path2 = \"c:\\\\files\\\\videos\""
   ]
  },
  {
   "cell_type": "code",
   "execution_count": 5,
   "metadata": {},
   "outputs": [
    {
     "name": "stdout",
     "output_type": "stream",
     "text": [
      "c:\f",
      "iles\u000b",
      "ideos\n"
     ]
    }
   ],
   "source": [
    "print(path1)"
   ]
  },
  {
   "cell_type": "code",
   "execution_count": 6,
   "metadata": {},
   "outputs": [
    {
     "name": "stdout",
     "output_type": "stream",
     "text": [
      "c:\\files\\videos\n"
     ]
    }
   ],
   "source": [
    "print(path2)"
   ]
  },
  {
   "cell_type": "markdown",
   "metadata": {
    "slideshow": {
     "slide_type": "fragment"
    }
   },
   "source": [
    "There are several characters which can only be expressed using an escape sequence. The most useful of these by far are of course \"\\n\" (newline) and \"\\t\" (tab). Here is a [full list](https://docs.python.org/3/reference/lexical_analysis.html#literals), but you're not likely to come across the rest anymore (many of them are related to original typewriter commands)."
   ]
  },
  {
   "cell_type": "code",
   "execution_count": 7,
   "metadata": {
    "scrolled": true,
    "slideshow": {
     "slide_type": "-"
    }
   },
   "outputs": [],
   "source": [
    "S1 = \"Hi.\\nHow are you?\"\n",
    "S2 = \"the\\t2483\""
   ]
  },
  {
   "cell_type": "code",
   "execution_count": 8,
   "metadata": {},
   "outputs": [
    {
     "name": "stdout",
     "output_type": "stream",
     "text": [
      "Hi.\n",
      "How are you?\n"
     ]
    }
   ],
   "source": [
    "print(S1)"
   ]
  },
  {
   "cell_type": "code",
   "execution_count": 9,
   "metadata": {},
   "outputs": [
    {
     "name": "stdout",
     "output_type": "stream",
     "text": [
      "the\t2483\n"
     ]
    }
   ],
   "source": [
    "print(S2)"
   ]
  },
  {
   "cell_type": "markdown",
   "metadata": {
    "slideshow": {
     "slide_type": "fragment"
    }
   },
   "source": [
    "There are two ways to avoid having to escape backslashes. One is to use the triple quote syntax, which as you know is also used for commenting."
   ]
  },
  {
   "cell_type": "code",
   "execution_count": 10,
   "metadata": {
    "slideshow": {
     "slide_type": "-"
    }
   },
   "outputs": [
    {
     "data": {
      "text/plain": [
       "'Hi.\\nHow are you.'"
      ]
     },
     "execution_count": 10,
     "metadata": {},
     "output_type": "execute_result"
    }
   ],
   "source": [
    "S = '''Hi.\n",
    "How are you.'''\n",
    "S"
   ]
  },
  {
   "cell_type": "markdown",
   "metadata": {
    "slideshow": {
     "slide_type": "fragment"
    }
   },
   "source": [
    "And the other is to use r (for raw) in front of the string literal."
   ]
  },
  {
   "cell_type": "code",
   "execution_count": 11,
   "metadata": {
    "slideshow": {
     "slide_type": "fragment"
    }
   },
   "outputs": [
    {
     "name": "stdout",
     "output_type": "stream",
     "text": [
      "C:\\notes.txt\n"
     ]
    }
   ],
   "source": [
    "import re\n",
    "\n",
    "filename = r\"C:\\notes.txt\"\n",
    "\n",
    "print(filename)"
   ]
  },
  {
   "cell_type": "markdown",
   "metadata": {},
   "source": [
    " You will want to use r when writing regular expressions that involve escape characters so you don't have to escape everything twice, since regexes also require the use of escape characters. To illustrate, let's try to write a regex to match the above without using r."
   ]
  },
  {
   "cell_type": "code",
   "execution_count": 12,
   "metadata": {},
   "outputs": [
    {
     "data": {
      "text/plain": [
       "<re.Match object; span=(0, 12), match='C:\\\\notes.txt'>"
      ]
     },
     "execution_count": 12,
     "metadata": {},
     "output_type": "execute_result"
    }
   ],
   "source": [
    "re.match(\"C:\\\\\\\\notes\\.txt\", filename)"
   ]
  },
  {
   "cell_type": "markdown",
   "metadata": {
    "slideshow": {
     "slide_type": "slide"
    }
   },
   "source": [
    "## A review of basic regular expression syntax"
   ]
  },
  {
   "cell_type": "markdown",
   "metadata": {
    "slideshow": {
     "slide_type": "subslide"
    }
   },
   "source": [
    "[Regular expressions](https://docs.python.org/3/library/re.html) (regexes) ultimately represent sets of strings. Their syntax can be tricky, so worth noting that there are websites, (e.g. [this one](https://regex101.com/])) that can help you with writing correct and accurate regexes.\n",
    "\n",
    "When you don't use any special regex syntax, a regular expression represents only the string you give it. Note that if you're doing this, there's a better way using string methods, and for efficiency (regex comes with an overhead) you should use those instead. "
   ]
  },
  {
   "cell_type": "code",
   "execution_count": 13,
   "metadata": {
    "scrolled": true,
    "slideshow": {
     "slide_type": "-"
    }
   },
   "outputs": [
    {
     "data": {
      "text/plain": [
       "<re.Match object; span=(4, 9), match='quick'>"
      ]
     },
     "execution_count": 13,
     "metadata": {},
     "output_type": "execute_result"
    }
   ],
   "source": [
    "regex = \"quick\"\n",
    "S = \"The quick brown fox jumped over the 2 lazy dogs\"\n",
    "re.search(regex, S)"
   ]
  },
  {
   "cell_type": "markdown",
   "metadata": {
    "slideshow": {
     "slide_type": "fragment"
    }
   },
   "source": [
    "There are various ways to indicate groups of possible characters, look just above [here](https://docs.python.org/3/library/re.html#module-contents) in the Python docs for a list. Most useful: \".\" indicates any character, \"\\w\" an alphabetic character, \"\\d\" a digit. Carat \"^\" and \"$\" don't indicate characters, but rather the beginning and ending of a string (or sometimes a line)"
   ]
  },
  {
   "cell_type": "code",
   "execution_count": 14,
   "metadata": {
    "slideshow": {
     "slide_type": "-"
    }
   },
   "outputs": [],
   "source": [
    "regex1 = r\"qu.\\wk\"\n",
    "regex2 = r\"\\d\"\n",
    "regex3 = r\"^dogs\"\n",
    "regex4 = r\"dogs$\""
   ]
  },
  {
   "cell_type": "code",
   "execution_count": 15,
   "metadata": {},
   "outputs": [
    {
     "data": {
      "text/plain": [
       "<re.Match object; span=(4, 9), match='quick'>"
      ]
     },
     "execution_count": 15,
     "metadata": {},
     "output_type": "execute_result"
    }
   ],
   "source": [
    "re.search(regex1,S)"
   ]
  },
  {
   "cell_type": "code",
   "execution_count": 16,
   "metadata": {},
   "outputs": [
    {
     "data": {
      "text/plain": [
       "<re.Match object; span=(36, 37), match='2'>"
      ]
     },
     "execution_count": 16,
     "metadata": {},
     "output_type": "execute_result"
    }
   ],
   "source": [
    "re.search(regex2,S)"
   ]
  },
  {
   "cell_type": "code",
   "execution_count": 17,
   "metadata": {},
   "outputs": [
    {
     "name": "stdout",
     "output_type": "stream",
     "text": [
      "None\n"
     ]
    }
   ],
   "source": [
    "print(re.search(regex3,S))"
   ]
  },
  {
   "cell_type": "code",
   "execution_count": 18,
   "metadata": {},
   "outputs": [
    {
     "data": {
      "text/plain": [
       "<re.Match object; span=(43, 47), match='dogs'>"
      ]
     },
     "execution_count": 18,
     "metadata": {},
     "output_type": "execute_result"
    }
   ],
   "source": [
    "re.search(regex4,S)"
   ]
  },
  {
   "cell_type": "markdown",
   "metadata": {
    "slideshow": {
     "slide_type": "fragment"
    }
   },
   "source": [
    "A specific list of allowed characters can be indicated with brackets (\\[\\]). A hyphen can be used to indicate a range (most commonly A-Z or a-z). A bracket with a carat (\"^\") immediately after the first bracket indicates a set of *dis*allowed characters, often very useful for matching long strings between two delimiters (e.g. brackets)."
   ]
  },
  {
   "cell_type": "code",
   "execution_count": 19,
   "metadata": {
    "slideshow": {
     "slide_type": "-"
    }
   },
   "outputs": [],
   "source": [
    "S = \"The quick brown fox jumped over the 2 lazy dogs\"\n",
    "\n",
    "regex1 = r\"[Tt]he\"\n",
    "regex2 = r\" [a-z][a-z][a-z] \"\n",
    "regex3 = r\"[^aeiou ][^aeiou ][^aeiou ]\"\n",
    "regex4 = r\" [^aeiou ][^aeiou ]\""
   ]
  },
  {
   "cell_type": "code",
   "execution_count": 20,
   "metadata": {},
   "outputs": [
    {
     "data": {
      "text/plain": [
       "<re.Match object; span=(0, 3), match='The'>"
      ]
     },
     "execution_count": 20,
     "metadata": {},
     "output_type": "execute_result"
    }
   ],
   "source": [
    "re.search(regex1, S)"
   ]
  },
  {
   "cell_type": "code",
   "execution_count": 21,
   "metadata": {},
   "outputs": [
    {
     "data": {
      "text/plain": [
       "<re.Match object; span=(15, 20), match=' fox '>"
      ]
     },
     "execution_count": 21,
     "metadata": {},
     "output_type": "execute_result"
    }
   ],
   "source": [
    "re.search(regex2, S)"
   ]
  },
  {
   "cell_type": "code",
   "execution_count": 22,
   "metadata": {},
   "outputs": [],
   "source": [
    "re.search(regex3, S)"
   ]
  },
  {
   "cell_type": "code",
   "execution_count": 23,
   "metadata": {},
   "outputs": [
    {
     "data": {
      "text/plain": [
       "<re.Match object; span=(9, 12), match=' br'>"
      ]
     },
     "execution_count": 23,
     "metadata": {},
     "output_type": "execute_result"
    }
   ],
   "source": [
    "re.search(regex4, S)"
   ]
  },
  {
   "cell_type": "markdown",
   "metadata": {
    "slideshow": {
     "slide_type": "fragment"
    }
   },
   "source": [
    "A character followed by a question mark \"?\" indicates optionality. You can represent any number of a character with \"\\*\", or \"+\" if you want there to be at least one. A specific number of instances (or a range) can be indicated by including a number in curly brackets ({})."
   ]
  },
  {
   "cell_type": "code",
   "execution_count": 24,
   "metadata": {
    "slideshow": {
     "slide_type": "-"
    }
   },
   "outputs": [],
   "source": [
    "S1 = '\"Yes\"'\n",
    "S2 = '\"No\"'\n",
    "S3 = '\"\"'"
   ]
  },
  {
   "cell_type": "code",
   "execution_count": 25,
   "metadata": {},
   "outputs": [],
   "source": [
    "regex1 = r'^\"[^\"]+\"$'"
   ]
  },
  {
   "cell_type": "code",
   "execution_count": 26,
   "metadata": {},
   "outputs": [
    {
     "data": {
      "text/plain": [
       "<re.Match object; span=(0, 5), match='\"Yes\"'>"
      ]
     },
     "execution_count": 26,
     "metadata": {},
     "output_type": "execute_result"
    }
   ],
   "source": [
    "re.search(regex1, S1)"
   ]
  },
  {
   "cell_type": "code",
   "execution_count": 27,
   "metadata": {},
   "outputs": [
    {
     "data": {
      "text/plain": [
       "<re.Match object; span=(0, 4), match='\"No\"'>"
      ]
     },
     "execution_count": 27,
     "metadata": {},
     "output_type": "execute_result"
    }
   ],
   "source": [
    "re.search(regex1, S2)"
   ]
  },
  {
   "cell_type": "code",
   "execution_count": 28,
   "metadata": {},
   "outputs": [],
   "source": [
    "re.search(regex1, S3)"
   ]
  },
  {
   "cell_type": "code",
   "execution_count": 29,
   "metadata": {},
   "outputs": [],
   "source": [
    "S1 = '\"Yes\"'\n",
    "S3 = '\"\"'\n",
    "\n",
    "regex2 = r'^\"[^\"]*\"$'"
   ]
  },
  {
   "cell_type": "code",
   "execution_count": 30,
   "metadata": {},
   "outputs": [
    {
     "data": {
      "text/plain": [
       "<re.Match object; span=(0, 5), match='\"Yes\"'>"
      ]
     },
     "execution_count": 30,
     "metadata": {},
     "output_type": "execute_result"
    }
   ],
   "source": [
    "re.search(regex2, S1)"
   ]
  },
  {
   "cell_type": "code",
   "execution_count": 31,
   "metadata": {},
   "outputs": [
    {
     "data": {
      "text/plain": [
       "<re.Match object; span=(0, 2), match='\"\"'>"
      ]
     },
     "execution_count": 31,
     "metadata": {},
     "output_type": "execute_result"
    }
   ],
   "source": [
    "re.search(regex2, S3)"
   ]
  },
  {
   "cell_type": "code",
   "execution_count": 32,
   "metadata": {},
   "outputs": [
    {
     "name": "stdout",
     "output_type": "stream",
     "text": [
      "<re.Match object; span=(0, 5), match='\"Yes\"'>\n",
      "<re.Match object; span=(0, 4), match='\"No\"'>\n",
      "<re.Match object; span=(0, 2), match='\"\"'>\n"
     ]
    }
   ],
   "source": [
    "S1 = '\"Yes\"'\n",
    "S2 = '\"No\"'\n",
    "S3 = '\"\"'\n",
    "\n",
    "regex3 = r'^\"[^\"]{,3}\"$'\n",
    "print(re.search(regex3, S1))\n",
    "print(re.search(regex3, S2))\n",
    "print(re.search(regex3, S3))"
   ]
  },
  {
   "cell_type": "code",
   "execution_count": 33,
   "metadata": {},
   "outputs": [
    {
     "name": "stdout",
     "output_type": "stream",
     "text": [
      "<re.Match object; span=(0, 5), match='\"Yes\"'>\n",
      "<re.Match object; span=(0, 4), match='\"No\"'>\n"
     ]
    }
   ],
   "source": [
    "regex3 = r'^\"[^\"]{,3}\"$'\n",
    "print(re.search(regex3, S1))\n",
    "print(re.search(regex3, S2))"
   ]
  },
  {
   "cell_type": "code",
   "execution_count": 34,
   "metadata": {},
   "outputs": [
    {
     "data": {
      "text/plain": [
       "<re.Match object; span=(0, 4), match='\"No\"'>"
      ]
     },
     "execution_count": 34,
     "metadata": {},
     "output_type": "execute_result"
    }
   ],
   "source": [
    "re.search(regex3, S2)"
   ]
  },
  {
   "cell_type": "code",
   "execution_count": 35,
   "metadata": {},
   "outputs": [],
   "source": [
    "S1 = '\"Yes\"'\n",
    "S2 = '\"No\"'\n",
    "\n",
    "regex4 = r'^\"[^\"]{2}.?\"$'"
   ]
  },
  {
   "cell_type": "code",
   "execution_count": 36,
   "metadata": {},
   "outputs": [
    {
     "data": {
      "text/plain": [
       "<re.Match object; span=(0, 5), match='\"Yes\"'>"
      ]
     },
     "execution_count": 36,
     "metadata": {},
     "output_type": "execute_result"
    }
   ],
   "source": [
    "re.search(regex4, S1)"
   ]
  },
  {
   "cell_type": "code",
   "execution_count": 37,
   "metadata": {},
   "outputs": [
    {
     "data": {
      "text/plain": [
       "<re.Match object; span=(0, 4), match='\"No\"'>"
      ]
     },
     "execution_count": 37,
     "metadata": {},
     "output_type": "execute_result"
    }
   ],
   "source": [
    "re.search(regex4, S2)"
   ]
  },
  {
   "cell_type": "markdown",
   "metadata": {
    "slideshow": {
     "slide_type": "fragment"
    }
   },
   "source": [
    "Use parenthesis to group sequences of \"characters\" (including other groups). This can be used together with ?,\\*,and +, and is necessary to make good use of the pipe operator (|) which in regex means *or*. Note that whereas both \\[\\] and | can be used to list options, \\[\\] only represents individual characters, and | should be used for larger groups  "
   ]
  },
  {
   "cell_type": "code",
   "execution_count": 38,
   "metadata": {},
   "outputs": [],
   "source": [
    "S = \"I have two front teeth but one tooth is loose.\""
   ]
  },
  {
   "cell_type": "code",
   "execution_count": 39,
   "metadata": {},
   "outputs": [
    {
     "name": "stdout",
     "output_type": "stream",
     "text": [
      "<re.Match object; span=(17, 22), match='teeth'>\n",
      "<re.Match object; span=(31, 36), match='tooth'>\n"
     ]
    }
   ],
   "source": [
    "regex2 = r\"t(ee|oo)th\"\n",
    "for result in re.finditer(regex2,S):\n",
    "    print(result)"
   ]
  },
  {
   "cell_type": "code",
   "execution_count": 40,
   "metadata": {
    "slideshow": {
     "slide_type": "-"
    }
   },
   "outputs": [],
   "source": [
    "S = \"This is a sentence, I think. But I'm not sure, are you? You are!\""
   ]
  },
  {
   "cell_type": "code",
   "execution_count": 41,
   "metadata": {},
   "outputs": [
    {
     "name": "stdout",
     "output_type": "stream",
     "text": [
      "<re.Match object; span=(0, 5), match='This '>\n",
      "<re.Match object; span=(27, 33), match='. But '>\n",
      "<re.Match object; span=(54, 60), match='? You '>\n"
     ]
    }
   ],
   "source": [
    "regex = r\"(^|[.?!] )\\w+ \"\n",
    "\n",
    "for result in re.finditer(regex,S):\n",
    "    print(result)"
   ]
  },
  {
   "cell_type": "markdown",
   "metadata": {
    "slideshow": {
     "slide_type": "fragment"
    }
   },
   "source": [
    "Note that special regex characters need to escaped you want to use them literally outside of brackets. "
   ]
  },
  {
   "cell_type": "code",
   "execution_count": 42,
   "metadata": {
    "slideshow": {
     "slide_type": "-"
    }
   },
   "outputs": [
    {
     "name": "stdout",
     "output_type": "stream",
     "text": [
      "<re.Match object; span=(0, 7), match='345.955'>\n",
      "None\n"
     ]
    }
   ],
   "source": [
    "S1 = \"345.955\"\n",
    "S2 = \"96504\"\n",
    "\n",
    "regex = r\"\\d+\\.\\d+\"\n",
    "\n",
    "print(re.match(regex,S1))\n",
    "print(re.match(regex,S2))"
   ]
  },
  {
   "cell_type": "markdown",
   "metadata": {
    "slideshow": {
     "slide_type": "slide"
    }
   },
   "source": [
    "## Representing language with regex"
   ]
  },
  {
   "cell_type": "markdown",
   "metadata": {
    "slideshow": {
     "slide_type": "subslide"
    }
   },
   "source": [
    "Much basic linguistic phenomena can be represented with regular expressions. Let's first write a regex that could match possible inflections of a regular English verb, including capitalization variation"
   ]
  },
  {
   "cell_type": "code",
   "execution_count": 43,
   "metadata": {
    "slideshow": {
     "slide_type": "-"
    }
   },
   "outputs": [
    {
     "name": "stdout",
     "output_type": "stream",
     "text": [
      "<re.Match object; span=(0, 4), match='Jump'>\n",
      "<re.Match object; span=(0, 5), match='jumps'>\n",
      "<re.Match object; span=(0, 6), match='jumped'>\n",
      "<re.Match object; span=(0, 7), match='jumping'>\n"
     ]
    }
   ],
   "source": [
    "forms = [\"Jump\",\"jumps\",\"jumped\",\"jumping\"]\n",
    "\n",
    "regex = r\"[jJ]ump(s|ed|ing)?\"\n",
    "\n",
    "for form in forms:\n",
    "    print(re.match(regex,form))"
   ]
  },
  {
   "cell_type": "markdown",
   "metadata": {
    "slideshow": {
     "slide_type": "fragment"
    }
   },
   "source": [
    "Let's create a regex like the above, but one that can handle all forms of the verb \"catch\" and not produce invalid forms:"
   ]
  },
  {
   "cell_type": "code",
   "execution_count": 44,
   "metadata": {
    "slideshow": {
     "slide_type": "-"
    }
   },
   "outputs": [
    {
     "name": "stdout",
     "output_type": "stream",
     "text": [
      "good forms\n",
      "<re.Match object; span=(0, 5), match='catch'>\n",
      "<re.Match object; span=(0, 7), match='catches'>\n",
      "<re.Match object; span=(0, 6), match='caught'>\n",
      "<re.Match object; span=(0, 8), match='catching'>\n",
      "bad forms\n",
      "None\n",
      "None\n",
      "None\n",
      "None\n"
     ]
    }
   ],
   "source": [
    "forms = [\"catch\", \"catches\", \"caught\", \"catching\"]\n",
    "invalid = [\"catched\",\"catchs\",\"catchesed\",\"caughting\"]\n",
    "\n",
    "regex = r\"ca(tch(es|ing)?|ught)$\"\n",
    "\n",
    "print(\"good forms\")\n",
    "for form in forms:\n",
    "    print(re.match(regex,form))\n",
    "print(\"bad forms\")\n",
    "for form in invalid:\n",
    "     print(re.match(regex,form))   "
   ]
  },
  {
   "cell_type": "markdown",
   "metadata": {
    "slideshow": {
     "slide_type": "fragment"
    }
   },
   "source": [
    "Relatively fixed phrases can often be identified fairly accurately with regular expresssions. What about if we wanted to find various forms of the phrase *blow someone's mind*? (limited to one word between _blow_ and _mind_)"
   ]
  },
  {
   "cell_type": "code",
   "execution_count": 45,
   "metadata": {
    "slideshow": {
     "slide_type": "-"
    }
   },
   "outputs": [
    {
     "name": "stdout",
     "output_type": "stream",
     "text": [
      "<re.Match object; span=(0, 14), match='blow your mind'>\n",
      "<re.Match object; span=(0, 12), match='blew my mind'>\n",
      "<re.Match object; span=(0, 19), match=\"blowing John's mind\">\n"
     ]
    }
   ],
   "source": [
    "test_cases = [\"blow your mind\", \"blew my mind\", \"blowing John's mind\"]\n",
    "\n",
    "regex = r\"bl[oe]w(s|ing)? (his|my|her|your|our|their|[A-Z]\\w+'s) mind\"\n",
    "\n",
    "for test_case in test_cases:\n",
    "    print(re.match(regex,test_case))"
   ]
  },
  {
   "cell_type": "markdown",
   "metadata": {
    "slideshow": {
     "slide_type": "fragment"
    }
   },
   "source": [
    "We can also use regular expressions to model very simple languages. Here is a regex that will match all sentences that can be created by the following verbs and nouns, note that we are building our regex progammatically, which might be the right choice if your expression involves a lexicon."
   ]
  },
  {
   "cell_type": "code",
   "execution_count": 46,
   "metadata": {
    "slideshow": {
     "slide_type": "-"
    }
   },
   "outputs": [
    {
     "name": "stdout",
     "output_type": "stream",
     "text": [
      "<re.Match object; span=(0, 14), match='Cats eat mice.'>\n",
      "<re.Match object; span=(0, 22), match='People like computers.'>\n",
      "<re.Match object; span=(0, 17), match='Dogs obey people.'>\n"
     ]
    }
   ],
   "source": [
    "nouns = [\"people\", \"dogs\", \"cats\", \"mice\", \"computers\"]\n",
    "verbs = [\"like\", \"eat\", \"obey\"]\n",
    "\n",
    "regex = \"^(\" + \"|\".join([noun.title() for noun in nouns]) + \") (\" + \"|\".join(verbs) + \") (\" + \"|\".join(nouns) + \")\\.$\"\n",
    "\n",
    "test_cases = [\"Cats eat mice.\", \"People like computers.\", \"Dogs obey people.\"]\n",
    "\n",
    "for test_case in test_cases:\n",
    "    print(re.match(regex,test_case))"
   ]
  },
  {
   "cell_type": "markdown",
   "metadata": {
    "slideshow": {
     "slide_type": "fragment"
    }
   },
   "source": [
    "Larger chunks of language get increasingly more challenging to represent well using regexes without making assumptions that either miss cases or overgeneralize. \n",
    "\n",
    "Fun fact: There are languages which provably cannot be represented by regular expression. However, English is not one of them! That said, representing English (or any human language) by regex would be very, very painful, however. I do not recommend it. There are much better representations!"
   ]
  },
  {
   "cell_type": "markdown",
   "metadata": {
    "slideshow": {
     "slide_type": "slide"
    }
   },
   "source": [
    "### Match Objects"
   ]
  },
  {
   "cell_type": "markdown",
   "metadata": {
    "slideshow": {
     "slide_type": "subslide"
    }
   },
   "source": [
    "If you just want to see if a string is one of those the set of strings your regex defines, use the [match](https://docs.python.org/3/library/re.html#re.match) method. However, if you want to find a (single) match within a larger span of text, use [search](https://docs.python.org/3/library/re.html#re.search). Use [finditer](https://docs.python.org/3/library/re.html#re.finditer) if you want multiple matches."
   ]
  },
  {
   "cell_type": "code",
   "execution_count": 47,
   "metadata": {
    "slideshow": {
     "slide_type": "-"
    }
   },
   "outputs": [],
   "source": [
    "regex = r\"[Jj]ump(s|ed|ing)?\"\n",
    "\n",
    "S1 = \"jumps\"\n",
    "S2 = \"Stop jumping on the bed\"\n",
    "S3 = \"Jumped off the bus and jumped on the subway\"\n",
    "S4 = \"jump\""
   ]
  },
  {
   "cell_type": "code",
   "execution_count": 48,
   "metadata": {},
   "outputs": [
    {
     "name": "stdout",
     "output_type": "stream",
     "text": [
      "<re.Match object; span=(0, 4), match='jump'>\n",
      "None\n"
     ]
    }
   ],
   "source": [
    "regex = r\"[Jj]ump(s|ed|ing)?\"\n",
    "print(re.match(regex,S4))\n",
    "\n",
    "regex4 = r\"[Jj]ump(s|ed|ing)\"\n",
    "print(re.match(regex4,S4))"
   ]
  },
  {
   "cell_type": "code",
   "execution_count": 49,
   "metadata": {},
   "outputs": [
    {
     "name": "stdout",
     "output_type": "stream",
     "text": [
      "<re.Match object; span=(0, 5), match='jumps'>\n"
     ]
    }
   ],
   "source": [
    "print(re.match(regex,S1))"
   ]
  },
  {
   "cell_type": "code",
   "execution_count": 50,
   "metadata": {},
   "outputs": [
    {
     "name": "stdout",
     "output_type": "stream",
     "text": [
      "None\n"
     ]
    }
   ],
   "source": [
    "print(re.match(regex,S2))"
   ]
  },
  {
   "cell_type": "code",
   "execution_count": 51,
   "metadata": {},
   "outputs": [
    {
     "name": "stdout",
     "output_type": "stream",
     "text": [
      "<re.Match object; span=(5, 12), match='jumping'>\n"
     ]
    }
   ],
   "source": [
    "print(re.search(regex,S2))"
   ]
  },
  {
   "cell_type": "code",
   "execution_count": 52,
   "metadata": {},
   "outputs": [
    {
     "name": "stdout",
     "output_type": "stream",
     "text": [
      "<re.Match object; span=(0, 6), match='Jumped'>\n",
      "<re.Match object; span=(23, 29), match='jumped'>\n"
     ]
    }
   ],
   "source": [
    "for match in re.finditer(regex,S3):\n",
    "    print(match)"
   ]
  },
  {
   "cell_type": "markdown",
   "metadata": {
    "slideshow": {
     "slide_type": "fragment"
    }
   },
   "source": [
    "All these functions return [match objects](https://docs.python.org/3/library/re.html#match-objects), which evalute to True (if you only need to check if a search was successful) but also allow you to access the specific match, using [group](https://docs.python.org/3/library/re.html#re.Match.group) and its position in the string, via the [start](https://docs.python.org/3/library/re.html#re.Match.start) and [end](https://docs.python.org/3/library/re.html#re.Match.end) methods. \n"
   ]
  },
  {
   "cell_type": "code",
   "execution_count": 53,
   "metadata": {
    "slideshow": {
     "slide_type": "-"
    }
   },
   "outputs": [],
   "source": [
    "match = re.search(regex,S2)"
   ]
  },
  {
   "cell_type": "code",
   "execution_count": 54,
   "metadata": {},
   "outputs": [
    {
     "name": "stdout",
     "output_type": "stream",
     "text": [
      "A match!\n"
     ]
    }
   ],
   "source": [
    "if match:\n",
    "    print(\"A match!\")"
   ]
  },
  {
   "cell_type": "code",
   "execution_count": 55,
   "metadata": {},
   "outputs": [
    {
     "name": "stdout",
     "output_type": "stream",
     "text": [
      "jumping\n"
     ]
    }
   ],
   "source": [
    "print(match.group())"
   ]
  },
  {
   "cell_type": "code",
   "execution_count": 56,
   "metadata": {},
   "outputs": [
    {
     "data": {
      "text/plain": [
       "'Stop '"
      ]
     },
     "execution_count": 56,
     "metadata": {},
     "output_type": "execute_result"
    }
   ],
   "source": [
    "S2[:match.start()]"
   ]
  },
  {
   "cell_type": "code",
   "execution_count": 57,
   "metadata": {},
   "outputs": [
    {
     "data": {
      "text/plain": [
       "' on the bed'"
      ]
     },
     "execution_count": 57,
     "metadata": {},
     "output_type": "execute_result"
    }
   ],
   "source": [
    "S2[match.end():]"
   ]
  },
  {
   "cell_type": "markdown",
   "metadata": {
    "slideshow": {
     "slide_type": "fragment"
    }
   },
   "source": [
    "In additional to the whole string, including parenthesis in your regex also allows you to access particular parts of the match, also using the group method. The first set of parenthesis will correspond to group(1), etc."
   ]
  },
  {
   "cell_type": "code",
   "execution_count": 58,
   "metadata": {
    "slideshow": {
     "slide_type": "-"
    }
   },
   "outputs": [],
   "source": [
    "S = \"Stop jumping on the bed\"\n",
    "regex = r\"([Jj]ump)(s|ed|ing)?\"\n",
    "match = re.search(regex,S)"
   ]
  },
  {
   "cell_type": "code",
   "execution_count": 59,
   "metadata": {},
   "outputs": [
    {
     "data": {
      "text/plain": [
       "'jumping'"
      ]
     },
     "execution_count": 59,
     "metadata": {},
     "output_type": "execute_result"
    }
   ],
   "source": [
    "match.group(0)"
   ]
  },
  {
   "cell_type": "code",
   "execution_count": 60,
   "metadata": {},
   "outputs": [
    {
     "data": {
      "text/plain": [
       "'jump'"
      ]
     },
     "execution_count": 60,
     "metadata": {},
     "output_type": "execute_result"
    }
   ],
   "source": [
    "match.group(1)"
   ]
  },
  {
   "cell_type": "code",
   "execution_count": 61,
   "metadata": {},
   "outputs": [
    {
     "data": {
      "text/plain": [
       "'ing'"
      ]
     },
     "execution_count": 61,
     "metadata": {},
     "output_type": "execute_result"
    }
   ],
   "source": [
    "match.group(2)"
   ]
  },
  {
   "cell_type": "markdown",
   "metadata": {},
   "source": [
    "Note there is also a [findall](https://docs.python.org/3/library/re.html#re.findall) method which can be used to get a list of all strings that match, circumventing match objects entirely. Note, however, it does perhaps unexpected things (creating lists of tuples) when you have regexes with (grouping) parentheses, which will be a fairly common scenario unless you use non-grouping parenthesis (see below in optional). \n",
    "\n",
    "Also, `finditer` is nice in that it is actually a generator, processing each match one by one in the context of a for loop. For this course, I strongly recommend you use `finditer` in cases where you are looking for multiple matches (you may lose quality points if you do use `findall` and it results in confusing code)!"
   ]
  },
  {
   "cell_type": "markdown",
   "metadata": {
    "slideshow": {
     "slide_type": "slide"
    }
   },
   "source": [
    "## Other regex methods"
   ]
  },
  {
   "cell_type": "markdown",
   "metadata": {},
   "source": [
    "If you want to split a string but the delimiter does not correspond to a fixed phrase, you can use the regex version of [split](https://docs.python.org/3/library/re.html#re.split)"
   ]
  },
  {
   "cell_type": "code",
   "execution_count": 62,
   "metadata": {},
   "outputs": [
    {
     "data": {
      "text/plain": [
       "['each', 'word', 'has', 'a', 'different', 'delimiter']"
      ]
     },
     "execution_count": 62,
     "metadata": {},
     "output_type": "execute_result"
    }
   ],
   "source": [
    "S = \"each\\nword\\thas,a;different:delimiter\"\n",
    "re.split(\"[\\n\\t,;:]\", S)"
   ]
  },
  {
   "cell_type": "markdown",
   "metadata": {
    "slideshow": {
     "slide_type": "fragment"
    }
   },
   "source": [
    "Another useful method is [sub](https://docs.python.org/3/library/re.html#re.sub), which creates a new version of the input string with substitutions made. This is similar to the string method `replace`, but it is a lot more flexible (though if you are just replacing a fixed string with a fixed string, much better to use replace!). You can specify strings pulled out from the match within your replacement string using \\1, \\2, etc. where the number corresponds to the group number."
   ]
  },
  {
   "cell_type": "code",
   "execution_count": 63,
   "metadata": {
    "slideshow": {
     "slide_type": "-"
    }
   },
   "outputs": [
    {
     "name": "stdout",
     "output_type": "stream",
     "text": [
      "2019\n",
      "This is August 4th, 2019 (2019年8月4日)\n"
     ]
    }
   ],
   "source": [
    "S = \"This is August 4th, 2019 (8/4/2019)\"\n",
    "\n",
    "regex = \"(\\d\\d?)/(\\d\\d?)/(\\d\\d\\d?\\d?)\"\n",
    "match = re.search(regex,S)\n",
    "print(match.group(3))\n",
    "\n",
    "print(re.sub(regex, r\"\\3年\\1月\\2日\", S))"
   ]
  },
  {
   "cell_type": "markdown",
   "metadata": {
    "slideshow": {
     "slide_type": "subslide"
    }
   },
   "source": [
    "Also, if you are going to use a particular regular expression multiple times, it is a good idea to [compile](https://docs.python.org/3/library/re.html#re.compile) it once, and just use the methods of the compiled regular expression objects, which are equivalent to the `re` module functions except there is no need to specify the regex. Much more efficient!\n"
   ]
  },
  {
   "cell_type": "code",
   "execution_count": 64,
   "metadata": {
    "scrolled": true,
    "slideshow": {
     "slide_type": "-"
    }
   },
   "outputs": [
    {
     "name": "stdout",
     "output_type": "stream",
     "text": [
      "<re.Match object; span=(0, 5), match='jumps'>\n",
      "<re.Match object; span=(5, 12), match='jumping'>\n",
      "<re.Match object; span=(0, 6), match='Jumped'>\n"
     ]
    }
   ],
   "source": [
    "texts = [\"jumps\", \"Stop jumping on the bed\", \"Jumped off the bus and jumped on the subway\"]\n",
    "regex = \"[Jj]ump(s|ed|ing)?\"\n",
    "\n",
    "compiled = re.compile(regex)\n",
    "for text in texts:\n",
    "    print(compiled.search(text))\n"
   ]
  },
  {
   "cell_type": "markdown",
   "metadata": {},
   "source": [
    "## Some expert regex syntax (Optional)"
   ]
  },
  {
   "cell_type": "markdown",
   "metadata": {
    "slideshow": {
     "slide_type": "fragment"
    }
   },
   "source": [
    "For efficiency or clarity, you may want to group elements in your regex without causing them to becoming a group in the resulting match object. Use (?:..) instead of (...)"
   ]
  },
  {
   "cell_type": "code",
   "execution_count": 65,
   "metadata": {
    "slideshow": {
     "slide_type": "-"
    }
   },
   "outputs": [
    {
     "name": "stdout",
     "output_type": "stream",
     "text": [
      "<re.Match object; span=(0, 5), match='jumps'>\n"
     ]
    }
   ],
   "source": [
    "regex = r\"[Jj]ump(?:s|ed|ing)?\"\n",
    "S = \"jumps\"\n",
    "match = re.match(regex,S)\n",
    "print(match)\n",
    "# match.group(1)"
   ]
  },
  {
   "cell_type": "markdown",
   "metadata": {
    "slideshow": {
     "slide_type": "fragment"
    }
   },
   "source": [
    "Python also has syntax that lets you check to see if a *fixed size* string appears directly before or after the string you are looking for; this is known as a positive lookahead (?=...) or lookback (?<=...) assertion. The same functionality can be generally be accomplished by matching the larger string and then getting the group you want. "
   ]
  },
  {
   "cell_type": "code",
   "execution_count": 66,
   "metadata": {
    "slideshow": {
     "slide_type": "-"
    }
   },
   "outputs": [
    {
     "name": "stdout",
     "output_type": "stream",
     "text": [
      "<re.Match object; span=(55, 66), match='expressions'>\n"
     ]
    }
   ],
   "source": [
    "S = \"Why do you make that expression when I mention regular expressions?\"\n",
    "regex = r\"(?<=[Rr]egular )[Ee]xpressions?\"\n",
    "\n",
    "for match in re.finditer(regex,S):\n",
    "    print(match)"
   ]
  },
  {
   "cell_type": "markdown",
   "metadata": {
    "slideshow": {
     "slide_type": "fragment"
    }
   },
   "source": [
    "More useful is are the negative lookahead (?!...) and lookback (?<!...) assertions, which allows you to match only when a string doesn't appear. For instance, you could pull out instances of a word except when it appears in a context you aren't interested in."
   ]
  },
  {
   "cell_type": "code",
   "execution_count": 67,
   "metadata": {
    "slideshow": {
     "slide_type": "-"
    }
   },
   "outputs": [
    {
     "name": "stdout",
     "output_type": "stream",
     "text": [
      "<re.Match object; span=(21, 31), match='expression'>\n"
     ]
    }
   ],
   "source": [
    "regex = r\"(?<![Rr]egular )[Ee]xpressions?\"\n",
    "for match in re.finditer(regex,S):\n",
    "    print(match)"
   ]
  },
  {
   "cell_type": "markdown",
   "metadata": {},
   "source": [
    "## Exercises\n",
    "\n",
    "Write regular expressions which correspond to the following patterns and test them with the provided examples (code for testing at the bottom, same as exercise 1 on the lab)"
   ]
  },
  {
   "cell_type": "markdown",
   "metadata": {},
   "source": [
    "1. A North American telephone number, with various area code options"
   ]
  },
  {
   "cell_type": "code",
   "execution_count": 68,
   "metadata": {},
   "outputs": [],
   "source": [
    "positive_examples = [\"(604)753-9438\",\"1-800-342-9502\",\"934-5204\"]\n",
    "negative_examples = [\"A phone number\",\"234536345\",\"(999)1111-2222\",\"(999)111-22222\"]\n",
    "\n",
    "regex = r\"^(1-\\d{3}-|\\(\\d{3}\\))?\\d{3}-\\d{4}$\""
   ]
  },
  {
   "cell_type": "markdown",
   "metadata": {},
   "source": [
    "2. An equation consisting of sums or differences of integers, neatly spaced (though not necessarily correct)"
   ]
  },
  {
   "cell_type": "code",
   "execution_count": 69,
   "metadata": {},
   "outputs": [],
   "source": [
    "positive_examples = [\"2 + 2 = 4\", \"1 + 10 + 100 + 1000 - 999 = 112\"]\n",
    "negative_examples = [\"1 = 1\", \"n + 1 = 3\", \"1+1=\"]\n",
    "\n",
    "regex = r\"(\\d+ [+-] )+\\d+ = \\d+\""
   ]
  },
  {
   "cell_type": "markdown",
   "metadata": {},
   "source": [
    "3. An occurrence of the English progressive aspect in a larger text (e.g \"be \\*ing\")"
   ]
  },
  {
   "cell_type": "code",
   "execution_count": 70,
   "metadata": {},
   "outputs": [],
   "source": [
    "positive_examples = [\"I am waiting for help\", \"Who is knocking\", \"We are laughing\"]\n",
    "negative_examples = [\"the killing\", \"They are singers\"]\n",
    "\n",
    "regex = r\"(am|is|be|are) [a-z]*ing($| )\""
   ]
  },
  {
   "cell_type": "markdown",
   "metadata": {},
   "source": [
    "4. The beginning of a line of dialogue in a Shakespeare play where dialogue is indented and starts with the name of the character in upper case. You should not match lines with just dialogue (with are indented), nor scene/act headers."
   ]
  },
  {
   "cell_type": "code",
   "execution_count": 71,
   "metadata": {},
   "outputs": [],
   "source": [
    "positive_examples = [\"  KING HENRY. Send for him, good uncle.\", \"  CAMBRIDGE. I do confess my fault,\"]\n",
    "negative_examples = [\"  may call beasts.\",\"SCENE VII. The French camp near Agincourt\"]\n",
    "\n",
    "regex = r\"  [A-Z ]+\\.\""
   ]
  },
  {
   "cell_type": "markdown",
   "metadata": {},
   "source": [
    "5. A numbered list with 3 items, one per line"
   ]
  },
  {
   "cell_type": "code",
   "execution_count": 72,
   "metadata": {},
   "outputs": [],
   "source": [
    "positive_examples= [\"1. Conditionals\\n2. Functions\\n3. Loops\", \"1. Collect underpants\\n2. ?\\n3. Profit\"]\n",
    "negative_examples = [\"1.2.3.\",\"3. Count\\n,2. me\\n 1. down\"]\n",
    "                    \n",
    "regex = r\"^1\\. [^\\n]+\\n2\\. [^\\n]+\\n3\\. .+\" "
   ]
  },
  {
   "cell_type": "markdown",
   "metadata": {},
   "source": [
    "Code below for testing"
   ]
  },
  {
   "cell_type": "code",
   "execution_count": 73,
   "metadata": {},
   "outputs": [
    {
     "name": "stdout",
     "output_type": "stream",
     "text": [
      "Success!\n"
     ]
    }
   ],
   "source": [
    "pattern = re.compile(regex)\n",
    "\n",
    "for example in positive_examples:\n",
    "    assert pattern.search(example), example + \" not correctly included\"\n",
    "\n",
    "for example in negative_examples:\n",
    "    assert not pattern.search(example), example + \" not correctly excluded\"\n",
    "\n",
    "print(\"Success!\")"
   ]
  }
 ],
 "metadata": {
  "celltoolbar": "Slideshow",
  "kernelspec": {
   "display_name": "Python 3 (ipykernel)",
   "language": "python",
   "name": "python3"
  },
  "language_info": {
   "codemirror_mode": {
    "name": "ipython",
    "version": 3
   },
   "file_extension": ".py",
   "mimetype": "text/x-python",
   "name": "python",
   "nbconvert_exporter": "python",
   "pygments_lexer": "ipython3",
   "version": "3.8.9"
  }
 },
 "nbformat": 4,
 "nbformat_minor": 2
}
