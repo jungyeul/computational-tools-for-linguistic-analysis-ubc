{
 "cells": [
  {
   "cell_type": "markdown",
   "id": "b6d19f89",
   "metadata": {},
   "source": [
    "Complete your lab 0 (6 pts), and do some exercises in shell programming (add your comments, extra pts) (Due Jan 25, 2024)"
   ]
  },
  {
   "cell_type": "code",
   "execution_count": 2,
   "id": "3b5f67e7",
   "metadata": {},
   "outputs": [
    {
     "name": "stdout",
     "output_type": "stream",
     "text": [
      "eng.txt    lab1.ipynb\n"
     ]
    }
   ],
   "source": [
    "!ls"
   ]
  },
  {
   "cell_type": "code",
   "execution_count": 3,
   "id": "6a952aa5",
   "metadata": {},
   "outputs": [
    {
     "name": "stdout",
     "output_type": "stream",
     "text": [
      "total 35216\n",
      "-rw-rw-r--@ 1 jungyeul  staff  18023095 May  8 08:31 eng.txt\n",
      "-rw-r--r--@ 1 jungyeul  staff      1143 Sep  7 07:01 lab1.ipynb\n"
     ]
    }
   ],
   "source": [
    "!ls -l"
   ]
  },
  {
   "cell_type": "code",
   "execution_count": 4,
   "id": "2de7df30",
   "metadata": {},
   "outputs": [],
   "source": [
    "!mkdir tempo "
   ]
  },
  {
   "cell_type": "code",
   "execution_count": 6,
   "id": "8f038170",
   "metadata": {},
   "outputs": [
    {
     "name": "stdout",
     "output_type": "stream",
     "text": [
      "total 35216\n",
      "-rw-rw-r--@ 1 jungyeul  staff  18023095 May  8 08:31 eng.txt\n",
      "-rw-r--r--@ 1 jungyeul  staff      1143 Sep  7 07:01 lab1.ipynb\n",
      "drwxr-xr-x  2 jungyeul  staff        64 Sep  7 07:05 \u001b[34mtempo\u001b[m\u001b[m\n"
     ]
    }
   ],
   "source": [
    "!ls -l"
   ]
  },
  {
   "cell_type": "code",
   "execution_count": null,
   "id": "f770871a",
   "metadata": {},
   "outputs": [],
   "source": []
  },
  {
   "cell_type": "code",
   "execution_count": null,
   "id": "4f07f5b8",
   "metadata": {},
   "outputs": [],
   "source": []
  },
  {
   "cell_type": "code",
   "execution_count": null,
   "id": "ace2acad",
   "metadata": {},
   "outputs": [],
   "source": []
  },
  {
   "cell_type": "code",
   "execution_count": null,
   "id": "d4420c69",
   "metadata": {},
   "outputs": [],
   "source": []
  },
  {
   "cell_type": "code",
   "execution_count": null,
   "id": "1d225248",
   "metadata": {},
   "outputs": [],
   "source": []
  },
  {
   "cell_type": "markdown",
   "id": "ec6974a9",
   "metadata": {},
   "source": [
    "Run following commands:\n",
    "```\n",
    "$  wget https://raw.githubusercontent.com/unimorph/eng/master/eng\n",
    "$  file eng \n",
    "$  cut -f1 eng | sort | uniq -c  \n",
    "```"
   ]
  },
  {
   "cell_type": "markdown",
   "id": "ba4b537f",
   "metadata": {},
   "source": []
  }
 ],
 "metadata": {
  "kernelspec": {
   "display_name": "Python 3.8.9 64-bit",
   "language": "python",
   "name": "python3"
  },
  "language_info": {
   "codemirror_mode": {
    "name": "ipython",
    "version": 3
   },
   "file_extension": ".py",
   "mimetype": "text/x-python",
   "name": "python",
   "nbconvert_exporter": "python",
   "pygments_lexer": "ipython3",
   "version": "3.8.9"
  },
  "vscode": {
   "interpreter": {
    "hash": "20bf69066c0dd38d51965b69d5e1b6e387082e3198ba56e97997ac55f4e50ad0"
   }
  }
 },
 "nbformat": 4,
 "nbformat_minor": 5
}
