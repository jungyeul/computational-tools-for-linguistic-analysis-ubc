{
 "cells": [
  {
   "cell_type": "markdown",
   "metadata": {},
   "source": [
    "# Intro to Python\n",
    "\n",
    "## Functions\n",
    "We've already seen some built-in functions like `len()`, `list()`, etc. User-defined functions are written like this:"
   ]
  },
  {
   "cell_type": "code",
   "execution_count": 1,
   "metadata": {},
   "outputs": [],
   "source": [
    "def example_function(a, b):\n",
    "    # possibly a bunch of statements here\n",
    "    return a + b"
   ]
  },
  {
   "cell_type": "markdown",
   "metadata": {},
   "source": [
    "`a` and `b` are its two parameters, and it returns their sum. Unlike languages like Java and C++, Python doesn't have static type - the parameters `a` and `b` don't have any type associated with them, which means they're not constrained to one type, but there's a risk of errors and unexpected behavior. For example:"
   ]
  },
  {
   "cell_type": "code",
   "execution_count": 2,
   "metadata": {},
   "outputs": [
    {
     "name": "stdout",
     "output_type": "stream",
     "text": [
      "4\n",
      "hello\n",
      "2\n"
     ]
    }
   ],
   "source": [
    "print(example_function(1, 3))\n",
    "print(example_function('hel', 'lo'))\n",
    "print(example_function(True, True))"
   ]
  },
  {
   "cell_type": "markdown",
   "metadata": {},
   "source": [
    "Note the \"snake case\" in the function name: it's a Python convention to define classes with CamelCase (each word begins with an uppercase character) and functions with snake_case (all lower case, words separated by underscores). Also, since Python doesn't use brackets, unlike other languages like Java and C++, it's particular about the whitespace indentations. You can use all spaces or all tabs, but if you combine spaces and tabs, you'll get an error."
   ]
  },
  {
   "cell_type": "markdown",
   "metadata": {},
   "source": [
    "## Control flow\n",
    "In order to perform more complex functions and calculations, we need some way for our programs to make decisions, loop over blocks of code, and so on.\n",
    "\n",
    "### If statements\n",
    "We can use all of our 'comparison' operators, like ==, >, <=, etc, along with logical operators like `and`, `or`, and `not`, to create Bool values. If statements can evaluate these expressions and do one thing if the result is True, and another if it is False. For example:"
   ]
  },
  {
   "cell_type": "code",
   "execution_count": 3,
   "metadata": {},
   "outputs": [
    {
     "name": "stdout",
     "output_type": "stream",
     "text": [
      "b\n"
     ]
    }
   ],
   "source": [
    "pivot = 15\n",
    "if pivot < 10:\n",
    "    print('a')\n",
    "elif pivot == 15:\n",
    "    print('b')\n",
    "else:\n",
    "    print('c')"
   ]
  },
  {
   "cell_type": "markdown",
   "metadata": {},
   "source": [
    "Note that indentation is important, since there are no brackets. This can get tricky to keep track of if you have lots of nested if-statements! Since all the ifs/elifs/elses are evaluated in order, more than one expression could be true, and in that case the program will always go with the first option. Also, simple if-statements can be condensed into one line:"
   ]
  },
  {
   "cell_type": "code",
   "execution_count": 7,
   "metadata": {},
   "outputs": [
    {
     "name": "stdout",
     "output_type": "stream",
     "text": [
      "yes\n",
      "no\n"
     ]
    }
   ],
   "source": [
    "a, b = 11, 12\n",
    "print(\"yes\") if a < b else print(\"no\")\n",
    "\n",
    "# or:\n",
    "res = \"yes\" if a > b else \"no\"\n",
    "print(res)"
   ]
  },
  {
   "cell_type": "markdown",
   "metadata": {},
   "source": [
    "### For loops\n",
    "For-loops repeat a block of code a pre-determined number of times. They use an 'iterator' in order to pass values into the looped code block and determine when to stop. They can be collections like lists or dicts, or they can be functions that return an iterator like `range()`. For example:"
   ]
  },
  {
   "cell_type": "code",
   "execution_count": 9,
   "metadata": {},
   "outputs": [
    {
     "name": "stdout",
     "output_type": "stream",
     "text": [
      "55\n"
     ]
    }
   ],
   "source": [
    "acc = []\n",
    "for i in range(1,11):\n",
    "    acc.append(i)\n",
    "print(sum(acc))"
   ]
  },
  {
   "cell_type": "markdown",
   "metadata": {},
   "source": [
    "In the above block of code, we start with an empty list called an \"accumulator.\" Then, we use the function `range(1,11)` to return an iterator that goes from 1 to 10. \n",
    "\n",
    "The first argument of `range` is optional, and if left out defaults to zero. The second argument is (confusingly) the number to go up to, but not including.\n",
    "\n",
    "We initialize a variable `i` that changes every loop. In this case, it will be the numbers 1 to 10, and we can use it as a variable inside the loop. In this case, we add whatever `i` represents to the accumulator list each step.\n",
    "\n",
    "Finally, we print the sum of the accumulator, with represents the sum of all the integers from 1 to 10.\n",
    "\n",
    "### List comprehension\n",
    "This combination of a for-loop and an accumulator list is really useful and common, so much so that there's a shorthand for it built into Python. The above for-loop can be condensed into a single line:"
   ]
  },
  {
   "cell_type": "code",
   "execution_count": 10,
   "metadata": {},
   "outputs": [
    {
     "name": "stdout",
     "output_type": "stream",
     "text": [
      "55\n"
     ]
    }
   ],
   "source": [
    "i_sum = sum([i for i in range(1,11)])\n",
    "print(i_sum)"
   ]
  },
  {
   "cell_type": "markdown",
   "metadata": {},
   "source": [
    "You can cram a lot of code into a single line using these! It's a very data science-y thing to do. Here are some more examples:"
   ]
  },
  {
   "cell_type": "code",
   "execution_count": 19,
   "metadata": {},
   "outputs": [
    {
     "name": "stdout",
     "output_type": "stream",
     "text": [
      "['hello!', 'world!', 'how!', 'are!', 'you!']\n",
      "[0, 2, 4, 6, 8]\n",
      "900.0\n"
     ]
    }
   ],
   "source": [
    "sentence = ['hello', 'world', 'how', 'are', 'you']\n",
    "shouting = [s + '!' for s in sentence]\n",
    "print(shouting)\n",
    "\n",
    "only_evens = [i for i in range(10) if i % 2 == 0]\n",
    "print(only_evens)\n",
    "\n",
    "specific_sum = [i / 2 if i % 2 == 0 else i - 1 for i in range(50)]\n",
    "print(sum(specific_sum))"
   ]
  },
  {
   "cell_type": "markdown",
   "metadata": {},
   "source": [
    "The percent sign is a \"modulo\" operator - `a % b` is the remainder when `a` is divided by `b`. In both cases above, it's used to check if a number is even (if it's divisible by 2).\n",
    "\n",
    "## While loops\n",
    "Like for-loops, but instead of a pre-determined iterator, it loops until a condition is no longer true. For example:"
   ]
  },
  {
   "cell_type": "code",
   "execution_count": 18,
   "metadata": {},
   "outputs": [
    {
     "name": "stdout",
     "output_type": "stream",
     "text": [
      "hello\n",
      "world\n",
      "how\n",
      "are\n",
      "you\n"
     ]
    }
   ],
   "source": [
    "sentence = ['hello', 'world', 'how', 'are', 'you']\n",
    "while sentence:\n",
    "    print(sentence[0])\n",
    "    sentence.remove(sentence[0])"
   ]
  },
  {
   "cell_type": "markdown",
   "metadata": {},
   "source": [
    "In this case, an element is removed from `sentence` every loop. The line `while sentence:` checks if the list is empty - an evaluated list will return True if it has items in it, and False when it's empty. Also, there is a danger with while-loops. If there's no mechanism for making the condition false in the code block, it might loop forever! "
   ]
  },
  {
   "cell_type": "markdown",
   "metadata": {},
   "source": [
    "## Combining everything\n",
    "Here's a function that translates a string into an esoteric and mysterious language called 'Pig Latin.' Here's how to translate an English word into Pig Latin:\n",
    " - If the word starts with a vowel, add 'ay' to the end.\n",
    " - If it starts with a consonant (or consonant cluster), move the consonant to the end of the word and then add 'ay.'"
   ]
  },
  {
   "cell_type": "code",
   "execution_count": 23,
   "metadata": {},
   "outputs": [
    {
     "name": "stdout",
     "output_type": "stream",
     "text": [
      "iay ancay eakspay othbay englishay anday igpay atinlay\n",
      "atwhay aay illskay\n"
     ]
    }
   ],
   "source": [
    "# sentence: a string - the English sentence to translate into Pig Latin\n",
    "# returns: a string - the Pig Latin translation of sentence\n",
    "def translate(sentence):\n",
    "    vowels = ['a', 'e', 'i', 'o', 'u']\n",
    "    tokens = sentence.split(' ')  # create a list of strings, using a copy of the original string, splitting at spaces\n",
    "    \n",
    "    # loop over each string in the sentence, translating token-by-token, and add them to the accumulator\n",
    "    acc = []\n",
    "    for t in tokens:  # our iterator is a list\n",
    "        # let's use another for loop to separate the initial consonant cluster, if there is one, from the stem\n",
    "        clust = ''\n",
    "        stem = ''\n",
    "        \n",
    "        # start out with in_pref being true, and add characters in sequence to clust. Once the first vowel is seen, 'switch off' in_pref and add characters to stem \n",
    "        in_pref = True\n",
    "        for c in t:  # iterate over characters in a string\n",
    "            if c not in vowels and in_pref:\n",
    "                clust += c\n",
    "            else:\n",
    "                in_pref = False\n",
    "                stem += c\n",
    "                \n",
    "        # if the token starts with a vowel, clust will simply be the empty string\n",
    "        acc.append(stem + clust + 'ay')\n",
    "        \n",
    "    # join the list of tokens in the accumulator into one string, and return\n",
    "    return ' '.join(acc)\n",
    "    \n",
    "    \n",
    "print(translate('i can speak both english and pig latin'))\n",
    "print(translate('what a skill'))"
   ]
  },
  {
   "cell_type": "markdown",
   "metadata": {},
   "source": [
    "## Exercises\n",
    "### 1. Alternating characters\n",
    "Complete `every_other()` so that it returns every other character in an input string. E.g., `every_other(\"hello\")` should return `hlo`."
   ]
  },
  {
   "cell_type": "code",
   "execution_count": null,
   "metadata": {},
   "outputs": [],
   "source": [
    "# seq: a string\n",
    "# returns: a new string, every other character in seq\n",
    "def every_other(seq):\n",
    "    # your solution here!\n",
    "    \n",
    "assert every_other(\"hello\") = \"hlo\"\n",
    "assert every_other(\"supercalifragilisticexpialidocious\") = \"sprairglsiepaioiu\""
   ]
  },
  {
   "cell_type": "markdown",
   "metadata": {},
   "source": [
    "### 2. shout()\n",
    "Complete `shout()` so that it adds an exclamation point to the end of every token in a list of strings, so long as the token doesn't end in punctuation."
   ]
  },
  {
   "cell_type": "code",
   "execution_count": null,
   "metadata": {},
   "outputs": [],
   "source": [
    "# los: a list of strings\n",
    "# returns: a list of strings\n",
    "def shout(seq):\n",
    "    # your solution here!\n",
    "    \n",
    "assert shout(['hello', 'world,', 'how', 'are', 'you?']) = ['hello!', 'world,', 'how!', 'are!', 'you?']"
   ]
  },
  {
   "cell_type": "markdown",
   "metadata": {},
   "source": [
    "### 3. Multiplication table\n",
    "`mult_table()` should return a list of lists, representing a times-table of all integers from 1 to a given `n`. For example, `mult_table(9)` should return a list of lists, where each member list is the \"row\" number multiplied by all integers up to 9. For example, the first list in `mult_table(9)` should be a list of `1 * 1`, `1 * 2`, ..., up to `1 * 9`. You should use nested for-loops, or define a helper function `mult_row(i,j)` that returns a list corresponding to a row of `mult_table()`."
   ]
  },
  {
   "cell_type": "code",
   "execution_count": null,
   "metadata": {},
   "outputs": [],
   "source": [
    "# n: int, the max value of the table\n",
    "# returns: a list of lists representing a times-table\n",
    "def mult_table(n):\n",
    "    # your solution here!\n",
    "    \n",
    "assert mult_table(5) = [[1, 2, 3, 4, 5],\n",
    "                        [2, 4, 6, 8, 10],\n",
    "                        [3, 6, 9, 12, 15],\n",
    "                        [4, 8, 12, 16, 20],\n",
    "                        [5, 10, 15, 20, 25]\n",
    "                       ]"
   ]
  }
 ],
 "metadata": {
  "kernelspec": {
   "display_name": "Python 3",
   "language": "python",
   "name": "python3"
  },
  "language_info": {
   "codemirror_mode": {
    "name": "ipython",
    "version": 3
   },
   "file_extension": ".py",
   "mimetype": "text/x-python",
   "name": "python",
   "nbconvert_exporter": "python",
   "pygments_lexer": "ipython3",
   "version": "3.8.10"
  }
 },
 "nbformat": 4,
 "nbformat_minor": 4
}
