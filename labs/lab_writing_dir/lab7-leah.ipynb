{
 "cells": [
  {
   "cell_type": "markdown",
   "id": "unexpected-basics",
   "metadata": {},
   "source": [
    "# Classification"
   ]
  },
  {
   "cell_type": "code",
   "execution_count": 2,
   "id": "c5ca98bc-b2a2-4e60-8cb5-3d641e84892c",
   "metadata": {},
   "outputs": [
    {
     "name": "stdout",
     "output_type": "stream",
     "text": [
      "Cloning into 'fastText'...\n",
      "remote: Enumerating objects: 3854, done.\u001b[K\n",
      "remote: Total 3854 (delta 0), reused 0 (delta 0), pack-reused 3854\u001b[K\n",
      "Receiving objects: 100% (3854/3854), 8.22 MiB | 65.00 KiB/s, done.\n",
      "Resolving deltas: 100% (2417/2417), done.\n"
     ]
    }
   ],
   "source": [
    "!git clone https://github.com/facebookresearch/fastText.git"
   ]
  },
  {
   "cell_type": "code",
   "execution_count": 3,
   "id": "9d785227-fed6-432b-8555-769b83cecb6e",
   "metadata": {},
   "outputs": [
    {
     "name": "stdout",
     "output_type": "stream",
     "text": [
      "/Users/leahjo/ling242/lab7AS/fastText\n",
      "c++ -pthread -std=c++11 -march=native -O3 -funroll-loops -DNDEBUG -c src/args.cc\n",
      "c++ -pthread -std=c++11 -march=native -O3 -funroll-loops -DNDEBUG -c src/autotune.cc\n",
      "c++ -pthread -std=c++11 -march=native -O3 -funroll-loops -DNDEBUG -c src/matrix.cc\n",
      "c++ -pthread -std=c++11 -march=native -O3 -funroll-loops -DNDEBUG -c src/dictionary.cc\n",
      "c++ -pthread -std=c++11 -march=native -O3 -funroll-loops -DNDEBUG -c src/loss.cc\n",
      "c++ -pthread -std=c++11 -march=native -O3 -funroll-loops -DNDEBUG -c src/productquantizer.cc\n",
      "c++ -pthread -std=c++11 -march=native -O3 -funroll-loops -DNDEBUG -c src/densematrix.cc\n",
      "c++ -pthread -std=c++11 -march=native -O3 -funroll-loops -DNDEBUG -c src/quantmatrix.cc\n",
      "c++ -pthread -std=c++11 -march=native -O3 -funroll-loops -DNDEBUG -c src/vector.cc\n",
      "c++ -pthread -std=c++11 -march=native -O3 -funroll-loops -DNDEBUG -c src/model.cc\n",
      "c++ -pthread -std=c++11 -march=native -O3 -funroll-loops -DNDEBUG -c src/utils.cc\n",
      "c++ -pthread -std=c++11 -march=native -O3 -funroll-loops -DNDEBUG -c src/meter.cc\n",
      "c++ -pthread -std=c++11 -march=native -O3 -funroll-loops -DNDEBUG -c src/fasttext.cc\n",
      "c++ -pthread -std=c++11 -march=native -O3 -funroll-loops -DNDEBUG args.o autotune.o matrix.o dictionary.o loss.o productquantizer.o densematrix.o quantmatrix.o vector.o model.o utils.o meter.o fasttext.o src/main.cc -o fasttext\n"
     ]
    }
   ],
   "source": [
    "%cd fastText\n",
    "!make"
   ]
  },
  {
   "cell_type": "code",
   "execution_count": 4,
   "id": "92cbda5b-0880-4066-831d-858d64ddfc53",
   "metadata": {},
   "outputs": [
    {
     "data": {
      "text/plain": [
       "'/Users/leahjo/ling242/lab7AS/fastText'"
      ]
     },
     "execution_count": 4,
     "metadata": {},
     "output_type": "execute_result"
    }
   ],
   "source": [
    "pwd"
   ]
  },
  {
   "cell_type": "code",
   "execution_count": 5,
   "id": "6c443326-6235-4d88-a43a-0f0b97f4084f",
   "metadata": {},
   "outputs": [
    {
     "name": "stdout",
     "output_type": "stream",
     "text": [
      "/Users/leahjo/ling242/lab7AS\n"
     ]
    }
   ],
   "source": [
    "cd .."
   ]
  },
  {
   "cell_type": "markdown",
   "id": "shared-liabilities",
   "metadata": {},
   "source": [
    "## humor detection (1pt)"
   ]
  },
  {
   "cell_type": "code",
   "execution_count": 9,
   "id": "forced-channels",
   "metadata": {},
   "outputs": [
    {
     "name": "stdout",
     "output_type": "stream",
     "text": [
      "Read 0M words\n",
      "Number of words:  31831\n",
      "Number of labels: 2\n",
      "Progress: 100.0% words/sec/thread:  867525 lr:  0.000000 avg.loss:  0.142689 ETA:   0h 0m 0s\n"
     ]
    }
   ],
   "source": [
    "!./fasttext supervised -input ../humor-detection_train.txt -output model_humor"
   ]
  },
  {
   "cell_type": "code",
   "execution_count": 10,
   "id": "7723d78c-c7c9-4c5a-ac57-610811fc908e",
   "metadata": {},
   "outputs": [
    {
     "name": "stdout",
     "output_type": "stream",
     "text": [
      "N\t3355\n",
      "P@1\t0.955\n",
      "R@1\t0.955\n"
     ]
    }
   ],
   "source": [
    "!./fasttext test model_humor.bin ../humor-detection_test.txt"
   ]
  },
  {
   "cell_type": "code",
   "execution_count": 11,
   "id": "c4c467b6-174e-4d47-8312-df8f59c9b529",
   "metadata": {},
   "outputs": [
    {
     "name": "stdout",
     "output_type": "stream",
     "text": [
      "__label__true\tMy grandfather died recently, He spent his final years as a regular user of facebook..We won't see the likes of him again.\n",
      "__label__true\tI was sat in traffic the other day. Got hit by a car.\n",
      "__label__true\tWhats the difference between a ginger fanny and a cricket ball? If you try really hard, Really really hard, You can eat a cricket ball.\n",
      "__label__true\tMoney can't buy happiness, but I'd much rather cry in a mansion.\n",
      "__label__true\t2B or not 2B. That is the pencil.\n",
      "__label__true\tWhat's the difference between a Jew and a canoe? Canoes tip!\n",
      "__label__true\tI've just won 10 million on the lottery and decided to buy my local Chinese takeaway called 'Happiness'.  Your move, philosophers.\n",
      "__label__true\tA man was hospitalized with 6 plastic horses up his ass. The doctor described his condition as stable.\n",
      "__label__true\tJust told my joke about Peter Pan again. Never gets old.\n",
      "__label__true\tTwo blondes were driving to Disneyland and the exit sign reads: DISNEYLAND LEFT. They started crying and headed home.\n"
     ]
    }
   ],
   "source": [
    "!head ../humor-detection_train.txt"
   ]
  },
  {
   "cell_type": "code",
   "execution_count": 18,
   "id": "7ba3fd1e-2a77-4148-b8ef-83c5406770b0",
   "metadata": {},
   "outputs": [
    {
     "name": "stdout",
     "output_type": "stream",
     "text": [
      "/Users/leahjo/ling242/lab7AS\n"
     ]
    }
   ],
   "source": [
    "%cd lab7AS"
   ]
  },
  {
   "cell_type": "code",
   "execution_count": 19,
   "id": "8837f499-0960-4b0e-94c3-309d1a1852de",
   "metadata": {},
   "outputs": [],
   "source": [
    "!gcc -o shuffle shuffle.c"
   ]
  },
  {
   "cell_type": "code",
   "execution_count": 20,
   "id": "359a1346-567a-4fdf-a08d-685a71491550",
   "metadata": {},
   "outputs": [],
   "source": [
    "!./shuffle < humor-detection_train.txt > humor-detection_train_shuffled.txt"
   ]
  },
  {
   "cell_type": "code",
   "execution_count": 21,
   "id": "195a3f3d-e8a7-4762-8eb1-5675ff073fb9",
   "metadata": {},
   "outputs": [
    {
     "name": "stdout",
     "output_type": "stream",
     "text": [
      "/Users/leahjo/ling242/lab7AS/fastText\n",
      "Read 0M words\n",
      "Number of words:  31831\n",
      "Number of labels: 2\n",
      "Progress: 100.0% words/sec/thread:  754756 lr:  0.000000 avg.loss:  0.149274 ETA:   0h 0m 0s\n"
     ]
    }
   ],
   "source": [
    "%cd fastText\n",
    "!./fasttext supervised -input ../humor-detection_train_shuffled.txt -output model_humor_shuffled"
   ]
  },
  {
   "cell_type": "code",
   "execution_count": 22,
   "id": "68d4a20a-c38d-4dd6-9774-3a06c8e39033",
   "metadata": {},
   "outputs": [
    {
     "name": "stdout",
     "output_type": "stream",
     "text": [
      "N\t3355\n",
      "P@1\t0.957\n",
      "R@1\t0.957\n"
     ]
    }
   ],
   "source": [
    "!./fasttext test model_humor_shuffled.bin ../humor-detection_test.txt"
   ]
  },
  {
   "cell_type": "code",
   "execution_count": 24,
   "id": "fe219909-9140-4632-b63a-f1e00f2d4339",
   "metadata": {},
   "outputs": [
    {
     "name": "stdout",
     "output_type": "stream",
     "text": [
      "__label__true\tWife: germs last on paper money for up to 27 days! Husband: *opens empty wallet* don't worry, we're safe.\n",
      "__label__true\tWomen only call me ugly until they find out how much money I make. Then they call me ugly and poor.\n",
      "__label__false\tEDF Energy cuts gas prices by 5 percent \n",
      "__label__true\tWhat's the best dating service in India? Connect the dots.\n",
      "__label__true\tFrustration is not having anyone to blame but yourself.\n",
      "__label__false\tLike Priest, Like People\n",
      "__label__false\tTen dead, fifteen wounded in Istanbul blast: governor's office:  \n",
      "__label__true\tWhy is the alcoholic law student sad? Because he couldn't pass the bar.\n",
      "__label__false\tU.S. consumer spending softens; savings hit three-year high \n",
      "__label__false\tPolice officers were portrayed as idiots who couldn't see even obvious clues.\n"
     ]
    }
   ],
   "source": [
    "!head ../humor-detection_train_shuffled.txt"
   ]
  },
  {
   "cell_type": "markdown",
   "id": "appropriate-scene",
   "metadata": {},
   "source": [
    "## sarcasm detection (1pt)"
   ]
  },
  {
   "cell_type": "code",
   "execution_count": 25,
   "id": "9fcddf54-046c-4799-9c9e-100885db6394",
   "metadata": {},
   "outputs": [
    {
     "name": "stdout",
     "output_type": "stream",
     "text": [
      "Read 0M words\n",
      "Number of words:  32149\n",
      "Number of labels: 2\n",
      "Progress: 100.0% words/sec/thread:  891582 lr:  0.000000 avg.loss:  0.295804 ETA:   0h 0m 0s\n"
     ]
    }
   ],
   "source": [
    "!./fasttext supervised -input ../sarcasm-detection_train.txt -output model_sarcasm"
   ]
  },
  {
   "cell_type": "code",
   "execution_count": 26,
   "id": "fed63918-ee10-4b98-bd98-ff45ecdfa293",
   "metadata": {},
   "outputs": [
    {
     "name": "stdout",
     "output_type": "stream",
     "text": [
      "N\t5342\n",
      "P@1\t0.847\n",
      "R@1\t0.847\n"
     ]
    }
   ],
   "source": [
    "!./fasttext test model_sarcasm.bin ../sarcasm-detection_test.txt"
   ]
  },
  {
   "cell_type": "code",
   "execution_count": 27,
   "id": "falling-exclusion",
   "metadata": {},
   "outputs": [
    {
     "name": "stdout",
     "output_type": "stream",
     "text": [
      "__label__false former versace store clerk sues over secret 'black code' for minority shoppers\n",
      "__label__false the 'roseanne' revival catches up to our thorny political mood, for better and worse\n",
      "__label__true mom starting to fear son's web series closest thing she will have to grandchild\n",
      "__label__true boehner just wants wife to listen, not come up with alternative debt-reduction ideas\n",
      "__label__false j.k. rowling wishes snape happy birthday in the most magical way\n",
      "__label__false advancing the world's women\n",
      "__label__false the fascinating case for eating lab-grown meat\n",
      "__label__false this ceo will send your kids to school, if you work for his company\n",
      "__label__true top snake handler leaves sinking huckabee campaign\n",
      "__label__false friday's morning email: inside trump's presser for the ages\n"
     ]
    }
   ],
   "source": [
    "!head ../sarcasm-detection_train.txt"
   ]
  },
  {
   "cell_type": "code",
   "execution_count": 28,
   "id": "40418a51-1e8e-49ff-86f7-fdaf238e2b54",
   "metadata": {},
   "outputs": [
    {
     "name": "stdout",
     "output_type": "stream",
     "text": [
      "/Users/leahjo/ling242/lab7AS\n"
     ]
    }
   ],
   "source": [
    "%cd ..\n",
    "!./shuffle < sarcasm-detection_train.txt > sarcasm-detection_train_shuffled.txt"
   ]
  },
  {
   "cell_type": "code",
   "execution_count": 31,
   "id": "0f7d346f-f6b6-4870-87f6-5124c4cd0edf",
   "metadata": {},
   "outputs": [
    {
     "name": "stdout",
     "output_type": "stream",
     "text": [
      "/Users/leahjo/ling242/lab7AS/fastText\n",
      "Read 0M words\n",
      "Number of words:  32149\n",
      "Number of labels: 2\n",
      "Progress: 100.0% words/sec/thread: 1038680 lr:  0.000000 avg.loss:  0.285719 ETA:   0h 0m 0s\n"
     ]
    }
   ],
   "source": [
    "%cd fastText\n",
    "!./fasttext supervised -input ../sarcasm-detection_train_shuffled.txt -output model_sarcasm_shuffled"
   ]
  },
  {
   "cell_type": "code",
   "execution_count": 32,
   "id": "aba4363a-3969-4ab0-89c0-1e4768372a4a",
   "metadata": {},
   "outputs": [
    {
     "name": "stdout",
     "output_type": "stream",
     "text": [
      "N\t5342\n",
      "P@1\t0.847\n",
      "R@1\t0.847\n"
     ]
    }
   ],
   "source": [
    "!./fasttext test model_sarcasm_shuffled.bin ../sarcasm-detection_test.txt"
   ]
  },
  {
   "cell_type": "code",
   "execution_count": 33,
   "id": "845d34d8-7a0b-4f67-9584-6a8720aae64e",
   "metadata": {},
   "outputs": [
    {
     "name": "stdout",
     "output_type": "stream",
     "text": [
      "__label__false a pakistani city hit 122.4 degrees in april, probably setting a world record\n",
      "__label__true biden puts on lucky debate suit\n",
      "__label__false david duchovny dishes on the upcoming 'x-files' miniseries\n",
      "__label__true not even julian assange clear on what's going on with him right now\n",
      "__label__true historians suggest 'goodfellas' youtube clips may be fragments of larger work\n",
      "__label__true single woman getting all dolled up to watch room full of people make out this new year's eve\n",
      "__label__true long john silver's customer finds deep-fried poseidon head in value meal\n",
      "__label__true local couple needs to talk\n",
      "__label__false restaurant teaches former inmates to cook, helps them get back on their feet\n",
      "__label__false trump ominously tweets 'only one thing will work' with north korea\n"
     ]
    }
   ],
   "source": [
    "!head ../sarcasm-detection_train_shuffled.txt"
   ]
  },
  {
   "cell_type": "markdown",
   "id": "2d5a9523",
   "metadata": {},
   "source": [
    "## sentiment analysis on movie reviews (3pts)\n",
    "You prepare the data (`sentiment-analysis-on-movie-reviews-refined.txt`) for *fastText* using the series of shell command."
   ]
  },
  {
   "cell_type": "code",
   "execution_count": null,
   "id": "834e9aae-ae07-4b64-9080-31e6560a9bab",
   "metadata": {},
   "outputs": [],
   "source": [
    "%cd .."
   ]
  },
  {
   "cell_type": "code",
   "execution_count": 68,
   "id": "251f1273",
   "metadata": {},
   "outputs": [
    {
     "name": "stdout",
     "output_type": "stream",
     "text": [
      "A series of escapades demonstrating the adage that what is good for the goose is also good for the gander , some of which occasionally amuses but none of which amounts to much of a story .\t1\n",
      "This quiet , introspective and entertaining independent is worth seeking .\t4\n",
      "Even fans of Ismail Merchant 's work , I suspect , would have a hard time sitting through this one .\t1\n",
      "A positively thrilling combination of ethnography and all the intrigue , betrayal , deceit and murder of a Shakespearean tragedy or a juicy soap opera .\t3\n",
      "Aggressive self-glorification and a manipulative whitewash .\t1\n",
      "A comedy-drama of nearly epic proportions rooted in a sincere performance by the title character undergoing midlife crisis .\t4\n",
      "Narratively , Trouble Every Day is a plodding mess .\t1\n",
      "The Importance of Being Earnest , so thick with wit it plays like a reading from Bartlett 's Familiar Quotations\t3\n",
      "But it does n't leave you with much .\t1\n",
      "You could hate it for the same reason .\t1\n"
     ]
    }
   ],
   "source": [
    "!head sentiment-analysis-on-movie-reviews-refined.txt"
   ]
  },
  {
   "cell_type": "code",
   "execution_count": 69,
   "id": "2b48f3de-2ee4-4bce-80b7-1d24c1c82f99",
   "metadata": {},
   "outputs": [
    {
     "name": "stdout",
     "output_type": "stream",
     "text": [
      "1 A series of escapades demonstrating the adage that what is good for the goose is also good for the gander , some of which occasionally amuses but none of which amounts to much of a story . \n",
      "4 This quiet , introspective and entertaining independent is worth seeking . \n",
      "1 Even fans of Ismail Merchant 's work , I suspect , would have a hard time sitting through this one . \n",
      "3 A positively thrilling combination of ethnography and all the intrigue , betrayal , deceit and murder of a Shakespearean tragedy or a juicy soap opera . \n",
      "1 Aggressive self-glorification and a manipulative whitewash . \n",
      "4 A comedy-drama of nearly epic proportions rooted in a sincere performance by the title character undergoing midlife crisis . \n",
      "1 Narratively , Trouble Every Day is a plodding mess . \n",
      "3 The Importance of Being Earnest , so thick with wit it plays like a reading from Bartlett 's Familiar Quotations \n",
      "1 But it does n't leave you with much . \n",
      "1 You could hate it for the same reason . \n"
     ]
    }
   ],
   "source": [
    "!awk '{first = $NF; $NF=\"\"; print first, $0}' sentiment-analysis-on-movie-reviews-refined.txt > scored-movie.txt\n",
    "!head scored-movie.txt"
   ]
  },
  {
   "cell_type": "code",
   "execution_count": 70,
   "id": "9d0ef725-5026-4cda-939b-8c69f2b4f64f",
   "metadata": {},
   "outputs": [],
   "source": [
    "!sed 's/^/__label__/' scored-movie.txt  > scored-movie-labelled.txt"
   ]
  },
  {
   "cell_type": "code",
   "execution_count": 71,
   "id": "1c90195e-e65a-4037-bb30-0234bf2207fd",
   "metadata": {},
   "outputs": [
    {
     "name": "stdout",
     "output_type": "stream",
     "text": [
      "__label__1 A series of escapades demonstrating the adage that what is good for the goose is also good for the gander , some of which occasionally amuses but none of which amounts to much of a story . \n",
      "__label__4 This quiet , introspective and entertaining independent is worth seeking . \n",
      "__label__1 Even fans of Ismail Merchant 's work , I suspect , would have a hard time sitting through this one . \n",
      "__label__3 A positively thrilling combination of ethnography and all the intrigue , betrayal , deceit and murder of a Shakespearean tragedy or a juicy soap opera . \n",
      "__label__1 Aggressive self-glorification and a manipulative whitewash . \n",
      "__label__4 A comedy-drama of nearly epic proportions rooted in a sincere performance by the title character undergoing midlife crisis . \n",
      "__label__1 Narratively , Trouble Every Day is a plodding mess . \n",
      "__label__3 The Importance of Being Earnest , so thick with wit it plays like a reading from Bartlett 's Familiar Quotations \n",
      "__label__1 But it does n't leave you with much . \n",
      "__label__1 You could hate it for the same reason . \n"
     ]
    }
   ],
   "source": [
    "!head scored-movie-labelled.txt"
   ]
  },
  {
   "cell_type": "code",
   "execution_count": 72,
   "id": "25869289-5ffd-42b1-b336-b75c914ef6d0",
   "metadata": {},
   "outputs": [
    {
     "name": "stdout",
     "output_type": "stream",
     "text": [
      "    8529  170573  979744 scored-movie-labelled.txt\n"
     ]
    }
   ],
   "source": [
    "!wc scored-movie-labelled.txt"
   ]
  },
  {
   "cell_type": "code",
   "execution_count": 73,
   "id": "777d0394-eb0c-4804-83dd-63b68729bb61",
   "metadata": {},
   "outputs": [],
   "source": [
    "!head -n 6829 scored-movie-labelled.txt > movie.train.txt"
   ]
  },
  {
   "cell_type": "code",
   "execution_count": 74,
   "id": "acbc555d-fc1e-4f62-a0f7-76c9bd48efae",
   "metadata": {},
   "outputs": [],
   "source": [
    "!tail -n 1700 scored-movie-labelled.txt > movie.valid.txt"
   ]
  },
  {
   "cell_type": "code",
   "execution_count": 75,
   "id": "8b568ef3-3be8-4afa-94c1-32158fcf8edf",
   "metadata": {},
   "outputs": [
    {
     "name": "stdout",
     "output_type": "stream",
     "text": [
      "__label__1 A series of escapades demonstrating the adage that what is good for the goose is also good for the gander , some of which occasionally amuses but none of which amounts to much of a story . \n",
      "__label__4 This quiet , introspective and entertaining independent is worth seeking . \n",
      "__label__1 Even fans of Ismail Merchant 's work , I suspect , would have a hard time sitting through this one . \n",
      "__label__3 A positively thrilling combination of ethnography and all the intrigue , betrayal , deceit and murder of a Shakespearean tragedy or a juicy soap opera . \n",
      "__label__1 Aggressive self-glorification and a manipulative whitewash . \n",
      "__label__4 A comedy-drama of nearly epic proportions rooted in a sincere performance by the title character undergoing midlife crisis . \n",
      "__label__1 Narratively , Trouble Every Day is a plodding mess . \n",
      "__label__3 The Importance of Being Earnest , so thick with wit it plays like a reading from Bartlett 's Familiar Quotations \n",
      "__label__1 But it does n't leave you with much . \n",
      "__label__1 You could hate it for the same reason . \n"
     ]
    }
   ],
   "source": [
    "!head movie.train.txt"
   ]
  },
  {
   "cell_type": "code",
   "execution_count": 76,
   "id": "f302af0a-89ed-4473-befc-b10256ea872a",
   "metadata": {},
   "outputs": [
    {
     "name": "stdout",
     "output_type": "stream",
     "text": [
      "/Users/leahjo/ling242/lab7AS/fastText\n",
      "Read 0M words\n",
      "Number of words:  16092\n",
      "Number of labels: 5\n",
      "Progress: 100.0% words/sec/thread:  574648 lr:  0.000000 avg.loss:  1.537544 ETA:   0h 0m 0s\n"
     ]
    }
   ],
   "source": [
    "%cd fastText\n",
    "!./fasttext supervised -input ../movie.train.txt -output model_movie"
   ]
  },
  {
   "cell_type": "code",
   "execution_count": 77,
   "id": "14d6d185-865a-413a-a6ca-d8f8d17c6660",
   "metadata": {},
   "outputs": [
    {
     "name": "stdout",
     "output_type": "stream",
     "text": [
      "N\t1700\n",
      "P@1\t0.309\n",
      "R@1\t0.309\n"
     ]
    }
   ],
   "source": [
    "!./fasttext test model_movie.bin ../movie.valid.txt"
   ]
  }
 ],
 "metadata": {
  "kernelspec": {
   "display_name": "Python 3",
   "language": "python",
   "name": "python3"
  },
  "language_info": {
   "codemirror_mode": {
    "name": "ipython",
    "version": 3
   },
   "file_extension": ".py",
   "mimetype": "text/x-python",
   "name": "python",
   "nbconvert_exporter": "python",
   "pygments_lexer": "ipython3",
   "version": "3.8.8"
  }
 },
 "nbformat": 4,
 "nbformat_minor": 5
}
